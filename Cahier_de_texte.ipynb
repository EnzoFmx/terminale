{
 "cells": [
  {
   "cell_type": "markdown",
   "metadata": {},
   "source": [
    "# Séance 1 : 3 septembre 2020 de 9h à 11h - M. Seynave\n",
    "## Activité en classe :\n",
    "* **Rentrée :**\n",
    "    * (1) Présentation de l'année de terminale et des épreuves de baccalauréat\n",
    "    * (2) Création d'un _repository_ privé sur **github**\n",
    "    \n",
    "   \n",
    "* **Revisions_premiere**\n",
    "\t* (2) Cours complexité d'un algorithme\n",
    "    * (3) Activités manuelles : découverte des tris\n",
    "    \n",
    "## Pour la prochaine séance :\n",
    "  * Ecrire en français l'algorithme de tri que vous avez trouvé.\n",
    "  \n",
    "\n",
    "# Planning prévisionnel...\n",
    "\n",
    "## M. Billouard (4h/semaine)\n",
    "\n",
    "* Base de données\n",
    "* Architecture, réseaux et système d'exploitation\n",
    "* graphes et arbres - (structure de données)\n",
    "* graphes et arbres - (algorithmes)\n",
    "* 2 algorithmes parmi méthode diviser pour régner, programmation dynamique et recherche textuelle\n",
    "* modularité, paradigme de programmation, mise au point et gestion des bugs - (Langage et programmation)\n",
    "* PROJETS\n",
    "\n",
    "## M. Seynave (2h/semaine)\n",
    "\n",
    "* Révisions de première : tri par sélection / insertion. Rappel sur la complexité\n",
    "* récursivité - (Langage et programmation)\n",
    "* programmation orientée objet\n",
    "* liste chaînée - (structure de données)\n",
    "* piles et files - (structure de données)\n",
    "* Programme en tant que donnée : calculabilité et décidabilité - (Langage et programmation)\n",
    "* 1 algorithme parmi méthode diviser pour régner, programmation dynamique et recherche textuelle\n",
    "* modularité, paradigme de programmation, mise au point et gestion des bugs - (Langage et programmation)\n",
    "* PROJETS"
   ]
  }
 ],
 "metadata": {
  "kernelspec": {
   "display_name": "Python 3",
   "language": "python",
   "name": "python3"
  },
  "language_info": {
   "codemirror_mode": {
    "name": "ipython",
    "version": 3
   },
   "file_extension": ".py",
   "mimetype": "text/x-python",
   "name": "python",
   "nbconvert_exporter": "python",
   "pygments_lexer": "ipython3",
   "version": "3.6.9"
  }
 },
 "nbformat": 4,
 "nbformat_minor": 4
}
