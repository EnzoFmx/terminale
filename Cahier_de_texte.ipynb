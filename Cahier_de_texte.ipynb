{
 "cells": [
  {
   "cell_type": "markdown",
   "metadata": {},
   "source": [
    "# Séance 1 : ... septembre 2020 de ...h à ...h\n",
    "## Activité en classe :\n",
    "* **Rentrée :**\n",
    "    * (1) Présentation de l'année de terminale et des épreuves de baccalauréat\n",
    "    * (2) Création d'un _repository_ privé sur **github**\n",
    "    \n",
    "   \n",
    "* **Revisions_premiere**\n",
    "\t* (2) Cours complexité d'un algorithme\n",
    "    * (3) Activités manuelles : découverte des tris\n",
    "## Pour la prochaine séance :\n",
    "  * Dispositif \"classe inversée\" : lire le cours \"introduction_aux_algorithmes_de_tris.ipynb\" (Revisions_premiere/tris)\n",
    "  \n",
    "\n",
    "\n",
    "# Planning prévisionnel..\n",
    "\n",
    "* Révisions de première : tri par sélection / insertion. Rappel sur la complexité (M. Seynave)\n",
    "* Base de données (M. Zouaoui)\n",
    "* récursivité - Langage et programmation (M. Seynave)\n",
    "* programmation orientée objet - structure de données (M. Seynave)\n",
    "* liste chaînée - structure de données(M. Seynave)\n",
    "* piles et files - structure de données (M. Seynave)\n",
    "* arbres - structure de données (M. Seynave)\n",
    "* graphes - structure de données (M. Seynave)"
   ]
  }
 ],
 "metadata": {
  "kernelspec": {
   "display_name": "Python 3",
   "language": "python",
   "name": "python3"
  },
  "language_info": {
   "codemirror_mode": {
    "name": "ipython",
    "version": 3
   },
   "file_extension": ".py",
   "mimetype": "text/x-python",
   "name": "python",
   "nbconvert_exporter": "python",
   "pygments_lexer": "ipython3",
   "version": "3.7.2"
  }
 },
 "nbformat": 4,
 "nbformat_minor": 4
}
