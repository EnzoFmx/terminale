{
 "cells": [
  {
   "cell_type": "markdown",
   "metadata": {},
   "source": [
    "# Planning prévisionnel..\n",
    "\n",
    "* Révisions de première : tri par sélection / insertion. Rappel sur la complexité\n",
    "* récursivité - Langage et programmation (M. Zouaoui)\n",
    "* programmation orientée objet - structure de données (M. Seynave)\n",
    "* liste chaînée - structure de données(M. Seynave)\n",
    "* piles et files - structure de données (M. Seynave)\n",
    "* arbres - structure de données (M. Seynave)\n",
    "* graphes - structure de données (M. Seynave)"
   ]
  }
 ],
 "metadata": {
  "kernelspec": {
   "display_name": "Python 3",
   "language": "python",
   "name": "python3"
  },
  "language_info": {
   "codemirror_mode": {
    "name": "ipython",
    "version": 3
   },
   "file_extension": ".py",
   "mimetype": "text/x-python",
   "name": "python",
   "nbconvert_exporter": "python",
   "pygments_lexer": "ipython3",
   "version": "3.7.2"
  }
 },
 "nbformat": 4,
 "nbformat_minor": 4
}
