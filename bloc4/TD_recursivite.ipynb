{
 "cells": [
  {
   "cell_type": "markdown",
   "metadata": {},
   "source": [
    "# Exercice 1 (niveau intermédiaire)\n",
    "\n",
    "> On a vu dans le cours un algorithme récursif renvoyant la somme des entiers de `1` à `n` : ($1 + 2 + 3 + \\cdots + n$). Cet algorithme est écrit ci-dessous dans une fonction appelée `somme_recursif`"
   ]
  },
  {
   "cell_type": "code",
   "execution_count": 2,
   "metadata": {},
   "outputs": [
    {
     "data": {
      "text/plain": [
       "5050"
      ]
     },
     "execution_count": 2,
     "metadata": {},
     "output_type": "execute_result"
    }
   ],
   "source": [
    "def somme_recursif(n):\n",
    "    if n == 0 :\n",
    "        return 0\n",
    "    else : \n",
    "        return n + somme_recursif(n-1)\n",
    "\n",
    "somme_recursif(100)"
   ]
  },
  {
   "cell_type": "markdown",
   "metadata": {},
   "source": [
    "> On peut démontrer (hors programme) que tout algorithme s'écrivant de manière itérative \"classique\" (avec des boucles) peut s'écrire de manière récursive et réciproquement.\n",
    "\n",
    "Q1. Ecrire un algorithme itératif (non récursif) renvoyant la somme des entiers de 1 à `n` ($1 + 2 + 3 + \\cdots + n$. On appelera cette fonction `somme_iteratif`  \n",
    "Q2a. Quel algorithme (itératif ou récursif) est le plus proche de la formule de définition de la somme : $1 + 2 + 3 + \\cdots + n$ ?  \n",
    "Q2b. En déduire un avantage de la méthode récursive.  \n",
    "Q3. En consultant la documentation du module [timeit](https://docs.python.org/fr/3/library/timeit.html), donner la signification du résultat obtenu par l'exécution du code suivant :"
   ]
  },
  {
   "cell_type": "code",
   "execution_count": 36,
   "metadata": {},
   "outputs": [
    {
     "data": {
      "text/plain": [
       "0.0231250889992225"
      ]
     },
     "execution_count": 36,
     "metadata": {},
     "output_type": "execute_result"
    }
   ],
   "source": [
    "import timeit\n",
    "\n",
    "timeit.timeit('somme_recursif(1000)', number=50, setup=\"from __main__ import somme_recursif\")"
   ]
  },
  {
   "cell_type": "markdown",
   "metadata": {},
   "source": [
    "Q4a. Réécrire l'appel à la fonction `timeit` pour avoir le résultat concernant la fonction `somme_iteratif` **dans les mêmes conditions** qu'à la question 3.  \n",
    "Q4b. En déduire un avantage de la méthode itérative  \n",
    "Q5a. Tester l'appel ci-dessous à la fonction `somme_recursif`. Quel résultat obtenez vous ? Expliquer pourquoi."
   ]
  },
  {
   "cell_type": "code",
   "execution_count": null,
   "metadata": {},
   "outputs": [],
   "source": [
    "somme_recursif(-4)"
   ]
  },
  {
   "cell_type": "markdown",
   "metadata": {},
   "source": [
    "Q5b. Même question pour l'appel ci-dessous à la fonction `somme_iteratif`. Ce résultat a t-il un sens ? Justifier."
   ]
  },
  {
   "cell_type": "code",
   "execution_count": null,
   "metadata": {},
   "outputs": [],
   "source": [
    "somme_iteratif(-4)"
   ]
  },
  {
   "cell_type": "markdown",
   "metadata": {},
   "source": [
    "Q5c. En utilisant un `assert` (voir `premiere/bloc6/specification/`), modifier le code des fonctions `somme_recursif` et `somme_iteratif` pour que l'appel `somme_recursif(-4)` renvoie une erreur à l'exécution en affichant le message \"impossible de calculer cette somme\""
   ]
  },
  {
   "cell_type": "markdown",
   "metadata": {},
   "source": [
    "# Exercice 2 (niveau facile)\n",
    "\n",
    "Q1. Réécrire la fonction **récursive** `prems` afin de ne plus avoir de boucle infinie à l'exécution. Pour cela :\n",
    "* La fonction devra prendre un paramètre entier `n` donnant le nombre d'appels récursifs (donc le nombre de fois où la phrase sera affichée)\n",
    "* Ajouter un cas de base dans la définition de la fonction\n",
    "\n",
    "> Comme expliqué dans le cours, il est recommandé d'écrire le cas de base en premier (\"dans le `if`\") pour ne pas l'oublier. Néanmoins ceci n'est pas obligatoire et vous pourrez peut-être rencontrer des algorithmes récursifs ou le cas de base est écrit à la fin (\"dans le `else`\")\n",
    "\n",
    "Q2. Modifier la fonction précédente afin que le cas de base soit écrit \"à la fin\" "
   ]
  }
 ],
 "metadata": {
  "kernelspec": {
   "display_name": "Python 3",
   "language": "python",
   "name": "python3"
  },
  "language_info": {
   "codemirror_mode": {
    "name": "ipython",
    "version": 3
   },
   "file_extension": ".py",
   "mimetype": "text/x-python",
   "name": "python",
   "nbconvert_exporter": "python",
   "pygments_lexer": "ipython3",
   "version": "3.7.2"
  }
 },
 "nbformat": 4,
 "nbformat_minor": 4
}
