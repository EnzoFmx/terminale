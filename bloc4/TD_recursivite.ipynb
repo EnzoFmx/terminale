{
 "cells": [
  {
   "cell_type": "markdown",
   "metadata": {},
   "source": [
    "# Exercice 1 (niveau intermédiaire)\n",
    "\n",
    "> On a vu dans le cours un algorithme récursif renvoyant la somme des entiers de `1` à `n` : ($1 + 2 + 3 + \\cdots + n$). Cet algorithme est écrit ci-dessous dans une fonction appelée `somme_recursif`"
   ]
  },
  {
   "cell_type": "code",
   "execution_count": 2,
   "metadata": {},
   "outputs": [
    {
     "data": {
      "text/plain": [
       "5050"
      ]
     },
     "execution_count": 2,
     "metadata": {},
     "output_type": "execute_result"
    }
   ],
   "source": [
    "def somme_recursif(n):\n",
    "    if n == 0 :\n",
    "        return 0\n",
    "    else : \n",
    "        return n + somme_recursif(n-1)\n",
    "\n",
    "somme_recursif(100)"
   ]
  },
  {
   "cell_type": "markdown",
   "metadata": {},
   "source": [
    "> On peut démontrer (hors programme) que tout algorithme s'écrivant de manière itérative \"classique\" (avec des boucles) peut s'écrire de manière récursive et réciproquement.\n",
    "\n",
    "Q1. Ecrire un algorithme itératif (non récursif) renvoyant la somme ($1 + 2 + 3 + \\cdots + n)$ des entiers de 1 à `n`. On appelera cette fonction `somme_iteratif`  \n",
    "Q2a. Quel algorithme (itératif ou récursif) est le plus proche de la formule de définition de la somme : $1 + 2 + 3 + \\cdots + n$ ?  \n",
    "Q2b. En déduire un avantage de la méthode récursive.  \n",
    "Q3. En consultant la documentation du module [timeit](https://docs.python.org/fr/3/library/timeit.html), donner la signification du résultat obtenu par l'exécution du code suivant :"
   ]
  },
  {
   "cell_type": "code",
   "execution_count": 36,
   "metadata": {},
   "outputs": [
    {
     "data": {
      "text/plain": [
       "0.0231250889992225"
      ]
     },
     "execution_count": 36,
     "metadata": {},
     "output_type": "execute_result"
    }
   ],
   "source": [
    "import timeit\n",
    "\n",
    "timeit.timeit('somme_recursif(1000)', number=50, setup=\"from __main__ import somme_recursif\")"
   ]
  },
  {
   "cell_type": "markdown",
   "metadata": {},
   "source": [
    "Q4a. Réécrire l'appel à la fonction `timeit` pour avoir le résultat concernant la fonction `somme_iteratif` **dans les mêmes conditions** qu'à la question 3.  \n",
    "Q4b. En déduire un avantage de la méthode itérative  \n",
    "Q5a. Tester l'appel ci-dessous à la fonction `somme_recursif`. Quel résultat obtenez vous ? Expliquer pourquoi."
   ]
  },
  {
   "cell_type": "code",
   "execution_count": null,
   "metadata": {},
   "outputs": [],
   "source": [
    "somme_recursif(-4)"
   ]
  },
  {
   "cell_type": "markdown",
   "metadata": {},
   "source": [
    "Q5b. Même question pour l'appel ci-dessous à la fonction `somme_iteratif`. Ce résultat a t-il un sens ? Justifier."
   ]
  },
  {
   "cell_type": "code",
   "execution_count": null,
   "metadata": {},
   "outputs": [],
   "source": [
    "somme_iteratif(-4)"
   ]
  },
  {
   "cell_type": "markdown",
   "metadata": {},
   "source": [
    "Q5c. En utilisant un `assert` (voir `premiere/bloc6/specification/`), modifier le code des fonctions `somme_recursif` et `somme_iteratif` pour que l'appel `somme_recursif(-4)` renvoie une erreur à l'exécution en affichant le message \"impossible de calculer cette somme\""
   ]
  },
  {
   "cell_type": "markdown",
   "metadata": {},
   "source": [
    "# Exercice 2 (niveau facile)\n",
    "\n",
    "Q1. Réécrire la fonction **récursive** `prems` afin de ne plus avoir de boucle infinie à l'exécution. Pour cela :\n",
    "* La fonction devra prendre un paramètre entier `n` donnant le nombre d'appels récursifs (donc le nombre de fois où la phrase sera affichée)\n",
    "* Ajouter un cas de base dans la définition de la fonction\n",
    "\n",
    "> Comme expliqué dans le cours, il est recommandé d'écrire le cas de base en premier (\"dans le `if`\") pour ne pas l'oublier. Néanmoins ceci n'est pas obligatoire et vous pourrez peut-être rencontrer des algorithmes récursifs ou le cas de base est écrit à la fin (\"dans le `else`\")\n",
    "\n",
    "Q2. Modifier la fonction précédente afin que le cas de base soit écrit \"à la fin\" "
   ]
  },
  {
   "cell_type": "markdown",
   "metadata": {},
   "source": [
    "# Exercice 3 (niveau facile)\n",
    "\n",
    "> Cet exercice illustre les similitudes entre la récursivité et la notion de récurrence en mathématique\n",
    "\n",
    "En mathématique la fonction _factorielle_, notée avec un point d'exclamation _!_ est définie ainsi :\n",
    "\n",
    "* $0! = 1$\n",
    "* $\\forall n \\gt 0$ : $n! = n \\times (n-1) \\times (n-2) \\times  \\cdots \\times 2 \\times 1$\n",
    "\n",
    "Ainsi on a : $ 7! = 7 \\times 6 \\times 5 \\times 4 \\times 3 \\times 2 \\times 1 = 5040$\n",
    "\n",
    "1. Donner la formule de $n!$ en fonction de $(n-1)!$.\n",
    "2. On appelle $u_n$ la **suite mathématique** des entiers $n!$.  \n",
    "A l'aide de la question précédente, définir par récurrence la suite $u_n$\n",
    "3. Ecrire une fonction python `factorielle` permettant de calculer la factorielle d'un entier. Bien sûr on utilisera une méthode récursive. Un exemple d'appel est donné ci-dessous :"
   ]
  },
  {
   "cell_type": "code",
   "execution_count": 2,
   "metadata": {},
   "outputs": [
    {
     "data": {
      "text/plain": [
       "5040"
      ]
     },
     "execution_count": 2,
     "metadata": {},
     "output_type": "execute_result"
    }
   ],
   "source": [
    "factorielle(7)"
   ]
  },
  {
   "cell_type": "markdown",
   "metadata": {},
   "source": [
    "# Exercice 4 (niveau facile)\n",
    "\n",
    "> **Avertissement :** Dans cet exercice, la méthode récursive est volontairement mal appliquée et entraîne des problèmes. **NE CHERCHEZ PAS A CORRIGER LE PROBLEME SI CE N'EST PAS DEMANDE !!**"
   ]
  },
  {
   "cell_type": "code",
   "execution_count": null,
   "metadata": {},
   "outputs": [],
   "source": [
    "def fonctionUn(n):\n",
    "    if n == 1 :\n",
    "        return 1\n",
    "    else : \n",
    "        return n + fonctionUn(n+1)"
   ]
  },
  {
   "cell_type": "markdown",
   "metadata": {},
   "source": [
    "Q1. Exécuter sous Thonny l'appel `fonctionUn(5)`. Quelle erreur obtenez vous ? Qu'est-ce-que cela signifie ?  \n",
    "Q2. Expliquer la cause de cette erreur (on remarquera qu'il y a pourtant bien un *cas de base*)\n",
    "\n",
    "On définit la fonction _fonctionDeux_ ci dessous pour tout entier $n \\gt 0$:\n",
    "* $fonctionDeux(n) = 1 \\qquad \\qquad \\qquad \\qquad \\qquad$ si $n = 0$\n",
    "* $fonctionDeux(n) = n + fonctionDeux(n-2)\\quad$ si $n\\gt 0$\n",
    "\n",
    "Q3. Ecrire le code python de `fonctionDeux`  \n",
    "Q4. Exécuter sous Thonny l'instruction `print(fonctionDeux(10))`. Quelle est la valeur obtenue ?  \n",
    "Q5. Exécuter sous Thonny l'instruction `print(fonctionDeux(5))`. Quelle est l'erreur obtenue ?  \n",
    "Q6. En \"exécutant l'algorithme à la main\", expliquer les résultats obtenues aux questions Q4 et Q5\n",
    "\n",
    "On définit la fonction suivante :"
   ]
  },
  {
   "cell_type": "code",
   "execution_count": null,
   "metadata": {},
   "outputs": [],
   "source": [
    "def mystere(n,p):\n",
    "    \"\"\"\n",
    "    n et p sont deux entiers naturels\n",
    "    \"\"\"\n",
    "    if p == 0 :\n",
    "        return 0\n",
    "    else :\n",
    "        n + mystere(n, p-1)"
   ]
  },
  {
   "cell_type": "markdown",
   "metadata": {},
   "source": [
    "Q7. Exécuter sous Thonny l'appel `print(mystere(3,6))`. Quelle erreur obtenez-vous ?  A quelle ligne du code ?  \n",
    "Q8. Expliquer le problème et corriger le code\n",
    "\n",
    "> Cette erreur est très courante !! Il faut s'en souvenir...\n",
    "\n",
    "Q9. Que fait la fonction `mystere` ? Justifier à l'aide d'une formule..."
   ]
  },
  {
   "cell_type": "markdown",
   "metadata": {},
   "source": [
    "## Exercice 5 (niveau intermédiaire)\n",
    "\n",
    "> On rappelle le principe de la division euclidienne\n",
    "![division euclidienne](img/divisioneuclidienne.png)\n",
    "\n",
    "Ce qui s'écrit  $a = b \\times q + r$ \n",
    "\n",
    "Q1. Donner le quotient et le reste de la division euclidienne de 25 par 7  \n",
    "Q2. Ecrire une instruction python mettant en oeuvre l'opérateur *modulo* permettant de calculer le reste de la division de 25 par 7 (voir cours (`premiere/bloc6/initiation_a_python/Cours_Variables_et_types_simples_en_python`)  \n",
    "\n",
    "> On rappelle que le PGCD (plus grand diviseur commun de deux nombres) vérifie la propriété suivante : <br> si la division euclidienne de $a$ par $b$ s'écrit $a = b \\times q + r$, <br> alors $pgcd(a,b) = pgcd(b,r)$. \n",
    "\n",
    "Cette propriété est à la base de l'algorithme d'Euclide (et des algorithmes de cryptographie...)\n",
    "\n",
    "Exemple : $pgcd(24,18) = pgcd(18,6) = pgcd(6,0)$, donc $pgcd(24,18) = 6$\n",
    "\n",
    "Q3. Écrire un algorithme récursif `pgcd` qui :\n",
    "* prend en paramètres deux entiers positifs\n",
    "* **renvoie** le pgcd de ces 2 entiers\n",
    "\n",
    "*(Indication : il suffit d'utiliser la propriété rappelée précédemment pour trouver l'algorithme récursif)*\n",
    "\n",
    "Q4. Utiliser la fonction `pgcd` pour calculer le plus grand diviseur commun à 2562 et 78"
   ]
  },
  {
   "cell_type": "markdown",
   "metadata": {},
   "source": [
    "## Exercice 6 (niveau intermédiaire)\n",
    "\n",
    "Q1. Écrire une fonction récursive `puissance` qui : \n",
    "* prend deux entiers `x` et `n` (avec $n \\ge 0$) \n",
    "* **renvoie** le nombre $x^n$.\n",
    "\n",
    "> Pour optimiser la fonction construite à la question Q1, on utilise le fait que :\n",
    "- si $n$ est pair, $a^n=(a \\times a)^{n/2}$\n",
    "- sinon $a^n=a \\times (a \\times a)^{(n-1)/2}$\n",
    "\n",
    "Q2. Écrire une fonction récursive optimisée `puissance_v2`\n",
    "\n",
    "Q3. En déroulant \"à la main\" les 2 fonctions précédentes pour calculer $2^5$, justifier que `puissance_v2` est une effectivement une version optimisée de `puissance`"
   ]
  },
  {
   "cell_type": "markdown",
   "metadata": {},
   "source": [
    "## Exercice 7.1 (niveau intermédiaire)\n",
    "\n",
    "Q1. A l'aide du cours `premiere/bloc6/initiation_a_python/Cours_Variables_et_types_simples_en_python`, expliquer ce que représente le résultat de l'instruction python `5628 // 10`  \n",
    "\n",
    "Q2. Soit `x` un entier naturel composé de $n$ chiffres, combien de chiffres possède l'entier `x // 10` ?\n",
    "\n",
    "Q3. En déduire le code python d'une fonction récursive `nombre_de_chiffres` qui :\n",
    "* prend en paramètre un entier naturel\n",
    "* **renvoie** le nombre de chiffres composant cet entier.\n",
    "\n",
    "Un exemple d'appel est donné ci-dessous :"
   ]
  },
  {
   "cell_type": "code",
   "execution_count": 3,
   "metadata": {},
   "outputs": [
    {
     "data": {
      "text/plain": [
       "5"
      ]
     },
     "execution_count": 3,
     "metadata": {},
     "output_type": "execute_result"
    }
   ],
   "source": [
    "nombre_de_chiffres(34639)"
   ]
  },
  {
   "cell_type": "markdown",
   "metadata": {},
   "source": [
    "## Exercice 7.2 (révision de première)\n",
    "\n",
    "Q1. A l'aide du cours `premiere/bloc6/fonctions/Cours_definition_de_fonction`, recopier le code de la fonction `nombre de chiffres` de l'exercice 7.1 et compléter-le afin d'ajouter la **documentation** \n",
    "\n",
    "Q2. Ecrire l'instruction python permettant à l'utilisateur de la fonction `nombre de chiffres` d'accéder à cette documentation\n",
    "\n",
    "Q3. Dans l'exercice 7.1, on a vu que le paramètre `x` de la fonction `nombre de chiffres` devait être un entier naturel (c'est-à-dire supérieur ou égal à zéro). A l'aide de ce qui a été vu en première dans `premiere/bloc6/specification`, écrire une **précondition** mettant en oeuvre un `assert` permettant de contrôler ce paramètre `x`\n",
    "\n",
    "Q4. Toujours à l'aide de ce qui a été vu en première dans `premiere/bloc6/specification`, écrire une **postcondition** mettant en oeuvre un `assert` permettant de vérifier le **résultat**"
   ]
  }
 ],
 "metadata": {
  "kernelspec": {
   "display_name": "Python 3",
   "language": "python",
   "name": "python3"
  },
  "language_info": {
   "codemirror_mode": {
    "name": "ipython",
    "version": 3
   },
   "file_extension": ".py",
   "mimetype": "text/x-python",
   "name": "python",
   "nbconvert_exporter": "python",
   "pygments_lexer": "ipython3",
   "version": "3.7.2"
  }
 },
 "nbformat": 4,
 "nbformat_minor": 4
}
