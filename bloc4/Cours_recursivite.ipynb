{
 "cells": [
  {
   "cell_type": "markdown",
   "metadata": {},
   "source": [
    "<img src=\"img/infini.jpeg\" style=\"float:right;width:25%\">\n",
    "\n",
    "# Recursivité\n",
    "\n",
    "## Approche intuitive\n",
    "\n",
    "Une méthode est dite récursive lorsqu'elle fait appel à elle-même dans sa propre définition.\n",
    "\n",
    "||Exemples|Mise en abîme|\n",
    "|:-:|:-:|:-:|\n",
    "|**La vache qui rit**|<img src=\"img/vache-qui-rit.png\" style=\"width:85%\">|<img src=\"img/vache-qui-rit-mise-en-abime.gif\" style=\"width:45%\">|\n",
    "|**_Print gallery_ M.C.Escher**|<img src=\"img/escher_print_gallery.jpg\" style=\"width:70%\">|<img src=\"img/escher-mise-en-abime.gif\" style=\"width:60%\">|\n",
    "\n",
    "**Pochette _Ummagumma_ de Pink Floyd** :\n",
    "![pink floyd](img/pinkfloyd-ummagumma-recursivite.jpg)\n",
    "\n",
    "**Remarque :** ces exemples, surtout le dernier, ne sont pas rigoureusement récursifs car du fait de la \"liberté artistique\"\n",
    "\n",
    "### Sigles\n",
    "* VISA : *VISA* International Service Association\n",
    "* GNU : *GNU* is Not Unix\n",
    "* WINE : *Wine* Is Not an Emulator\n",
    "* Bing : *Bing* is not Google (non officiel)\n",
    "* LAME : *Lame* Ain't an MP3 Encoder \n",
    "\n",
    "### Grammaire\n",
    "\n",
    "Un *groupe nominal* est composé d'un nom ou d'un nom et son complément. Le complément d'un nom est soit un adjectif, soit un adverbe, soit un *groupe nominal*. (très approximativement)\n",
    "\n",
    "```\n",
    "groupe_nominal ==   | nom \n",
    "                    | nom  + complement\n",
    "\n",
    "complement     ==   | adjectif\n",
    "                    | adverbe\n",
    "                    | groupe_nominal\n",
    "```\n",
    "\n",
    "\n",
    "\n",
    "## La méthode récursive en programmation\n",
    "\n",
    "Tout comme pour dessiner le logo de *la vache qui rit*, on a besoin de dessiner : \n",
    "* une vache \n",
    "* des boucles d'oreilles contenant le logo de _la vache qui rit_ (récursivité)\n",
    "\n",
    "$\\Longrightarrow$ De la même façon, un programme peut être appelé par lui-même au cours de son exécution.\n",
    "\n",
    "**DEFINITION : UNE FONCTION EST DITE RECURSIVE SI ELLE S'APPELLE ELLE-MEME DANS SA PROPRE DEFINITION**\n",
    "\n",
    "### Un premier exemple (très mauvais)"
   ]
  },
  {
   "cell_type": "code",
   "execution_count": 1,
   "metadata": {},
   "outputs": [],
   "source": [
    "def prems():\n",
    "    print(\"un très mauvais exemple\")\n",
    "    prems()"
   ]
  },
  {
   "cell_type": "code",
   "execution_count": null,
   "metadata": {},
   "outputs": [],
   "source": [
    "prems()"
   ]
  },
  {
   "cell_type": "markdown",
   "metadata": {},
   "source": [
    "##### <img src=\"img/dingo.jpg\" style=\"float:right;width:40%\">\n",
    "\n",
    "un très mauvais exemple  \n",
    "un très mauvais exemple  \n",
    "un très mauvais exemple  \n",
    "un très mauvais exemple  \n",
    "un très mauvais exemple  \n",
    "un très mauvais exemple  \n",
    "un très mauvais exemple  \n",
    "un très mauvais exemple  \n",
    "un très mauvais exemple  \n",
    "un très mauvais exemple  \n",
    "un très mauvais exemple  \n",
    "un très mauvais exemple  \n",
    "un très mauvais exemple  \n",
    "un très mauvais exemple  \n",
    "...\n",
    "\n",
    "<img src=\"img/meme2.gif\" style=\"float:right;width:40%\">\n",
    "\n",
    "Évidemment, comme prévu, ce programme ne s'arrête pas. Nous sommes obligés de l'arrêter manuellement. Nous sommes (volontairement) tombés dans un piège qui sera systématiquement présent lors d'une programmation récursive : **LE PIEGE DE LA BOUCLE INFINIE**\n",
    "\n",
    "Remarque :\n",
    "Les [acronymes récursifs](https://fr.wikipedia.org/wiki/Sigles_auto-r%C3%A9f%C3%A9rentiels) représentent le même concept... et illustrent le même piège. Par exemple, GNU signifie GNU is Not Unix. On ne sait jamais vraiment ce que signifie GNU...\n",
    "\n",
    "$\\Longrightarrow$ En algorithmique, la récursivité est une méthode (parfois) très efficace, à condition de respecter **une règle cruciale : l'existence d'un CAS DE BASE**, encore appelé **CONDITION D'ARRET** ou **SITUATION DE TERMINAISON**\n",
    "\n",
    "\n",
    "Lorsque vous allez programmer un algorithme récursif, vous commencerez toujours par écrire le cas de base c'est-à-dire par le moment où elle renvoie effectivement un résultat. Ainsi on ne risque pas d'oublier le cas de base et tomber dans le piège de la boucle infinie...\n",
    "\n",
    "Pour arriver progressivement vers la situation finale, chaque appel récursif se fera en se rapprochant progressivement vers le cas de base (par exemple par décrémentation : cela assurera **l'arrêt du programme**.\n",
    "\n",
    "Imaginez que vous devez cacher une clé dans une maison :\n",
    "* vous commencez par la cacher sous le lavabo de la salle de bain.\n",
    "* puis vous laissez un mot sur la table de la cuisine : «allez voir sur la première marche de l'escalier».\n",
    "* puis vous laissez un mot sur la première marche de l'escalier : «allez voir sur le canapé du salon».\n",
    "* etc, jusqu'à l'indice final «allez voir sous le lavabo de la salle de bain».\n",
    "\n",
    "La personne qui va subir cette chasse au trésor va rentrer dans un processus où chaque indice va en appeler un autre, mais elle sait très bien que ces indices emboîtés l'amènent progressivement vers la clé.\n",
    "\n",
    "Observons ceci dans l'exemple suivant :\n",
    "\n",
    "### Un deuxième (bon) exemple"
   ]
  },
  {
   "cell_type": "code",
   "execution_count": 3,
   "metadata": {},
   "outputs": [],
   "source": [
    "def mystere(n):\n",
    "    if n == 0 :\n",
    "        return 0\n",
    "    else : \n",
    "        return n + mystere(n-1)"
   ]
  },
  {
   "cell_type": "markdown",
   "metadata": {},
   "source": [
    "Observer :\n",
    "* le cas de base (si n vaut 0 on renvoie vraiment une valeur, en l'occurence 0)\n",
    "* l'appel récursif\n",
    "* la décrémentation du paramètre  `n` amenant progressivement vers le cas de base"
   ]
  },
  {
   "cell_type": "code",
   "execution_count": 4,
   "metadata": {},
   "outputs": [
    {
     "data": {
      "text/plain": [
       "0"
      ]
     },
     "execution_count": 4,
     "metadata": {},
     "output_type": "execute_result"
    }
   ],
   "source": [
    "mystere(0)"
   ]
  },
  {
   "cell_type": "code",
   "execution_count": 5,
   "metadata": {},
   "outputs": [
    {
     "data": {
      "text/plain": [
       "10"
      ]
     },
     "execution_count": 5,
     "metadata": {},
     "output_type": "execute_result"
    }
   ],
   "source": [
    "mystere(4)"
   ]
  },
  {
   "cell_type": "markdown",
   "metadata": {},
   "source": [
    "Que se passe-t-il lorsqu'on exécute mystere(4) ?\n",
    "\n",
    "**Activité : Observer l'exécution de `mystere(4)` dans Thonny en mode debug**\n",
    "\n",
    "![mystere](img/math.svg)\n",
    "\n",
    "On voit que l'existence du cas de base pour $n=0$ est primordiale pour éviter la récursion infinie.\n",
    "\n",
    "![mystere](img/diag.png)\n",
    "\n",
    "Cette fonction `mystere` calcule donc la somme des entiers positifs inférieurs ou égaux à $n$ s'écrivant $1 + 2 + 3 + \\cdots + n$\n",
    "\n",
    "**Faire l'exercice 1 du TD**\n",
    "\n",
    "## Notion de pile mémoire\n",
    "\n",
    "Lors d'un appel à une fonction récursive, le processeur utilise une structure de **PILE pour stocker les appels récursifs**. Dans la notion de pile (qui sera traitée plus tard dans le programme de Terminale), seule l'instruction «en haut de la pile» peut être traitée et enlevée (on dit «dépilée»).\n",
    "\n",
    "La pile d'appels de l'instruction `mystere(5)` peut donc être schématisée comme ceci :\n",
    "\n",
    "![](img/pile_exec.webp)\n",
    "\n",
    "[Visualisez l'exécution de cette fonction sur PythonTutor](http://pythontutor.com/visualize.html#code=def%20mystere%28n%29%3A%0A%20%20%20%20if%20n%20%3D%3D%200%20%3A%0A%20%20%20%20%20%20%20%20return%200%0A%20%20%20%20else%20%3A%20%0A%20%20%20%20%20%20%20%20return%20n%20%2B%20mystere%28n-1%29%0A%0Aprint%28mystere%285%29%29&cumulative=false&curInstr=0&heapPrimitives=nevernest&mode=display&origin=opt-frontend.js&py=3&rawInputLstJSON=%5B%5D&textReferences=false)\n",
    "\n",
    "### Limitation de la taille de la pile\n",
    "\n",
    "Nous avons vu que l'exécution  de `mystere(5)` générait une pile de hauteur 6 (on parle aussi de profondeur 6).\n",
    "\n",
    "La pile contenant le contexte d'exécution de chaque appel récursif est stockée dans la mémoire RAM de l'ordinateur. C'est un danger majeur de la méthode récursive : celui de \"planter\" la machine par saturation de sa mémoire.   \n",
    "Pour éviter de cela, Python limite la profondeur de pile comme le montrent les exemples ci-dessous :"
   ]
  },
  {
   "cell_type": "code",
   "execution_count": null,
   "metadata": {},
   "outputs": [],
   "source": [
    "mystere(2959)"
   ]
  },
  {
   "cell_type": "code",
   "execution_count": null,
   "metadata": {},
   "outputs": [],
   "source": [
    "mystere(2960)"
   ]
  },
  {
   "cell_type": "markdown",
   "metadata": {},
   "source": [
    "Dans le cas présent (qui dépend notamment de la version de python), on observe que python limite la profondeur de pile (donc le nombre d'appels récursifs à 2959) pour éviter de \"planter\" la machine.   \n",
    "**Remarque :** La profondeur maximale de la pile peut être augmentée en utilisant la fonction `setrecursionlimit` du module `sys` (à nos risques et périls...)\n",
    "\n",
    "### S'affranchir de la limite de profondeur de pile ?\n",
    "\n",
    "1. Il existe des méthodes de programmation (**mémoïsation**, **programmation dynamique**) qui seront abordées plus tard dans l'année qui permettent d'optimiser la méthode récursive et ainsi limiter la hauteur de pile.\n",
    "2. Certains langages de programmation, plus spécialisés dans l'écriture de fonctions récursives savent dans certains cas éviter de placer de trop nombreux environnements d'appel dans la pile. C'est le cas des **langages fonctionnels**"
   ]
  }
 ],
 "metadata": {
  "kernelspec": {
   "display_name": "Python 3",
   "language": "python",
   "name": "python3"
  },
  "language_info": {
   "codemirror_mode": {
    "name": "ipython",
    "version": 3
   },
   "file_extension": ".py",
   "mimetype": "text/x-python",
   "name": "python",
   "nbconvert_exporter": "python",
   "pygments_lexer": "ipython3",
   "version": "3.6.9"
  }
 },
 "nbformat": 4,
 "nbformat_minor": 4
}
