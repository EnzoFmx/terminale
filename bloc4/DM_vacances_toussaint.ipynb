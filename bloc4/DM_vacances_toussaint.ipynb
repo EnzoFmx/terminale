{
 "cells": [
  {
   "cell_type": "markdown",
   "metadata": {},
   "source": [
    "# DM informatique\n",
    "\n",
    "Compléter le code source dune fonction `somme_iteratif` dont la documentation et un exemple d'appel est fournit ci-dessous. Pour cela, on mettra en oeuvre une **boucle**"
   ]
  },
  {
   "cell_type": "code",
   "execution_count": null,
   "metadata": {},
   "outputs": [],
   "source": [
    "def somme_iteratif(n):\n",
    "    '''\n",
    "    Description : Calcule la somme des entiers de 1 à n\n",
    "    n (int)\n",
    "    return (int)\n",
    "    '''\n",
    "    # A compléter"
   ]
  },
  {
   "cell_type": "code",
   "execution_count": 1,
   "metadata": {},
   "outputs": [
    {
     "name": "stdout",
     "output_type": "stream",
     "text": [
      "55\n"
     ]
    }
   ],
   "source": [
    "# Appel de la fonction\n",
    "somme_iteratif(10)\n",
    "\n",
    "# (En  effet : 1 + 2 + 3 + 4 + 5 + 6 + 7 + 8 + 9 + 10 = 55)"
   ]
  }
 ],
 "metadata": {
  "kernelspec": {
   "display_name": "Python 3",
   "language": "python",
   "name": "python3"
  },
  "language_info": {
   "codemirror_mode": {
    "name": "ipython",
    "version": 3
   },
   "file_extension": ".py",
   "mimetype": "text/x-python",
   "name": "python",
   "nbconvert_exporter": "python",
   "pygments_lexer": "ipython3",
   "version": "3.7.2"
  }
 },
 "nbformat": 4,
 "nbformat_minor": 4
}
