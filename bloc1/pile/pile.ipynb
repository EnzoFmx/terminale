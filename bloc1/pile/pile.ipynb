{
 "cells": [
  {
   "cell_type": "markdown",
   "metadata": {},
   "source": [
    "# Les Piles\n",
    "\n",
    "## Présentation de la structure de données\n",
    "\n",
    "une pile est une structure de données abstraites qui se définit par les méthodes qui lui sont associées.\n",
    "\n",
    "c'est une structure dite LIFO (last in first out), c'est a dire que le premier element qui rentre dans la structure est le dernier qui en va en sortir et le dernier element qui y rentre sera la première à en sortir.\n",
    "\n",
    "## Exemple \n",
    "\n",
    "Similaire à une pile de livres, on ajoute les livres les uns sur les autres et quand on veut prendre un livre, on prend celui du dessus.\n",
    "\n",
    "![](https://upload.wikimedia.org/wikipedia/commons/9/93/PrimitivesPile.png)\n",
    "\n",
    "## les méthodes associé aux piles:\n",
    "\n",
    "### les méthodes essentiels:\n",
    "de cet exemple, on peut en déduire que les méthodes associées aux piles sont: \n",
    "- **empiler**: ajoute un element a la pile\n",
    "- **depiler**: retire un element a la pile\n",
    "\n",
    "### les méthodes secondaires:\n",
    "on peut aussi y associer d'autres méthodes par mesure de commodité mais ce sont celles-ci dessus qui définissent qu'est une pile \n",
    "\n",
    "ces autres méthodes sont (pour le cas du python):\n",
    "- **top**: retourne l'element du dessus de la pile mais ne modifie pas la pile\n",
    "\n",
    "### les méthodes \"hérité\" des structures de données:\n",
    "et on y ajoute des méthodes communes à toutes les structures de données:\n",
    "- **estVide**: return vrai si la pile est vide\n",
    "- **recevoir**: retourne la taille de la pile \n",
    "\n",
    "## les implémentation d'une pile:\n",
    "\n",
    "l'implementation des piles peut se faire de beaucoup de façon, plus ou moins efficace en temps ou espace, mais l'implementation est à dissocier de la structure abstraite.\n"
   ]
  }
 ],
 "metadata": {
  "kernelspec": {
   "display_name": "Python 3",
   "language": "python",
   "name": "python3"
  },
  "language_info": {
   "codemirror_mode": {
    "name": "ipython",
    "version": 3
   },
   "file_extension": ".py",
   "mimetype": "text/x-python",
   "name": "python",
   "nbconvert_exporter": "python",
   "pygments_lexer": "ipython3",
   "version": "3.6.9"
  }
 },
 "nbformat": 4,
 "nbformat_minor": 2
}
