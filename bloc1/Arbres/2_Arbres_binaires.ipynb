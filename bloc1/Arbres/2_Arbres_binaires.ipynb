{
 "cells": [
  {
   "cell_type": "markdown",
   "metadata": {},
   "source": [
    " \n",
    "   # <div align=\"center\"> Les arbres binaires </div>"
   ]
  },
  {
   "cell_type": "markdown",
   "metadata": {},
   "source": [
    "Pour représenter les arbres, nous allons décrire l'arbre à partir d'une classe **Node récursive** avec les attributs suivants:\n",
    "\n",
    "   * **value**: valeur ou clé du nœud de type numérique,\n",
    "   * **left**: sous-arbre gauche de type Node,\n",
    "   * **right**: sous-arbre droit de type Node,\n",
    "\n",
    "Cette structure de données est récursive car les attributes left et right de l'objet Node sont eux-mêmes de type Node."
   ]
  },
  {
   "cell_type": "markdown",
   "metadata": {},
   "source": [
    "Le code ci-dessous permet de créer un arbre aléatoirement."
   ]
  },
  {
   "cell_type": "code",
   "execution_count": null,
   "metadata": {},
   "outputs": [],
   "source": [
    "from binarytree import Node, tree\n",
    "# On peut facilement créer un arbre aléatoire\n",
    "mon_arbre = tree(height=(3))\n",
    "\n",
    "# L'affichage de l'arbre est aisé\n",
    "print(\"Arbre aléatoire\")\n",
    "print(mon_arbre)"
   ]
  },
  {
   "cell_type": "code",
   "execution_count": null,
   "metadata": {},
   "outputs": [],
   "source": [
    "Arbre aléatoire\n",
    "\n",
    "         ____4__\n",
    "        /       \\\n",
    "    ___8__       2\n",
    "   /      \\     / \\\n",
    "  1        3   9   14\n",
    " / \\      /          \\\n",
    "0   10   6            12\n"
   ]
  },
  {
   "cell_type": "markdown",
   "metadata": {},
   "source": [
    "A vous !<br>\n",
    "créer l'arbre ci dessous grâce aux attributs définis précédemment.\n",
    "Vous pouvez commencer par :<br>\n"
   ]
  },
  {
   "cell_type": "code",
   "execution_count": null,
   "metadata": {},
   "outputs": [],
   "source": [
    "from binarytree import Node, tree\n",
    "mon_arbre = Node(3)\n",
    "mon_arbre.left = ....\n",
    "    \n",
    "    __3____\n",
    "   /       \\\n",
    "  2         6\n",
    " / \\       /\n",
    "1   4     5\n",
    "         /\n",
    "        7"
   ]
  },
  {
   "cell_type": "markdown",
   "metadata": {},
   "source": [
    "> Rappel : **Hauteur d'un arbre**<br>\n",
    "La hauteur d'un arbre est la plus grande profondeur d'une feuille de l'arbre.\n",
    "\n",
    "Pour calculer la hauteur d’un arbre, il faut parcourir toutes ses branches et retenir la profondeur de la feuille la plus éloignée.\n",
    "\n",
    "La fonction est bien entendue récursive : la taille d’un arbre est égale à la somme des tailles de ses deux branches …<br>\n",
    "A chaque appel, on renvoie"
   ]
  },
  {
   "cell_type": "code",
   "execution_count": null,
   "metadata": {},
   "outputs": [],
   "source": [
    "1 + max(taille(node.left), taille(node.right))."
   ]
  },
  {
   "cell_type": "markdown",
   "metadata": {},
   "source": [
    "Mais comme toute fonction **recursive**, il faut un cas de base qui ne nécessite pas le rappel de la fonction <br>\n",
    "(sans quoi on aurait une boucle infinie).<br>\n",
    "Ce cas est l'absence de noeud, cela signifie que le noeud parent était une feuille, et renvoie -1 pour diminuer la hauteur accumulée de 1.<br>\n",
    "<br>\n",
    "A vous modifier la fonction ci-dessous afin de calculer la hauteur d'un arbre."
   ]
  },
  {
   "cell_type": "code",
   "execution_count": null,
   "metadata": {},
   "outputs": [],
   "source": [
    "def hauteur(node):\n",
    "    \"\"\"Fonction récursive renvoyant la hauteur d'un arbre\n",
    "    \n",
    "    Arguments\n",
    "    ---------\n",
    "    node: Node\n",
    "        Le noeud racine de l'arbre\n",
    "    \n",
    "    Returns\n",
    "    -------\n",
    "    int\n",
    "        La hauteur de l'arbre\n",
    "    \"\"\"\n",
    "    # votre code\n",
    "        \n",
    "hauteur(mon_arbre)"
   ]
  },
  {
   "cell_type": "markdown",
   "metadata": {},
   "source": [
    "Vérifier la fonction \"hauteur\" avec l'arbre crée précedemment"
   ]
  },
  {
   "cell_type": "markdown",
   "metadata": {},
   "source": [
    "> Rappel : **Taille d'un arbre** <br>\n",
    "La taille d'un arbre est son nombre de nœuds."
   ]
  },
  {
   "cell_type": "markdown",
   "metadata": {},
   "source": [
    "Encore une fois, nous allons utiliser une fonction recursive.\n",
    "A chaque appel, au lieu d'utiliser le maximum comme précédemment on va simplement additionner les hauteurs des sous-arbres.\n",
    "<br>\n",
    "A vous de modifier la fonction ci-dessous afin de calculer la taille d'un arbre."
   ]
  },
  {
   "cell_type": "code",
   "execution_count": null,
   "metadata": {},
   "outputs": [],
   "source": [
    "def taille(node):\n",
    "    \"\"\"Fonction récursive renvoyant la taille d'un arbre\n",
    "    \n",
    "    Arguments\n",
    "    ---------\n",
    "    node: Node\n",
    "        Le noeud racine de l'arbre\n",
    "    \n",
    "    Returns\n",
    "    -------\n",
    "    int\n",
    "        La taille de l'arbre\n",
    "    \"\"\"\n",
    "   \n",
    "    # votre code\n",
    "  \n",
    "print(mon_arbre)\n",
    "print(\"taille\")\n",
    "taille(mon_arbre)"
   ]
  },
  {
   "cell_type": "markdown",
   "metadata": {},
   "source": [
    "       ___12_______\n",
    "      /            \\\n",
    "     11           __5___\n",
    "    /  \\         /      \\\n",
    "  _7    2      _6       _0\n",
    " /            /  \\     /  \\\n",
    "10           14   4   13   3\n",
    "\n",
    "taille\n",
    "12"
   ]
  }
 ],
 "metadata": {
  "hide_input": false,
  "kernelspec": {
   "display_name": "Python 3",
   "language": "python",
   "name": "python3"
  },
  "latex_envs": {
   "LaTeX_envs_menu_present": true,
   "autoclose": false,
   "autocomplete": true,
   "bibliofile": "biblio.bib",
   "cite_by": "apalike",
   "current_citInitial": 1,
   "eqLabelWithNumbers": true,
   "eqNumInitial": 1,
   "hotkeys": {
    "equation": "Ctrl-E",
    "itemize": "Ctrl-I"
   },
   "labels_anchors": false,
   "latex_user_defs": false,
   "report_style_numbering": false,
   "user_envs_cfg": false
  }
 },
 "nbformat": 4,
 "nbformat_minor": 4
}
