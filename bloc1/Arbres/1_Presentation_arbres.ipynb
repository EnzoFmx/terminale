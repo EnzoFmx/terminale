{
 "cells": [
  {
   "cell_type": "markdown",
   "metadata": {
    "solution": "hidden"
   },
   "source": [
    " \n",
    "   # <div align=\"center\"> Les arbres</div>\n",
    "\n",
    "   \n",
    "## Qu’est-ce qu’un arbre?\n",
    "\n",
    "* Notion d’arbre\n",
    "\n",
    "Les **structures de données** que nous avons étudié jusqu’à présent (tableaux, listes, piles, files...) sont **linéaires**, dans la mesure où elles stockent les éléments les uns à la suite des autres «à la queue leu leu».<br>\n",
    "On peut représenter de telles structures d’une manière imagée comme des éléments placés sur une ligne à l’instar d’oiseaux posés sur  un  fil électrique.<br>\n",
    "Un **arbre** est une structure constituée de **nœuds**, qui peuvent avoir des **enfants** qui sont eux-mêmes des nœuds.<br>\n",
    "Les systèmes  de  fichiers  dans  les  systèmes  de  type  UNIX (Linux  et  Mac  OS) ont  par  exemple  une  structure  en  arbre définissant une arborescence:<br>\n",
    "![img](img/arborescence_fichiers_linux.png)\n",
    "### <div align=\"center\"> Système de fichier UNIX (arborescence) <div> \n",
    "    Les arbres sont des structures mathématiques abstraites très utilisés en informatique. On les utilise notamment quand on a besoin d'une structure hiérarchisée des données :\n",
    "    Dans l'exemple ci-dessus le dossier photos ne se trouve pas au même niveau de l’arborescence que le dossier cours (le dossier photo se trouve \"plus proche\" de la racine \"/\" que le dossier cours).<br>\n",
    "    On ne pourrait pas avec une simple liste qui contiendrait les noms des fichiers et des répertoires, rendre compte de cette hiérarchie (plus ou moins \"proche\" de la racine)."
   ]
  },
  {
   "cell_type": "markdown",
   "metadata": {},
   "source": [
    "* Notion d’arbre binaire\n",
    "\n",
    "Les arbres binaires sont des cas particuliers d'arbre :<br>\n",
    "Dans un arbre binaire, on a au maximum 2 branches qui partent d'un élément.<br>\n",
    "Nous travaillerons uniquement sur les arbres binaires.<br>\n",
    "> Un peu de vocabulaire<br>\n",
    "En informatique, un **arbre binaire** est une **structure de données** qui peut se représenter sous la forme d'une **hiérarchie** dont chaque élément est appelé **nœud**, le **nœud initial** étant appelé **racine**.<br>\n",
    "Dans un arbre binaire, chaque élément possède au plus **deux éléments fils** au **niveau inférieur**, habituellement appelés **gauche** et **droit**. Du point de vue de ces éléments fils, l'élément dont ils sont issus au niveau supérieur est appelé **père**.<br>\n",
    "Au niveau le plus élevé il y a donc un nœud racine.<br>\n",
    "Au niveau directement inférieur, il y a au plus deux nœuds fils.<br>\n",
    "En continuant à descendre aux niveaux inférieurs, on peut en avoir quatre, puis huit, seize, etc.<br>\n",
    "c'est-à-dire la suite des puissances de deux.<br>\n",
    "Un nœud n'ayant aucun fils est appelé **feuille**.<br>\n",
    "Le nombre de niveaux total, autrement dit la distance entre la feuille la plus éloignée et la racine, est appelé **hauteur** de l'arbre.<br>\n",
    "Le niveau d'un nœud est appelé **profondeur**."
   ]
  },
  {
   "cell_type": "markdown",
   "metadata": {},
   "source": [
    "![img](img/Structure_arbre.png)"
   ]
  },
  {
   "cell_type": "markdown",
   "metadata": {},
   "source": [
    "Quelques précisions concernant cet arbre binaire :\n",
    "* Chaque élément de l'arbre est appelé nœud(par exemple : A, B, C, D,...,P et Q sont des nœuds)\n",
    "\n",
    "\n",
    "* Le nœud initial (A) est appelé nœud racine ou plus simplement racine.\n",
    "\n",
    "\n",
    "* On appelle arête le segment qui relie 2 nœuds.\n",
    "\n",
    "\n",
    "* Le nœud E et le nœud D sont les fils du nœud B.\n",
    "  Réciproquement, on dira que le nœud B est le père des nœuds E et D.\n",
    "  \n",
    "  \n",
    "* Dans un arbre binaire, un nœud possède au plus 2 fils.\n",
    "\n",
    "\n",
    "* Un nœud n'ayant aucun fils est appelé feuille\n",
    "  (exemples : D, H, N, O, J, K, L, P et Q sont des feuilles).\n",
    "  \n",
    "  \n",
    "* À partir d'un nœud (qui n'est pas une feuille), on peut définir un sous-arbre gauche et un sous-arbre droite<br>\n",
    "  (exemple : à partir de C on va trouver un sous-arbre gauche composé des nœuds F, J et K et un sous-arbre droit composé des nœuds G, L, M, P et Q).\n",
    "  \n",
    "  \n",
    "* La profondeur d'un nœud ou d'une feuille dans un arbre binaire est le nombre de nœuds du chemin qui va de la racine à ce nœud.\n",
    "  La racine d'un arbre est à une profondeur 1, et la profondeur d'un nœud est égale à la profondeur de son prédécesseur plus 1.\n",
    "  Si un nœud est a une profondeur p, tous ses successeurs sont à une profondeur p+1.\n",
    "  \n",
    "  Exemples :profondeur de B = 2 ; profondeur de I = 4 ; profondeur de P = 5.\n",
    "  \n",
    "  \n",
    "* La hauteur d'un arbre est la profondeur maximale des nœuds de l'arbre. \n",
    "  Exemple :\n",
    "  la profondeur de P = 5, c'est un des nœuds les plus profond, donc la hauteur de l'arbre est de 5\n"
   ]
  },
  {
   "cell_type": "markdown",
   "metadata": {},
   "source": [
    "## Un exemple d'arbre binaire : l'arbre de calcul.\n",
    "\n",
    "On considère l'expression : A=(2+4)×2−3²+1 <br>\n",
    "\n",
    "On peut représenter cette expression par un arbre binaire dans lequel les noeuds sont les opérations et les feuilles, les nombres.<br>\n",
    "Cela présente beaucoup d'avantages pour calculer l'expression car une fois l'expression écrite sous forme d'arbre, l'algorithme permettant de l'évaluer est aisé.\n",
    "\n",
    "![img](img/arbre_calcul.png)\n",
    "\n",
    "Pour obtenir cet arbre, l'idée est de parcourir notre expression à la recherche de l'opération de moins forte priorité. <br>\n",
    "Celle-ci prend alors place dans un noeud.<br>\n",
    "On sépare alors notre expression en deux sous expressions :<br>\n",
    "Gauche et droite, permettant chacune de construire un sous arbre gauche et droit en répétant la même méthode de construction.<br>\n",
    "Lorsqu'il n'y a plus d'opération, nous somme au niveau d'une feuille et la construction du sous-arbre s'arrête.\n",
    "\n",
    "**A vous**<br>\n",
    "* Quelle est la hauteur de l'arbre ci-dessus ?\n",
    "* Quelle est la feuille de moindre profondeur ?\n",
    "* Quelles sont les feuilles qui sont à la même hauteur que 3 ?\n",
    "* Ecrire un arbre binaire correspondant à l'expression : $$B=2+(\\frac{3}{4-7})$$\n"
   ]
  },
  {
   "cell_type": "markdown",
   "metadata": {
    "solution": "hidden",
    "solution_first": true
   },
   "source": [
    "## Exercice\n",
    "\n",
    "Pour chauffer un bâtiment, on s’intéresse à deux critères : <br>\n",
    "A : le bâtiment est chauffé électriquement. <br>\n",
    "B : le bâtiment est aux normes RT2005 (règlement thermique).<br>\n",
    "On a :  \n",
    "\\begin{equation*}\n",
    "P(A)  = 0,7\n",
    "\\end{equation*}\n",
    "\\begin{equation*}\n",
    "P_{A}(B) = 0,2 \n",
    "\\end{equation*}\n",
    "\\begin{equation*}\n",
    "P_\\overline{A}(B) = 0,1\n",
    "\\end{equation*}\n",
    "\n",
    "Créer l'arbre r correspondant."
   ]
  },
  {
   "cell_type": "markdown",
   "metadata": {
    "solution": "hidden"
   },
   "source": [
    "![img](img/arbre_chauffage.png)"
   ]
  },
  {
   "cell_type": "markdown",
   "metadata": {},
   "source": [
    "## Représentation d'un arbre"
   ]
  },
  {
   "cell_type": "markdown",
   "metadata": {},
   "source": [
    "L'arbre codé par <br>\n",
    "* d = noeud('d')\n",
    "* b = noeud('b',None,d)\n",
    "* a = noeud('a')\n",
    "* A = noeud('r',a,b)\n",
    "\n",
    "         ____r__\n",
    "        /       \\\n",
    "       a         b\n",
    "                  \\\n",
    "                   d\n",
    "\n",
    "est représenté par ['r', ['a', [ ], [ ]],['b', [ ],['d',[ ],[ ] ] ] ]"
   ]
  },
  {
   "cell_type": "markdown",
   "metadata": {},
   "source": [
    "Écrire une fonction python **récursive** permettant d'obtenir, à partir du codage proposé ci dessous, un arbre représenté sous forme d'une liste comme défini dans l'exemple précédent."
   ]
  },
  {
   "cell_type": "code",
   "execution_count": null,
   "metadata": {},
   "outputs": [],
   "source": [
    "def noeud(nom, fg = None, fd = None) :\n",
    "    return {'racine': nom, 'fg' : fg, 'fd': fd}\n",
    "\n",
    "\n",
    "k = noeud('k')\n",
    "f = noeud('f')\n",
    "e = noeud('e', k, None)\n",
    "b = noeud('b', e, f)\n",
    "m = noeud('m')\n",
    "j = noeud('j', m, None)\n",
    "i = noeud('i')\n",
    "d = noeud('d', i, j)\n",
    "h = noeud('h')\n",
    "c = noeud('c', None, h)\n",
    "a = noeud('a', c, d)\n",
    "A = noeud('r', a, b)\n",
    "# Votre code ici ..."
   ]
  },
  {
   "cell_type": "code",
   "execution_count": null,
   "metadata": {},
   "outputs": [],
   "source": [
    "['r', ['a', ['c', [], ['h', [], []]], ['d', ['i', [], []], ['j', ['m', [], []], []]]], ['b', ['e', ['k', [], []], []], ['f', [], []]]]"
   ]
  }
 ],
 "metadata": {
  "hide_input": false,
  "kernelspec": {
   "display_name": "Python 3",
   "language": "python",
   "name": "python3"
  },
  "language_info": {
   "codemirror_mode": {
    "name": "ipython",
    "version": 3
   },
   "file_extension": ".py",
   "mimetype": "text/x-python",
   "name": "python",
   "nbconvert_exporter": "python",
   "pygments_lexer": "ipython3",
   "version": "3.8.0"
  },
  "latex_envs": {
   "LaTeX_envs_menu_present": true,
   "autoclose": false,
   "autocomplete": true,
   "bibliofile": "biblio.bib",
   "cite_by": "apalike",
   "current_citInitial": 1,
   "eqLabelWithNumbers": true,
   "eqNumInitial": 1,
   "hotkeys": {
    "equation": "Ctrl-E",
    "itemize": "Ctrl-I"
   },
   "labels_anchors": false,
   "latex_user_defs": false,
   "report_style_numbering": false,
   "user_envs_cfg": false
  }
 },
 "nbformat": 4,
 "nbformat_minor": 4
}
