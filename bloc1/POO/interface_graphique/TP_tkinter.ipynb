{
 "cells": [
  {
   "cell_type": "markdown",
   "metadata": {},
   "source": [
    "# TP interface graphique\n",
    "_Source : D'après une idée proposée par Fabrice Sincere_\n",
    "\n",
    "## Objectif du TP\n",
    "\n",
    "Modifier le code du programme `cercle.py` pour en faire un programme `cible.py`\n",
    "\n",
    "|`cercle.py`||`cible.py`|\n",
    "|:-:|:-:|:-:|\n",
    "|![cercle](img/cercle.png)|![fleche](img/fleche.png)|![cible](img/cible.png)|\n",
    "\n",
    "\n",
    "## Conseils\n",
    "\n",
    "* Ne pas hésiter à solliciter l'aide du professeur car vous n'êtes pas habitué au paradigme **programmation événementielle**\n",
    "* Il faudra **absolument** consulter cette [documentation](http://tkinter.fdex.eu/#) pour trouver toute l'aide nécessaire sur les méthodes qui doivent être appelées\n",
    "\n",
    "\n",
    "**Procéder pas à pas dans l'ordre proposé ci-dessous pour atteindre PROGRESSIVEMENT l'objectif :**\n",
    "\n",
    "1. Ajouter une image de fond dans la zone de dessin (fichier image `tk_cible.gif` disponible sur le dépôt). Utiliser la méthode `create_image` définie dans la classe `Canvas`\n",
    "2. Remplacer les cercles par des images d'impact de balle (fichier image `tk_impact.gif` disponible sur le dépôt). _Attention, les images d'impacts sont des variables **locales** à la fonction et sont donc détruites après l'appel empêchant leur affichage : **Appeler le professeur** pour avoir une piste pour contourner cette difficulté_\n",
    "3. Le bouton `effacer` doit effacer tous les impacts de balle mais pas la cible. La méthode `find_all` définie dans la classe `Canvas` permet d'obtenir la liste de tous les objets de la zone de dessin....\n",
    "4. Ajouter un bouton permettant d'effacer l'impact du dernier tir\n",
    "5. Supprimer le bouton _go_. Les tirs seront générés soit par :\n",
    "    * un _**événement** clic de souris_. L'impact doit se trouver à l'endroit où l'utilisateur a cliqué\n",
    "    * un _**événement** appui sur une touche_. L'impact sera placé **aléatoirement** dans la zone de dessin\n",
    "    * _Il faudra utiliser la méthode `bind` appliquée à l'objet souhaité pour lier l'événement à la fonction à exécuter_\n",
    "    \n",
    "## Idées de projet (grand oral ?)\n",
    "\n",
    "... Ce TP peut servir de point de départ à de nombreux projets...\n"
   ]
  }
 ],
 "metadata": {
  "kernelspec": {
   "display_name": "Python 3",
   "language": "python",
   "name": "python3"
  },
  "language_info": {
   "codemirror_mode": {
    "name": "ipython",
    "version": 3
   },
   "file_extension": ".py",
   "mimetype": "text/x-python",
   "name": "python",
   "nbconvert_exporter": "python",
   "pygments_lexer": "ipython3",
   "version": "3.7.2"
  }
 },
 "nbformat": 4,
 "nbformat_minor": 4
}
