{
 "cells": [
  {
   "cell_type": "markdown",
   "metadata": {},
   "source": [
    "# Exercice 1 (Niveau : facile)\n",
    "\n",
    "1. Écrire une **classe** `Eleve` qui contiendra les attributs `nom`, `classe` et `note`.\n",
    "2. **Instancier** trois élèves de cette classe.\n",
    "3. Écrire une **fonction** `compare` :\n",
    "    * qui prend en **paramètres** 2 élèves \n",
    "    * qui **renvoie** le nom de l'élève ayant la meilleure note. (en cas de note identique, la fonction devra renvoyer un **tuple** contenant les noms des 2 élèves.\n",
    "    \n",
    "    \n",
    "4. Ecrire quelques appels de la fonction `compare` pour la tester.\n",
    "5. Doter la classe `Eleve` d'une **méthode** `a_la_moyenne` qui renvoie `True` si l'élève a obtenu la moyenne. Tester"
   ]
  },
  {
   "cell_type": "markdown",
   "metadata": {},
   "source": [
    "# Exercice 2.1 (Niveau : facile)\n",
    "\n",
    "1. Écrire une classe `TriangleRectangle` qui contiendra les attributs `cote1`, `cote2` et `hypothenuse`. La méthode constructeur ne prendra en paramètres que `cote1` et `cote2`, l'attribut `hypothenuse` pouvant se déduire des 2 autres côtés en utilisant le théorème de pythagore (conseil : utiliser le module `math`)\n",
    "2. Instancier un triangle de type `TriangleRectangle` et afficher les 3 attributs du triangle pour vérifier que tout fonctionne"
   ]
  },
  {
   "cell_type": "markdown",
   "metadata": {},
   "source": [
    "# Exercice 2.2 (Niveau : intermédiaire)\n",
    "\n",
    "On considère la classe `TriangleRectangle` de l'exercice précédent (si nécessaire, prendre le corrigé)\n",
    "\n",
    "1. Soient les lignes de codes suivantes. Qu'est-ce qui est incohérent dans ces lignes de code ? (on ne demande pas de les corriger) "
   ]
  },
  {
   "cell_type": "code",
   "execution_count": 2,
   "metadata": {},
   "outputs": [
    {
     "name": "stdout",
     "output_type": "stream",
     "text": [
      "3\n",
      "4\n",
      "5.0\n",
      "4\n",
      "4\n",
      "5.0\n"
     ]
    }
   ],
   "source": [
    "triangle = TriangleRectangle(3,4)\n",
    "print(triangle.cote1)\n",
    "print(triangle.cote2)\n",
    "print(triangle.hypothenuse)\n",
    "\n",
    "triangle.cote1 = 4\n",
    "print(triangle.cote1)\n",
    "print(triangle.cote2)\n",
    "print(triangle.hypothenuse)"
   ]
  },
  {
   "cell_type": "markdown",
   "metadata": {},
   "source": [
    "2. Comment peut-on \"protéger\" le code de la classe `TriangleRectangle` contre une telle utilisation ?\n",
    "\n",
    "> On veut laisser la possibilité aux utilisateurs de la classe `TriangleRectangle` de :\n",
    "* Accéder aux 3 côtés du triangle\n",
    "* Modifier `cote1` et `cote2` de manière cohérente (mais pas `hypothénuse`)\n",
    "\n",
    "3. Doter la classe des méthodes `get_cote1`, `get_cote2`, `get_hypothénuse`, `set_cote1` et `set_cote2`  \n",
    "**Remarque :** On pourra, dans un souci de factorisation du code créer une méthode \"privée\" `__calcul_hypothenuse`  \n",
    "4. Pour tester : \n",
    "    * Instancier un triangle\n",
    "    * Modifier les côtés du triangle\n",
    "    * Vérifier que le triangle reste \"cohérent\" (c'est-à-dire que le triangle est resté un triangle rectangle)\n",
    "5. Répartir les méthodes et attributs de la classe `TriangleRectangle` dans un tableau à 2 colonnes suivant selon qu'ils relèvent de l'implémentation ou de l'interface\n",
    "\n",
    "|IMPLEMENTATION|INTERFACE|\n",
    "|:-:|:-:|\n",
    "|||"
   ]
  },
  {
   "cell_type": "markdown",
   "metadata": {},
   "source": [
    "# Exercice 3 : un jeu de rôle (Niveau intermédiaire)\n",
    "\n",
    "> Dans cet exercice on se propose de mettre en place une \"boîte à outil\" (typiquement des `class`) pouvant être utilisée pour programmer un jeu de rôle. Tout se déroulera en \"mode texte\" : Il serait bien sûr plus agréable d'avoir une interface graphique mais ceci demanderait beaucoup de travail et serait largement hors programme...\n",
    "\n",
    "1. Comme souvent dans les jeux de rôles, il y a des personnages et parfois ceux-ci sont amenés à se battre... Analyser le code suivant de la boîte à outil : que fait-il ? comment fonctionne t'il ?"
   ]
  },
  {
   "cell_type": "code",
   "execution_count": 104,
   "metadata": {},
   "outputs": [],
   "source": [
    "import random\n",
    "class Personnage:\n",
    "\n",
    "    def __init__(self, points_de_vie):\n",
    "        self.vie = points_de_vie\n",
    "\n",
    "    def perd_vie(self):\n",
    "        if random.random() < 0.5:\n",
    "            nbPoint = 1\n",
    "        else:\n",
    "            nbPoint = 2\n",
    "\n",
    "        self.vie = self.vie - nbPoint\n",
    "\n",
    "def game():\n",
    "    bilbo = Personnage(20)\n",
    "    gollum = Personnage(20)\n",
    "\n",
    "    while bilbo.vie > 0 and gollum.vie > 0:\n",
    "        bilbo.perd_vie()\n",
    "        gollum.perd_vie()\n",
    "\n",
    "    if bilbo.vie <= 0 and gollum.vie > 0:\n",
    "        msg = \"Gollum est vainqueur, il lui reste encore \" + str(gollum.vie) + \" points alors que Bilbo est mort\"\n",
    "    elif gollum.vie <= 0 and bilbo.vie > 0:\n",
    "        msg = \"Bilbo est vainqueur, il lui reste encore \" + str(bilbo.vie) + \" points alors que Gollum est mort\"\n",
    "    else:\n",
    "        msg = \"Les deux combattants sont morts en même temps\"\n",
    "\n",
    "    return msg"
   ]
  },
  {
   "cell_type": "markdown",
   "metadata": {},
   "source": [
    "> La suite de cet exercice va consister à améliorer la boîte à outil pour l'instant rudimentaire. Pour cela, il faudra progresivement modifier et compléter le code précédent...\n",
    "\n",
    "## Amélioration 1 : Nommer les personnages\n",
    "\n",
    "> Pour l'instant on ne peut donner de nom au personnage !\n",
    "\n",
    "1. Créer un attribut `nom` qu’on doit donner en premier paramètre, ce qui permet de créer une instance de `Personnage` comme ceci :"
   ]
  },
  {
   "cell_type": "code",
   "execution_count": null,
   "metadata": {},
   "outputs": [],
   "source": [
    "gollum = Personnage(\"Gollum\", 20)"
   ]
  },
  {
   "cell_type": "markdown",
   "metadata": {},
   "source": [
    "2. Modifier la fonction `Game` pour qu’elle tienne compte du nom des personnages. On doit pouvoir créer d’autres personnages et les messages doivent tenir compte des noms de ceux-ci. Remarquez que la fonction `game` a changé : elle doit prendre en paramètre les personnages qui vont combattre :"
   ]
  },
  {
   "cell_type": "code",
   "execution_count": 230,
   "metadata": {},
   "outputs": [
    {
     "data": {
      "text/plain": [
       "'Frodon est vainqueur, il lui reste encore 9 points alors que Araignée est mort'"
      ]
     },
     "execution_count": 230,
     "metadata": {},
     "output_type": "execute_result"
    }
   ],
   "source": [
    "frodon = Personnage(\"Frodon\", 20)\n",
    "araignee = Personnage(\"Araignée\", 10)\n",
    "game(frodon, araignee)"
   ]
  },
  {
   "cell_type": "markdown",
   "metadata": {},
   "source": [
    "## Amélioration 2 : Afficher un journal détaillé du combat\n",
    "\n",
    "Améliorer encore la fonction `game` pour qu’elle affiche un journal détaillé du combat :"
   ]
  },
  {
   "cell_type": "code",
   "execution_count": 240,
   "metadata": {},
   "outputs": [
    {
     "name": "stdout",
     "output_type": "stream",
     "text": [
      "Aragorn perd 1 point de vie\n",
      "Orc perd 1 point de vie\n",
      "Aragorn perd 2 point de vie\n",
      "Orc perd 1 point de vie\n",
      "Aragorn perd 2 point de vie\n",
      "Orc perd 1 point de vie\n",
      "Aragorn perd 1 point de vie\n",
      "Orc perd 2 point de vie\n",
      "Aragorn perd 2 point de vie\n",
      "Orc perd 1 point de vie\n",
      "Aragorn perd 2 point de vie\n",
      "Orc perd 1 point de vie\n"
     ]
    },
    {
     "data": {
      "text/plain": [
       "'Orc est vainqueur, il lui reste encore 3 points alors que Aragorn est mort'"
      ]
     },
     "execution_count": 240,
     "metadata": {},
     "output_type": "execute_result"
    }
   ],
   "source": [
    "aragorn = Personnage(\"Aragorn\", 10)\n",
    "orc = Personnage(\"Orc\", 10)\n",
    "game(aragorn, orc)"
   ]
  },
  {
   "cell_type": "markdown",
   "metadata": {},
   "source": [
    "## Amélioration 3 : Prendre en compte l'aptitude au combat des personnages\n",
    "\n",
    "> On souhaite modéliser le fait que les personnages ont des aptitudes différentes au combat (suivant leur entraînement, leur condition physique, leur expérience, etc...). On va donc leur attribuer une nouvelle caractéristique `aptitude_combat`. On va donc créer un nouvel attribut `aptitude_combat` lors de l’instanciation du personnage. C’est un entier entre 0 et 4.  \n",
    "\n",
    "Implémentez l'aptitude au combat des personnages qui doit satisfaire les 3 points suivants :\n",
    "\n",
    "1. Il faudra pouvoir créer nos personnages ainsi :"
   ]
  },
  {
   "cell_type": "code",
   "execution_count": null,
   "metadata": {},
   "outputs": [],
   "source": [
    "aragorn = Personnage(\"Aragorn\", 30, 2)"
   ]
  },
  {
   "cell_type": "markdown",
   "metadata": {},
   "source": [
    "2. L’effet de l'aptitude au combat est le suivant : Dans la méthode `perd_vie`, on tire toujours un nombre aléatoire entre 0 et 1 :\n",
    "    * Si ce nombre multiplié par 10 dépasse l'aptitude au combat du personnage, il perd un point de vie.\n",
    "    * Sinon il ne perd pas de vie\n",
    "\n",
    "Par exemple, Aragorn a une aptitude au combat de 2 :\n",
    "* Si dans `perd_vie`, on tire 0.3 $\\Longrightarrow$ 10 * 0.3 = 3 et 3 > 2 $\\Longrightarrow$ il perd un point de vie.\n",
    "* Si dans `perd_vie`, on tire 0.12345 $\\Longrightarrow$ 10 * 0.12345 = 1.2345 et 1.2345 < 2 $\\Longrightarrow$ il ne perd pas de point de vie.\n",
    "\n",
    "Attention, si vous donnez une aptitude au combat trop élevée, le personnage ne perdra jamais de vie et la boucle de la fonction game pourrait être infinie : il suffit de donner une aptitude au combat de 10 pour qu’un personnage soit invicible !\n",
    "\n",
    "3. Créer une méthode interne `__limiter_aptitude_combat` qui empêche de créer un personnage ayant une aptitude au combat  supérieure à 4 : Si le paramètre chance est inférieure ou égale à 4, il est inchangé, S’il dépasse 4, il est ramené à 4.  Cette méthode interne ne sera pas appelée par les éléments extérieurs au programme, seulement par le programme lui même : On utilise cette méthode interne dans __init__, il faut penser à l’appeler.\n",
    "\n",
    "## Amélioration libre\n",
    "\n",
    "Implémentez une nouvelle amélioration pour ce jeu. Vous êtes libre de choisir ce que vous voulez implémenter. Voici à titre d'exemples quelques idées (sans obligation) :\n",
    "\n",
    "On pourrait par exemple créer une nouvelle classe `Combat` qui prendrait en paramètres deux personnages. Un combat se déroulerait par tours et à chaque tour les personnages pourraient prendre des initiatives comme : \n",
    "* `frapper` qui dépendrait de la chance et d’un attribut `force` à définir : `frapper` pourrait renvoyer un nombre aléatoire entre 1 et `force`, par exemple. Et c’est ce nombre qui définirait le nombre de points perdus par le personnage…\n",
    "* `se_rendre` qui donnerait le choix à un des combattants d'abandonner le combat. On pourrait imaginer un attribut `statut` pour les personnages indiquant si celui-ci est libre ou fait prisonnier"
   ]
  },
  {
   "cell_type": "markdown",
   "metadata": {},
   "source": [
    "# Exercice 4 (Niveau : facile)\n",
    "\n",
    "**Attention :** Pour toutes les méthodes et fonctions de ce cours, on demande d'écrire leur documentation. On pourra se servir de ce modèle à adapter et à compléter pour la docstring (voir cours de première)"
   ]
  },
  {
   "cell_type": "code",
   "execution_count": null,
   "metadata": {},
   "outputs": [],
   "source": [
    "# Exemple de docstring pour une fonction à 2 paramètres\n",
    "def nom_de_la_fonction(parametre1,parametre2):\n",
    "    \"\"\"\n",
    "    Description de la fonction : \n",
    "    parametre1 (type) : \n",
    "    parametre2 (type) :\n",
    "    return (type) :\n",
    "    \"\"\"\n",
    "    # code de la fonction"
   ]
  },
  {
   "cell_type": "markdown",
   "metadata": {},
   "source": [
    "1. Créer une classe `Point` permettant de modéliser un point de coordonnées (x,y) dans un repère orthonormé du plan. Chaque point aura 2 attributs (son abscisse `x` et son ordonnée `y`)\n",
    "![point](img/point.png)\n",
    "2. Doter la classe d'une méthode `distance` permettant de renvoer la distance entre le point et l'origine du repère. On rappelle que $distance=\\sqrt{x^2+y^2}$\n",
    "3. Doter la classe de la méthode spéciale `__repr__` permettant d'afficher ou de représenter un point comme ceci `(x,y)` où `x` et `y` représente les coordonnées du point\n",
    "4. Instancier ces 4 points et calculer leur distance à l'origine :\n",
    "    * A(-2,5)\n",
    "    * B(5,5)\n",
    "    * C(-2,-2)\n",
    "    * D(5,-2)\n",
    "\n",
    "5. Ecrire une **fonction** `longueur_segment` qui :\n",
    "    * prend 2 points en paramètres\n",
    "    * renvoie la distance entre ces 2 points. On rappelle que $distAB=\\sqrt{(x_A-x_B)^2+(y_A-y_B)^2}$\n",
    "6. Calculer la distance des segments `[A,B]` et `[C,D]`"
   ]
  },
  {
   "cell_type": "markdown",
   "metadata": {},
   "source": [
    "# Exercice 5 (Niveau intermédiaire)\n",
    "\n",
    "L'objectif de cet exercice est de définir une classe `Fraction` pour représenter un nombre rationnel. Cette classe possède 2 attributs, `num` et `denom`, qui sont de type entier et désignent respectivement le numérateur et le dénominateur. On se limitera au cas où le dénominateur est un entier strictement positif. \n",
    "\n",
    "## Première partie\n",
    "\n",
    "> Dans cette partie, on ne cherche pas à exprimer les fractions sous leur [forme irréductible](https://fr.wikipedia.org/wiki/Fraction_irr%C3%A9ductible)\n",
    "\n",
    "1. Ecrire le constructeur de cette classe\n",
    "2. Ajouter la méthode spéciale `__repr__` qui renvoie une chaîne de caractères de la forme `12 / 35`, ou simplement `12` lorsque le dénominateur vaut un.\n",
    "3. Ajouter les 2 méthodes spéciales `__eq__` et `__lt__` qui reçoivent en paramètre une deuxième fraction. Ces méthodes spéciales permettent de définir respectivement les opérateurs de comparaison `==` et `<` pour des objets de type `Fraction`.\n",
    "4. Ajouter les 2 méthodes spéciales `__add__` et `__mul__` qui reçoivent en paramètre une deuxième fraction. Ces méthodes spéciales permettent de définir respectivement les opérateurs arithmétiques _somme_ et _multiplication_ pour des objets de type `Fraction`.\n",
    "5. Instancier quelques objet de type `Fraction` et tester toutes ces méthodes\n",
    "\n",
    "\n",
    "## Deuxième partie\n",
    "\n",
    "> Dans cette partie, on souhaite améliorer l'implémentation précédente de `Fraction` afin d'exprimer **toutes** les fractions sous leur [forme irréductible](https://fr.wikipedia.org/wiki/Fraction_irr%C3%A9ductible)\n",
    "\n",
    "1. Ecrire une fonction `pgcd` qui :\n",
    "    * prend en paramètres nombres entiers\n",
    "    * renvoie le [PGCD](https://fr.wikipedia.org/wiki/Plus_grand_commun_diviseur) de ces 2 entiers\n",
    "\n",
    "_Indice : On pourra utiliser un algorithme récursif : [L'algorithme d'Euclide](https://fr.wikipedia.org/wiki/Algorithme_d%27Euclide)_\n",
    "    \n",
    "> Cette fonction sera bien évidemment utile pour atteindre l'objectif de cette deuxième partie...    \n",
    "\n",
    "2. Modifier l'implémentation écrite en première partie afin d'exprimer toutes les fractions sous leur [forme irréductible](https://fr.wikipedia.org/wiki/Fraction_irr%C3%A9ductible). _Conseil : Avant de vous lancer dans le code, identifier dans l'implémentation précédente ce qui doit-être modifié de ce qui peut être conservé_"
   ]
  }
 ],
 "metadata": {
  "kernelspec": {
   "display_name": "Python 3",
   "language": "python",
   "name": "python3"
  },
  "language_info": {
   "codemirror_mode": {
    "name": "ipython",
    "version": 3
   },
   "file_extension": ".py",
   "mimetype": "text/x-python",
   "name": "python",
   "nbconvert_exporter": "python",
   "pygments_lexer": "ipython3",
   "version": "3.7.2"
  }
 },
 "nbformat": 4,
 "nbformat_minor": 4
}
