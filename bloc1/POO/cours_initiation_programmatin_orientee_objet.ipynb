{
 "cells": [
  {
   "cell_type": "markdown",
   "metadata": {},
   "source": [
    "# Programmation orientée objet\n",
    "\n",
    "## Introduction\n",
    "\n",
    "La programmation orientée objet (notée **POO** dans ce cours) a vu le jour dans les années 1980/1990. Ce n'est pas un nouveau langage de programmation mais un nouveau [**paradigme de programmation**](https://fr.wikipedia.org/wiki/Paradigme_(programmation)). Ce paradigme a connu un grand succès à tel point que la plupart des langages informatiques actuellement utilisés sont des langages orientés objets comme python (Voir [classement](https://www.tiobe.com/tiobe-index/)).\n",
    "\n",
    "### Un nouveau paradigme\n",
    "\n",
    "Un [**paradigme de programmation**](https://fr.wikipedia.org/wiki/Paradigme_(programmation)) est une façon d'aborder la programmation informatique. C'est \"la vue\" qu'ont les développeurs informatiques de leur programme\n",
    "\n",
    "Pour l'instant vous connaissez la  :\n",
    "* La [programmation impérative](https://fr.wikipedia.org/wiki/Programmation_imp%C3%A9rative) : On considère un programme comme une séquence d'instructions. Les instructions élémentaires sont l'affectation, les conditions, les boucles. C'est le paradigme \"élémentaire\" et \"naturel\" et aussi celui utilisé par les processeurs.\n",
    "* La [programmation procédurale](https://fr.wikipedia.org/wiki/Programmation_proc%C3%A9durale) : programmation impérative + notions de fonctions. On considère un programme, appelé programme principal, comme un programme qui appelle des \"sous-programmes\" (les fonctions)\n",
    "\n",
    "En [programmation orientée objet](https://fr.wikipedia.org/wiki/Programmation_orient%C3%A9e_objet), on considère le programme comme une interaction entre ce qu'on va appeler des **objets**\n",
    "\n",
    "A noter que souvent les langages informatiques modernes sont multi-paradigmes comme [python](https://fr.wikipedia.org/wiki/Python_(langage)))\n",
    "\n",
    "Pour l'instant vous avez \"entrevu\" la notion d'orienté objet, notamment au travers de la **notation pointée** ou de la fonction `type`. En python, tout est objet..."
   ]
  },
  {
   "cell_type": "code",
   "execution_count": 6,
   "metadata": {},
   "outputs": [
    {
     "name": "stdout",
     "output_type": "stream",
     "text": [
      "[1, 7, 5, 9]\n",
      "<class 'list'>\n",
      "[1, 7, 5, 9, 3]\n"
     ]
    }
   ],
   "source": [
    "ma_liste = [1,7,5,9]\n",
    "print(ma_liste)\n",
    "print(type(ma_liste)) # Vous apprendrez que ma_liste est un OBJET INSTANCE de la CLASSE list\n",
    "\n",
    "\n",
    "ma_liste.append(3) # Vous apprendrez que append est une METHODE de la classe list\n",
    "print(ma_liste)"
   ]
  },
  {
   "cell_type": "markdown",
   "metadata": {},
   "source": [
    "|PROGRAMMATION PROCEDURALE|PROGRAMMATION ORIENTEE OBJET|\n",
    "|:-:|:-:|\n",
    "|![programmation procédurale](img/programmation_procedurale.png)|![POO](img/POO.png)|\n",
    "|En programmation procédurale, on se focalise sur la démarche pour résoudre le problème (et donc les instructions). Les données du problème sont des variables globales au programme| En POO, on se focalise sur les objets : qui sont-ils et comment interagissent-ils entre eux ? Les données du problème sont réparties dans les différents objets. De même les fonctions traitant ces données sont réparties dans les différents objets|\n",
    "\n",
    "*Sources des images : https://waytolearnx.com/2018/09/difference-entre-programmation-procedurale-et-orientee-objet.html*\n",
    "\n",
    "\n",
    "La programmation procédurale a quelques inconvénients : \n",
    "* Les données sont comme éparpillées dans le programme. L'utilisation de variables globales sont souvent source de problèmes lors du développement du code...\n",
    "* La modification du code est difficle lorsque le programme commence à être long\n",
    "\n",
    "La POO répond à ces inconvénients : le programme est mieux organisé et donc plus facilement modifiable. Dans ce paradigme, on pourrait dire que le programme est d'abord centré sur les données manipulées, regroupées au sein d'objets...\n",
    "\n",
    "## Notion d'objet\n",
    "\n",
    "_Bonne nouvelle : le concept d'objet en informatique correspond bien au concept d'objet dans la vie courante..._  \n",
    "\n",
    "Cependant, les objets ne sont pas uniquement des choses matérielles (une date, un animal, un individu peuvent être des objets au sens informatique du terme)\n",
    "\n",
    "**Activité :** à partir d'objets du monde réel, introduire les notions d'identité, de caractéristiques propres à l'objet et de comportement de l'objet\n",
    "\n",
    "Prenons par exemple : une voiture, une bougie mais aussi un compte bancaire, un personnage de jeu vidéo, un joueur etc...\n",
    "\n",
    "Un objet possède :\n",
    "* une **identité** propre : un espace mémoire spécifique est réservé à chaque objet. Chaque objet est donc différent même s'il a des caractéristiques identiques à un autre objet.\n",
    "* des **attributs** : les caractéristiques de l'objet. Les attributs sont des données du programme\n",
    "* des **méthodes** : le comportement de l'objet. Les méthodes sont des fonctions définiées **dans** l'objet et pouvant manipuler les attributs\n",
    "\n",
    "\n",
    "## Notion de classe\n",
    "\n",
    "**Activité :** à partir d'exemples du monde réel, comprendre que les classes sont l'\"archétype\" ou le modèle des objets.\n",
    "\n",
    "Une classe est une \"usine\" à construire des objets selon un modèle bien défini.  \n",
    "\n",
    "La classe permet de définir :\n",
    "* Les caractéristiques (attributs) que possèdent **TOUS** les objets de cette classe\n",
    "* Le comportement (méthode) que peuvent avoir **TOUS** les objets\n",
    "\n",
    "Tous les objets créés à partir de cette classe auront les mêmes attributs et les mêmes comportements (mais pas les mêmes valeurs sur leurs attributs). Dit autrement, tous les objets sont construits sur le même modèle mais ne sont pas tous identiques. On dit que les objets sont **instance** de la classe dont ils dépendent.\n",
    "\n",
    "## Syntaxe\n",
    "\n",
    "\n",
    "* Le mot-clé `class` permet de créer un bloc (indenté !) contenant le code définissant une nouvelle classe\n",
    "* La méthode `__init__` est appelée (injustement) **constructeur de classe** :\n",
    "    * Cette méthode permet de définir les attributs de l'objet et leurs valeurs à la création de l'objet\n",
    "    * On passe en paramètres eventuels à la méthode `__init__` des valeurs nécessaires à la création de l'objet\n",
    "* Le paramètre `self` représente un objet instance de la classe. Il doit obligatoirement être le **PREMIER paramètre** dans les parenthèses !\n",
    "\n",
    "Par convention, le nom de la classe doit toujours commencer par une majuscule !\n",
    "\n",
    "### Code python pour créer une classe"
   ]
  },
  {
   "cell_type": "code",
   "execution_count": null,
   "metadata": {},
   "outputs": [],
   "source": [
    "class Nom_classe :\n",
    "    def __init__(self, parametres_eventuels):\n",
    "        self.attribut1 = valeur1\n",
    "        self.attribut2 = valeur2\n",
    "    \n",
    "    def nom_methode1(self, parametres_eventuels) :\n",
    "        # code python de la methode1\n",
    "    \n",
    "    def nom_methode2(self) :\n",
    "        # code python de la methode2\n",
    "    \n",
    "    # On peut ajouter autant de méthodes que nécessaire..."
   ]
  },
  {
   "cell_type": "markdown",
   "metadata": {},
   "source": [
    "### Code python pour manipuler un objet"
   ]
  },
  {
   "cell_type": "code",
   "execution_count": null,
   "metadata": {},
   "outputs": [],
   "source": [
    "# CREATION DES OBJETS. Ici on a créé 2 instances de notre classe\n",
    "\n",
    "mon_objet = Nom_classe(parametres_eventuels)\n",
    "un_autre_objet = Nom_classe(parametres_eventuels)\n",
    "\n",
    "# MANIPULATION DES OBJETS\n",
    "\n",
    "# Accès aux attributs\n",
    "mon_objet.attribut1\n",
    "\n",
    "# Utilisations des méthodes\n",
    "mon_objet.nom_methode1(parametres_eventuels)\n",
    "mon_objet.nom_methode2()"
   ]
  },
  {
   "cell_type": "markdown",
   "metadata": {},
   "source": [
    "**Remarque :** Les méthodes ont toujours des parenthèses (normal : ce sont des fonctions !)\n",
    "\n",
    "## Exemple\n",
    "\n",
    "### Activité\n",
    "\n",
    "On veut manipuler des objets représentants des **comptes bancaires**. On suppose que, pour les besoins de notre programme, les comptes bancaires doivent avoir posséder :\n",
    "* un solde\n",
    "* un titulaire\n",
    "* un numero de compte.\n",
    "\n",
    "D'autre part, il doit être possible d'y déposer et de retirer de l'argent.\n",
    "\n",
    "### solution : code python\n",
    "\n",
    "#### création de la classe"
   ]
  },
  {
   "cell_type": "code",
   "execution_count": 1,
   "metadata": {},
   "outputs": [],
   "source": [
    "class CompteBancaire :\n",
    "    def __init__(self, numero, titulaire):\n",
    "        self.numero = numero\n",
    "        self.titulaire = titulaire\n",
    "        self.solde = 0\n",
    "    \n",
    "    def deposer_argent(self, montant) :\n",
    "        self.solde = self.solde + montant\n",
    "        \n",
    "    def retirer_argent(self, montant) :\n",
    "        self.solde = self.solde - montant"
   ]
  },
  {
   "cell_type": "markdown",
   "metadata": {},
   "source": [
    "#### instanciation d'un objet"
   ]
  },
  {
   "cell_type": "code",
   "execution_count": null,
   "metadata": {},
   "outputs": [],
   "source": [
    "un_compte = CompteBancaire (12345, \"Alice\")"
   ]
  },
  {
   "cell_type": "markdown",
   "metadata": {},
   "source": [
    "#### manipulation de l'objet\n",
    "\n",
    "* Accès aux attributs "
   ]
  },
  {
   "cell_type": "code",
   "execution_count": 4,
   "metadata": {},
   "outputs": [
    {
     "data": {
      "text/plain": [
       "12345"
      ]
     },
     "execution_count": 4,
     "metadata": {},
     "output_type": "execute_result"
    }
   ],
   "source": [
    "un_compte.numero"
   ]
  },
  {
   "cell_type": "code",
   "execution_count": 5,
   "metadata": {},
   "outputs": [
    {
     "data": {
      "text/plain": [
       "'Alice'"
      ]
     },
     "execution_count": 5,
     "metadata": {},
     "output_type": "execute_result"
    }
   ],
   "source": [
    "un_compte.titulaire"
   ]
  },
  {
   "cell_type": "code",
   "execution_count": 6,
   "metadata": {},
   "outputs": [
    {
     "data": {
      "text/plain": [
       "80"
      ]
     },
     "execution_count": 6,
     "metadata": {},
     "output_type": "execute_result"
    }
   ],
   "source": [
    "un_compte.solde"
   ]
  },
  {
   "cell_type": "markdown",
   "metadata": {},
   "source": [
    "* Utilisation des méthodes"
   ]
  },
  {
   "cell_type": "code",
   "execution_count": 3,
   "metadata": {},
   "outputs": [
    {
     "name": "stdout",
     "output_type": "stream",
     "text": [
      "80\n"
     ]
    }
   ],
   "source": [
    "un_compte.deposer_argent(100)\n",
    "un_compte.retirer_argent(20)\n",
    "\n",
    "print(un_compte.solde)"
   ]
  },
  {
   "cell_type": "markdown",
   "metadata": {},
   "source": [
    "## A retenir\n",
    "\n",
    "> Conformément au programme de terminale, voilà selon moi, les notions à **maîtriser parfaitement**\n",
    "\n",
    "* objet\n",
    "* classe\n",
    "* attribut\n",
    "* methode\n",
    "* instance\n",
    "* syntaxe de base pour créer de nouvelles classe et manipuler des objets\n",
    "\n",
    "\n",
    "## Limitations de la POO dans le programme de terminale\n",
    "\n",
    "Conformément au programme, ce cours est une introduction à la POO. Il vous est seulement demandé de comprendre les notions d'objet, de classe, de méthode et d'attribut. Malheureusement, cette limitation ne permet pas de bien comprendre tout l'intérêt et la puissance de la POO. En effet, au delà de ces notions au programme, la POO s'appuie sur 4 piliers :\n",
    "\n",
    "* L'**encapsulation** : La structure de l'objet est cachée et propose plutôt des méhodes pour manipuler les propriétés de cet objet. De cette manière on peut s'assurer de la manière dont seront traitées ces propriétés.\n",
    "* L'**aggrégat** : Le fait qu'un objet peut contenir d'autres objets \n",
    "* L'**héritage** : Mécanisme qui permet aux classes \"filles\" d'utiliser les caractéristiques d'une classe \"parent\"\n",
    "* Le **polymorphisme** : Possibilité d'utiliser le même code informatique pour des types informatiques différents\n",
    "\n",
    "Parmi ces 4 piliers, on abordera l'encapsulation et un peu l'aggrégat (d'après la \"philosophie\" du programme). Pour le reste, cela sera abordé en projet (...peut-être, c'est pas sûr, éventuellement, pourquoi pas, si le projet s'y prête...)"
   ]
  }
 ],
 "metadata": {
  "kernelspec": {
   "display_name": "Python 3",
   "language": "python",
   "name": "python3"
  },
  "language_info": {
   "codemirror_mode": {
    "name": "ipython",
    "version": 3
   },
   "file_extension": ".py",
   "mimetype": "text/x-python",
   "name": "python",
   "nbconvert_exporter": "python",
   "pygments_lexer": "ipython3",
   "version": "3.7.2"
  }
 },
 "nbformat": 4,
 "nbformat_minor": 4
}
