{
 "cells": [
  {
   "cell_type": "markdown",
   "metadata": {},
   "source": [
    "# Programmation orientée objet\n",
    "\n",
    "## Introduction\n",
    "\n",
    "La programmation orientée objet (notée **POO** dans ce cours) a vu le jour dans les années 1980/1990. Ce n'est pas un nouveau langage de programmation mais un nouveau [**paradigme de programmation**](https://fr.wikipedia.org/wiki/Paradigme_(programmation)). Ce paradigme a connu un grand succès à tel point que la plupart des langages informatiques actuellement utilisés sont des langages orientés objets comme python (Voir [classement](https://www.tiobe.com/tiobe-index/)).\n",
    "\n",
    "### Un nouveau paradigme\n",
    "\n",
    "Un [**paradigme de programmation**](https://fr.wikipedia.org/wiki/Paradigme_(programmation)) est une façon d'aborder la programmation informatique. C'est \"la vue\" qu'ont les développeurs informatiques de leur programme\n",
    "\n",
    "Pour l'instant vous connaissez la  :\n",
    "* La [programmation impérative](https://fr.wikipedia.org/wiki/Programmation_imp%C3%A9rative) : On considère un programme comme une séquence d'instructions. Les instructions élémentaires sont l'affectation, les conditions, les boucles. C'est le paradigme \"élémentaire\" et \"naturel\" et aussi celui utilisé par les processeurs.\n",
    "* La [programmation procédurale](https://fr.wikipedia.org/wiki/Programmation_proc%C3%A9durale) : programmation impérative + notions de fonctions. On considère un programme, appelé programme principal, comme un programme qui appelle des \"sous-programmes\" (les fonctions)\n",
    "\n",
    "En [programmation orientée objet](https://fr.wikipedia.org/wiki/Programmation_orient%C3%A9e_objet), on considère le programme comme une interaction entre ce qu'on va appeler des **objets**\n",
    "\n",
    "A noter que souvent les langages informatiques modernes sont multi-paradigmes comme [python](https://fr.wikipedia.org/wiki/Python_(langage)))\n",
    "\n",
    "Pour l'instant vous avez \"entrevu\" la notion d'orienté objet, notamment au travers de la **notation pointée** ou de la fonction `type`. En python, tout est objet..."
   ]
  },
  {
   "cell_type": "code",
   "execution_count": 6,
   "metadata": {},
   "outputs": [
    {
     "name": "stdout",
     "output_type": "stream",
     "text": [
      "[1, 7, 5, 9]\n",
      "<class 'list'>\n",
      "[1, 7, 5, 9, 3]\n"
     ]
    }
   ],
   "source": [
    "ma_liste = [1,7,5,9]\n",
    "print(ma_liste)\n",
    "print(type(ma_liste)) # Vous apprendrez que ma_liste est un OBJET INSTANCE de la CLASSE list\n",
    "\n",
    "\n",
    "ma_liste.append(3) # Vous apprendrez que append est une METHODE de la classe list\n",
    "print(ma_liste)"
   ]
  },
  {
   "cell_type": "markdown",
   "metadata": {},
   "source": [
    "|PROGRAMMATION PROCEDURALE|PROGRAMMATION ORIENTEE OBJET|\n",
    "|:-:|:-:|\n",
    "|![programmation procédurale](img/programmation_procedurale.png)|![POO](img/POO.png)|\n",
    "|En programmation procédurale, on se focalise sur la méthode (et donc les instructions) pour résoudre le problème. Les données du problème sont des variables globales au programme| En POO, on se focalise sur les objets : qui sont-ils et comment interagissent-ils entre eux ? Les données du problème sont réparties dans les différents objets. De même les fonctions traitant ces données sont réparties dans les différents objets|\n",
    "\n",
    "*Sources des images : https://waytolearnx.com/2018/09/difference-entre-programmation-procedurale-et-orientee-objet.html*\n",
    "\n",
    "\n",
    "La programmation procédurale a quelques inconvénients : \n",
    "* Les données sont comme éparpillées dans le programme. L'utilisation de variables globales sont souvent source de problèmes lors du développement du code...\n",
    "* La modification du code est difficle lorsque le programme commence à être long\n",
    "\n",
    "La POO répond à ces inconvénients : le programme est mieux organisé et donc plus facilement modifiable. Dans ce paradigme, on pourrait dire que le programme est d'abord centré sur les données manipulées, regroupées au sein d'objets...\n",
    "\n",
    "### Limitations de ce cours\n",
    "\n",
    "Conformément au programme, ce cours est une introduction à la POO. Il vous est seulement demandé de comprendre les notions d'objet, de classe, de méthode et d'attribut. Malheureusement, cette limitation ne permet pas de bien comprendre tout l'intérêt et la puissance de la POO. En effet, au delà de ces notions au programme, la POO s'appuie sur 4 piliers :\n",
    "\n",
    "* L'**encapsulation** : La structure de l'objet est cachée et propose plutôt des méhodes pour manipuler les propriétés de cet objet. De cette manière on peut s'assurer de la manière dont seront traitées ces propriétés.\n",
    "* L'**aggrégat** : Le fait qu'un objet peut contenir d'autres objets \n",
    "* L'**héritage** : Mécanisme qui permet aux classes \"filles\" d'utiliser les caractéristiques d'une classe \"parent\"\n",
    "* Le **polymorphisme** : Possibilité d'utiliser le même code informatique pour des types informatiques différents\n",
    "\n",
    "Parmi ces 4 piliers, on abordera l'encapsulation et un peu l'aggrégat (d'après la \"philosophie\" du programme). Pour le reste, cela sera abordé en projet (...peut-être, c'est pas sûr, éventuellement, pourquoi pas, si le projet s'y prête...)\n",
    "\n",
    "\n",
    "## Notion d'objet\n",
    "\n",
    "_Bonne nouvelle : le concept d'objet en informatique correspond bien au concept d'objet dans la vie courante..._  \n",
    "\n",
    "Cependant, les objets ne sont pas uniquement des choses matérielles (une date, un animal, un individu peuvent être des objets au sens informatique du terme)\n",
    "\n",
    "**Activité :** à partir d'objets du monde réel, introduire les notions d'identité, de caractéristiques propres à l'objet, d'actions et de comportement de l'objet\n",
    "\n",
    "Prenons par exemple : une voiture, une bougie mais aussi un compte bancaire, un personnage de jeu vidéo, un joueur etc...\n",
    "\n",
    "Un objet possède :\n",
    "* une **identité** propre : un espace mémoire spécifique est réservé à chaque objet\n",
    "* des **attributs** : les caractéristiques de l'objet. Les attributs sont des données du programme\n",
    "* des **méthodes** : le comportement de l'objet. Les méthodes sont des fonctions définiées **dans** l'objet et pouvant manipuler les attributs\n",
    "\n",
    "\n",
    "## Notion de classe\n",
    "\n",
    "**Activité :** à partir d'exemples du monde réel, comprendre que les classes sont l'\"archétype\" ou le modèle des objets.\n",
    "\n",
    "La classe permet de définir :\n",
    "* Les caractéristiques (attributs) que possèdent **TOUS** les objets de cette classe\n",
    "* Le comportement (méthode) que peuvent avoir **TOUS** les objets"
   ]
  }
 ],
 "metadata": {
  "kernelspec": {
   "display_name": "Python 3",
   "language": "python",
   "name": "python3"
  },
  "language_info": {
   "codemirror_mode": {
    "name": "ipython",
    "version": 3
   },
   "file_extension": ".py",
   "mimetype": "text/x-python",
   "name": "python",
   "nbconvert_exporter": "python",
   "pygments_lexer": "ipython3",
   "version": "3.7.2"
  }
 },
 "nbformat": 4,
 "nbformat_minor": 4
}
