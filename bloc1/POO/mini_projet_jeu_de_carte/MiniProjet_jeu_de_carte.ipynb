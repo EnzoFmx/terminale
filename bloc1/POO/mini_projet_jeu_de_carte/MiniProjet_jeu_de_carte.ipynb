{
 "cells": [
  {
   "cell_type": "markdown",
   "metadata": {},
   "source": [
    "# Critères de notation\n",
    "    * Lisibilité du code\n",
    "    * Avancement\n",
    "    * Autonomie\n",
    "    * \n",
    "    \n",
    "# Progression\n",
    "\n",
    "1. Se limiter à un jeu de 52 cartes\n",
    "2. \"Protéger les attributs ou méthodes sensibles\"\n",
    "2. Modifier le code pour traiter des jeux de 52 ou 32 cartes\n",
    "3. Assertion"
   ]
  }
 ],
 "metadata": {
  "kernelspec": {
   "display_name": "Python 3",
   "language": "python",
   "name": "python3"
  },
  "language_info": {
   "codemirror_mode": {
    "name": "ipython",
    "version": 3
   },
   "file_extension": ".py",
   "mimetype": "text/x-python",
   "name": "python",
   "nbconvert_exporter": "python",
   "pygments_lexer": "ipython3",
   "version": "3.7.2"
  }
 },
 "nbformat": 4,
 "nbformat_minor": 4
}
