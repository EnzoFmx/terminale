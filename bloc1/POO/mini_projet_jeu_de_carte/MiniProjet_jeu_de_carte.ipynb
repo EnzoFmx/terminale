{
 "cells": [
  {
   "cell_type": "markdown",
   "metadata": {},
   "source": [
    "# Implémenter un jeu de carte en POO\n",
    "\n",
    "L'objectif est de définir des classes permettant par la suite de programmer n'importe quel jeu de carte. Ces classes doivent donc permettre de **mettre à disposition des actions classiques lorsqu'on manipule un jeu de carte** (mélanger un paquet, distribuer une carte, comparer 2 cartes entre elles pour savoir qui est la meilleure, etc...)\n",
    "\n",
    "![jeu](img/jeu.jpg)\n",
    "\n",
    "Le code se réparti dans 3 fichiers :\n",
    "* `carte.py` : Modélisation d'une carte\n",
    "* `jeuDeCarte.py` : Modélisation d'un jeu de 32 ou 52 cartes\n",
    "* `joueur.py` : Modélisation d'un joueur.\n",
    "\n",
    "On pourrait ajouter un 4ème fichier modélisant les règles et les besoins d'un jeu particulier (bataille, poker, bridge, etc...) \n",
    "\n",
    "# Explications sur le code\n",
    "\n",
    "## `carte.py`\n",
    "\n",
    "0n utilise 3 **[attributs de classes](https://openclassrooms.com/fr/courses/235344-apprenez-a-programmer-en-python/232721-apprehendez-les-classes)** `couleurs`, `noms` et `valeurs`:\n",
    "```python\n",
    "couleurs = ('Coeur', 'Carreau', 'Trèfle', 'Pique')\n",
    "noms = ('2', '3', '4', '5', '6', '7', '8', '9', '10', 'Valet', 'Dame', 'Roi', 'As')\n",
    "valeurs = {'2': 2, '3': 3, '4': 4, '5': 5, '6': 6, '7': 7, '8': 8, '9': 9, '10': 10, 'Valet': 11, 'Dame': 12, 'Roi': 13, 'As': 14}\n",
    "```\n",
    "\n",
    "`valeurs` est un dictionnaire permettant d'associer une valeur à chaque carte. Ceci permettra de comparer les cartes entre elles ([méthodes spéciales](https://openclassrooms.com/fr/courses/235344-apprenez-a-programmer-en-python/233046-appliquez-des-methodes-speciales) `__eq__`, `__lt__` et `__gt__`)\n",
    "\n",
    "* Des attributs de classe permettent de définir des **attributs dont les valeurs sont LES MEMES pour tous les objets instances de classe**.\n",
    "* On accède à des attributs de classe directement par un objet ou par la classe :\n",
    "\n",
    "```python\n",
    "une_carte =  Carte(\"Roi\", \"Trèfle\") # une_carte est une instance de la classe Carte\n",
    "\n",
    "# Accès à l'attribut de classe couleurs : \n",
    "une_carte.couleurs # en utilisant un objet (une_carte)\n",
    "Carte.couleurs # en utilisant directement la classe (Carte)\n",
    "```\n",
    "### Constructeur de Carte `__init__`\n",
    "\n",
    "Une carte possède 3 attributs :\n",
    "\n",
    "* `nom` \n",
    "* `couleur`  \n",
    "* `valeur` : entier compris entre 2 et 14 suivant la valeur de la carte (pour un jeu de 52 cartes). On utilisera bien sûr le dictionnaire `valeurs` pour déterminer la valeur d'une carte.\n",
    "\n",
    "**Exemple d'instanciation d'une carte :**"
   ]
  },
  {
   "cell_type": "code",
   "execution_count": 2,
   "metadata": {},
   "outputs": [
    {
     "name": "stdout",
     "output_type": "stream",
     "text": [
      "Roi\n",
      "Trèfle\n",
      "13\n"
     ]
    }
   ],
   "source": [
    "une_carte =  Carte(\"Roi\", \"Trèfle\")\n",
    "print(une_carte.nom)\n",
    "print(une_carte.couleur)\n",
    "print(une_carte.valeur)"
   ]
  },
  {
   "cell_type": "markdown",
   "metadata": {},
   "source": [
    "### Méthodes spéciales\n",
    "\n",
    "* Les méthodes `__eq__`, `__lt__` et `__gt__` permettent de comparer 2 cartes en donnant respectivement du sens aux opérateurs `==`, `<` et `>`\n",
    "* La méthode `__repr__` permet de représenter ou d'afficher \"proprement\" une carte. On souhaite le résultat suivant :"
   ]
  },
  {
   "cell_type": "code",
   "execution_count": 1,
   "metadata": {},
   "outputs": [
    {
     "name": "stdout",
     "output_type": "stream",
     "text": [
      "Roi de Trèfle\n"
     ]
    }
   ],
   "source": [
    "une_carte =  Carte(\"Roi\", \"Trèfle\")\n",
    "print(une_carte)"
   ]
  },
  {
   "cell_type": "markdown",
   "metadata": {},
   "source": [
    "## `jeuDeCarte.py`\n",
    "\n",
    "### Constructeur de JeuDeCarte `__init__`\n",
    "\n",
    "Un jeu de carte possède 2 attributs :\n",
    "* `nb` : nombre de cartes du jeu (32 ou 52)\n",
    "* `paquet` : liste de cartes (notion d'**agrégation de classes**). Un jeu de carte est un objet composé d'autres objets (des objets Carte). `paquet` est donc une liste d'éléments de type `Carte`\n",
    "\n",
    "L'attribut `paquet` est créé par la méthode `creerPaquet`. Cette méthode doit :\n",
    "1. créer une liste `paquet `initialement vide\n",
    "2. instancier un carte\n",
    "3. l'ajouter au paquet (méthode `append`)\n",
    "4. recommencer pour les 32 ou 52 cartes du jeu\n",
    "5. renvoyer la liste `paquet` \n",
    "\n",
    "### Méthode `melangerPaquet`\n",
    "\n",
    "Cette méthode doit permettre de mélanger un paquet.  _Conseil : Il existe dans le module `random` une fonction permettant de mélanger de manière aléatoire les éléments d'une liste. A vous de la trouver_\n",
    "\n",
    "### Méthode `distribuerCarte`\n",
    "Cette méthode distribue renvoie la dernière carte du paquet. Bien sûr le paquet est modifié puiqu'une carte a été retirée. On a donc un **effet de bord**  !! _Conseil : il existe une méthode de `list` permettant de faire cela très facilement. A vous de la trouver_\n",
    "\n",
    "### Méthode `distribuerCartes`\n",
    "Bien lire la documentation fournie (docstring) pour comprendre ce qui est attendue par cette méthode !\n",
    "\n",
    "\n",
    "### Méthodes spéciales\n",
    "\n",
    "* `__repr__` : permet de représenter ou d'afficher \"proprement\" un jeu de carte. On souhaite le résultat suivant :"
   ]
  },
  {
   "cell_type": "code",
   "execution_count": 4,
   "metadata": {},
   "outputs": [
    {
     "name": "stdout",
     "output_type": "stream",
     "text": [
      "[7 de Coeur, 8 de Coeur, 9 de Coeur, 10 de Coeur, Valet de Coeur, Dame de Coeur, Roi de Coeur, As de Coeur, 7 de Carreau, 8 de Carreau, 9 de Carreau, 10 de Carreau, Valet de Carreau, Dame de Carreau, Roi de Carreau, As de Carreau, 7 de Trèfle, 8 de Trèfle, 9 de Trèfle, 10 de Trèfle, Valet de Trèfle, Dame de Trèfle, Roi de Trèfle, As de Trèfle, 7 de Pique, 8 de Pique, 9 de Pique, 10 de Pique, Valet de Pique, Dame de Pique, Roi de Pique, As de Pique]\n"
     ]
    }
   ],
   "source": [
    "paquet = JeuDeCarte(32) \n",
    "print(paquet)"
   ]
  },
  {
   "cell_type": "markdown",
   "metadata": {},
   "source": [
    "* `__len__` : renvoie le nombre de cartes dans le paquet. Exemple :"
   ]
  },
  {
   "cell_type": "code",
   "execution_count": 5,
   "metadata": {},
   "outputs": [
    {
     "name": "stdout",
     "output_type": "stream",
     "text": [
      "26\n"
     ]
    }
   ],
   "source": [
    "paquet = JeuDeCarte(32)\n",
    "paquet.distribuerCartes(3,2)\n",
    "print(len(paquet))"
   ]
  },
  {
   "cell_type": "markdown",
   "metadata": {},
   "source": [
    "## `joueur.py`\n",
    "\n",
    "### Constructeur de Joueur `__init__`\n",
    "\n",
    "Dans le constructeur de cette classe, on appelle :\n",
    "* `nom` : le nom du joueur\n",
    "* `main` : la liste des cartes en possesion du joueur (qu'on appelle _main_ dans le jargon des joueurs de cartes). nous avons donc là encore une **agrégation de classe** \n",
    "\n",
    "### Méthode `jouerCarte`\n",
    "Cette méthode doit permettre de renvoyer la $i^{ème}$ carte de la main du joueur. Il y aura bien sûr un **effet de bord** sur la main du joueur\n",
    "\n",
    "### Méthode spéciale `__repr__`\n",
    "\n",
    "Cette méthode permet de représenter ou d'afficher \"proprement\" un jeu de carte. On souhaite le résultat suivant :"
   ]
  },
  {
   "cell_type": "code",
   "execution_count": 7,
   "metadata": {},
   "outputs": [
    {
     "name": "stdout",
     "output_type": "stream",
     "text": [
      "Main de Alice :\n",
      " [Dame de Carreau, Valet de Coeur, 10 de Coeur]\n"
     ]
    }
   ],
   "source": [
    "paquet = JeuDeCarte(32)\n",
    "paquet.melangerPaquet()\n",
    "distribution = paquet.distribuerCartes(3,2)\n",
    "joueur1 = Joueur(\"Alice\", distribution[0])\n",
    "print(joueur1)"
   ]
  },
  {
   "cell_type": "markdown",
   "metadata": {},
   "source": [
    "## Avertissement sur le travail en projet\n",
    "\n",
    "* Un projet n'est pas un TP : vous n'êtes pas guidé de manière aussi détaillée que lors d'un TP. Une grande liberté est laissée à vos initiatives\n",
    "* Copier du code trouvé sur internet ou demander à \"un grand frère\" de vous faire le travail est souvent une mauvaise idée car  :\n",
    "    1. Cela se voit : Ne vous faîtes pas d'illusion...\n",
    "    2. Vous pourrez toujours être amené à expliquer cotre code (Pour moi si vous n'êtes pas capable de l'expliquer, c'est que ce n'est pas votre travail)\n",
    "* Travailler régulièrement à la maison et profitez des moments où on fait du projet en classe pour solliciter l'aide du professeur sur les difficultés rencontrées ou avoir un regard sur le code que vous avez écrit.\n",
    "* Solliciter régulièrement le professeur pour contrôler votre travail : voir suite...\n",
    "* Un projet n'est pas une ligne droite : il faut parfois revenir en arrière dans le code. Si besoin, les anciennes versions de votre code sont toujours disponibles sur votre _repository_ github. Moralité : Utiliser toujours votre _repository_ github pour stocker votre travail. Les clés USB sont à bannir !\n",
    "* Certains élèves \"se cachent\" en projet et ne sollicitent jamais l'aide du professeur pour \"glander\" tranquillement : c'est une très mauvaise idée.\n",
    "\n",
    "\n",
    "## Critères de notation\n",
    "\n",
    "Quelques critères de notation du plus au moins important : \n",
    "* Avancement du projet : Il y a toujours quelquechose de plus à faire !\n",
    "* Lisibilité du code : Très important car en projet vous allez écrire beaucoup plus de lignes de code qu'en TP.\n",
    "* Respect des consignes, lecture et compréhension de l'énoncé\n",
    "* Modularité du code\n",
    "* Distinction implémentation et interface\n",
    "* Autonomie\n",
    "    \n",
    "## Travail à faire\n",
    "\n",
    "_Conseil : Faire pour chaque méthode le travail suivant dans cet ordre :_\n",
    "* Ecriture de la documentation (docstring) : voir cours de première.\n",
    "* Ecriture de tests (sauf pour la méthode `melangerPaquet`) : voir cours de première (module `doctest`). \n",
    "* Ecriture du code\n",
    "\n",
    "## Progression à suivre\n",
    "\n",
    "### Partie 1\n",
    "\n",
    "Dans cette partie, on se limite à un jeu de 52 cartes. Télécharger et compléter les fichiers de `terminale/bloc1/POO/mini_projet_jeu_de_carte` (bien lire les explications ci-dessus !)\n",
    "\n",
    "### Partie 2\n",
    "\n",
    "**Objectif :** Implémentation des jeu de 32 ou 52 cartes\n",
    "\n",
    "Pour cela il faudra intervenir sur les **attributs de classe** `noms` et `valeurs` : on définira une **[méthode de classe](https://openclassrooms.com/fr/courses/235344-apprenez-a-programmer-en-python/232721-apprehendez-les-classes)** `setNbCartes` dans le fichier `carte.py`. On donne ci-dessous le code à compléter"
   ]
  },
  {
   "cell_type": "code",
   "execution_count": null,
   "metadata": {},
   "outputs": [],
   "source": [
    "def setNbCartes(cls, nb_cartes):\n",
    "        # Code de la fonction à compléter\n",
    "        \n",
    "setNbCartes = classmethod(setNbCartes)"
   ]
  },
  {
   "cell_type": "markdown",
   "metadata": {},
   "source": [
    "**Remarque :** Une méthode de classe (dont le but est de manipuler des attributs de classe diffère d'une méthode \"classique\" par les points suivants :\n",
    "* Le premier paramètre `cls` remplace le paramètre `self`. `cls` représente la classe\n",
    "* L'instruction `setNbCartes = classmethod(setNbCartes)` permet de définir une méthode comme une méthode de classe\n",
    "\n",
    "\n",
    "### Partie 3\n",
    "\n",
    "**Objectif :** \"Protéger\" les attributs devant être manipulées uniquement au sein de la classe\n",
    "\n",
    "Pour cela :\n",
    "* Nommer les attributs concernés par un nom commençant par des doubles underscore `__`\n",
    "* Si nécessaire, définir des méthodes \"privées\" **getter** et/ou **setter** pour respectivement accéder ou modifier ces éléments\n",
    "\n",
    "\n",
    "## Pour aller plus loin :\n",
    "\n",
    "Quelques possibilités :\n",
    "* Programmer un jeu de cartes (Poker, bataille etc...) utilisant les modules du jeu de carte\n",
    "* Faire une version \"réseau\"\n",
    "* Créer une interface graphique"
   ]
  }
 ],
 "metadata": {
  "kernelspec": {
   "display_name": "Python 3",
   "language": "python",
   "name": "python3"
  },
  "language_info": {
   "codemirror_mode": {
    "name": "ipython",
    "version": 3
   },
   "file_extension": ".py",
   "mimetype": "text/x-python",
   "name": "python",
   "nbconvert_exporter": "python",
   "pygments_lexer": "ipython3",
   "version": "3.7.2"
  }
 },
 "nbformat": 4,
 "nbformat_minor": 4
}
