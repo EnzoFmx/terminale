{
 "cells": [
  {
   "cell_type": "markdown",
   "metadata": {},
   "source": [
    "> L'objectif de ce cours est de vous montrer quelques astuces utiles et d'éviter des erreurs et autres mauvaises habitudes\n",
    "\n",
    "\n",
    "# Programmer en orienté objet lors de projets\n",
    "\n",
    "## Démarche à suivre\n",
    "\n",
    "Encore plus qu'en programmation procédurale, il est important de bien réfléchir (avec une feuille) sur comment aborder le problème **avant** de commencer à coder. Il existe d'ailleurs toute méthodologie permettant de bien développer en POO comme la [modélisation UML](https://fr.wikipedia.org/wiki/UML_(informatique)) (hors programme)\n",
    "\n",
    "Basiquement, voici quelques questions à se poser avant de coder :\n",
    "* Quels sont les différents objets dont j'ai besoin ?\n",
    "* Quels attributs doivent avoir ces objets.\n",
    "* Quels sont les interactions des objets entre eux et leurs comportements\n",
    "\n",
    "$\\Longrightarrow$ Ne créer que les classes, attributs et méthodes nécessaires au programme. Par exemple, si votre projet concerne la gestion d'un parking. Vous allez certainement créer des classes `Voiture`, `place`, `parking`. L'attribut `hauteur` de la voiture sera sans doute nécessaire (par exemple pour savoir si la voiture peut accéder au parking) mais l'attribut `couleur` beaucoup moins. **Ne pas vouloir décrire complètement vos objets : juste le nécessaire à votre projet** \n",
    "\n",
    "\n",
    "## Ce qui est possible de faire en python mais généralement pas recommandé\n",
    "\n",
    "> Comparé à d'autres langages orientés objets (typiquement Java), Python a une approche beaucoup plus permissive. Il est possible de faire certaines manipulations en python qui seraient interdites en Java. A ne pas faire à votre niveau\n",
    "\n",
    "* Créer de nouveau attribut \"à la volée\"\n",
    "\n"
   ]
  },
  {
   "cell_type": "code",
   "execution_count": 9,
   "metadata": {},
   "outputs": [],
   "source": [
    "class CompteBancaire :\n",
    "    def __init__(self, numero, titulaire):\n",
    "        self.numero = numero\n",
    "        self.titulaire = titulaire\n",
    "        self.solde = 0\n",
    "    \n",
    "    def deposer_argent(self, montant) :\n",
    "        self.solde = self.solde + montant\n",
    "        \n",
    "    def retirer_argent(self, montant) :\n",
    "        self.solde = self.solde - montant\n",
    "        \n",
    "un_compte = CompteBancaire (12345, \"Alice\")\n",
    "autre_compte = un_compte"
   ]
  },
  {
   "cell_type": "code",
   "execution_count": 10,
   "metadata": {},
   "outputs": [
    {
     "data": {
      "text/plain": [
       "True"
      ]
     },
     "execution_count": 10,
     "metadata": {},
     "output_type": "execute_result"
    }
   ],
   "source": [
    "un_compte is autre_compte"
   ]
  },
  {
   "cell_type": "code",
   "execution_count": 11,
   "metadata": {},
   "outputs": [
    {
     "data": {
      "text/plain": [
       "True"
      ]
     },
     "execution_count": 11,
     "metadata": {},
     "output_type": "execute_result"
    }
   ],
   "source": [
    "un_compte == autre_compte"
   ]
  },
  {
   "cell_type": "code",
   "execution_count": 2,
   "metadata": {},
   "outputs": [],
   "source": [
    "del un_compte.numero"
   ]
  },
  {
   "cell_type": "code",
   "execution_count": 3,
   "metadata": {},
   "outputs": [
    {
     "data": {
      "text/plain": [
       "True"
      ]
     },
     "execution_count": 3,
     "metadata": {},
     "output_type": "execute_result"
    }
   ],
   "source": [
    "isinstance (un_compte, CompteBancaire)"
   ]
  },
  {
   "cell_type": "code",
   "execution_count": 4,
   "metadata": {},
   "outputs": [
    {
     "ename": "AttributeError",
     "evalue": "'CompteBancaire' object has no attribute 'numero'",
     "output_type": "error",
     "traceback": [
      "\u001b[1;31m---------------------------------------------------------------------------\u001b[0m",
      "\u001b[1;31mAttributeError\u001b[0m                            Traceback (most recent call last)",
      "\u001b[1;32m<ipython-input-4-f60333937c4a>\u001b[0m in \u001b[0;36m<module>\u001b[1;34m\u001b[0m\n\u001b[1;32m----> 1\u001b[1;33m \u001b[0mun_compte\u001b[0m\u001b[1;33m.\u001b[0m\u001b[0mnumero\u001b[0m\u001b[1;33m\u001b[0m\u001b[1;33m\u001b[0m\u001b[0m\n\u001b[0m",
      "\u001b[1;31mAttributeError\u001b[0m: 'CompteBancaire' object has no attribute 'numero'"
     ]
    }
   ],
   "source": [
    "un_compte.numero"
   ]
  }
 ],
 "metadata": {
  "kernelspec": {
   "display_name": "Python 3",
   "language": "python",
   "name": "python3"
  },
  "language_info": {
   "codemirror_mode": {
    "name": "ipython",
    "version": 3
   },
   "file_extension": ".py",
   "mimetype": "text/x-python",
   "name": "python",
   "nbconvert_exporter": "python",
   "pygments_lexer": "ipython3",
   "version": "3.7.2"
  }
 },
 "nbformat": 4,
 "nbformat_minor": 4
}
