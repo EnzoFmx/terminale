{
 "cells": [
  {
   "cell_type": "code",
   "execution_count": null,
   "metadata": {},
   "outputs": [],
   "source": [
    "# Pour pythontutor\n",
    "%load_ext nbtutor"
   ]
  },
  {
   "cell_type": "markdown",
   "metadata": {},
   "source": [
    "# Encapsulation : interface et implémentation\n",
    "\n",
    "## Rappel\n",
    "\n",
    "Nous avons introduit en première la notion de fonction  \n",
    "* Une fonction est **définie** par son **\"concepteur\"**. Celui-ci écrit aussi sa documentation afin d'indiquer à l'**\"utilisateur\"** comment utiliser la fonction lors d'un **appel**\n",
    "* Lors de l'appel de la fonction, l'utilisateur ne s'intéresse pas au code de la fonction. Il n'a pas besoin de le comprendre ou même de le regarder pour utiliser la fonction\n",
    "\n",
    "On dit que la fonction **encapsule** du code. Il faut bien distinguer :\n",
    "* le **\"concepteur\"** dont le rôle est d'écrire la **définition de la fonction**\n",
    "* l'**\"utilisateur\"** qui appelle la fonction sans se préoccuper du code écrit par le **\"concepteur\"**\n",
    "\n",
    "$\\Longrightarrow$ la même notion est généralisée en terminale aux classes et aux structures de données abstraites."
   ]
  },
  {
   "cell_type": "code",
   "execution_count": null,
   "metadata": {},
   "outputs": [],
   "source": [
    "class MaClasse :\n",
    "    def __init__(self, valeur):\n",
    "        self.attribut = valeur\n",
    "\n",
    "objet = MaClasse(1)"
   ]
  },
  {
   "cell_type": "code",
   "execution_count": null,
   "metadata": {},
   "outputs": [],
   "source": [
    "type(objet)   "
   ]
  },
  {
   "cell_type": "markdown",
   "metadata": {},
   "source": [
    "Tout comme il existe des types natifs, vous pouvez en créant de nouvelles classes définir des objets d'un nouveau type. Une fois ce nouveau type créé (par le concepteur de classe), n'importe quel utilisateur peut importer cette nouvelle classe et manipuler des objets de ce nouveau type sans se préoccuper de la façon dont ils ont été codés par le concepteur. C'est ce que vous avez fait depuis le début. Par exemple, avec un objet de type `lst` :"
   ]
  },
  {
   "cell_type": "code",
   "execution_count": null,
   "metadata": {},
   "outputs": [],
   "source": [
    "# Création d'un objet ma_liste de type lst\n",
    "ma_liste = list(\"abcd\")\n",
    "print(ma_liste)"
   ]
  },
  {
   "cell_type": "code",
   "execution_count": null,
   "metadata": {},
   "outputs": [],
   "source": [
    "# ma_liste est un objet instance de la classe lst\n",
    "\n",
    "isinstance(ma_liste, list) #la fonction isinstance permet de tester si un objet est l'instance d'une classe"
   ]
  },
  {
   "cell_type": "code",
   "execution_count": null,
   "metadata": {},
   "outputs": [],
   "source": [
    "ma_liste.append(\"e\")\n",
    "print(ma_liste)"
   ]
  },
  {
   "cell_type": "markdown",
   "metadata": {},
   "source": [
    "Dans les quelques lignes de code ci-dessus, vous **utilisez** la classe `lst` pour créer un objet et vous le manipulez (par exemple en utilisant la méthode `append`). Mais en aucun cas vous n'avez regardé le code écrit par le concepteur pour effectivement créer cet objet, ni le code de la méthode `append`"
   ]
  },
  {
   "cell_type": "markdown",
   "metadata": {},
   "source": [
    "## Implémentation\n",
    "\n",
    "L'**implémentation** relève du travail du **\"concepteur\"** de la classe. L'**implémentation** permet de définir le nouveau type abstrait :\n",
    "* construire les objets instance de cette classe (méthode `__init__`)\n",
    "* définir toutes les **méthodes** qui permettent de manipuler les objets de cette classe\n",
    "\n",
    "## Interface\n",
    "\n",
    "L'**interface** est l'ensemble des moyens mis à disposition de l'**\"utilisateur\"** pour manipuler la structure de donnée abstraite. \n",
    "\n",
    "Même si l'interface a bien été créée par le **\"concepteur\"** lors de l'**implémentation**, l'**\"utilisateur\"** ne fait qu'utiliser cette interface **sans jamais se soucier de la construction interne de l'objet** \n",
    "\n",
    "Pour créer une interface, le **\"concepteur\"** crée des méthodes, chacune d'entre elles permet de faire une manipulation spécifique sur l'objet\n",
    "\n",
    "\n",
    "## Analogie\n",
    "\n",
    "* Lorsque vous **utilisez** une voiture (objet), vous manipulez celle-ci via son **interface** (volant, pédales, leviers de vitesses, commandes du tableau de bord).\n",
    "* Ce qui se passe \"sous le capot\" (embrayage, injecteurs, pistons, soupapes etc...) ne vous intéresse absolument pas. Vous n'avez pas besoin d'y mettre les mains ni de de comprendre comment tout ça fonctionne pour \"manipuler\" votre voiture\n",
    "\n",
    "## Modularité\n",
    "\n",
    "* Comme nous avons fait en première sur les fonctions, il est possible de regrouper différentes implémentations dans une **bibliothèque**. Cette bibliothèque est une simple fichier python `.py` contenant de nouvelles classes\n",
    "\n",
    "\n",
    "* L'utilisateur n'a plus qu'à importer cette bibliothèque grâce au module `import`\n",
    "\n",
    "\n",
    "# Programmer en orienté objet lors de projets\n",
    "\n",
    "## Démarche à suivre\n",
    "\n",
    "Encore plus qu'en programmation procédurale, il est important de bien réfléchir (\"brainstorming\" sur une feuille) sur comment aborder le problème **avant** de commencer à coder. Il existe d'ailleurs toute une méthodologie permettant de bien développer en POO comme la [modélisation UML](https://fr.wikipedia.org/wiki/UML_(informatique)) (hors programme)\n",
    "\n",
    "Basiquement, voici quelques questions à se poser avant de coder :\n",
    "* Quels sont les différents objets dont j'ai besoin ?\n",
    "* Quels attributs doivent avoir ces objets.\n",
    "* Quels sont les interactions des objets entre eux et leurs comportements\n",
    "\n",
    "$\\Longrightarrow$ Créer les classes, attributs et méthodes uniquement nécessaires au programme. Par exemple, si votre projet concerne la gestion d'un parking. Vous allez certainement créer des classes `Voiture`, `place`, `parking`. L'attribut `hauteur` de la voiture sera sans doute nécessaire (par exemple pour savoir si la voiture peut accéder au parking) mais l'attribut `couleur` beaucoup moins. **Ne pas vouloir décrire complètement vos objets : juste le nécessaire à votre projet** \n",
    "\n",
    "# Mutabilité des objets\n",
    "\n",
    "**Attention :** Comme on l'a vu en première sur les listes et les dictionnaires, les objets instances d'une classe sont **mutables**. (Il est possible de les rendre immuables mais c'est hors programme)\n",
    "\n",
    "**Exemple :**"
   ]
  },
  {
   "cell_type": "code",
   "execution_count": null,
   "metadata": {},
   "outputs": [],
   "source": [
    "%%nbtutor -r -f\n",
    "\n",
    "class MaClasse :\n",
    "    def __init__(self, valeur):\n",
    "        self.attribut = valeur\n",
    "        \n",
    "objet = MaClasse(1)\n",
    "autre_objet = objet"
   ]
  },
  {
   "cell_type": "code",
   "execution_count": null,
   "metadata": {},
   "outputs": [],
   "source": [
    "%%nbtutor -r -f\n",
    "\n",
    "objet.attribut = 2\n",
    "print(autre_objet.attribut)"
   ]
  },
  {
   "cell_type": "markdown",
   "metadata": {},
   "source": [
    "`objet` et `autre_objet` référencent en fait le même objet en mémoire. Toute modification sur l'un entraîne donc _implicitement_ une modification sur l'autre."
   ]
  },
  {
   "cell_type": "markdown",
   "metadata": {},
   "source": [
    "# Méthodes spéciales\n",
    "\n",
    "* En python, une méthode spéciale a un nom entouré de part et d'autre par deux _underscore_. Le nom d'une méthode spéciale prend donc la forme : `__methodespeciale__`.\n",
    "\n",
    "* les méthodes spéciales permet de donner du sens à certaines opérations. Il en existe beaucoup comme par exemple :\n",
    "    * la méthode `__add__` permet de donner du sens à l'écriture `objet1` + `objet2`\n",
    "    * la méthode `__mul__` permet de donner du sens à l'écriture `objet1` * `objet2`\n",
    "    * la méthode `__eq__` permet de donner du sens à l'écriture `objet1` == `objet2`\n",
    "    * la méthode `__len__` permet de donner du sens à l'écriture `len(objet1)`\n",
    "    * etc...\n",
    "   \n",
    "* En l'absence de définition de ces méthodes (ce qui sera le plus souvent le cas), un sens à l'opération en question pourrait être donné par la classe parente (notion d'héritage hors programme). A votre niveau, retenez juste que **rien ne garantit le résultat obtenu si la méthode spéciale correspondante n'a pas été définie**\n",
    "\n",
    "\n",
    "## Exemple : la méthode `__repr__`\n",
    "\n",
    "La méthode `__repr__` est appelée lorsqu'on souhaite afficher un objet (en tappant directement son nom dans l'interpréteur ou via la fonction `print`) comme ci-dessous :"
   ]
  },
  {
   "cell_type": "code",
   "execution_count": 1,
   "metadata": {},
   "outputs": [],
   "source": [
    "class Personne :\n",
    "    def __init__(self, nom, profession):\n",
    "        self.nom = nom\n",
    "        self.profession = profession\n",
    "        \n",
    "personnage = Personne(\"Alice\", \"informaticienne\")"
   ]
  },
  {
   "cell_type": "code",
   "execution_count": 2,
   "metadata": {},
   "outputs": [
    {
     "data": {
      "text/plain": [
       "<__main__.Personne at 0x7f59a47890b8>"
      ]
     },
     "execution_count": 2,
     "metadata": {},
     "output_type": "execute_result"
    }
   ],
   "source": [
    "personnage"
   ]
  },
  {
   "cell_type": "code",
   "execution_count": 3,
   "metadata": {},
   "outputs": [
    {
     "name": "stdout",
     "output_type": "stream",
     "text": [
      "<__main__.Personne object at 0x7f59a47890b8>\n"
     ]
    }
   ],
   "source": [
    "print(personnage)"
   ]
  },
  {
   "cell_type": "markdown",
   "metadata": {},
   "source": [
    "Ici comme `__repr__` n'a pas été définie, le résultat provient de la classe parente (et qui renvoie ici un équivalent de l'adresse mémoire où a été stockée l'objet `personne`, ce qui ne nous intéresse pas beaucoup...)\n",
    "\n",
    "Or, il est souvent utile d'afficher un objet pour connaître ses caractéristiques, surtout quand on souhaite debugger un code. Il suffit donc de définir la méthode `__repr__`. On est alors libre de choisir la représentation qui nous intéresse..."
   ]
  },
  {
   "cell_type": "code",
   "execution_count": 4,
   "metadata": {},
   "outputs": [],
   "source": [
    "class Personne :\n",
    "    def __init__(self, nom, profession):\n",
    "        self.nom = nom\n",
    "        self.profession = profession\n",
    "        \n",
    "    def __repr__(self):\n",
    "        return \"Personne : \"+self.nom+\". Profession \"+self.profession\n",
    "        \n",
    "personnage = Personne(\"Alice\", \"informaticienne\")"
   ]
  },
  {
   "cell_type": "code",
   "execution_count": 5,
   "metadata": {},
   "outputs": [
    {
     "data": {
      "text/plain": [
       "Personne : Alice. Profession informaticienne"
      ]
     },
     "execution_count": 5,
     "metadata": {},
     "output_type": "execute_result"
    }
   ],
   "source": [
    "personnage"
   ]
  },
  {
   "cell_type": "code",
   "execution_count": 6,
   "metadata": {},
   "outputs": [
    {
     "name": "stdout",
     "output_type": "stream",
     "text": [
      "Personne : Alice. Profession informaticienne\n"
     ]
    }
   ],
   "source": [
    "print(personnage)"
   ]
  },
  {
   "cell_type": "markdown",
   "metadata": {},
   "source": [
    "# Le cas particulier du langage python en POO\n",
    "\n",
    "Reprenons l'exemple du compte bancaire du cours d'introduction à la POO\n",
    "\n",
    "## Implémentation\n",
    "\n",
    "> **Il est important de bien comprendre que le code ci-dessous correspond à une implémentation d'un nouveau type `CompteBancaire`**"
   ]
  },
  {
   "cell_type": "code",
   "execution_count": null,
   "metadata": {},
   "outputs": [],
   "source": [
    "class CompteBancaire :\n",
    "    def __init__(self, numero, titulaire):\n",
    "        self.numero = numero\n",
    "        self.titulaire = titulaire\n",
    "        self.solde = 0\n",
    "    \n",
    "    def deposer_argent(self, montant) :\n",
    "        self.solde = self.solde + montant\n",
    "        \n",
    "    def retirer_argent(self, montant) :\n",
    "        self.solde = self.solde - montant"
   ]
  },
  {
   "cell_type": "markdown",
   "metadata": {},
   "source": [
    "## Interface\n",
    "\n",
    "> **Il est important de bien comprendre que le code ci-dessous correspond au travail d'un individu qui va simplement utiliser des objets de type `CompteBancaire` et de les manipuler par son interface. Cet individu est A PRIORI DIFFERENT de celui qui a écrit limplémentation de `CompteBancaire`**\n",
    "\n",
    "### Utilisation \"normale\""
   ]
  },
  {
   "cell_type": "code",
   "execution_count": null,
   "metadata": {},
   "outputs": [],
   "source": [
    "compte_Alice = CompteBancaire (12345, \"Alice\") # Création du compte\n",
    "\n",
    "compte_Alice.deposer_argent(200)\n",
    "compte_Alice.retirer_argent(50)\n",
    "print(compte_Alice.solde)"
   ]
  },
  {
   "cell_type": "markdown",
   "metadata": {},
   "source": [
    "### Utilisation \"anormale\"\n",
    "\n",
    "Le code ci-desssous fonctionne. **Question :** Pourquoi peut-on qualifier le code ci-dessous comme utilisation anormale du nouveau type `CompteBancaire` ?"
   ]
  },
  {
   "cell_type": "code",
   "execution_count": null,
   "metadata": {},
   "outputs": [],
   "source": [
    "print(compte_Alice.solde)\n",
    "\n",
    "compte_Alice.solde = 10000\n",
    "print(compte_Alice.solde)"
   ]
  },
  {
   "cell_type": "markdown",
   "metadata": {},
   "source": [
    "**Réponse :** Personnellement j'aimerais bien que mon compte bancaire passe de 150€ à 10000€ **sans qu'il n'y ait eu aucun dépot d'argent !!**. Malheureusement, force est de constater que cela n'arrive jamais ... :-(\n",
    "\n",
    "### Utilisation \"anormale\" 2\n",
    "\n",
    "On peut même faire pire : voir le code ci-dessous toujours fonctionnel mais franchement horrible !"
   ]
  },
  {
   "cell_type": "code",
   "execution_count": null,
   "metadata": {},
   "outputs": [],
   "source": [
    "del compte_Alice.titulaire\n",
    "del compte_Alice.numero\n",
    "compte_Alice.taux = 0.02"
   ]
  },
  {
   "cell_type": "markdown",
   "metadata": {},
   "source": [
    "_Qu'est-ce qui a été fait ?_\n",
    "\n",
    "Il supprime les attrributs `titulaire` et `numero` de l'objet `compte_Alice` et il en crée un nouveau `taux`. La preuve ci desssous :"
   ]
  },
  {
   "cell_type": "code",
   "execution_count": null,
   "metadata": {},
   "outputs": [],
   "source": [
    "print(compte_Alice.taux)\n",
    "print(compte_Alice.solde)\n",
    "print(compte_Alice.titulaire)\n",
    "print(compte_Alice.numero)"
   ]
  },
  {
   "cell_type": "markdown",
   "metadata": {},
   "source": [
    "_Pourquoi ce code est il horrible ?_\n",
    "\n",
    "* Vous avez un compte bancaire sans titulaire et sans numéro de compte. Bref un compte bancaire qui n'appartient plus à personne\n",
    "* Pire, `compte_Alice` est toujours un objet instance de `CompteBancaire` alors que l'objet n'a plus grand chose à voir avec la classe dont il est l'instance\n",
    "\n",
    "$\\Longrightarrow$ En bref, en python il est possible de manipuler un objet d'une manière totalement incohérente avec l'idée initiale de la classe dont il est l'instance "
   ]
  },
  {
   "cell_type": "code",
   "execution_count": null,
   "metadata": {},
   "outputs": [],
   "source": [
    "isinstance(compte_Alice, CompteBancaire)"
   ]
  },
  {
   "cell_type": "markdown",
   "metadata": {},
   "source": [
    "### Le cas particulier de python en POO\n",
    "\n",
    "Cet exemple montre l'intérêt de restreindre les manipulations afin d'empêcher les utilisateurs d'une classe de \"faire n'importe quoi\" avec les objets.\n",
    "Dans beaucoup de langages orientés objets (comme java), le concepteur qui écrit l'implémentation de la classe peut rendre certains attributs (et certaines méthodes) privés tandis que d'autres sont publics. Le langage se charge d'interdire toute manipulation sur les attributs et méthodes privés en dehors de la classe. Seules les méthodes publiques composent l'interface de l'objet.\n",
    "\n",
    "En python, rien de tout cela n'existe : il est impossible de protéger les objets d'une utilisation inappropriée en rendant certains attributs privés. \n",
    "\n",
    "#### Comment faire en python ?\n",
    "\n",
    "Il est d'usage de nommer tout ce qui est \"privé\" par un nom commençant par un double underscore comme ceci `__attributPrive`.\n",
    "\n",
    "cette syntaxe agit juste comme un panneau \"attention danger\". Mais rien n'interdit de passer outre le panneau...\n",
    "\n",
    "Inutile de lancer la polémique : _\"java c'est mieux ou moins bien que python\"_. Ces 2 langages ont juste des \"philosophies\" différentes : En python, on considère l'utilisateur de la classe comme un \"grand garçon\" qui sait ce qu'il fait et donc on ne met aucune interdiction, juste une mise en garde.\n",
    "\n",
    "**Voici le code respectant cette convention :** \n",
    "* les attributs \"sensibles\" sont \"protégés\" par la notation double underscore.\n",
    "* On y a ajouté une nouvelle méthode `get_solde` car on veut garder la possibilité d'obtenir le solde du compte : c'est la moindre des choses pour un compte bancaire...\n",
    "* On s'est bien gardé d'écrire la méthode `set_solde` permettant d'affecter une nouvelle valeur au solde du compte\n",
    "* Remarque : on devrait faire de même pour les attributs `__numero` et `__solde`"
   ]
  },
  {
   "cell_type": "code",
   "execution_count": null,
   "metadata": {},
   "outputs": [],
   "source": [
    "class CompteBancaire :\n",
    "    def __init__(self, numero, titulaire):\n",
    "        self.__numero = numero\n",
    "        self.__titulaire = titulaire\n",
    "        self.__solde = 0\n",
    "    \n",
    "    def deposer_argent(self, montant) :\n",
    "        self.__solde = self.__solde + montant\n",
    "        \n",
    "    def retirer_argent(self, montant) :\n",
    "        self.__solde = self.__solde - montant\n",
    "        \n",
    "    def get_solde(self):\n",
    "        return self.__solde"
   ]
  },
  {
   "cell_type": "markdown",
   "metadata": {},
   "source": [
    "**Remarque :** Attention, on lit parfois (sur certains sites web) que les doubles underscore `__` protègent les attributs et qu'ils les rendent privés. En fait non..."
   ]
  },
  {
   "cell_type": "code",
   "execution_count": null,
   "metadata": {},
   "outputs": [],
   "source": [
    "compte_Alice = CompteBancaire(12345,\"Alice\")\n",
    "compte_Alice.deposer_argent(100)"
   ]
  },
  {
   "cell_type": "code",
   "execution_count": null,
   "metadata": {},
   "outputs": [],
   "source": [
    "# L'attribut solde semble vraiment privé...\n",
    "compte_Alice.__solde\n",
    "\n",
    "#... mais en fait non, il existe une syntaxe particulière (non donnée dans ce cours) \n",
    "# permettant d'accéder directement à __solde (et sans passer par la méthode get_solde)"
   ]
  },
  {
   "cell_type": "code",
   "execution_count": null,
   "metadata": {},
   "outputs": [],
   "source": [
    "# Utilisation de la méthode get_solde pour accéder au solde de compte_Alice\n",
    "compte_Alice.get_solde()"
   ]
  },
  {
   "cell_type": "markdown",
   "metadata": {},
   "source": [
    "### Le débutant en POO sur python\n",
    "\n",
    "_Comme vous débutez en POO, vous n'êtes pas des \"grands garçons\" et cette liberté offerte par python est à mon avis néfaste pour l'apprentissage_\n",
    "\n",
    "* Avoir conscience que vous, utilisateur de la classe, ne devriez pas toucher à tout ce qui commence par des doubles underscore `__` c'est-à-dire tout ce qui est \"privé\" (hors cas particulier)\n",
    "\n",
    "\n",
    "* **Surtout ne pas créer ou supprimer des attributs \"à la volée\"** (comme ci dessus `taux`, `titulaire`, `numero`)\n",
    "\n",
    "\n",
    "* Lorsque vous implémentez une classe, nommer les attributs et méthodes sensibles par un nom commençcant par des doubles underscore `__` pour \"mettre un panneau danger\"\n",
    "\n",
    "\n",
    "* **l'INTERFACE de l'objet est constituée des attributs et des méthode ne commençant pas par des doubles underscore `__`**\n",
    "\n",
    "\n",
    "**Remarque :** Ne pas confondre ce qui est \"privé\" et qui commence par des doubles underscore `__` avec les méthodes spéciales qui commencent **et** finissent par des doubles underscore `__` :\n",
    "* `__methodePrivee`\n",
    "* `__methodeSpeciale__`\n",
    "\n",
    "\n",
    "# Quelques outils supplémentaires \n",
    "\n",
    "* la fonction `isinstance` permet de contrôler si un objet est instance d'une classe\n",
    "* le mot clé `is` permet de comparer l'identité de 2 objets (`is` est \"plus fort\" que `==`)\n",
    "* la fonction `help` permet d'obtenir la documentation sur une classe donnée\n",
    "* la fonction `dir` permet de lister les méthodes définies dans une classe\n",
    "\n",
    "Exemple :"
   ]
  },
  {
   "cell_type": "code",
   "execution_count": null,
   "metadata": {},
   "outputs": [],
   "source": [
    "compte_Alice = CompteBancaire(12345,\"Alice\")\n",
    "compte_Bob = CompteBancaire(6789,\"Bob\")"
   ]
  },
  {
   "cell_type": "code",
   "execution_count": null,
   "metadata": {},
   "outputs": [],
   "source": [
    "isinstance(compte_Bob,CompteBancaire)"
   ]
  },
  {
   "cell_type": "code",
   "execution_count": null,
   "metadata": {},
   "outputs": [],
   "source": [
    "isinstance(compte_Bob,list)"
   ]
  },
  {
   "cell_type": "code",
   "execution_count": null,
   "metadata": {},
   "outputs": [],
   "source": [
    "isinstance([2,6,4],list)"
   ]
  },
  {
   "cell_type": "code",
   "execution_count": null,
   "metadata": {},
   "outputs": [],
   "source": [
    "compte_Alice is compte_Bob"
   ]
  },
  {
   "cell_type": "code",
   "execution_count": null,
   "metadata": {},
   "outputs": [],
   "source": [
    "liste1 = [2,6,4]\n",
    "liste2 = list(liste1)\n",
    "liste3 = liste1\n",
    "\n",
    "print(liste1, liste2, liste3)"
   ]
  },
  {
   "cell_type": "code",
   "execution_count": null,
   "metadata": {},
   "outputs": [],
   "source": [
    "liste1 is liste2"
   ]
  },
  {
   "cell_type": "code",
   "execution_count": null,
   "metadata": {},
   "outputs": [],
   "source": [
    "liste1 is liste3"
   ]
  },
  {
   "cell_type": "code",
   "execution_count": null,
   "metadata": {},
   "outputs": [],
   "source": [
    "help(CompteBancaire)"
   ]
  },
  {
   "cell_type": "code",
   "execution_count": null,
   "metadata": {},
   "outputs": [],
   "source": [
    "dir(CompteBancaire)"
   ]
  },
  {
   "cell_type": "markdown",
   "metadata": {},
   "source": [
    "**Remarque :** vous pouvez remarquer qu'il y a beaucoup de méthodes spéciales qui existent alors qu'on ne les a pas écrites dans la classe `CompteBancaire`. Python les crée automatiquement : certaines sont héritées de la classe mère `object` (hors programme), d'autres ne sont pas implémentées..."
   ]
  }
 ],
 "metadata": {
  "kernelspec": {
   "display_name": "Python 3",
   "language": "python",
   "name": "python3"
  },
  "language_info": {
   "codemirror_mode": {
    "name": "ipython",
    "version": 3
   },
   "file_extension": ".py",
   "mimetype": "text/x-python",
   "name": "python",
   "nbconvert_exporter": "python",
   "pygments_lexer": "ipython3",
   "version": "3.6.9"
  }
 },
 "nbformat": 4,
 "nbformat_minor": 4
}
