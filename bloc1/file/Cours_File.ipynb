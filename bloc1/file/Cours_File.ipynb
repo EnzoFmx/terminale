{
 "cells": [
  {
   "cell_type": "markdown",
   "metadata": {},
   "source": [
    "# Les Files :"
   ]
  },
  {
   "cell_type": "markdown",
   "metadata": {},
   "source": [
    "Comme les piles, les files s'apparentent à une structure de donnée variable (par leur taille).\n",
    "\n",
    "Elles respectent la méthode **FIFO (First in first out)** => Premier entré, premier sorti.\n",
    "\n",
    "Un exemple courant peut être une file de voiture : \n",
    "\n",
    "![](./Images/voitures.png)\n",
    "\n"
   ]
  },
  {
   "cell_type": "markdown",
   "metadata": {},
   "source": [
    "Ici les premières voitures à être entrée seront les premières à sortir. \n",
    "\n",
    "Les méthodes principale utilisées dans l'utilisation d'une file : \n",
    "\n",
    "* **enfile** : Ajouter un élement à la file\n",
    "* **defile** : Retirer un élément à la file\n",
    "\n",
    "Méthodes ajoutées pour mieux travailler avec les files :\n",
    "\n",
    "* **est_vide** : Savoir si la file est vide \n",
    "* **top** : Savoir quel est l'élement en bout de file "
   ]
  },
  {
   "cell_type": "markdown",
   "metadata": {},
   "source": [
    "Bibliographie : \n",
    "\n",
    "- Images file voiture : « Les Endroits Où Il Est Toujours Interdit De Stationner/S’arrêter - Réviser le Code avec EVS ». Consulté le 4 janvier 2021. https://www.envoituresimone.com/code-de-la-route/cours/CIRCULATION/les-endroits-ou-il-est-toujours-interdit-de-stationner-s-arreter-jle4lbi.\n"
   ]
  }
 ],
 "metadata": {
  "kernelspec": {
   "display_name": "Python 3",
   "language": "python",
   "name": "python3"
  },
  "language_info": {
   "codemirror_mode": {
    "name": "ipython",
    "version": 3
   },
   "file_extension": ".py",
   "mimetype": "text/x-python",
   "name": "python",
   "nbconvert_exporter": "python",
   "pygments_lexer": "ipython3",
   "version": "3.8.5"
  }
 },
 "nbformat": 4,
 "nbformat_minor": 4
}
