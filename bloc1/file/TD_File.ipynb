{
 "cells": [
  {
   "cell_type": "markdown",
   "metadata": {},
   "source": [
    "# Exercice 0 :\n",
    "\n",
    "Supposons une file de lettre : ABCDEF\n",
    "\n",
    "J'enfile G ma file devient : GABCDEF\n",
    "\n",
    "1) Donner l'état de la file après les opération suivante :\n",
    "\n",
    "    - defile\n",
    "    - defile\n",
    "    - enfile H\n",
    "    - enfile E\n",
    "    - defile\n",
    "    - enfile I\n",
    "    \n",
    "2) Combien de fois vais-je devoir défiler pour que H soit en bout de file ?\n",
    "\n",
    "3) Quelles sont les opérations à faire pour retrouver la file ABCDEF ?"
   ]
  },
  {
   "cell_type": "markdown",
   "metadata": {},
   "source": [
    "# Première implémentation :"
   ]
  },
  {
   "cell_type": "code",
   "execution_count": 1,
   "metadata": {},
   "outputs": [],
   "source": [
    "#Testez la fonction pop() avec l :\n",
    "\n",
    "l = [1,2,3,4,5]"
   ]
  },
  {
   "cell_type": "markdown",
   "metadata": {},
   "source": [
    "1) Décrivez ce que fait la fonction **_pop()_** : \n",
    "\n",
    "Pour cette implémentation, le constructeur de la classe utilisera un attribut nommé **file** de type **list()** pour stocker les données.\n",
    "\n",
    "2) Créez cette classe File contenant les méthodes suivantes :\n",
    "\n",
    "* **enfile**\n",
    "* **defile**\n",
    "* **est_vide** : Renvoie True si la file est vide \n",
    "* **taille** : Renvoie la taille de la file"
   ]
  },
  {
   "cell_type": "markdown",
   "metadata": {},
   "source": [
    "## Exercice 1 :\n",
    "\n",
    "Afin d'imprimer une imprimante utilise un système de stockage de fichier. Celle-ci dans notre cas peut stocker au maximum 5 fichiers. Pour gérer l'ajout de fichier et l'impression nous allons écrire deux fonctions **ajout_fichier()** et **imprime()**. \n",
    "\n",
    "\n",
    "1) Ecrire les fonction **ajout_fichier()** et **imprime()**."
   ]
  },
  {
   "cell_type": "code",
   "execution_count": null,
   "metadata": {},
   "outputs": [],
   "source": [
    "def ajout_fichier(file,fichier):\n",
    "    \"\"\"\n",
    "    Fonction qui ajoute un fichier à une file d'impression, si la taille le permet.\n",
    "    param file (File) : File d'impression des fichier\n",
    "    param fichier (str) : Fichier sous la forme d'une chaine de caractère\n",
    "    return (bool): Renvoie True si l'ajout du fichier a eu lieu, False sinon\n",
    "    \"\"\"\n",
    "    pass\n",
    "\n",
    "def imprime(file):\n",
    "    \"\"\"\n",
    "    Fonction qui imprime les fichier d'une liste d'impression, ici la fonction va affichier (print)\n",
    "    le nom du fichier quand il est defilé\n",
    "    param file(File) : File d'impression des fichier\n",
    "    return (None)\n",
    "    \"\"\"\n",
    "    pass"
   ]
  },
  {
   "cell_type": "markdown",
   "metadata": {},
   "source": [
    "# Deuxième implémentation : \n",
    "\n",
    "Une implémentation **récursive** de la file existe. Il suffit d'utiliser deux attributs pour la définir : \n",
    "- tete : Contient le premier élément de la file \n",
    "- queue : Une file contenant les autres élements\n",
    "\n",
    "Par exemple la file **123** nommée f aura comme attribut :\n",
    "\n",
    "- tete : 1\n",
    "- queue : Une file 23 nommée f2\n",
    "\n",
    "La file f2 **23** aura elle comme attribut : \n",
    "- tete : 2\n",
    "- queue : Une file 3 nommée f3\n",
    "\n",
    "La file f3 **3** aura elle comme attribut : \n",
    "- tete : 3 \n",
    "- queue : None\n",
    "\n",
    "Cela se représente de cette manière : \n",
    "\n",
    "![](./Images/file2_des.png)\n",
    "\n",
    "### Une File a une tête, la queue elle est en réalité une autre File ayant elle même une tete et une queue (autre File) etc...\n",
    "\n",
    "1) Réecrire une nouvelle classe File2 ayant cette implémentation avec les méthodes suivantes :\n",
    "\n",
    "* **enfile**\n",
    "* **defile**\n",
    "* **est_vide**\n",
    "* **taille**\n",
    "\n",
    "\n",
    "2) Tester la fonction **gestion_commande** avec une \"File2\" qu'en déduisez vous ?"
   ]
  },
  {
   "cell_type": "markdown",
   "metadata": {},
   "source": [
    "## Jeu de la bataille :\n",
    "\n",
    "La bataille : règles du jeu\n",
    "\n",
    "Chacun tire la carte du dessus de son paquet et la pose sur la table. Celui qui a la carte la plus forte ramasse les autres cartes. L'as est la plus forte carte, puis roi, dame, valet, 10, etc. Lorsque deux joueurs posent en même temps deux cartes de même valeur il y a \"bataille\".\n",
    "\n",
    "Lorsqu'il y a \"bataille\" les joueurs tirent la carte suivante et la posent, face cachée, sur la carte précédente. Puis ils tirent une deuxième carte qu'ils posent cette fois-ci face découverte et c'est cette dernière qui départagera les joueurs.\n",
    "\n",
    "Lorsqu'il y a bataille et qu'un des deux joueur à moins de 3 cartes alors il a perdu\n",
    "\n",
    "Le gagnant est celui qui remporte toutes les cartes. \n",
    "\n",
    "Le jeu de la bataille peut être facilement coder avec des Files. \n",
    "\n",
    "Un fichier carte.py contient la classe carte et les fonctions suivantes :\n",
    "\n",
    "    - comp\n",
    "    - game\n",
    "    - creer_jeu\n",
    "\n",
    "Pour ce travail vous allez devoir compléter les fonctions permettant de :\n",
    "\n",
    "    - tour : Joue un Tour\n",
    "    - bataille : Fait une \"bataille\"\n",
    "    - jeu_fini : Vérifie que le jeu est fini"
   ]
  },
  {
   "cell_type": "markdown",
   "metadata": {},
   "source": [
    "**Exercice :** Compléter les fonctions citées ci dessus :"
   ]
  },
  {
   "cell_type": "code",
   "execution_count": null,
   "metadata": {},
   "outputs": [],
   "source": [
    "def tour(f1,f2) :\n",
    "    \"\"\"\n",
    "    Foncton qui simule un tour de bataille\n",
    "    param f1: (File) File contenant le jeu n°1\n",
    "    param f2: (File) File contenant le jeu n°2\n",
    "    return : Aucun retour, la fonction modifie les files\n",
    "    \"\"\"\n",
    "    i = #Completer\n",
    "    j = #Completer\n",
    "    res = comp(i,j)\n",
    "    if res == -1 :\n",
    "        #Completer\n",
    "        #Completer\n",
    "        print('Joueur 2 a gagné le tour')\n",
    "    elif res == 1 :\n",
    "        #Completer\n",
    "        #Completer\n",
    "        print('Joueur 1 a gagné le tour')\n",
    "    else :\n",
    "        print('Bataille')\n",
    "        if #Completer >=3 and  #Completer >=3 :\n",
    "            bataille(i,j,f1,f2)\n",
    "        else :\n",
    "            # Si un des deux paquet ne peut pas faire la bataille \n",
    "            # alors on le vide pour faire gagner l'autre joueur\n",
    "            if #Completer < 3 :\n",
    "                while not #Completer :\n",
    "                    #Completer\n",
    "            else :\n",
    "                while not #Completer :\n",
    "                    #Completer"
   ]
  },
  {
   "cell_type": "code",
   "execution_count": null,
   "metadata": {},
   "outputs": [],
   "source": [
    "def bataille(c1,c2,f1,f2) :\n",
    "    \"\"\"\n",
    "    Fonction simulant un tour de bataille\n",
    "    param c1 : (tuple) Carte n°1 égale a c2\n",
    "    param c2 : (tuple) Carte n°1 égale a c1\n",
    "    param f1: (File) File contenant le jeu n°1\n",
    "    param f2: (File) File contenant le jeu n°2\n",
    "    return : Aucun retour, la fonction modifie les files\n",
    "    \"\"\"\n",
    "    bataille_tab= []\n",
    "    while comp(c1,c2) == 0:\n",
    "        bataille_tab.append(#Completer)\n",
    "        bataille_tab.append(#Completer)\n",
    "        bataille_tab.append(#Completer)\n",
    "        bataille_tab.append(#Completer)\n",
    "        c1 = #Completer\n",
    "        c2 = #Completer\n",
    "    if comp(c1,c2) == 1 :\n",
    "        for carte in bataille_tab :\n",
    "            #Completer\n",
    "        #Completer\n",
    "        #Completer\n",
    "        print('Joueur 1 a gagné le tour')\n",
    "    if comp(c1,c2) == -1 :\n",
    "        for carte in bataille_tab :\n",
    "            #Completer\n",
    "        #Completer\n",
    "        #Completer\n",
    "        print('Joueur 2 a gagné le tour')        "
   ]
  },
  {
   "cell_type": "code",
   "execution_count": null,
   "metadata": {},
   "outputs": [],
   "source": [
    "def est_fini(f1,f2):\n",
    "    \"\"\"\n",
    "    Fonction qui détermine si le jeu est fini\n",
    "    param f1: (File) File contenant le jeu n°1\n",
    "    param f2: (File) File contenant le jeu n°2\n",
    "    return (bool): renvoie True si le jeu est fini, False sinon.\n",
    "    \"\"\"\n",
    "    if #Completer == 0 :\n",
    "        print(\"JOUEUR 2 A GAGNE\")\n",
    "        return True\n",
    "    elif #Completer ==0:\n",
    "        print(\"JOUEUR 1 A GAGNE\")\n",
    "        return True\n",
    "    else :\n",
    "        return False"
   ]
  }
 ],
 "metadata": {
  "kernelspec": {
   "display_name": "Python 3",
   "language": "python",
   "name": "python3"
  },
  "language_info": {
   "codemirror_mode": {
    "name": "ipython",
    "version": 3
   },
   "file_extension": ".py",
   "mimetype": "text/x-python",
   "name": "python",
   "nbconvert_exporter": "python",
   "pygments_lexer": "ipython3",
   "version": "3.8.5"
  }
 },
 "nbformat": 4,
 "nbformat_minor": 4
}
