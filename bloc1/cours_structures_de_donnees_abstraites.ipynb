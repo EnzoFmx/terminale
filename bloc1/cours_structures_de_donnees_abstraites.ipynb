{
 "cells": [
  {
   "cell_type": "markdown",
   "metadata": {},
   "source": [
    "# Structure de données abstraites\n",
    "\n",
    "## Etat des lieux sur les structures de données\n",
    "\n",
    "Vous connaissez les types de bases définis dans le langage python :\n",
    "* entiers (`int`)\n",
    "* nombres à virgule flottante ou nombres réels (`float`)\n",
    "* chaînes de caractères (`string`)\n",
    "* booléens (`bool`)\n",
    "\n",
    "A partir de ces types de bases, python met **nativement** à disposition des types construits :\n",
    "* les listes encore appelés tableaux (`list`)\n",
    "* les dictionnaires (`dict`)\n",
    "\n",
    "En python les **types** sont définis dans des **classes**. C'est pourquoi **en python, tout est objet**. Python est donc un **langage orienté objet**. Par exemple l'entier `a = 3` est un **objet instance de la classe `int`**"
   ]
  },
  {
   "cell_type": "code",
   "execution_count": 2,
   "metadata": {},
   "outputs": [
    {
     "data": {
      "text/plain": [
       "True"
      ]
     },
     "execution_count": 2,
     "metadata": {},
     "output_type": "execute_result"
    }
   ],
   "source": [
    "a = 3\n",
    "\n",
    "isinstance(a,int)"
   ]
  },
  {
   "cell_type": "markdown",
   "metadata": {},
   "source": [
    "En terminale, nous allons aborder les **types abstraits** de données :\n",
    "* les structures linéaires :\n",
    "    * les listes (chaînées)\n",
    "    * les piles\n",
    "    * les files\n",
    "* les structures hiérarchiques :\n",
    "    * les arbres\n",
    "* les structures relationnelles :\n",
    "    * les graphes\n",
    "\n",
    "_**Question :** Pourquoi ces types sont-ils dits **abstraits** ?_  \n",
    "**Réponse :** Parce que la plupart du temps ils n'existent pas **nativement** dans les langages de programmation (dont python)\n",
    "\n",
    "$\\Longrightarrow$ Il faudra construire ces types abstraits dans des **classes**. On parle d'**implémantation**.\n",
    "$\\Longrightarrow$ Une fois construit, on pourra manipuler ces nouveaux types abstraits tout comme ceux que vous connaissez déjà via ce qu'on appelle l'**interface** de l'objet\n",
    "\n",
    "## Encapsulation : Implémentation Vs interface\n",
    "\n",
    "**Rappel :** Nous avons introduit en première la notion de fonction  \n",
    "* Une fonction est **définie** par son **\"concepteur\"**. Celui-ci écrit aussi sa documentation afin d'indiquer à l'**\"utilisateur\"** comment utiliser la fonction lors d'un **appel**\n",
    "* Lors de l'appel de la fonction, l'utilisateur ne s'intéresse pas au code de la fonction. Il n'a pas besoin de le comprendre ou même de le regarder pour utiliser la fonction\n",
    "\n",
    "On dit que la fonction **encapsule** du code. Il faut bien distinguer :\n",
    "* le **\"concepteur\"** dont le rôle est d'écrire la **définition de la fonction**\n",
    "* l'**\"utilisateur\"** qui appelle la fonction sans se préoccuper du code écrit par le **\"concepteur\"**\n",
    "\n",
    "$\\longrightarrow la même notion est généralisée en terminale aux classes et aux structures de données abstraites$\n",
    "\n",
    "### Implémentation\n",
    "\n",
    "L'**implémentation** relève du travail du **\"concepteur\"** de la structure de données abstraites. La plupart du temps, le code qu'il écrit est encapsulé dans une nouvelle classe \n",
    "\n",
    "L'**implémentation** permet de définir le nouveau type abstrait :\n",
    "* création d'une **classe** qui permet de :\n",
    "    * construire les objets instance de cette classe (méthode `__init__`)\n",
    "    * définir toutes les **méthodes** qui permettent de manipuler les objets de cette classe\n",
    "\n",
    "### Interface\n",
    "\n",
    "L'**interface** est l'ensemble des moyens mis à disposition de l'**\"utilisateur\"** pour manipuler la structure de donnée abstraite. \n",
    "\n",
    "Même si l'interface a bien été créée par le **\"concepteur\"** lors de l'**implémentation**, l'**\"utilisateur\"** ne fait qu'utiliser cette interface **sans jamais se soucier de la construction interne de l'objet** \n",
    "\n",
    "Pour créer une interface, le **\"concepteur\"** crée des méthodes, chacune d'entre elles permet de faire une manipulation spécifique sur l'objet\n",
    "\n",
    "\n",
    "### Analogie\n",
    "\n",
    "* Lorsque vous **utilisez** une voiture (objet), vous manipulez celle-ci via son **interface** (volant, pédales, leviers de vitesses, commandes du tableau de bord).\n",
    "* Ce qui se passe \"sous le capot\" (embrayage, injecteurs, pistons, soupapes etc...) ne vous intéresse absolument pas. Vous n'avez pas besoin d'y mettre les mains ni de de comprendre comment tout ça fonctionne pour \"manipuler\" votre voiture\n",
    "\n",
    "\n",
    "## Intérêt de définir des nouveaux types abstraits ?\n",
    "\n",
    "1. Chaque structure de données à des points forts et des points faibles. Malheureusement une strucutre de donnée idéale, celle qui permettrait de tout résoudre simplement n'existe pas.\n",
    "2. Pour un problème donné, il conviendra de choisir la meilleure structure de donnée : certaines peuvent être particulièrement adaptées et résoudre le problème de manière simple (voir projets)\n"
   ]
  }
 ],
 "metadata": {
  "kernelspec": {
   "display_name": "Python 3",
   "language": "python",
   "name": "python3"
  },
  "language_info": {
   "codemirror_mode": {
    "name": "ipython",
    "version": 3
   },
   "file_extension": ".py",
   "mimetype": "text/x-python",
   "name": "python",
   "nbconvert_exporter": "python",
   "pygments_lexer": "ipython3",
   "version": "3.7.2"
  }
 },
 "nbformat": 4,
 "nbformat_minor": 4
}
