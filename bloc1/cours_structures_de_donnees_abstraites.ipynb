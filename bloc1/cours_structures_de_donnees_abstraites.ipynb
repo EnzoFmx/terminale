{
 "cells": [
  {
   "cell_type": "markdown",
   "metadata": {},
   "source": [
    "# Structure de données abstraites\n",
    "\n",
    "## Etat des lieux sur les structures de données\n",
    "\n",
    "Vous connaissez les types de bases définis dans le langage python :\n",
    "* entiers (`int`)\n",
    "* nombres à virgule flottante ou nombres réels (`float`)\n",
    "* chaînes de caractères (`string`)\n",
    "* booléens (`bool`)\n",
    "\n",
    "A partir de ces types de bases, python met **nativement** à disposition des types construits :\n",
    "* les listes encore appelés tableaux (`list`)\n",
    "* les dictionnaires (`dict`)\n",
    "\n",
    "En python les **types** sont définis dans des **classes**. C'est pourquoi **en python, tout est objet**. Python est donc un **langage orienté objet**. Par exemple l'entier `a = 3` est un **objet instance de la classe `int`**"
   ]
  },
  {
   "cell_type": "code",
   "execution_count": 2,
   "metadata": {},
   "outputs": [
    {
     "data": {
      "text/plain": [
       "True"
      ]
     },
     "execution_count": 2,
     "metadata": {},
     "output_type": "execute_result"
    }
   ],
   "source": [
    "a = 3\n",
    "\n",
    "isinstance(a,int)"
   ]
  },
  {
   "cell_type": "markdown",
   "metadata": {},
   "source": [
    "En terminale, nous allons aborder les **types abstraits** de données :\n",
    "* les structures linéaires :\n",
    "    * les listes (chaînées)\n",
    "    * les piles\n",
    "    * les files\n",
    "* les structures hiérarchiques :\n",
    "    * les arbres\n",
    "* les structures relationnelles :\n",
    "    * les graphes\n",
    "\n",
    "_**Question :** Pourquoi ces types sont-ils dits **abstraits** ?_  \n",
    "**Réponse :** Parce que la plupart du temps ils n'existent pas **nativement** dans les langages de programmation (dont python)\n",
    "\n",
    "$\\Longrightarrow$ Il faudra construire ces types abstraits dans des **classes**. On parle d'**implémantation**.\n",
    "$\\Longrightarrow$ Une fois construit, on pourra manipuler ces nouveaux types abstraits tout comme ceux que vous connaissez déjà via ce qu'on appelle l'**interface** de l'objet\n",
    "\n",
    "## Implémentation Vs interface\n",
    "\n",
    "L'**implémentation** permet de définir le nouveau type abstrait :\n",
    "* création d'une **classe** qui permet de :\n",
    "    * construire les objets instance de cette classe (méthode `__init__`)\n",
    "    * définir toutes les **méthodes** qui permettent de manipuler les objets de cette classe\n",
    "    \n",
    "L'**interface** (constituée par les méthodes définies dans la classe) permet de manipuler ces objets **sans jamais se soucier de la construction interne de l'objet**"
   ]
  }
 ],
 "metadata": {
  "kernelspec": {
   "display_name": "Python 3",
   "language": "python",
   "name": "python3"
  },
  "language_info": {
   "codemirror_mode": {
    "name": "ipython",
    "version": 3
   },
   "file_extension": ".py",
   "mimetype": "text/x-python",
   "name": "python",
   "nbconvert_exporter": "python",
   "pygments_lexer": "ipython3",
   "version": "3.7.2"
  }
 },
 "nbformat": 4,
 "nbformat_minor": 4
}
