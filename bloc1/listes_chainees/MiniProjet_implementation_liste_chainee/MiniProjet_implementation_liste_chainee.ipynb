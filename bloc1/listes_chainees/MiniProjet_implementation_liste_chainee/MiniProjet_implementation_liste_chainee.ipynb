{
 "cells": [
  {
   "cell_type": "markdown",
   "metadata": {},
   "source": [
    "# Implémentation d'une liste chaînée\n",
    "\n",
    "> Dans ce mini Projet nous allons poursuivre l'implémentation d'une liste chaînée commencée en cours. Ceci permettra d'enrichir les listes en définissant de nouvelles méthodes :  Les objets \"listes chaînées\" seront progressivement dotés de nouvelles fonctionnalités permettant une mise en oeuvre plus facile et souple dans les applications où elles seront mises en oeuvre.\n",
    "\n",
    "Télécharger et ouvrir les fichiers `cellule.py` et `listeChainee.py`. \n",
    "\n",
    "> * Les constructeurs `__init__` ainsi que la méthode `add_cell` ont été vues en cours. Il est bien sûr essentiel de bien comprendre le code de ces méthodes avant de commencer ce projet\n",
    "* La méthode `__repr__` est une méthode dite **spéciale**, permettant de contrôler la représentation de l'objet (par exemple dans l'interpréteur python, son affichage via la fonction `print` ou même dans l'espace \"variables\" de Thonny). Plus d'informations sur les méthodes spéciales sont disponibles [ici](https://openclassrooms.com/fr/courses/235344-apprenez-a-programmer-en-python/233046-appliquez-des-methodes-speciales).\n",
    "* D'autres méthodes spéciales sont définies (`__len__`, `__getitem__`, `__delitem__`). Le code de toutes les méthodes spéciales est donné : vous n'avez aucune modification à y faire. Plus d'informations sur les méthodes spéciales sont disponibles [ici](https://openclassrooms.com/fr/courses/235344-apprenez-a-programmer-en-python/233046-appliquez-des-methodes-speciales).\n",
    "* Certaines méthodes ont `pass` pour simple code : ce qui signifie \"ne rien faire\". L'objectif de ce projet est d'écrire le code python de ces méthodes (à la place de `pass`)\n",
    "* Toutes les méthodes ont une **documentation** (docstring) et des **tests** qui permettent de valider leur fonctionnement. Les tests s'exécutent automatiquement grâce au programme principal (`if __name__ == '__main__'`). Voir cours de première...\n",
    "* **Attention :** les boucles `for` ne peuvent pas être utilisées dans les listes chaînées.  Il ne faut utiliser que des boucles `while` ! La raison est largement hors-programme : pour utiliser des boucles `for`, il faut que la classe définisse des méthodes spéciales permettant de gérer l'itération, ce qui n'a pas été fait ici (il est tout à fait possible de le faire mais le choix a été fait ici de ne pas écrire ces méthodes)\n",
    "* **Remarque importante** : comme nous avons vu en cours, la classe `listeChainee` a été contruite (cf `__init__`) de manière **récursive**. Il est donc plus naturel d'écrire du code récursif pour les méthodes (mais du code non récursif est aussi tout à fait possible) \n",
    "* **Attention :** Bien lire la documentation des méthodes : certaines renvoient un résultat, d'autres ne renvoient rien (ou `None`) car elles modifient la liste en place !\n",
    "\n",
    "\n",
    "\n",
    "## Travail à faire\n",
    "\n",
    "\n",
    "### Partie 1\n",
    "\n",
    "Faire les questions 1 à 6 dans l'ordre (car elles sont de plus en plus difficiles et ce sont des questions \"tiroirs\")\n",
    "\n",
    "1. Ecrire le code des méthodes :\n",
    "    * `is_empty`\n",
    "    * `head`\n",
    "    * `tail` <br>\n",
    "            Pour ces 2 dernières méthodes, quel est le problème rencontré lorsqu'elles s'appliquent sur des listes vides ? Quel choix d'implémentation avez-vous fait dans ce cas ?\n",
    "     \n",
    "2. Ecrire le code de la méthode `longueur`. On proposera 2 codes différents : un code récursif et un code non récursif (avec une boucle). Ecrire dans l'interpréteur python une simple instruction qui permette de tester la méthode spéciale `__len__`\n",
    "\n",
    "3. Ecrire le code de la méthode `nieme_element`. (vous avez le choix du code : récursif ou non). Ecrire dans l'interpréteur python une simple instruction qui permette de tester la méthode spéciale `__getitem__`\n",
    "\n",
    "4. Ecrire le code de la méthode `reverse`.\n",
    "\n",
    "5. Ecrire le code de la méthode `concatener` (de classe Cellule). Ecrire dans l'interpréteur python une simple instruction qui permette de tester la méthode spéciale `__add__`\n",
    "\n",
    "6. Ecrire le code de la méthode `insert`. (voir les 3 étapes mentionnées dans le cours)\n",
    "\n",
    "7. Ecrire le code de la méthode `delete`. Ecrire dans l'interpréteur python une simple instruction qui permette de tester la méthode spéciale `__delitem__`\n",
    "\n",
    "\n",
    "### Partie 2\n",
    "\n",
    "> Dans la partie précédente, vous avez défini les méthodes demandées, ce qui rend le les objets \"ListeChainee\" plus facilement manipulable. Mais on peut encore faire mieux...\n",
    "\n",
    "Ecrire 1 ou 2 méthodes supplémentaires qui mettent en oeuvre des outils de manipulations intéressants sur les listes chainées. Vous pouvez par exemple vous inspirer (sans obligation) des méthodes qui existent pour les tableaux python (type `list`) et écrire leurs équivalents pour le type `listeChainee`"
   ]
  }
 ],
 "metadata": {
  "kernelspec": {
   "display_name": "Python 3",
   "language": "python",
   "name": "python3"
  },
  "language_info": {
   "codemirror_mode": {
    "name": "ipython",
    "version": 3
   },
   "file_extension": ".py",
   "mimetype": "text/x-python",
   "name": "python",
   "nbconvert_exporter": "python",
   "pygments_lexer": "ipython3",
   "version": "3.7.2"
  }
 },
 "nbformat": 4,
 "nbformat_minor": 4
}
