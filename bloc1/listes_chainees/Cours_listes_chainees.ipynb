{
 "cells": [
  {
   "cell_type": "code",
   "execution_count": 1,
   "metadata": {},
   "outputs": [],
   "source": [
    "# Pour pythontutor\n",
    "%load_ext nbtutor"
   ]
  },
  {
   "cell_type": "markdown",
   "metadata": {},
   "source": [
    "> **Attention : le terme _liste_ apparaît dans le programme de première et dans le programme de terminale mais cela ne désigne pas la même chose !!** <br>\n",
    "\n",
    "### Les listes en première\n",
    "\n",
    "**En première, une liste désigne en fait un TABLEAU d'élément**. Ainsi la liste `['a', 'b', 'c']` est un en fait un tableau de 3 cases d'**indices** 0,1 et 2. Chacune de ces cases contenant respectivement les chaînes de caractères `'a'`, `'b'` et `'c'`\n",
    "\n",
    "La confusion liste / tableau est entretenu par le langage python pour qui les objets \"tableaux\" sont de type `list` \n",
    "(Dans d'autres langages comme en lanage C, ces mêmes tableaux sont de type `array`)"
   ]
  },
  {
   "cell_type": "code",
   "execution_count": 2,
   "metadata": {},
   "outputs": [
    {
     "data": {
      "text/plain": [
       "list"
      ]
     },
     "execution_count": 2,
     "metadata": {},
     "output_type": "execute_result"
    }
   ],
   "source": [
    "type(['a', 'b', 'c'])"
   ]
  },
  {
   "cell_type": "markdown",
   "metadata": {},
   "source": [
    "### Les listes en terminale\n",
    "\n",
    "**En terminale, une liste désigne en fait une LISTE CHAINEE**. C'est l'objet de ce cours.\n",
    "Les listes chaînées n'existent pas nativement en python : on parle de **type abstrait**. Nous allons donc créer ce nouveau type, c'est-à-dire écrire le code python permettant d'**implémenter** les listes chaînées.\n",
    "\n",
    "\n",
    "# Qu'est ce qu'une liste chaînée ?\n",
    "\n",
    "*(D'après [FIL : Formation en Informatique de Lille - Université de Lille](https://www.fil.univ-lille1.fr))*\n",
    "\n",
    "* Nous savons tous intuitivement ce qu'est une liste. Une liste est une collection finie d'éléments qui se suivent (l'ordre des éléments ayant une importance). C'est donc une structure de données **linéaire**.\n",
    "\n",
    "* Une liste peut contenir un nombre quelconque d'éléments y compris nul (la liste vide).\n",
    "\n",
    "## Définition formelle d'une liste chaînée\n",
    "\n",
    "Prenons une liste comme par exemple $\\ell_1 = [3, 1, 4]$.  C'est une liste à trois éléments (ou de longueur trois) dont le premier est $3$, le deuxième $1$, et le dernier $4$.\n",
    "\n",
    "Une façon de décrire cette liste consiste à dire que :\n",
    "\n",
    "* la liste $\\ell_1$ possède un premier élément $3$ qu'on nommera élément de *tête*,\n",
    "* et que vient après cet élément de tête la liste $\\ell_2 = [1, 4]$ des éléments qui suivent,\n",
    "  liste qu'on nommera *reste*.\n",
    "\n",
    "Ce qu'on vient de dire de la liste $\\ell_1$ peut être répété pour la liste $\\ell_2$ qui est donc constituée :\n",
    "\n",
    "* d'un élément de *tête* : $1$,\n",
    "* et d'un *reste* : $\\ell_3 = [4]$.\n",
    "\n",
    "À nouveau on peut répéter le même discours pour la liste $\\ell_3$ qui est donc constituée :\n",
    "\n",
    "* d'un élément de *tête* : $4$,\n",
    "* et d'un *reste* : $\\ell_4 = ()$ vide.\n",
    "\n",
    "La liste $\\ell_4$ étant vide, elle ne possède pas d'élement de tête, et ne peut donc pas être décomposée comme nous venons de le faire à trois reprises.\n",
    "\n",
    "  \n",
    "Si on convient d'utiliser la notation $(x,\\ell)$ pour désigner le couple constitué de l'élément $x$ de tête, et du reste $\\ell$ d'une liste, on peut alors écrire :\n",
    "\n",
    "$\\ell_1 = (3, \\ell_2) = (3, (1, \\ell_3)) = (3, (1, (4, \\ell_4))) = (3, (1, (4, ())))$\n",
    "\n",
    "On conçoit aisément que ce qui vient d'être fait pour notre exemple de  liste $\\ell_1$ peut être reproduit pour n'importe quelle liste.\n",
    "\n",
    "On peut conclure cette approche en donnant une définition abstraite et formelle des listes d'éléments appartenant tous à un ensemble $E$.\n",
    "\n",
    "\n",
    "Une *liste* d'éléments d'un ensemble $E$ est :\n",
    "* soit la liste vide\n",
    "* soit un couple $(x,\\ell)$ constitué d'un élément $x\\in E$ et d'une liste $\\ell$ d'éléments de $E$.\n",
    "\n",
    "Il ressort de cette définition que **les listes peuvent être vues comme des structures de données récursives.**\n",
    "\n",
    "# Implémentation d'une liste chaînée\n",
    "\n",
    "> Dans ce cours, on donne une implémentation de la liste chaînée... parmi plein d'autres possibles\n",
    "\n",
    "La définition formelle ci-dessus permet de comprendre une liste comme une _chaîne_ composée de _cellules_. Chaque cellule contenant :\n",
    "* l'élément stocké (L'entier 3, 1 ou 4 dans notre exemple)\n",
    "* la cellule suivante ou plus exactement la référence vers la cellule suivante\n",
    "\n",
    "## Constructeur de cellule\n",
    "\n",
    "```python\n",
    "class Cellule:    \n",
    "    def __init__(self, element, celluleSuivante):\n",
    "        self.valeur = element\n",
    "        self.suivante = celluleSuivante\n",
    "```\n",
    "\n",
    "Lorsqu’il n’y a pas de cellule suivante, c’est-à-dire lorsque l’on considère la dernière cellule de la liste, on a fait le choix de donner à l’attribut `suivante` la valeur None.\n",
    "\n",
    "La liste $\\ell_1 = [3, 1, 4]$ correspond à l'enchaînement récursif suivant : $\\ell_1 = cellule(3, cellule( 1, cellule(4, None)))$\n",
    "\n",
    "## Constructeur de liste \n",
    "\n",
    "D'après la définition, une liste est\n",
    "* soit la liste vide,\n",
    "* soit une cellule de tête telle que définie ci-dessus\n",
    "\n",
    "```python\n",
    "class ListeChainee:\n",
    "\n",
    "    def __init__(self):\n",
    "        self.tete = None\n",
    "        \n",
    "    def add_cell(self, element):\n",
    "        self.tete = Cellule(element, self.tete)\n",
    "```\n",
    "\n",
    "Dans cette implémentation, on a fait le choix de construire des listes vides (méthode `__init__`). On comprend donc qu'il est nécessaire d'avoir une autre méthode permettant d'ajouter une cellule en tête de la liste. (méthode `add_cell`)\n",
    "\n",
    "**Activité :** Exécuter le programme suivant \"en live\" en suivant les consignes suivantes :\n",
    "* Chaque objet est \"matérialisé\" par un élève de la classe. \n",
    "* Chaque valeur stockée est écrite sur une feuille de papier\n",
    "* Chaque référence vers un objet est désigné en le montrant du doigt.\n",
    "* L'objet `None` est matérialisé par le sol\n",
    "\n",
    "**Remarque :** Vous pouvez tester à la maison ce programme en exécutant la cellule (sous binder)"
   ]
  },
  {
   "cell_type": "code",
   "execution_count": 5,
   "metadata": {},
   "outputs": [
    {
     "name": "nbtutor",
     "output_type": "stream",
     "text": []
    }
   ],
   "source": [
    "%%nbtutor -r -f\n",
    "from listeChainee import *\n",
    "\n",
    "ma_liste = ListeChainee()\n",
    "ma_liste.add_cell('O')\n",
    "ma_liste.add_cell('F')\n",
    "ma_liste.add_cell('N')\n",
    "ma_liste.add_cell('I')"
   ]
  },
  {
   "cell_type": "markdown",
   "metadata": {},
   "source": [
    "#### Sélecteurs\n",
    "\n",
    "Les listes non vides possèdent une tête et un reste. Il nous faut les sélecteurs pour accéder à ces\n",
    "deux composantes. \n",
    "\n",
    "\n",
    "#### Prédicat\n",
    "\n",
    "Un prédicat testant la vacuité d'une liste peut s'avérer utile dans bien des circonstances."
   ]
  }
 ],
 "metadata": {
  "celltoolbar": "Visualize",
  "kernelspec": {
   "display_name": "Python 3",
   "language": "python",
   "name": "python3"
  },
  "language_info": {
   "codemirror_mode": {
    "name": "ipython",
    "version": 3
   },
   "file_extension": ".py",
   "mimetype": "text/x-python",
   "name": "python",
   "nbconvert_exporter": "python",
   "pygments_lexer": "ipython3",
   "version": "3.7.2"
  }
 },
 "nbformat": 4,
 "nbformat_minor": 4
}
