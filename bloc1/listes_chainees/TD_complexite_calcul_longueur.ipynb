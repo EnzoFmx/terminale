{
 "cells": [
  {
   "cell_type": "markdown",
   "metadata": {},
   "source": [
    "> Reprendre les corrigés des fichiers `cellule.py` et `listeChainee.py` et télécharger les.\n",
    "\n",
    "\n",
    "utilisateur vs concepteur\n",
    "\n",
    "\n",
    "# Préliminaire\n",
    "\n",
    "> Dans cette partie, vous devez utiliser les outils proposés par l'interface des listes chaînées (ce sont les méthodes écrites dans la classe `listeChainee`). Vous êtes donc **UTILISATEUR** de la classe `listeChainee` que vous manipulez grâce à son **INTERFACE**\n",
    "\n",
    "boucle for !!\n",
    "\n",
    "1. Alice a obtenu les notes de 12, 15 ,8 et 17 en informatique. Ecrire les instructions permettant de générer une listeChainée appelée `listeNote` contenant les notes d'Alice.\n",
    "2. Ecrire un programme qui calcule la moyenne d'Alice en informatique. \n",
    "\n",
    "\n",
    "# Partie 1 : Améliorer l'efficacité du calcul de longueur d'une liste\n",
    "\n",
    "> Dans cette partie, vous allez intervenir \"sous le capot\" de la classe `listeChainee`. Vous n'êtes donc plus utilisateur de la classe `listeChainee` mais un **CONCEPTEUR** de cette classe et vous travaillez sur son **IMPLEMENTATION** \n",
    "\n",
    "1. Quelle est la complexité du calcul de longueur dans le code proposé?\n",
    "2. Proposer une stratégie pour améliorer l'efficacité du calcul de longueur d'une liste\n",
    "3. Implémenter cette solution et tester\n",
    "\n",
    "> Nous avons amélioré l'implémentation de la liste chaînée. Mais les utilisateurs de la classe `listeChainee` s'y retrouvent-ils ? leur code est-il toujours opérationnel ?\n",
    "\n",
    "4. Le programme permettant de calculer la moyenne d'Alice est-il toujours opérationnel ? Tester. Si ce n'est pas le cas, comment rendre vos modifications \"transparentes\" du point de vue de l'utilisateur de la classe `listeChainee`. Pourquoi cela est-il important ?\n",
    "\n",
    "\n",
    "# Partie 2 : de la nécessité de protéger l'implémentation\n",
    "\n",
    "**Petite Démo :** L'attribut longueur peut être manipulé par l'**utilisateur** ce qui peut être catastrophique..."
   ]
  }
 ],
 "metadata": {
  "kernelspec": {
   "display_name": "Python 3",
   "language": "python",
   "name": "python3"
  },
  "language_info": {
   "codemirror_mode": {
    "name": "ipython",
    "version": 3
   },
   "file_extension": ".py",
   "mimetype": "text/x-python",
   "name": "python",
   "nbconvert_exporter": "python",
   "pygments_lexer": "ipython3",
   "version": "3.7.2"
  }
 },
 "nbformat": 4,
 "nbformat_minor": 4
}
