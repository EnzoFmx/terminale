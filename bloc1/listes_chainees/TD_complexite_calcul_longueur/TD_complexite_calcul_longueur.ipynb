{
 "cells": [
  {
   "cell_type": "markdown",
   "metadata": {},
   "source": [
    "> Reprendre les corrigés des fichiers `cellule.py` et `listeChainee.py` depuis `terminale/bloc1/MiniProjet_implementation_liste_chainee_correction` et télécharger les.\n",
    "\n",
    "# Partie 1 : Application des listes chaînées\n",
    "\n",
    "> Dans cette partie, vous devez utiliser les outils proposés par l'interface des listes chaînées (ce sont les méthodes écrites dans la classe `listeChainee`). Vous êtes donc **UTILISATEUR** de la classe `listeChainee` que vous manipulez grâce à son **INTERFACE**\n",
    "\n",
    "1. Alice a obtenu les notes de 12, 15 ,8 et 17 en informatique. Ecrire un programme python permettant de générer une listeChainée appelée `listeNote` contenant les notes d'Alice.\n",
    "\n",
    "\n",
    "2. Ecrire une fonction `moyenne` qui :\n",
    "    * prend en paramètre une liste de notes (`ListeChainee`)\n",
    "    * renvoie la moyenne de cette liste de notes (`float`). \n",
    "\n",
    "\n",
    "3. Tester la fonction `moyenne` sur la liste de notes d'Alice\n",
    "\n",
    "# Partie 2 : Améliorer l'efficacité du calcul de longueur d'une liste\n",
    "\n",
    "> Dans cette partie, vous allez intervenir \"sous le capot\" de la classe `listeChainee`. Vous n'êtes donc plus utilisateur de la classe `listeChainee` mais un **CONCEPTEUR** de cette classe et vous travaillez sur son **IMPLEMENTATION** \n",
    "\n",
    "1. Quelle est la complexité du calcul de longueur dans le code proposé?\n",
    "\n",
    "2. Proposer une stratégie pour améliorer l'efficacité du calcul de longueur d'une liste\n",
    "\n",
    "3. Implémenter cette solution\n",
    "4. Tester votre implémentation à l'aide du code ci-dessous :"
   ]
  },
  {
   "cell_type": "code",
   "execution_count": 5,
   "metadata": {},
   "outputs": [],
   "source": [
    "from listeChainee import *\n",
    "\n",
    "liste = ListeChainee()\n",
    "assert len(liste) == 0, 'echec dans votre code'\n",
    "liste.add_cell('d')\n",
    "assert len(liste) == 1, 'echec dans votre code' \n",
    "liste.add_cell('c')\n",
    "assert len(liste) == 2, 'echec dans votre code'\n",
    "liste.add_cell('b')\n",
    "assert len(liste) == 3, 'echec dans votre code'\n",
    "liste.add_cell('a')\n",
    "assert len(liste) == 4, 'echec dans votre code'    \n",
    "liste.insert(4,'e')\n",
    "assert len(liste) == 5, 'echec dans votre code'    \n",
    "liste2 = liste + liste\n",
    "assert len(liste2) == 10, 'echec dans votre code'\n",
    "del liste[3]\n",
    "assert len(liste) == 4, 'echec dans votre code'\n",
    "del liste[1]\n",
    "assert len(liste) == 3, 'echec dans votre code'\n",
    "del liste[1]\n",
    "assert len(liste) == 2, 'echec dans votre code'    \n",
    "del liste[0]\n",
    "assert len(liste) == 1, 'echec dans votre code'"
   ]
  },
  {
   "cell_type": "markdown",
   "metadata": {},
   "source": [
    "> Nous avons amélioré l'implémentation de la liste chaînée. Mais les utilisateurs de la classe `listeChainee` s'y retrouvent-ils ?\n",
    "\n",
    "4. Le programme permettant de calculer la moyenne d'Alice est-il toujours opérationnel ? Tester. Si ce n'est pas le cas, comment rendre vos modifications \"transparentes\" du point de vue de l'utilisateur de la classe `listeChainee`. Pourquoi cela est-il important ?\n",
    "\n",
    "# Partie 3 : de la nécessité de protéger l'implémentation\n",
    "\n",
    "> Il n'est pas bon qu'un conducteur lambda mette les mains sous le capot de la voiture et commence à bidouiller : cela pourrait engendrer des pannes\n",
    "\n",
    "1. Un **utilisateur** a écrit le code suivant. Tester-le. Quel problème y-a-t'il ?"
   ]
  },
  {
   "cell_type": "code",
   "execution_count": 2,
   "metadata": {},
   "outputs": [
    {
     "name": "stdout",
     "output_type": "stream",
     "text": [
      "Voici ma listes de notes : 18 9 14 13\n",
      "Il y a 3 notes dans ma liste\n"
     ]
    }
   ],
   "source": [
    "from listeChainee import *\n",
    "\n",
    "listeNotes = ListeChainee()\n",
    "listeNotes.add_cell(13)\n",
    "listeNotes.longueur = 0\n",
    "listeNotes.add_cell(14)\n",
    "listeNotes.add_cell(9)\n",
    "listeNotes.add_cell(18)\n",
    "\n",
    "print(\"Voici ma listes de notes :\", listeNotes[0], listeNotes[1], listeNotes[2], listeNotes[3])\n",
    "print(\"Il y a\", len(listeNotes), \"notes dans ma liste\")\n"
   ]
  },
  {
   "cell_type": "markdown",
   "metadata": {},
   "source": [
    "2. A quel endroit l'**utilisateur** a t'il mis la \"main sous le capot\" de la classe `listeChainee`, c'est-à-dire à quel endroit est-il intervenu dans l'implémentation ? (alors que comme tout bon utilisateur non averti, il ne devrait intervenir que sur l'interface)\n",
    "\n",
    "## Comment éviter que l'utilisateur \"casse\" l'objet ?\n",
    "\n",
    "Tout dépend du langage... et de sa philosophie\n",
    "\n",
    "* Dans certains langages comme [java](https://fr.wikipedia.org/wiki/Java_(langage)), le **concepteur** a la possibilité de rendre **privé** certaines méthodes et attributs \"sensibles\" ou de contrôler les actions de l'utilisateur sur ceux-ci grâce à des \"getter\" et des \"setter\". Un choix a été fait : contrôler l'utilisateur pour qu'il ne \"casse rien\"\n",
    "\n",
    "\n",
    "* en Python, la philosophie est différente : il n'y a pas de notion d'attributs privés : tout est public. Le choix a été fait de laisser toute la liberté aux utilisateurs, y compris de faire nimporte quoi (et tant pis pour eux si plus rien ne marche)  \n",
    "Néanmoins, les bonnes pratiques veulent qu'on avertisse quand même les utilisateurs. Pour cela, la convention veut que le nom des attributs ou méthodes sensibles commencent tous par `__`. Ainsi quand un utilisateur voit quelquechose qui commence par `__`, il est au courant du danger et donc à ses risques et périls...\n",
    "\n",
    "\n",
    "**Remarque :** Certains utilisateurs de python pensent qu'un nom d'attribut commençant par `__` le rend privé. (Et en effet, vous pouvez essayer, il n'est plus accessible en lecture). Néanmoins cela reste inexact et quelques manipulations \"simples\" permettent de passer outre cet \"interdit\". En fait, la vérité est qu'il n'y a pas d'interdit, juste un avertissement et que en python, tout est public !"
   ]
  }
 ],
 "metadata": {
  "kernelspec": {
   "display_name": "Python 3",
   "language": "python",
   "name": "python3"
  },
  "language_info": {
   "codemirror_mode": {
    "name": "ipython",
    "version": 3
   },
   "file_extension": ".py",
   "mimetype": "text/x-python",
   "name": "python",
   "nbconvert_exporter": "python",
   "pygments_lexer": "ipython3",
   "version": "3.7.2"
  }
 },
 "nbformat": 4,
 "nbformat_minor": 4
}
