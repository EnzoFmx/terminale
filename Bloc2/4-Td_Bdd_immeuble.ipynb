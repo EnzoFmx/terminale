{
 "cells": [
  {
   "cell_type": "markdown",
   "metadata": {},
   "source": [
    "# Td Base de donnée \"Immeubles\"\n",
    "\n",
    "La base de donnée utilisée dans ce TP est a récupérer via le lien suivant ( Enregistrer le lien sous ) :\n",
    "%%html\n",
    "<a href=\"http://localhost:8889/edit/terminale-master/Bloc2/Bdd/Bdd_immeubles.db\">Lien</a>\n",
    "\n",
    "A partir de la base de donnée fourni vous effectuerez les différentes requêtes sous **\"DB Browser\"**<br>\n",
    "## chaque requête sera a sauvegarder sous la forme d'une vue  type \"Req+N°de question\" dans la base.\n",
    "\n",
    "Par exemple : \n",
    "\n",
    "```sql\n",
    "    Create view Req1 as \"Select .....from..... votre réponse\"\n",
    "```\n",
    "\n",
    "### La base modifiée avec vos \"Vues\" sera a déposer sur votre Github dans le dossier **/Bloc2/**\n",
    "<br><br>\n",
    "\n",
    "Exprimez les requêtes suivantes sous forme d'une seule requête Sql.\n",
    "\n",
    "    1) Le nom des immeubles ayant strictement plus de 10 étages.\n",
    "    \n",
    "    2) Le nom des personnes ayant emménagé avant 1994.\n",
    "    \n",
    "    3) Qui habite le Koudalou ?\n",
    "    \n",
    "    4) Le nom des informaticiens de plus de 40 ans.\n",
    "    \n",
    "    5) Le nom des immeubles ayant un appartement de plus de 150m²\n",
    "    \n",
    "    6) Quel est le nom du gérant qui s'occupe de l'immeuble de Rachel ?\n",
    "    \n",
    "    7) Dans quel immeuble habite un acteur ?\n",
    "    \n",
    "    8) Qui habite un appartement de moins de 70m² ?\n",
    "    \n",
    "    9) Le nom des personnes qui habitent au dernier étage de leur immeuble\n",
    "    \n",
    "    10) Qui a emménagé au moins 20 ans aprés la construction de son immeuble?\n",
    "    \n",
    "    11) Quel est la profession du gérant de Barabas ?\n",
    "    \n",
    "    12) Y a-t-il des personnes qui ont  emménagé dans le même immeuble la même année?\n",
    "    \n",
    "    13) Age et profession des occupants de l'immeuble géré par Ross ?\n",
    "    \n",
    "    14) Qui habite dans un immeuble de plus de 10 étages et d'une superficie supérieur a 100 m² ?\n",
    "\n",
    "    15) Qui n'habite pas dans un immeuble géré par Doug ?\n",
    "    \n",
    "    16) Qui n'habite pas dans un appartement qu'il gère lui même ?\n",
    "    \n",
    "    17) Quels sont les immeubles où personne n'a emménégé en 1996 et 1993 ?\n",
    "    \n",
    "    18 ) Quel est la surface moyenne des appartements dans l'immeuble Koudalou ?\n",
    "    \n",
    "    19) Quel est l'âge moyen des habitant de la résidence Barabas?\n",
    "    \n",
    "    20) Quel est la l'âge moyen des occupants par immeubles ?\n",
    "    \n",
    "    21) Quel âge avait les immeubles quand les premiers résidents ont emménagés ?\n",
    "    \n",
    "    22) En quelle année sont arrivés les premiers et derniers arrivants par immeubles."
   ]
  },
  {
   "cell_type": "code",
   "execution_count": null,
   "metadata": {},
   "outputs": [],
   "source": []
  }
 ],
 "metadata": {
  "kernelspec": {
   "display_name": "Python 3",
   "language": "python",
   "name": "python3"
  },
  "language_info": {
   "codemirror_mode": {
    "name": "ipython",
    "version": 3
   },
   "file_extension": ".py",
   "mimetype": "text/x-python",
   "name": "python",
   "nbconvert_exporter": "python",
   "pygments_lexer": "ipython3",
   "version": "3.8.0"
  },
  "latex_envs": {
   "LaTeX_envs_menu_present": true,
   "autoclose": false,
   "autocomplete": true,
   "bibliofile": "biblio.bib",
   "cite_by": "apalike",
   "current_citInitial": 1,
   "eqLabelWithNumbers": true,
   "eqNumInitial": 1,
   "hotkeys": {
    "equation": "Ctrl-E",
    "itemize": "Ctrl-I"
   },
   "labels_anchors": false,
   "latex_user_defs": false,
   "report_style_numbering": false,
   "user_envs_cfg": false
  }
 },
 "nbformat": 4,
 "nbformat_minor": 4
}
