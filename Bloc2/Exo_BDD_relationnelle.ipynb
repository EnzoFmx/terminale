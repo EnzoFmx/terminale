{
 "cells": [
  {
   "cell_type": "markdown",
   "metadata": {},
   "source": [
    " \n",
    "   # Base de donnée relationnelle\n",
    "   \n",
    "   1) analyse relation\n",
    "   \n",
    "   ![Exo1](img/Exo_Bdd_1.PNG)\n",
    "   \n",
    "   Listez les différents attributs de cette relation. Donnez le domaine de chaque attribut.<br>\n",
    "   Pour chaque attribut dire si cet attribut peut jouer le rôle de clef primaire, et justifier vos réponses.\n",
    "   \n",
    "   \n",
    "<br><br><br><br><br><br><br><br><br><br>\n",
    "\n",
    "   2) \"lien\" entre relations :\n",
    "   \n",
    "   Ridley Scott né le 30 novembre 1937.<br>\n",
    "   David Lynch né le 20 janvier 1946<br>\n",
    "   Stanley Kubrick né le 26 juillet 1928\n",
    "   \n",
    "   En partant de la relation FILMS de l'exercice 1 et des informations concernant les réalisateurs.<br>\n",
    "   créez une relation REALISATEURS  (attributs de la relation REALISATEURS : id, nom, prenom et ann_naissance)\n",
    "   \n",
    "   Vous préciserez :\n",
    "\n",
    "    *Les noms des différentes relations<br>\n",
    "    *pour chaque relation, la liste des attributs avec leur domaine respectif<br>\n",
    "    *pour chaque relation, la clef primaire et éventuellement la clef étrangèr\n",
    "   "
   ]
  }
 ],
 "metadata": {
  "kernelspec": {
   "display_name": "Python 3",
   "language": "python",
   "name": "python3"
  },
  "language_info": {
   "codemirror_mode": {
    "name": "ipython",
    "version": 3
   },
   "file_extension": ".py",
   "mimetype": "text/x-python",
   "name": "python",
   "nbconvert_exporter": "python",
   "pygments_lexer": "ipython3",
   "version": "3.8.0"
  },
  "latex_envs": {
   "LaTeX_envs_menu_present": true,
   "autoclose": false,
   "autocomplete": true,
   "bibliofile": "biblio.bib",
   "cite_by": "apalike",
   "current_citInitial": 1,
   "eqLabelWithNumbers": true,
   "eqNumInitial": 1,
   "hotkeys": {
    "equation": "Ctrl-E",
    "itemize": "Ctrl-I"
   },
   "labels_anchors": false,
   "latex_user_defs": false,
   "report_style_numbering": false,
   "user_envs_cfg": false
  }
 },
 "nbformat": 4,
 "nbformat_minor": 4
}
