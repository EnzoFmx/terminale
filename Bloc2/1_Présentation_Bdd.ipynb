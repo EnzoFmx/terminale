{
 "cells": [
  {
   "cell_type": "markdown",
   "metadata": {},
   "source": [
    " \n",
    "   # Base de données : Introduction\n",
    " \n",
    " Exemple du Cloud. \n",
    " \n",
    " <video controls src=\"media/video-cloud.mp4\">animation</video>\n",
    "   \n",
    "   \n",
    "   \n",
    "   L'année dernière Vous avez eu l'occasion de travailler sur des données structurées en les stockant dans des fichiers au format CSV. Même si cette méthode de stockage de l'information peut s'avérer pratique dans certains cas précis, il est souvent souhaitable d'utiliser une base de données pour stocker des données.\n",
    "\n",
    "    Le terme base de données est apparu au début des années 60. C'est l'apparition des disques durs à la fin des années 50 qui a permis d'utiliser les ordinateurs pour stocker et manipuler des données. Avec l'apparition du Web, la quantité de données à stocker a littéralement explosé. Aujourd'hui, la plupart des sites internet (du petit site personnel au grand site d'e-commerce) utilisent au moins une base de données. Les bases de données jouent un rôle fondamental dans notre monde devenu numérique où il est extrêmement facile de dupliquer l'information. Voilà pourquoi nous allons cette année les étudier.\n",
    "    \n",
    "    \n",
    "### Trouvez des exemples de domaines d'activité où les bases de données jouent un rôle primordial.\n",
    "\n",
    "\n",
    "    \n",
    "Dans une base de données, l'information est stockée dans des fichiers, mais à la différence des fichiers au format CSV, il n'est pas possible de travailler sur ces données avec un simple éditeur de texte. \n",
    "\n",
    "Pour manipuler les données présentes dans une base de données (écrire, lire ou encore modifier), il est nécessaire d'utiliser un type de logiciel appelé \"système de gestion de base de données\" très souvent abrégé en **SGBD**.\n",
    "\n",
    "Il est en effet souvent nécessaire de contrôler les accès par exemple en permettant à l'utilisateur A de lire et d'écrire dans la base de données alors que l'utilisateur B aura uniquement la possibilité de lire les informations contenues dans cette même base de données.\n",
    "\n",
    "les fichiers des bases de données sont stockés sur des disques durs dans des ordinateurs, ces ordinateurs peuvent subir des pannes. Il est souvent nécessaire que l'accès aux informations contenues dans une base de données soit maintenu, même en cas de panne matérielle.\n",
    "Les bases de données sont donc dupliquées sur plusieurs ordinateurs afin qu'en cas de panne d'un ordinateur A, un ordinateur B contenant une copie de la base de données présente dans A, puisse prendre le relais.\n",
    "\n",
    "Plusieurs personnes peuvent avoir besoin d'accéder aux informations contenues dans une base données en même temps. Cela peut parfois poser problème, notamment si les 2 personnes désirent modifier la même donnée au même moment (on parle **d'accès concurrents**). Ces problèmes d'accès concurrents sont aussi gérés par les SGBD.\n",
    "\n",
    "Comme nous venons de la voir, les SGBD jouent un rôle fondamental. L'utilisation des SGBD explique en partie la supériorité de l'utilisation des bases de données sur des solutions plus simples à mettre en oeuvre; mais aussi beaucoup plus limitées comme les fichiers au format CSV.\n",
    "\n",
    "* Définitions\n",
    "\n",
    "**Base de données** : Une base de données (en anglais database), est une structure numérique virtuelle dans laquelle on stocke des données en rapport avec une activité ou un thème. Par exemple : Base de données regroupant les coordonnées des élèves d'un Lycée.<br>\n",
    "**Base de donnée relationnelle** : une base de donnée est dite relationnelles lorsqu'elle permet de relier des données entre elles. Par exemple une base de données de Lycée recense l'ensemble des classes et l'ensemble des élèves. Il est possible avec une BD relationnelle les lier les élèves à la classe, afin de trouver rapidement la composition d'une classe ou la classe d'un élève.\n",
    "\n",
    "![eleve](img/eleves.PNG)\n",
    "\n",
    "**Système de gestion de base de données** : Les données sont organisées entre elles afin de faciliter leurs traitements (recherche, ajout, suppression, modification, insertion).<br>\n",
    "On appelle Système de Gestion de Base de Données (**SGBD**) les outils logiciels permettant de gérer facilement et rapidement une base de données.\n",
    "Les plus connus sont :\n",
    " \n",
    "* Oracle Database, Microsoft SQL Server : SGBD propriétaires\n",
    "* MySQL : SGBD libre\n",
    "* SQLLite : système embarqué\n",
    "* MongoDB : SGBD qui ne repose pas sur le langage SQL\n",
    "* Access, OpenOffice Base : SGBD intégrés dans des suites bureautiques "
   ]
  },
  {
   "cell_type": "code",
   "execution_count": null,
   "metadata": {},
   "outputs": [],
   "source": []
  }
 ],
 "metadata": {
  "kernelspec": {
   "display_name": "Python 3",
   "language": "python",
   "name": "python3"
  },
  "language_info": {
   "codemirror_mode": {
    "name": "ipython",
    "version": 3
   },
   "file_extension": ".py",
   "mimetype": "text/x-python",
   "name": "python",
   "nbconvert_exporter": "python",
   "pygments_lexer": "ipython3",
   "version": "3.8.0"
  },
  "latex_envs": {
   "LaTeX_envs_menu_present": true,
   "autoclose": false,
   "autocomplete": true,
   "bibliofile": "biblio.bib",
   "cite_by": "apalike",
   "current_citInitial": 1,
   "eqLabelWithNumbers": true,
   "eqNumInitial": 1,
   "hotkeys": {
    "equation": "Ctrl-E",
    "itemize": "Ctrl-I"
   },
   "labels_anchors": false,
   "latex_user_defs": false,
   "report_style_numbering": false,
   "user_envs_cfg": false
  }
 },
 "nbformat": 4,
 "nbformat_minor": 4
}
