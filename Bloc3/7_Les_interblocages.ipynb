{
 "cells": [
  {
   "cell_type": "markdown",
   "metadata": {},
   "source": [
    " # <div align=\"center\">Les interblocages</div>"
   ]
  },
  {
   "cell_type": "markdown",
   "metadata": {},
   "source": [
    "Nous avons vu précédemment que des processus peuvent avoir besoin de la même ressource simultanément.<br>\n",
    "\n",
    "Dans de nombreux cas, deux processus (ou plus) peuvent vouloir accéder à la même donnée sur le disque dur:\n",
    "\n",
    "  * Les deux processus ont uniquement besoin de lire la donnée : celle ci est alors partagée, sans problème complexe.\n",
    "  * Les deux processus ont besoin de la donnée de manière **exclusive**, pour la modifiér par exemple.\n",
    "  * les deux propcessus ont besoin de communiquer entre eux : l'un doit attendre un résultat de l'autre.\n",
    "\n"
   ]
  },
  {
   "cell_type": "markdown",
   "metadata": {},
   "source": [
    "![Von](img/InerBloc1.png)"
   ]
  },
  {
   "cell_type": "markdown",
   "metadata": {},
   "source": [
    "Dans le schéma ci-dessus , les processus P1 et P2 ont tous les deux besoins de la même donnée pour la modifiér, c'est a dire de manière **exclusive**.<br>\n",
    "Le premier à y acceder est P1, la donnée lui est **allouée** par le système d'exploitation.<br>\n",
    "Lorsque le processus P2 shouhaite y accéder, la ressource n'est pas disponible :\n",
    "   * P2 se retrouve bloqué jusqu'à la fin de l'utilisation de la donnée par P1"
   ]
  },
  {
   "cell_type": "markdown",
   "metadata": {},
   "source": [
    "Prenont cet autre exemple.\n",
    "![Von](img/InerBloc2.png)"
   ]
  },
  {
   "cell_type": "markdown",
   "metadata": {},
   "source": [
    "Deux processus P1 et P2 ont tous les deux besoins de deux données , D1 et D2.\n",
    "Cette situation peut se produire:<br>\n",
    "Chaque processus bloque une donnée et est en attente de l'autre, rien ne pourra évoluer sans une intervention extérieure:\n",
    "   * Cette situation porte le nom **d'interblocage**\n",
    "   "
   ]
  },
  {
   "cell_type": "markdown",
   "metadata": {},
   "source": [
    "Face à cette problématique , deux solutions sont envisageables:\n",
    "   * Essayer d'éviter un interblocage;\n",
    "   * Détecter qu'un interblocage est apparu et le supprimer.essayer d'éviter les interblocages"
   ]
  },
  {
   "cell_type": "markdown",
   "metadata": {},
   "source": [
    "La plupart des système d'exploitation (OS) ont choisi de ne pas essayer d'éviter les interblocages, mains uniquement de les détecter et s'ils surviennent de les solutionner"
   ]
  },
  {
   "cell_type": "code",
   "execution_count": null,
   "metadata": {},
   "outputs": [],
   "source": []
  }
 ],
 "metadata": {
  "kernelspec": {
   "display_name": "Python 3",
   "language": "python",
   "name": "python3"
  },
  "language_info": {
   "codemirror_mode": {
    "name": "ipython",
    "version": 3
   },
   "file_extension": ".py",
   "mimetype": "text/x-python",
   "name": "python",
   "nbconvert_exporter": "python",
   "pygments_lexer": "ipython3",
   "version": "3.8.0"
  },
  "latex_envs": {
   "LaTeX_envs_menu_present": true,
   "autoclose": false,
   "autocomplete": true,
   "bibliofile": "biblio.bib",
   "cite_by": "apalike",
   "current_citInitial": 1,
   "eqLabelWithNumbers": true,
   "eqNumInitial": 1,
   "hotkeys": {
    "equation": "Ctrl-E",
    "itemize": "Ctrl-I"
   },
   "labels_anchors": false,
   "latex_user_defs": false,
   "report_style_numbering": false,
   "user_envs_cfg": false
  }
 },
 "nbformat": 4,
 "nbformat_minor": 4
}
