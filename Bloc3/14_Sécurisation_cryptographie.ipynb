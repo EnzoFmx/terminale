{
 "cells": [
  {
   "cell_type": "markdown",
   "metadata": {},
   "source": [
    " # <div align=\"center\">Sécurisation des communications</div>"
   ]
  },
  {
   "cell_type": "markdown",
   "metadata": {},
   "source": [
    "Pour qu’un message entre deux machines dans un réseau informatique ne puisse pas être compréhensible s’il est intercepté, il faut qu’il soit chiffré.\n",
    "Il y a deux manières principales pour le faire:\n",
    "   * Par un chiffrement symétrique qui utilise une clé unique, connue seulement de l’émetteur et du récepteur. L’émetteur chiffre le message avec la clé et le récepteur le déchiffre avec la même clé.\n",
    "   * Par un chiffrement asymétrique qui utilise un couple de clé, l’une publique connue de tout le monde, l’autre privée connue uniquement par le récepteur. L’émetteur chiffre le message avec la clé publique. Le récepteur le déchiffre avec la clé privée. Ces deux méthodes de chiffrement sont utilisées lorsqu’un navigateur demande une page web avec le protocole HTTPS.<br>\n",
    "\n",
    "\n",
    "Dans le schéma ci-dessous, on a représenté les échanges de communications entre un client\n",
    "et un serveur avec le protocole HTTPS."
   ]
  },
  {
   "cell_type": "markdown",
   "metadata": {},
   "source": [
    "![Crypto](img/https.png)\n",
    "Les échanges entre client et serveur se font avec un chiffrement symétrique (clé K2) après que celle-ci ait été échangée avec un chiffrement asymétrique."
   ]
  },
  {
   "cell_type": "markdown",
   "metadata": {},
   "source": [
    "### <div align=\"center\"> Le chiffrement symétrique </div>\n",
    "Dans un **chiffrement symétrique**, la clé utilisée par l’expéditeur pour chiffrer le message est la même que celle utilisée par le récepteur pour déchiffrer le message.<br>\n",
    "\n",
    "*Un premier exemple* : **Le codage de César** avec une clé de 13.\n",
    "En ne considérant que les lettres en majuscule et non accentuées, notre alphabet se réduit à 26 lettres ABCDEFGHIJKLMNOPQRSTUVWXYZ)\n",
    "Avec un décalage de 13 : (A!N) et (N!A). On utilise bien la même clé, il s’agit donc d’un chiffrement symétrique.<br>\n",
    "\n",
    "\n",
    "Par exemple le message **'BONJOUR, COMMENT ALLEZ-VOUS'** se code par :<br>\n",
    "**'OBAWBHE, PBZZRAG NYYRM-IBHF'** (seules les lettres ont été codées...) et le déchiffrement nous redonne bien le message d’origine."
   ]
  },
  {
   "cell_type": "markdown",
   "metadata": {},
   "source": [
    "A vous:\n",
    "Écrire un programme en python qui réalise ce chiffrement de César avec une clé de 13. On pourra utiliser ce dictionnaire et la méthode get associée par exemple."
   ]
  },
  {
   "cell_type": "code",
   "execution_count": 5,
   "metadata": {},
   "outputs": [],
   "source": [
    "d = {chr(i+65): chr((i+13)%26+65) for i in range(26)}"
   ]
  },
  {
   "cell_type": "markdown",
   "metadata": {},
   "source": [
    "Ce type de syntaxe ne vous semble pas familier ? essayer le code ci-dessous ."
   ]
  },
  {
   "cell_type": "code",
   "execution_count": 4,
   "metadata": {},
   "outputs": [
    {
     "name": "stdout",
     "output_type": "stream",
     "text": [
      "A -> N\n",
      "B -> O\n",
      "C -> P\n",
      "D -> Q\n",
      "E -> R\n",
      "F -> S\n",
      "G -> T\n",
      "H -> U\n",
      "I -> V\n",
      "J -> W\n",
      "K -> X\n",
      "L -> Y\n",
      "M -> Z\n",
      "N -> A\n",
      "O -> B\n",
      "P -> C\n",
      "Q -> D\n",
      "R -> E\n",
      "S -> F\n",
      "T -> G\n",
      "U -> H\n",
      "V -> I\n",
      "W -> J\n",
      "X -> K\n",
      "Y -> L\n",
      "Z -> M\n"
     ]
    }
   ],
   "source": [
    "for i in range(26):\n",
    "    print(chr(i+65) + \" -> \" +  chr((i+13)%26+65))"
   ]
  },
  {
   "cell_type": "markdown",
   "metadata": {},
   "source": [
    "*Un second exemple* : Utilisation de **XOR**<br>\n",
    "XOR est une opération de logique bit à bit qui renvoie 0 si les deux bits sont égaux et 1 sinon.\n",
    "Une particularité de cette opération est : \n",
    "* Si b1 xor b2 = b3 \n",
    "* alors b1 xor b3 = b2 \n",
    "* et b2 xor b3 = b1\n",
    "\n",
    "\n",
    "Ce qui permet un chiffrement symétrique :<br>\n",
    "Prenons le mot **'bonjour'** dont le code Unicode est donné par ce programme\n"
   ]
  },
  {
   "cell_type": "code",
   "execution_count": 33,
   "metadata": {},
   "outputs": [
    {
     "name": "stdout",
     "output_type": "stream",
     "text": [
      "98 111 110 106 111 117 114 "
     ]
    }
   ],
   "source": [
    "m = \"bonjour\"\n",
    "for c in m:\n",
    "    print(ord(c),end=' ')"
   ]
  },
  {
   "cell_type": "markdown",
   "metadata": {},
   "source": [
    "Soit : 98 111 110 106 111 117 114<br>\n",
    "Le mot **'nsi'** va nous servir de clé : ('nsi' ! 110 115 105)<br>\n",
    "La méthode consiste alors à aligner le mot et la clé en la répétant autant de fois que nécessaire et d’effectuer un XOR entre les codes Unicode:"
   ]
  },
  {
   "cell_type": "markdown",
   "metadata": {},
   "source": [
    "| |  |  |  |  |  |  |\n",
    "|---|---|---|---|---|---|---|\n",
    "|b| o| n| j| o| u| r|\n",
    "|98| 111 |110| 106| 111| 117| 114|\n",
    "|n| s| i| n| s |i |n\n",
    "|110| 115| 105| 110| 115| 105| 110|"
   ]
  },
  {
   "cell_type": "markdown",
   "metadata": {},
   "source": [
    "En pratiquant un XOR lettre par lettre entre les nombres obtenus (après une écriture en binaire...), on obtient les codes Unicode suivant:<br>\n",
    "12 28 7 4 28 28 28<br>\n",
    "(que l’on pourrait transformer en caractères mais ce n’est pas très utile...)"
   ]
  },
  {
   "cell_type": "markdown",
   "metadata": {},
   "source": [
    "Pour décoder le message, il suffit alors de recommencer l’opération avec les codes Unicode du message chiffré en utilisant la même clé:<br>\n",
    "(12 xor 110 ! 98 donc ’b’) etc.<br>\n",
    "En Python l’opérateur **^** permet d’effectuer un xor directement sur deux entiers.<br>\n",
    "Le programme suivant chiffre un message en utilisant cette méthode:"
   ]
  },
  {
   "cell_type": "code",
   "execution_count": 14,
   "metadata": {},
   "outputs": [
    {
     "name": "stdout",
     "output_type": "stream",
     "text": [
      "[12, 28, 7, 4, 28, 28, 28]\n"
     ]
    }
   ],
   "source": [
    "def chiffre(message,key):\n",
    "    c = []\n",
    "    n = len(message)\n",
    "    m = len(key)\n",
    "    j = 0\n",
    "    for i in range(n):\n",
    "        c.append(ord(message[i]) ^ ord(key[j]))\n",
    "        j = (j+1)%m\n",
    "    return c\n",
    "print(chiffre(\"bonjour\",\"nsi\"))"
   ]
  },
  {
   "cell_type": "markdown",
   "metadata": {},
   "source": [
    "Ce qui donne en console:<br>\n",
    "\n",
    "[47, 22, 29, 30, 135, 7, 23, 65, 89, 16, 27, 133, 31, 0, 3, 13, 83, 21,132, 30, 0, 23, 84, 5, 27, 157, 1, 69, 82] <br>\n",
    "\n",
    "Chaque nombre peut être converti en caractère (le contenu complet du message est chiffré,y compris les caractères de ponctuation et d’espace)."
   ]
  },
  {
   "cell_type": "markdown",
   "metadata": {},
   "source": [
    "**A vous:**<br>\n",
    "* 1) Modifier la fonction chiffre pour qu’elle renvoie le message chiffré (avec les caractères)\n",
    "* 2) Écrire une fonction dechiffre qui prend en paramètres le message chiffré et la clé et qui renvoie le message déchiffré"
   ]
  },
  {
   "cell_type": "markdown",
   "metadata": {},
   "source": [
    "### <div align=\"center\"> Chiffrement asymétrique </div>"
   ]
  },
  {
   "cell_type": "markdown",
   "metadata": {},
   "source": [
    "Pour reprendre l’exemple du code de César, il suffit de choisir une autre clé que 13 pour obtenir un chiffrement asymétrique, c’est à dire où la clé de chiffrement et de déchiffrement ne sont pas identiques.\n",
    "Si la clé de chiffrement est 9, la clé de déchiffrement est de 17 (26 - 9)."
   ]
  },
  {
   "cell_type": "markdown",
   "metadata": {},
   "source": [
    "A vous:<br>\n",
    "Écrire un programme qui chiffre et déchiffre le message 'VIVE NSI A JEAN ROSTAND' pour\n",
    "illustrer le chiffrement asymétrique avec le code de César"
   ]
  },
  {
   "cell_type": "markdown",
   "metadata": {},
   "source": [
    "### <div align=\"center\"> Le système RSA simplifié</div>"
   ]
  },
  {
   "cell_type": "markdown",
   "metadata": {},
   "source": [
    "**Le principe:** <br>\n",
    "Prenons la lettre 'b' dont le code Unicode est 98<br>\n",
    "\n",
    "**Methode:** <br>\n",
    "La **clé publique** pour notre exemple est : (e;n) = (41;437)<br>\n",
    "n = 437 est le produit de deux nombres premiers (437 = 23*19), on considère alors l’entier;<br>\n",
    "f = (23 - 1) * (19 - 1) = 22 * 18 = 396 et on choisit e = 41 un nombre premier inférieur à f .<br>\n"
   ]
  },
  {
   "cell_type": "markdown",
   "metadata": {},
   "source": [
    "Pour coder la lettre **'b'** on détermine le reste de la division Euclidienne de **98**<sup>e</sup> par n.\n",
    "Ce qui donne ici **110**, c’est à dire la lettre **'n'**"
   ]
  },
  {
   "cell_type": "code",
   "execution_count": 32,
   "metadata": {},
   "outputs": [
    {
     "data": {
      "text/plain": [
       "110"
      ]
     },
     "execution_count": 32,
     "metadata": {},
     "output_type": "execute_result"
    }
   ],
   "source": [
    "(98**41)%437"
   ]
  },
  {
   "cell_type": "code",
   "execution_count": 34,
   "metadata": {},
   "outputs": [
    {
     "data": {
      "text/plain": [
       "'n'"
      ]
     },
     "execution_count": 34,
     "metadata": {},
     "output_type": "execute_result"
    }
   ],
   "source": [
    "chr((98**41)%437)"
   ]
  },
  {
   "cell_type": "markdown",
   "metadata": {},
   "source": [
    "Pour **décoder** la lettre 'n' on utilise la clé privée qui est (d;n) = (29;437) et on calcule le reste de la division Euclidienne de 110<sup>d</sup> par n."
   ]
  },
  {
   "cell_type": "markdown",
   "metadata": {},
   "source": [
    "La **clé privée** pour notre exemple est : (d;n) = (29;437)<br>\n",
    "où d est un entier tel que le reste de la division de e * d = 41 * 29 par f = 396 est 1.<br>\n",
    "*Des méthodes en mathématiques permettent de déterminer d.*"
   ]
  },
  {
   "cell_type": "markdown",
   "metadata": {},
   "source": [
    "Le reste de la division euclidienne de 110<sup>29</sup> par 437 est 98 qui donne la lettre 'b'."
   ]
  },
  {
   "cell_type": "code",
   "execution_count": 23,
   "metadata": {},
   "outputs": [
    {
     "data": {
      "text/plain": [
       "98"
      ]
     },
     "execution_count": 23,
     "metadata": {},
     "output_type": "execute_result"
    }
   ],
   "source": [
    "(110**29)%437"
   ]
  },
  {
   "cell_type": "code",
   "execution_count": 35,
   "metadata": {},
   "outputs": [
    {
     "data": {
      "text/plain": [
       "'b'"
      ]
     },
     "execution_count": 35,
     "metadata": {},
     "output_type": "execute_result"
    }
   ],
   "source": [
    "chr((110**29)%437)"
   ]
  },
  {
   "cell_type": "markdown",
   "metadata": {},
   "source": [
    "A vous :<br>\n",
    "Écrire un programme qui chiffre et déchiffre un message en utilisant ce système avec les clés précédentes:\n",
    "Voici d’autres clés: <br>\n",
    "* clé publique (103 , 697) ; \n",
    "* clé privée (87 , 697)    "
   ]
  }
 ],
 "metadata": {
  "hide_input": false,
  "kernelspec": {
   "display_name": "Python 3",
   "language": "python",
   "name": "python3"
  },
  "language_info": {
   "codemirror_mode": {
    "name": "ipython",
    "version": 3
   },
   "file_extension": ".py",
   "mimetype": "text/x-python",
   "name": "python",
   "nbconvert_exporter": "python",
   "pygments_lexer": "ipython3",
   "version": "3.8.0"
  },
  "latex_envs": {
   "LaTeX_envs_menu_present": true,
   "autoclose": false,
   "autocomplete": true,
   "bibliofile": "biblio.bib",
   "cite_by": "apalike",
   "current_citInitial": 1,
   "eqLabelWithNumbers": true,
   "eqNumInitial": 1,
   "hotkeys": {
    "equation": "Ctrl-E",
    "itemize": "Ctrl-I"
   },
   "labels_anchors": false,
   "latex_user_defs": false,
   "report_style_numbering": false,
   "user_envs_cfg": false
  }
 },
 "nbformat": 4,
 "nbformat_minor": 4
}
