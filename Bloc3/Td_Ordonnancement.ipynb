{
 "cells": [
  {
   "cell_type": "markdown",
   "metadata": {},
   "source": [
    " # <div align=\"center\">TD Ordonnancement des processus par l'OS</div>"
   ]
  },
  {
   "cell_type": "markdown",
   "metadata": {},
   "source": [
    "**Exercice 1**\n",
    "* Avec les processus répertoriés dans le tableau suivant, réliser le diagrame de Gantt illustrant leur exécution à l'aide de :\n",
    "\n",
    "  * (a) L'algorithme FCFS (Premier Arrivé, Premier Servi))\n",
    "  * (b) L'algorithme SJF (le plus court d'abord).\n",
    "  * (c) L'algorithme à tourniquet (quantum = 2)\n",
    "  * (d) L'algorithme à tourniquet (quantum = 1 )\n",
    "\n",
    "|  Processus |Temps d'arrivée   |  Cycle CPU |\n",
    "|---|---|---|\n",
    "|A|0|3|\n",
    "|B|1|6| \n",
    "|C|4|4| \n",
    "|D|6|2|\n",
    "\n",
    "* Déterminer pour chaque un des algorithmes :\n",
    "  * Le temps moyen de rotation\n",
    "  * temps d'attente de chaque processus"
   ]
  },
  {
   "cell_type": "markdown",
   "metadata": {},
   "source": [
    "**Exercice 2**\n",
    "* Soit TS le temps de service d'un travail, c'est à dire le temps écoulé entre la soumission du travail et sa fin.\n",
    "* On considère un système de traitement dans lequel quatre processus arrivent dans l'ordre suivant :\n",
    "\n",
    "|  Processus |Temps d'arrivée   |  Cycle CPU |\n",
    "|---|---|---|\n",
    "|P1|0|8|\n",
    "|P2|1|4| \n",
    "|P3|2|9| \n",
    "|P4|3|5|\n",
    "\n",
    "* (a) Donner le TS moyen dans le cas où l'on adopte la politique FCFS (Premier Arrivé, Premier Servi)\n",
    "* (b) Donner le TS moyen dans le cas où l'on adopte la politique préemptive : SFJ (le plus court d'abord)."
   ]
  },
  {
   "cell_type": "markdown",
   "metadata": {},
   "source": [
    "**Exercice 3**\n",
    "* On considère les huit processus suivants :\n",
    "    \n",
    "|  Processus |Temps d'arrivée   |  Cycle CPU | Priorité |\n",
    "|---|---|---|---|\n",
    "|P1|0|3|1|\n",
    "|P2|1|24|2| \n",
    "|P3|1|8|3| \n",
    "|P4|7|5|3|\n",
    "|P5|8|4|2|\n",
    "|P6|10|2|5| \n",
    "|P7|15|7|5| \n",
    "|P8|16|2|3|   \n",
    "\n",
    "* (a) Donner l’ordre d’exécution des processus pour la politique d’ordonnancement FCFS (sans priorité).\n",
    "* (b) Même question que 1, mais avec priorité.\n",
    "* (c) Donner l’ordre d’exécution des processus pour la politique d’ordonnancement SJF.\n",
    "* (d) Donner l’ordonnancement des tâches en suivant la politique « tourniquet » avec un quantum de temps de deux unités.\n",
    "* (e) Même question que 4, en utilisant un tourniquet de réquisition pour le processus de priorité élevé"
   ]
  },
  {
   "cell_type": "markdown",
   "metadata": {},
   "source": [
    "**Exercice 4**\n",
    "* On considère la table des processus suivants (la priorité est croissante, 5 est la plus haute priorité) :\n",
    " \n",
    "    \n",
    "|  Processus |Temps d'arrivée   |  Durée | Priorité|\n",
    "|---|---|---|---|\n",
    "|A|19h47m|7 mn|1|\n",
    "|B|19h47m|8 mn|2| \n",
    "|C|19h53m|4 mn|3| \n",
    "|D|19h58m|6 mn|3|\n",
    "|E|20h00m|2 mn|2|\n",
    "\n",
    "* calculer pour chacun des algorithmes suivants :\n",
    "   * le temps d’attente moyen \n",
    "   * le temps d’exécution moyen.\n",
    "* Algorithme\n",
    "  * FCFS\n",
    "  * SJF sans préemption\n",
    "  * SJF avec préemption\n",
    "  * RR avec un quantum de temps égale à 5 min.\n",
    "  * RR avec un quantum de temps égale à 8 min.\n",
    "  * Priorité sans préemption.\n",
    "  * Priorité avec préemption."
   ]
  },
  {
   "cell_type": "code",
   "execution_count": null,
   "metadata": {},
   "outputs": [],
   "source": []
  }
 ],
 "metadata": {
  "hide_input": false,
  "kernelspec": {
   "display_name": "Python 3",
   "language": "python",
   "name": "python3"
  },
  "language_info": {
   "codemirror_mode": {
    "name": "ipython",
    "version": 3
   },
   "file_extension": ".py",
   "mimetype": "text/x-python",
   "name": "python",
   "nbconvert_exporter": "python",
   "pygments_lexer": "ipython3",
   "version": "3.8.0"
  },
  "latex_envs": {
   "LaTeX_envs_menu_present": true,
   "autoclose": false,
   "autocomplete": true,
   "bibliofile": "biblio.bib",
   "cite_by": "apalike",
   "current_citInitial": 1,
   "eqLabelWithNumbers": true,
   "eqNumInitial": 1,
   "hotkeys": {
    "equation": "Ctrl-E",
    "itemize": "Ctrl-I"
   },
   "labels_anchors": false,
   "latex_user_defs": false,
   "report_style_numbering": false,
   "user_envs_cfg": false
  }
 },
 "nbformat": 4,
 "nbformat_minor": 4
}
