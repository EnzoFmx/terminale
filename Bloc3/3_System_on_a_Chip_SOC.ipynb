{
 "cells": [
  {
   "cell_type": "markdown",
   "metadata": {},
   "source": [
    " # <div align=\"center\">System on a Chip</div>"
   ]
  },
  {
   "cell_type": "markdown",
   "metadata": {},
   "source": [
    "La carte mère qui accueille tous les éléments fondamentaux au bon fonctionnement d'un ordinateur :<br>\n",
    "* Microprocesseur (CPU) (caché sous un système de refroidissement);\n",
    "* De la mémoire RAM;\n",
    "* Carte graphique (qui permet de gérer l'affichage).<br>\n",
    "On trouve aussi sur la carte mère les puces qui gèrent les interfaces réseau (Wifi et Ethernet) et bien d'autres choses...\n",
    "\n",
    "On dit souvent que les téléphones portables (smartphones) sont de véritable ordinateur, ce qui est vrai.<br>\n",
    "On peut s'interroger sur la taille d'un smartphone par rapport à la taille d'un PC (la carte mère d'un PC mesure environ 25 cm sur 30 cm, soit bien plus qu'un smartphone).<br>\n",
    "Pourtant on doit obligatoirement trouver dans un smartphone les mêmes composants que dans un PC : \n",
    "* CPU;\n",
    "* RAM;\n",
    "* carte graphique\n",
    "* interfaces réseau (Wifi et Bluetooth dans le cas d'un smartphone) !\n",
    "\n",
    "La solution ?<br>\n",
    "Placer tous ces composants dans une puce unique d'une centaine de mm2 :\n",
    "\n",
    "![Von](img/Kirin990.jpg)\n",
    "\n",
    "<div align=\"right\"><a href=\"https://consumer.huawei.com/fr/campaign/kirin-990-series/\">Doc : Kirin990</a></div>"
   ]
  },
  {
   "cell_type": "markdown",
   "metadata": {},
   "source": [
    "### <div align=\"center\">Composition d'un SOC</div>\n",
    "![Von](img/Exynos_980.PNG)\n",
    "<br>\n",
    "<div align=\"center\">\"Samsung Exynos 980 : premier SoC intégrant un modem 5G, gravé en 8 nm\"</div>"
   ]
  },
  {
   "cell_type": "markdown",
   "metadata": {},
   "source": [
    "* Le processeur (CPU)\n",
    "\n",
    "Le processeur ou « Central Processing Unit » (CPU) est le cœur du SoC. Son fonctionnement est identique à celui d’un\n",
    "ordinateur. On y retrouve donc plusieurs cœurs cadencés à différentes fréquences effectuant des threads et stockant\n",
    "des informations en cache.\n",
    "   1. *Les cœurs*<br>\n",
    "Un processeur compte généralement plusieurs cœurs ,on parle couramment dans la littérature technique :<br>\n",
    "    * dual-core, quad-core;\n",
    "    * ou d’octo-core parfois.\n",
    "    \n",
    "Ainsi, ces processeurs se composent respectivement de deux,quatre ou huit cœurs.<br>\n",
    "Ceux-ci permettent de lancer en parallèle plusieurs applications de manière simultanée (multitâche) et permettent l’utilisation d’application lourde comme des jeux.\n",
    "\n",
    "   2. *La fréquence*<br>\n",
    "   \n",
    "La fréquence d’un processeur est le nombre de cycles de calculs qu’il peut effectuer chaque seconde.<br>\n",
    "Elle va donc naturellement déterminer la durée d’exécution d’une tâche : <br>\n",
    "Plus la fréquence du processeur est élevée, plus l’exécution d’une tâche est rapide. Mesurée en gigahertz (GHz), celle-ci est souvent différente entre chaque cœurs\n",
    "   3. *Les threads*<br>\n",
    "\n",
    "Les cœurs réalisent ce qu’on appelle un thread, littéralement un fil d’exécution, une tâche qui doit être réalisée par le processeur.\n",
    "\n",
    "   4. *Le cache*<br>\n",
    "\n",
    "C’est une petite mémoire rapide intégrée au processeur.<br>\n",
    "En effet, celle-ci va permettre de stocker les informations récurrentes au plus près du processeur pour éviter d’avoir à aller les chercher sans arrêt dans la RAM.\n"
   ]
  },
  {
   "cell_type": "markdown",
   "metadata": {},
   "source": [
    "* *La puce graphique (GPU)*<br>\n",
    "   \n",
    "La puce graphique ou « Graphics Processing Unit » (GPU) est un élément crucial pour les gamers, car c’est lui qui est en charge de calculer les images afin de pouvoir les afficher à l’écran.<br>\n",
    "Celle-ci prend ainsi en charge les images en 2D et en 3D que ce soit une page web, une vidéo ou encore une partie endiablée de votre jeu favori.\n",
    "<br>Une carte graphique doit donc réaliser un nombre élevé de tâches, puisque qu’elle doit par exemple calculer la couleur à afficher sur chaque pixel de l’écran de votre smartphone.<br>\n",
    "Par exemple dans le cas d’une image Full HD (1920×1080), le GPU affiche 2 073 600 pixels différents ou 8 294 400 pixels pour de l’Ultra HD (3840×2160).<br>\n",
    "Rappelons également que ce calcul est fait selon la fréquence de rafraichissement de l’écran. Celle-ci peut par exemple varier entre 60 et 120 fois par secondes c’est-à-dire entre 60 Hz et 120 Hz.<br>\n",
    "   \n",
    "* *La puce neuronale (NPU)*<br>\n",
    "   \n",
    "La puce neuronale ou « Neuronal Processing Unit » (NPU) est une puce en charge de l’intelligence artificielle des smartphones.<br>\n",
    "Les calculs de l’intelligence artificielle ont longtemps été faits par le biais de serveurs dans le cloud (distant). <br>Néanmoins, depuis quelques années pour des raisons de rapidité et de respect de la vie privée, les calculs se font désormais directement sur les smartphones.<br>\n",
    "C’est utile par exemple dans « Google Translate » pour reconnaître des caractères, pour optimiser les photos ou encore l’autonomie.<br>\n",
    "   \n",
    "* *Le modem (Interface)* <br>\n",
    "   \n",
    "Les smartphones embarquent également dans le SoC une unité réseau assurant la prise en charge des différents protocoles de communication.<br>\n",
    "Cette unité est la partie la plus compliquée à développer et à implémenter sur un SoC.<br>\n",
    "Néanmoins, il s’agit d’un élément crucial afin d’assurer le nomadisme d’un smartphone en itinérance.\n",
    "<br>Le modem intégré au SoC gère non seulement le Wifi, le Bluetooth, le NFC ou bien encore les technologies mobiles. <br>C’est-à-dire la 4G, ou plus récemment la 5G mais également de plus vieux réseaux tels que la 3G.<br> \n",
    "   \n",
    "* *Le processeur de signal numérique (DSP)*<br>\n",
    "   \n",
    "Le processeur de signal numérique ou « Digital Signal Processor » (DSP) est en charge de traiter les signaux numériques. Ainsi, il va permettre le filtrage, la compression ou encore l’extraction de différents signaux tels que la musique ou encore une vidéo.<br>\n",
    "   \n",
    "* *Le processeur de signal d’images (ISP)*<br>\n",
    "   \n",
    "Le processeur d’image ou « Image Signal Processor » (ISP) est une puce prenant en charge la création d’images numériques. En effet de par leurs tailles minuscules, les capteurs photo des smartphones ne sont pas de très bonne qualité d’un point de vue de l’optique pure.<br>\n",
    "La qualité qu’il est actuellement possible d’obtenir va être intimement liée à cette puce qui va compenser logiquement certaines limitations optiques (zoom numérique …).<br>\n",
    "   \n",
    "* *Le processeur de sécurité (SPU)*<br>\n",
    "   \n",
    "Le processeur de sécurité ou « Secure Processing Unit » (SPU) est le « bouclier » du smartphone.<br>\n",
    "Son alimentation électrique est indépendante afin de ne pas pouvoir être éteint en cas d’attaque sur celui-ci.<br>\n",
    "Le SPU est d’une importance capitale.\n",
    "<br>En effet celui-ci va stocker les données biométriques, bancaires, la carte SIM ou encore les titres de transport.<br>\n",
    "C’est lui qui contient les clés de chiffrement des données de l’utilisateur."
   ]
  },
  {
   "cell_type": "markdown",
   "metadata": {},
   "source": [
    " # <div align=\"center\">Tout ça c'est bien mais pourquoi ne pas utiliser un PC ?!?!?</div>"
   ]
  },
  {
   "cell_type": "markdown",
   "metadata": {},
   "source": [
    "### Les avantages d’un SoC par rapport à système classique"
   ]
  },
  {
   "cell_type": "markdown",
   "metadata": {},
   "source": [
    "Leur taille miniaturisée bien adaptée aux terminaux nomades (smartphones et tablettes), les SoC offrent d'autres avantages par rapport aux systèmes \"classiques\" rencontrés dans les ordinateurs :<br>\n",
    "   * Les SoC sont conçus pour consommer beaucoup moins d'énergie qu'un système classique à puissance équivalente de calculs ; \n",
    "   * Cette consommation réduite d’énergie permet dans la plupart des cas de s'affranchir de la présence d’un système de refroidissement actif comme les ventilateurs ou de type « watercooling » ; \n",
    "   * Un système équipé de SoC est donc silencieux car il chauffe relativement peu ;\n",
    "   * Les distances très faibles entre, par exemple, le CPU et la mémoire, les données circulent beaucoup plus vites, ce qui permet d'améliorer grandement les performances ; en effet, dans les systèmes \"classiques\" les BUS chargés d’acheminer les données sont souvent des \"goulots d'étranglement\" en termes de performances à cause de la vitesse limitée de circulation des données."
   ]
  },
  {
   "cell_type": "markdown",
   "metadata": {},
   "source": [
    " # <div align=\"center\">Revers de la médaille.</div>"
   ]
  },
  {
   "cell_type": "markdown",
   "metadata": {},
   "source": [
    "le principal inconvénient d’un SoC est que là ou un ordinateur équipé d'une carte mère permet de faire évoluer les composants individuellement, l'extrême intégration du SoC présente en revanche l'inconvénient de n'autoriser **aucune mise à jour** possible du matériel."
   ]
  },
  {
   "cell_type": "markdown",
   "metadata": {},
   "source": [
    "on dispose aujourd’hui de la même puissance dans un smartphone que celle embarquée dans un ordinateur il y a quelques années de cela.<br> Ceci s’est cependant fait au prix d’une complexité technologique croissante.<br>\n",
    "L’actuelle génération de SoC est gravée en 7 nm (1 nm = 10-9 m) depuis juillet 2019.<br> Le SoC A13 Bionic d’Apple est par exemple composé de 8,5 milliards de transistors répartis sur une surface de 98,48 mm2"
   ]
  },
  {
   "cell_type": "markdown",
   "metadata": {},
   "source": [
    "## Exercice"
   ]
  },
  {
   "cell_type": "markdown",
   "metadata": {},
   "source": [
    "![Von](img/Raspberry4.PNG)"
   ]
  },
  {
   "cell_type": "markdown",
   "metadata": {},
   "source": [
    "1. Chercher les caractéristiques du \"Raspberry Pi4 B\" sur internet, vous pouvez commencer par <a href=\"https://www.raspberrypi.org/\">Ici</a>. <br>\n",
    "2. Comparer les performances avec celle du \"Raspberry Pi3 B\".<br>\n",
    "3. Quelles sont les évolutions qui ont permis d'améliorer les performances?"
   ]
  }
 ],
 "metadata": {
  "kernelspec": {
   "display_name": "Python 3",
   "language": "python",
   "name": "python3"
  },
  "language_info": {
   "codemirror_mode": {
    "name": "ipython",
    "version": 3
   },
   "file_extension": ".py",
   "mimetype": "text/x-python",
   "name": "python",
   "nbconvert_exporter": "python",
   "pygments_lexer": "ipython3",
   "version": "3.8.0"
  },
  "latex_envs": {
   "LaTeX_envs_menu_present": true,
   "autoclose": false,
   "autocomplete": true,
   "bibliofile": "biblio.bib",
   "cite_by": "apalike",
   "current_citInitial": 1,
   "eqLabelWithNumbers": true,
   "eqNumInitial": 1,
   "hotkeys": {
    "equation": "Ctrl-E",
    "itemize": "Ctrl-I"
   },
   "labels_anchors": false,
   "latex_user_defs": false,
   "report_style_numbering": false,
   "user_envs_cfg": false
  }
 },
 "nbformat": 4,
 "nbformat_minor": 4
}
