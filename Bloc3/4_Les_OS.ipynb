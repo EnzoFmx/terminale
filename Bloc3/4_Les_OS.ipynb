{
 "cells": [
  {
   "cell_type": "markdown",
   "metadata": {},
   "source": [
    " # <div align=\"center\">Les systèmes d'exploitation</div>"
   ]
  },
  {
   "cell_type": "markdown",
   "metadata": {},
   "source": [
    " ## <div align=\"center\">Introduction</div>\n",
    " \n",
    "Le système d'exploitation (**OS operating system**) est un ensemble de programmes qui va permletter d'utiliser les éléments physiques d'un ordinateur pour exécuter les applications nécessaires à l'utilisateur.\n",
    "\n",
    "Le système d'exploitation a pour rôle :<br>\n",
    "   * D'assurer une interface entre l'homme et la machine (IHM)\n",
    "   * Gérer le fonctionnement entier de l'ordinateur (mémoire, périphériques,...), réseau, gérer les utilisateurs et leurs droits, \n",
    "   * Fonctionner sur un maximum de machines même si elles ne sont pas identiques.\n",
    "\n",
    " ### <div align=\"left\">A vous de jouer</div>\n",
    " \n",
    " Citez le nom des systèmes d'exploitation que vous connaissez.\n",
    " \n",
    "L'éléments fondamental su système d'exploitation est le noyau, c'est lui qui gère l'accès aux ressources matérielles.\n",
    "\n",
    "Les principales fonctions du noyau sont:\n",
    "\n",
    "   * le dialogue avec les périphériques (microprocesseur, mémoire, disque, cartes graphique, clavier etc...\n",
    "   * L'exécution par le microprocesseur de programmes shouaités par les utilisateurs et **l'ordonnancement** des tâches\n",
    "   * La gestion des accés aux ressources.\n",
    "   \n",
    "Au dessus du noyau, il existe de trés nombreux programmes qui sont chargés de toutes les fonctions offertes aux programmes utilisateurs pour permettre une utilisation optimale de la machine physique. (gestionnaire de fichiers, lecture de sons, gestion de l'énergie, gestion des performances etc...)\n",
    "Les OS proposent aussi de trés nombreux outils de niveau supérieur qui apportent du confort de travail à l'utilisateur, jusqu'à l'installation de programmes à part entière (navigateur internet, messagerie, outils de traitement d'image ...)<br>"
   ]
  },
  {
   "cell_type": "markdown",
   "metadata": {},
   "source": [
    "<div align=\"center\">Le schéma ci-dessous illustre l'architecture d'un système d'exploitation </div>\n",
    "\n",
    "![Os](img/Archi_OS.png)\n",
    "    \n",
    "Au niveau de l'**utilisateur**, nous trouvons les **applications**, exécutées via l'**interface graphique** ou directement en mode **console**.<br>\n",
    "les applications peuvent utiliser des **bibliotèques de fonctions**.<br>    \n",
    "Ces applications s'appuient directement sur le **noyau**, c'est l'élément central du système d'exploitation, qui génère des appel système pour accéder à une ressource.<br> \n",
    "Selon la natures des ressources nécessaires, des gestionnaires spècifiques sont sollicités:\n",
    "\n",
    "   * Le **gestionnaire de processus** qui permet l'exécution d'un programme par le microprocesseur;\n",
    "   * Le **gestionnaire de mémoire** pour l'accés à une donnée en mémoire;\n",
    "   * Le **système de fichiers** pour la gestion des périphériques de stockage de masse;\n",
    "   * Les **protocoles réseaux** pour la gestion des différents réseaux dispobibles.\n",
    "   \n",
    "Chaque **ressource physique** est gérée par un **pilote** qui est capable de dialoguer avec le periphèrique.<br>\n",
    "Pour de noubreux périphériques, un gestionnaire spécifique n'est pas necéssaire car le noyau peut solliciter directement le pilote concerné.\n",
    "\n",
    "\n",
    "   "
   ]
  }
 ],
 "metadata": {
  "hide_input": false,
  "kernelspec": {
   "display_name": "Python 3",
   "language": "python",
   "name": "python3"
  },
  "language_info": {
   "codemirror_mode": {
    "name": "ipython",
    "version": 3
   },
   "file_extension": ".py",
   "mimetype": "text/x-python",
   "name": "python",
   "nbconvert_exporter": "python",
   "pygments_lexer": "ipython3",
   "version": "3.8.0"
  },
  "latex_envs": {
   "LaTeX_envs_menu_present": true,
   "autoclose": false,
   "autocomplete": true,
   "bibliofile": "biblio.bib",
   "cite_by": "apalike",
   "current_citInitial": 1,
   "eqLabelWithNumbers": true,
   "eqNumInitial": 1,
   "hotkeys": {
    "equation": "Ctrl-E",
    "itemize": "Ctrl-I"
   },
   "labels_anchors": false,
   "latex_user_defs": false,
   "report_style_numbering": false,
   "user_envs_cfg": false
  }
 },
 "nbformat": 4,
 "nbformat_minor": 4
}
