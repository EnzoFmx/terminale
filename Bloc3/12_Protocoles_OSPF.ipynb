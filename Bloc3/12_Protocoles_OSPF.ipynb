{
 "cells": [
  {
   "cell_type": "markdown",
   "metadata": {},
   "source": [
    " # <div align=\"center\">Protocole OSPF</div>"
   ]
  },
  {
   "cell_type": "markdown",
   "metadata": {},
   "source": [
    ">Le protocole OSPF (Open Shortest Path First) rentre dans la catégorie des protocoles à état de lien.\n",
    "Dans le protocole à vecteur de distance que nous venons de voir, on cherche à minimiser le nombre de sauts, mais sans aucune garantie que le chemin emprunté soit en réalité le plus performant (en termes de débit par exemple). De plus avec RIP, chaque routeur ne connaît que ses voisins immédiats, il n'a donc pas connaissance de l'ensemble de la topologie du réseau. Enfin, le protocole RIP est limité aux petits réseaux (15 routeurs maximum) et est assez gourmand en termes de bande passante puisqu'il nécessite l'échange d'un volume de données assez important."
   ]
  },
  {
   "cell_type": "markdown",
   "metadata": {},
   "source": [
    " ## <div align=\"center\">Principe général de l'algorithme</div>"
   ]
  },
  {
   "cell_type": "markdown",
   "metadata": {},
   "source": [
    "Le protocole OSPF propose une approche tout à fait différente : au lieu de s'intéresser au nombre de sauts, on va chercher à optimiser le débit des liaisons empruntées. Pour cela, chaque routeur va devoir connaître l'intégralité du réseau avec le débit associé à chaque lien afin d'appliquer un algorithme de recherche de chemin optimal.\n",
    "\n",
    "On peut faire un parallèle entre le fonctionnement d'OSPF et celui de nos logiciels de guidage par GPS. En effet, dans ce type de logiciels :\n",
    "\n",
    "   * l'ensemble de la carte de France et de ses routes est connue du logiciel\n",
    "   * le type de chaque route est renseigné ainsi que la vitesse autorisée sur la route\n",
    "   * le calcul d'itinéraire va permettre le calcul d'un chemin permettant par exemple d'emprunter les routes sur lesquelles    * la vitesse est la plus importante (temps le plus court)."
   ]
  },
  {
   "cell_type": "markdown",
   "metadata": {},
   "source": [
    "le principe du routage à état de lien en vidéo [Protocole OSPF](https://youtu.be/-utHPKREZV8)"
   ]
  },
  {
   "cell_type": "markdown",
   "metadata": {},
   "source": [
    " ## <div align=\"center\">Découverte de la topologie du réseau</div>"
   ]
  },
  {
   "cell_type": "markdown",
   "metadata": {},
   "source": [
    "**OSPF** a besoin de connaître la topologie du réseau ainsi que la qualité de chaque lien en terme de bande passante.<br> Pour cela, chaque routeur va fabriquer une table de voisinage : <br>\n",
    "il s'agit d'un tableau permettant d'identifier tous les routeurs qui lui sont connectés ainsi que le débit associé à chaque lien.<br>\n",
    "Pour obtenir ces information, le routeur échange périodiquement des messages (appelés messages hello) avec ses voisins."
   ]
  },
  {
   "cell_type": "markdown",
   "metadata": {},
   "source": [
    "![RIP](img/hello.png)"
   ]
  },
  {
   "cell_type": "markdown",
   "metadata": {},
   "source": [
    "Une fois tous ses voisins directs identifiés, le routeur va envoyer sa table de voisinage à tous les autres routeurs du réseau. Il va recevoir des autres routeurs leurs tables de voisinages et ainsi pouvoir constituer une **cartographie** complète du réseau."
   ]
  },
  {
   "cell_type": "markdown",
   "metadata": {},
   "source": [
    "## <div align=\"center\">L'algorithme de Djikstra</div>\n",
    "\n",
    "Petit détour, rappel ..."
   ]
  },
  {
   "cell_type": "markdown",
   "metadata": {},
   "source": [
    "**L'algorithme de Djikstra** datant de 1959 permet de trouver le chemin le plus court sur un graphe."
   ]
  },
  {
   "cell_type": "markdown",
   "metadata": {},
   "source": [
    "Considérons le réseau suivant. Après échanges de messages hello, la cartographie suivante du réseau a été constituée :\n",
    "![RIP](img/Dijkstra.png) "
   ]
  },
  {
   "cell_type": "markdown",
   "metadata": {},
   "source": [
    "Nous cherchons à déterminer le chemin le plus rapide entre R1 et R7.<br>\n",
    "Contrairement à RIP, le chemin qu'OSPF nous indiquera sera R1 => R2 => R3 => R5 => R4 => R6 => R7.<br>\n",
    "Ce chemin n'est clairement pas le plus efficace en termes de sauts mais est le plus rapide en termes de débit car il n'exploite pratiquement que des liaisons à 10 Gb/s."
   ]
  },
  {
   "cell_type": "markdown",
   "metadata": {},
   "source": [
    "le principe de l'algorythme: [Algorythme de Dijkstra](https://youtu.be/MybdP4kice4)"
   ]
  },
  {
   "cell_type": "markdown",
   "metadata": {},
   "source": [
    "### Application à notre exemple :\n",
    "Djisktra permet de minimiser la longueur d'un chemin, or nous souhaitons maximiser le débit sur nos liaisons.<br>\n",
    "Nous allons donc considérer l'inverse de la bande passante de nos liens pour appliquer Djisktra : maximiser les débit revient à minimiser l'inverse des débits :\n",
    "\n",
    "   * 1 Gb/s sera affecté du poids 1\n",
    "   * 10 Gb/s sera affecté du poids 0.1\n",
    "   * 100 Mb/s sera affecté du poids 10\n",
    "   \n",
    "Nous allons ensuite constituer notre tableau. <br>\n",
    "A chaque nouvelle ligne, on calcule les distances totales vers les destinations possibles et on ne retient que la plus petite (en gras) que l'on marque sur une nouvelle ligne.\n",
    "\n",
    "Pour empêcher les retours, une fois une destination choisie (en gras), on désactive tout le reste de la colonne (avec des x)"
   ]
  },
  {
   "cell_type": "markdown",
   "metadata": {},
   "source": [
    "|R1|R2|R3|R4|R5|R6|R7|\n",
    "|---|---|---|---|---|---|---|\n",
    "0 - R1|||||||\n",
    "0 - R1|0.1 - R1|1 - R1||||\n",
    "x|0.1 - R1|0.2 - R2|1.1 - R2|||\n",
    "x|x|0.2 - R2| |0.3 - R3||\n",
    "x|x|x|0.4 - R5|0.3 - R3|1.3 - R5|10.3 - R5|\n",
    "x|x|x|0.4 - R5|x|0.5 - R4||\n",
    "x|x|x|x|x|0.5 - R4|1.5 - R6|\n",
    "x|x|x|x|x|x|1.5 - R6|"
   ]
  },
  {
   "cell_type": "markdown",
   "metadata": {},
   "source": [
    "Dans le tableau, on indique des couples distance - origine : <br>\n",
    "ainsi 0.5 - R4 dans la colonne R6 signifie que R6 est à une distance minimum de 0,5 du départ en provenance de R4.<br>\n",
    "On peut ainsi reconstituer l'itinéraire optimal en partant de R7 et en remontant à l'envers en utilisant le champ origine :\n",
    "\n",
    "R1 => R2 => R3 => R5 => R4 => R6 => R7 avec un poids total minimum de 1,5."
   ]
  },
  {
   "cell_type": "markdown",
   "metadata": {},
   "source": [
    "## A vous de jouer\n",
    "On supprime la liaison R4-R5. Réappliquez l'algorithme de Djikstra pour déterminer un chemin optimal entre R1 et R7."
   ]
  },
  {
   "cell_type": "markdown",
   "metadata": {},
   "source": [
    "![RIP](img/Dijkstra2.png) "
   ]
  },
  {
   "cell_type": "markdown",
   "metadata": {},
   "source": [
    "# Conclusion\n",
    "**OSPF** peut s'adapter à la qualité des liens mais dans une certaine mesure uniquement : \n",
    "* Si un lien à 10 Gb/s est saturé, il vaut mieux emprunter un lien à 1 Gb/s sous utilisé, mais OSPF n'en a pas connaissance.\n",
    "\n",
    "* Il n'y a pas dans l'absolut de meilleur algorithme de routage, tout dépend du réseau auquel on a affaire. \n",
    "* Un protocole sera plus réactif face aux changements de topologie mais au prix d'un plus gros volume échangé. Un autre sera plus efficace si les liaisons au sein du réseau sont très hétérogènes."
   ]
  }
 ],
 "metadata": {
  "hide_input": false,
  "kernelspec": {
   "display_name": "Python 3",
   "language": "python",
   "name": "python3"
  },
  "language_info": {
   "codemirror_mode": {
    "name": "ipython",
    "version": 3
   },
   "file_extension": ".py",
   "mimetype": "text/x-python",
   "name": "python",
   "nbconvert_exporter": "python",
   "pygments_lexer": "ipython3",
   "version": "3.8.0"
  },
  "latex_envs": {
   "LaTeX_envs_menu_present": true,
   "autoclose": false,
   "autocomplete": true,
   "bibliofile": "biblio.bib",
   "cite_by": "apalike",
   "current_citInitial": 1,
   "eqLabelWithNumbers": true,
   "eqNumInitial": 1,
   "hotkeys": {
    "equation": "Ctrl-E",
    "itemize": "Ctrl-I"
   },
   "labels_anchors": false,
   "latex_user_defs": false,
   "report_style_numbering": false,
   "user_envs_cfg": false
  }
 },
 "nbformat": 4,
 "nbformat_minor": 4
}
