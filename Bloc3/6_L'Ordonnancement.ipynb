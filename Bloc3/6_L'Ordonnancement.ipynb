{
 "cells": [
  {
   "cell_type": "markdown",
   "metadata": {},
   "source": [
    " # <div align=\"center\">Ordonnancement des processus par l'OS</div>"
   ]
  },
  {
   "cell_type": "markdown",
   "metadata": {},
   "source": [
    "Dans un système **multitâche** plusieurs processus sont actifs simultanément, mais un processeur (simple coeur) ne peut exécuter qu’une instruction à la fois.<br>\n",
    "Il va donc falloir partager le temps de processeur disponible entre tous les processus : <br>\n",
    "   - c'est le travail de l'ordonnanceur (ou scheduler en anglais). \n",
    "   \n",
    "   Ce dernier a pour tâche de sélectionner le processus suivant à exécuter parmi ceux qui sont prêts.\n",
    "\n",
    "Un processus peut donc se trouver dans différents états :\n",
    "\n",
    "   * prêt (**ready**): le processus attend son tour pour prendre la main\n",
    "   * en exécution (**running**): le processus a accès au processeur pour exécuter ses instructions\n",
    "   * en attente (**sleeping**) : le processus attend qu'un événement se produise (saisie clavier, réception d'une donnée par le réseau ou le disque dur ...)\n",
    "   * arrêté (**stopped**) : le processus a fini son travail ou a reçu un signal de terminaison (SIGTERM, SIGKILL, ...). Il libère les ressources qu'il occupe.\n",
    "   * zombie : Une fois arrêté, le processus informe son parent afin que ce dernier l'élimine de la table des processus.<br> Cet état est donc temporaire mais il peut durer si le parent meure avant de pouvoir effectuer cette tâche. Dans ce cas, le processus fils reste à l'état zombie..."
   ]
  },
  {
   "cell_type": "markdown",
   "metadata": {},
   "source": [
    "Nous avons tous été confrontés à la problématique de la gestion des processus dans un système d'exploitation, en tant qu'utilisateur :\n",
    "\n",
    "   * Quand nous cliquons sur l'icône d'un programme, nous provoquons la naissance d'un ou plusieurs processus liés au programme que nous lançons;\n",
    "   * Quand un programme ne répond plus, il nous arrive de lancer le gestionnaire de taches pour tuer le processus en défaut."
   ]
  },
  {
   "cell_type": "markdown",
   "metadata": {},
   "source": [
    " ## <div align=\"center\">L'ordonnancement</div>\n",
    "    \n",
    "Le système doit permettre à toutes les applications et tous les utilisateurs de travailler simultanément.<br>\n",
    "C'est-à-dire donnera l'impression à l'utilisateur qu'il est le seul à exploiter l'ordinateur et ses ressources physiques.<br>\n",
    "Cette gestion complexe des processus est réalisée par une partie spécifique du noyau : l'Ordonnanceur.<br>\n",
    "\n",
    "De fait cette gestion étant spécifique au noyau, elle l'est aussi par Os (Windows <> Linux )\n",
    "\n",
    "L'ordonanceur permet :\n",
    "  * De minimiser le temps de traitement du processus utilisateur;\n",
    "  * De garantir l'équité entre les différents utilisateur;\n",
    "  * D'optimiser l'utrilisation de la ressource;\n",
    "  * D'**éviter les blocages**."
   ]
  },
  {
   "cell_type": "markdown",
   "metadata": {},
   "source": [
    " ## <div align=\"center\">Les algorithmes d'ordonnancement</div>\n",
    " \n",
    " Il exixte différents type d'ordonnancement, nous allons voir les plus répandus:\n",
    " "
   ]
  },
  {
   "cell_type": "markdown",
   "metadata": {},
   "source": [
    " ### <div align=\"left\">L'ordonnancement à tourniquet (RR Round Robin)</div>\n",
    " \n",
    "La ressource est affectée a chaque processus a tour de rôle.<br>\n",
    "Pour l'exécution simultanée des processus, c'est la rapidité de ce tour de rôle qui va donner l'impression à chaque utilisateur que son processus est le seul à utiliser les ressources du processeur.<br>\n",
    "\n",
    "![Von](img/Tourniquet.png)\n",
    "\n",
    "Dans la réalité Les processus accèdent au processeur, chacun leur tour, pour un temps maximal déterminé à l’avance (le quantum noté q).<br>\n",
    "Un processus en attente d’une entrée-sortie sera placé dans une file des processus bloqués.\n",
    " "
   ]
  },
  {
   "cell_type": "markdown",
   "metadata": {},
   "source": [
    " ### <div align=\"left\">FCFS (First-Come First- Served)</div>\n",
    " \n",
    "Cette méthode peut se résumer en \"premier entré , premier sorti\".<br>\n",
    "Le premier processus arrivé sera le premier traité et ainsi de suite.<br>\n",
    "Le meilleur exemple de cet algorithme est la file d'impression de l'imprimante."
   ]
  },
  {
   "cell_type": "markdown",
   "metadata": {},
   "source": [
    " ### <div align=\"left\"> SJF (Shortest Job First) / plus court processus en premier</div>\n",
    " \n",
    " Cet algorithme est trés éfficace pour satisfaire au mieux les utilisateurs, cependant il n'est pas toujours aisé d'estimer le temps d'exécution d'une tâche surtout avant qu'elle soit démarrée.<br>\n",
    "(C'est ce qui se passe quand à la caisse d'une grande surface les clients laissent passer devant quelqu'un qui n'a qu'un article)\n"
   ]
  },
  {
   "cell_type": "markdown",
   "metadata": {},
   "source": [
    " ### <div align=\"left\">Système de priorités</div>\n",
    " \n",
    "Lors de la mise en place d'un système de priorités, l'ordre d'affectation de la ressource sera en fonction de la priorité de la tâche.<br>\n",
    "Cette mèthode est trés équitable, mais la définition du niveau de priorité d'une tâche doit être objective."
   ]
  }
 ],
 "metadata": {
  "hide_input": false,
  "kernelspec": {
   "display_name": "Python 3",
   "language": "python",
   "name": "python3"
  },
  "language_info": {
   "codemirror_mode": {
    "name": "ipython",
    "version": 3
   },
   "file_extension": ".py",
   "mimetype": "text/x-python",
   "name": "python",
   "nbconvert_exporter": "python",
   "pygments_lexer": "ipython3",
   "version": "3.8.0"
  },
  "latex_envs": {
   "LaTeX_envs_menu_present": true,
   "autoclose": false,
   "autocomplete": true,
   "bibliofile": "biblio.bib",
   "cite_by": "apalike",
   "current_citInitial": 1,
   "eqLabelWithNumbers": true,
   "eqNumInitial": 1,
   "hotkeys": {
    "equation": "Ctrl-E",
    "itemize": "Ctrl-I"
   },
   "labels_anchors": false,
   "latex_user_defs": false,
   "report_style_numbering": false,
   "user_envs_cfg": false
  }
 },
 "nbformat": 4,
 "nbformat_minor": 4
}
