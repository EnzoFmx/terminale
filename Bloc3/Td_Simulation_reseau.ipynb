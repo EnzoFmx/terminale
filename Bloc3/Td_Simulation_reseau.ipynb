{
 "cells": [
  {
   "cell_type": "markdown",
   "metadata": {},
   "source": [
    " # <div align=\"center\">Protocoles de routage</div>"
   ]
  },
  {
   "cell_type": "markdown",
   "metadata": {},
   "source": [
    "* Créer une simulation réseau d’ordinateurs, grâce au logiciel FILIUS\n",
    ">Créer un réseau en étoile de 5 ordinateurs par l’intermédiaire d’un switch.<br>\n",
    "Attribuer des adresses IP différentes à chacun des ordinateurs, en respectant le masque attribué par défaut ( 255.255.255.0).<br>\n",
    "Respectez le schéma ci-dessous."
   ]
  },
  {
   "cell_type": "markdown",
   "metadata": {},
   "source": [
    "![Res](img/td_simul.png)"
   ]
  },
  {
   "cell_type": "markdown",
   "metadata": {},
   "source": [
    "Installer sur l’ordinateur portable ( 192.168.0.10) un logiciel pour lancer des opérations en ligne de commande."
   ]
  },
  {
   "cell_type": "markdown",
   "metadata": {},
   "source": [
    ">**Ping**\n",
    "La commande ping  est une application très simple utilisant le protocole ICMP (Internet Control Message Protocol) qui permet de véhiculer des messages de contrôle et d’erreur :<br>\n",
    "Ping  envoie une requête à un hôte du réseau (un « ping »), qui doit lui répondre (un « pong »). La requête est lancée 4 fois de suite."
   ]
  },
  {
   "cell_type": "markdown",
   "metadata": {},
   "source": [
    "Toujours sur cet ordinateur, ouvrir la console et effectuer une commande ping  vers l’ordinateur 192.168.0.11 en observant attentivement le schéma du réseau !\n",
    "1) Observer et décrire la chronologie des échanges.\n",
    "\n",
    "Relancer exactement la même commande (flèche du haut), et observer à nouveau attentivement le schéma du réseau.<br>\n",
    "\n",
    "2) Qu’y a-t-il de différent par rapport à la première fois ?"
   ]
  },
  {
   "cell_type": "markdown",
   "metadata": {},
   "source": [
    "* Cliquer sur le switch et relever dans sa table SAT à quels ordinateurs correspondent les adresses MAC qui s’y trouvent.\n",
    "* Faire un clic-droit sur l’ordinateur portable ( 192.168.0.10) et choisir « Afficher les échanges de données ».<br>\n",
    "  Faire de même pour tous les ordinateurs du réseau.\n",
    "\n",
    ">**FILIUS** permet d’afficher les détails de chaque message échangé (envoyé et reçu) pour chaque machine du réseau. Les détails sont séparés en fonction des couches OSI (Réseau et Internet)."
   ]
  },
  {
   "cell_type": "markdown",
   "metadata": {},
   "source": [
    "3) En observant l’ensemble des échanges, sur tous les ordinateurs, donner le nom du protocole qui a permis de remplir la table SAT du switch. A quelle couche appartient-il ?\n",
    "\n",
    "4) Quels ordinateurs ont reçu un message ARP ? Lequel à répondu ?\n",
    "\n",
    "5) Pourquoi dans certains messages on voit une adresse MAC valant FF:FF:FF:FF:FF:FF  ?\n",
    "\n",
    "6) Conclure quant au comportement observé aux questions précédentes. En déduire le rôle de cette table SAT et comment le switch s’en sert.\n"
   ]
  },
  {
   "cell_type": "markdown",
   "metadata": {},
   "source": [
    "## Communication entre deux réseaux\n",
    "\n",
    "Construire deux réseaux en étoile (switch) reliés par une passerelle (routeur), à l’image de la figure ci-dessous :"
   ]
  },
  {
   "cell_type": "markdown",
   "metadata": {},
   "source": [
    "![Res](img/td_simul2.png)"
   ]
  },
  {
   "cell_type": "markdown",
   "metadata": {},
   "source": [
    "> Rappel !<br>\n",
    "Pour pouvoir communiquer sur un même réseau, deux hôtes doivent avoir la même adresse réseau. Pour pouvoir communiquer entre deux réseaux différents, il faut passer par une passerelle, qui elle possède plusieurs cartes réseau, et donc plusieurs adresses IP."
   ]
  },
  {
   "cell_type": "markdown",
   "metadata": {},
   "source": [
    "7) Configurer les ordinateurs (le masque du sous-réseau 1 est 255.255.255.0  et celui du sous-réseau 2 est 255.255.0.0)\n",
    "   Configurer la passerelle\n",
    "   \n",
    "8) Vérifier que tout est opérationnel en testant une communication entre deux ordinateurs de deux réseaux différents (faire un ping).\n",
    "\n",
    "9) Rédiger la méthodes que vous avez appliqué pour configurer ce réseau, et en particulier la passerelle.\n",
    "\n",
    "10) Lancer une commande traceroute  depuis un ordinateur d’un réseau vers un ordinateur de l’autre réseau. Commenter.\n",
    " "
   ]
  },
  {
   "cell_type": "code",
   "execution_count": null,
   "metadata": {},
   "outputs": [],
   "source": []
  }
 ],
 "metadata": {
  "hide_input": false,
  "kernelspec": {
   "display_name": "Python 3",
   "language": "python",
   "name": "python3"
  },
  "language_info": {
   "codemirror_mode": {
    "name": "ipython",
    "version": 3
   },
   "file_extension": ".py",
   "mimetype": "text/x-python",
   "name": "python",
   "nbconvert_exporter": "python",
   "pygments_lexer": "ipython3",
   "version": "3.8.0"
  },
  "latex_envs": {
   "LaTeX_envs_menu_present": true,
   "autoclose": false,
   "autocomplete": true,
   "bibliofile": "biblio.bib",
   "cite_by": "apalike",
   "current_citInitial": 1,
   "eqLabelWithNumbers": true,
   "eqNumInitial": 1,
   "hotkeys": {
    "equation": "Ctrl-E",
    "itemize": "Ctrl-I"
   },
   "labels_anchors": false,
   "latex_user_defs": false,
   "report_style_numbering": false,
   "user_envs_cfg": false
  }
 },
 "nbformat": 4,
 "nbformat_minor": 4
}
