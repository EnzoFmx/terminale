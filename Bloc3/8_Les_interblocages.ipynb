{
 "cells": [
  {
   "cell_type": "markdown",
   "metadata": {},
   "source": [
    " # <div align=\"center\">Les blocages et interblocages</div>"
   ]
  },
  {
   "cell_type": "markdown",
   "metadata": {},
   "source": [
    "Nous avons vu précédemment que des processus peuvent avoir besoin de la même ressource simultanément.<br>\n",
    "\n",
    "Dans de nombreux cas, deux processus (ou plus) peuvent vouloir accéder à la même donnée sur le disque dur:\n",
    "\n",
    "  * Les deux processus ont uniquement besoin de lire la donnée : celle ci est alors partagée, sans problème complexe;\n",
    "  * Les deux processus ont besoin de la donnée de manière **exclusive**, pour la modifiér par exemple;\n",
    "  * les deux processus ont besoin de communiquer entre eux : l'un doit attendre un résultat de l'autre.\n",
    "\n"
   ]
  },
  {
   "cell_type": "markdown",
   "metadata": {},
   "source": [
    "![Von](img/InterBloc1.png)"
   ]
  },
  {
   "cell_type": "markdown",
   "metadata": {},
   "source": [
    "Dans le schéma ci-dessus , les processus P1 et P2 ont tous les deux besoins de la même donnée pour la modifiér, c'est a dire de manière **exclusive**.<br>\n",
    "Le premier à y acceder est P1, la donnée lui est **allouée** par le système d'exploitation.<br>\n",
    "Lorsque le processus P2 shouhaite y accéder, la ressource n'est pas disponible :\n",
    "   * P2 se retrouve bloqué jusqu'à la fin de l'utilisation de la donnée par P1"
   ]
  },
  {
   "cell_type": "markdown",
   "metadata": {},
   "source": [
    "Un exemple qui nous est cetainement déjà arrivé à tous :\n",
    "\n",
    "![Bloc](img/Bloc1.png)\n",
    "\n",
    "Le fichier est douvert manière **exclusive** dans \"Acrobat\" , il est donc impossible de le supprimé."
   ]
  },
  {
   "cell_type": "markdown",
   "metadata": {},
   "source": [
    "<u>*Prenont cet autre exemple.*</u>\n",
    "![Von](img/InterBloc2.png)"
   ]
  },
  {
   "cell_type": "markdown",
   "metadata": {},
   "source": [
    "Deux processus P1 et P2 ont tous les deux besoins de deux données , D1 et D2.<br>\n",
    "Cette situation peut se produire:<br>\n",
    "Chaque processus bloque une donnée et est en attente de l'autre, rien ne pourra évoluer sans une intervention extérieure:\n",
    "   * Cette situation porte le nom **d'interblocage**\n",
    "   "
   ]
  },
  {
   "cell_type": "markdown",
   "metadata": {},
   "source": [
    "Face à cette problématique , deux solutions sont envisageables:\n",
    "   * Essayer d'éviter un interblocage;\n",
    "   * Détecter qu'un interblocage est apparu et le supprimer.essayer d'éviter les interblocages"
   ]
  },
  {
   "cell_type": "markdown",
   "metadata": {},
   "source": [
    "La plupart des système d'exploitation (OS) ont choisi de ne pas essayer d'éviter les interblocages, mains uniquement de les détecter et s'ils surviennent de les solutionner"
   ]
  },
  {
   "cell_type": "markdown",
   "metadata": {
    "solution": "shown",
    "solution_first": true
   },
   "source": [
    "<u>*Exercice*</u> :\n",
    " \n",
    "* Dans une société, trois commerciaux (Audrey,Enzo et Louis) travaillent en réseau sur le même serveur, sur lequel ils stockent des fichiers qu'ils partagent:\n",
    "<br>\n",
    "\n",
    "   * Fichier_produits\n",
    "   * Fichier_clients\n",
    "   \n",
    "<br>\n",
    "\n",
    "* Ci-dessous la liste de leurs accés aux fichiers entre 9h et 9h10.\n",
    "\n",
    "|Heure de début|Durée nécessaire|Utilisateur|Fichier|Tâche effectuée| \n",
    "|---|---|---|---|---|\n",
    "|09:01:00|00:01:00|Louis|Fichier_produits|Impression|\n",
    "|09:02:00|00:01:00|Louis|Fichier_clients|Impression|\n",
    "|09:05:00|00:04:00|Audrey|Fichier_clients|Lecture|\n",
    "|09:07:00|00:02:00|Enzo|Fichier_clients|Modification|\n",
    "|09:12:00|00:09:00|Audrey|Fichier_produits|Modification|\n",
    "|09:18:00|00:02:00|Enzo|Fichier_produits|Modification|\n",
    "\n",
    "* Schématiser la chronologie des accès réalisés sur cette période\n",
    "\n",
    "|Heure|Fichier_produits|Fichier_clients|Commentaire| \n",
    "|---|---|---|---|\n",
    "|xxx|Qui ?|Qui ?|xxx|"
   ]
  },
  {
   "cell_type": "markdown",
   "metadata": {
    "solution": "shown"
   },
   "source": [
    "|Heure|Fichier_produits|Fichier_clients|Commentaire| \n",
    "|---|---|---|---|\n",
    "|09:01:00|Louis|||\n",
    "|09:02:00||Louis||\n",
    "|09:03:00||||\n",
    "|09:04:00||||\n",
    "|09:05:00||Audrey|La lecture necéssite pas d'accés|\n",
    "|09:06:00||Audrey|exclusif, Enzo peut modifier le|\n",
    "|09:07:00||Audrey : Enzo| fichier, Audrey continuera d'avoir|\n",
    "|09:08:00||Audrey : Enzo|la version qu'elle a eu à 09:05;00|\n",
    "|09:09:00||||\n",
    "|09:10:00||||\n",
    "|09:11:00||||\n",
    "|09:12:00|Audrey||La mise à jour nécessite|\n",
    "|09:13:00|Audrey||un accés exclusif, Audrey|\n",
    "|09:14:00|Audrey||bloque le fichier pendant|\n",
    "|09:15:00|Audrey||9 minutes, Enzo ne pourra|\n",
    "|09:16:00|Audrey||faire sa modification que |\n",
    "|09:17:00|Audrey||lorsquq'Audrey aura terminé|\n",
    "|09:18:00|Audrey||la sienne, à 09:21:00|\n",
    "|09:19:00|Audrey|||\n",
    "|09:20:00|Audrey|||\n",
    "|09:21:00||Enzo||\n",
    "|09:22:00||Enzo||"
   ]
  },
  {
   "cell_type": "markdown",
   "metadata": {},
   "source": [
    "Aprés une courte réunion suivi d'un café , ils se remettent au travail.\n",
    "\n",
    "|Heure de début|Durée nécessaire|Utilisateur|Fichier|Tâche effectuée| \n",
    "|---|---|---|---|---|\n",
    "|10:24:00|00:10:00|Louis|Fichier_produits|Mise à jour|\n",
    "|10:28:00|00:10:00|Audrey|Fichier_clients|Mise à jour|\n",
    "|10:32:00|00:06:00|Audrey|Fichier_produits|Mise à jour|\n",
    "|10:36:00|00:06:00|Louis|Fichier_clients|Mise à jour|\n",
    "|10:44:00|00:05:00|Louis|Fichier_produits|Mise à jour|\n",
    "|10:46:00|00:05:00|Audrey|Fichier_clients|Mise à jour|\n",
    "|10:49:00|00:04:00|Louis|Fichier_produits|Mise à jour|\n",
    "||||et Fichier_clients|Mise à jour|\n",
    "|10:51:00|00:04:00|Audrey|Fichier_produits|Mise à jour|\n",
    "||||et Fichier_clients|Mise à jour|\n",
    "\n",
    "* Schématiser la chronologie des nouveaux accès réalisés."
   ]
  },
  {
   "cell_type": "markdown",
   "metadata": {
    "solution": "hidden"
   },
   "source": [
    "|Heure|Fichier_produits|Fichier_clients|Commentaire| \n",
    "|---|---|---|---|\n",
    "|10:24:00|Louis||Louis bloque de|\n",
    "|10:25:00|Louis||manière exclusive|\n",
    "|10:26:00|Louis||Fichier_produits|\n",
    "|10:27:00|Louis||pendant 10 mn |\n",
    "|10:28:00|Louis|Audrey|Audrey bloque de|\n",
    "|10:29:00|Louis|Audrey|manière exclusive|\n",
    "|10:30:00|Louis|Audrey|Fichier_clients|\n",
    "|10:31:00|Louis|Audrey|pendant 10 mn|\n",
    "|10:32:00|Louis|Audrey||\n",
    "|10:33:00|Louis|Audrey||\n",
    "|10:34:00|Audrey|Audrey|Audrey peut commencer|\n",
    "|10:35:00|Audrey|Audrey|sa modification de|\n",
    "|10:36:00|Audrey|Audrey|Fichier_produits|\n",
    "|10:37:00|Audrey|Audrey||\n",
    "|10:38:00|Audrey|Louis|Louis peut commencer|\n",
    "|10:39:00|Audrey|Louis|sa modofication de |\n",
    "|10:40:00||Louis|Fichier_clients|\n",
    "|10:41:00||Louis||\n",
    "|10:42:00||Louis||\n",
    "|10:43:00||Louis||\n"
   ]
  }
 ],
 "metadata": {
  "hide_input": false,
  "kernelspec": {
   "display_name": "Python 3",
   "language": "python",
   "name": "python3"
  },
  "language_info": {
   "codemirror_mode": {
    "name": "ipython",
    "version": 3
   },
   "file_extension": ".py",
   "mimetype": "text/x-python",
   "name": "python",
   "nbconvert_exporter": "python",
   "pygments_lexer": "ipython3",
   "version": "3.8.0"
  },
  "latex_envs": {
   "LaTeX_envs_menu_present": true,
   "autoclose": false,
   "autocomplete": true,
   "bibliofile": "biblio.bib",
   "cite_by": "apalike",
   "current_citInitial": 1,
   "eqLabelWithNumbers": true,
   "eqNumInitial": 1,
   "hotkeys": {
    "equation": "Ctrl-E",
    "itemize": "Ctrl-I"
   },
   "labels_anchors": false,
   "latex_user_defs": false,
   "report_style_numbering": false,
   "user_envs_cfg": false
  }
 },
 "nbformat": 4,
 "nbformat_minor": 4
}
