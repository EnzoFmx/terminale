{
 "cells": [
  {
   "cell_type": "markdown",
   "metadata": {},
   "source": [
    " # <div align=\"center\">Protocole RIP</div>"
   ]
  },
  {
   "cell_type": "markdown",
   "metadata": {},
   "source": [
    ">Le protocole RIP rentre dans la catégorie des protocoles à vecteur de distance.<br>\n",
    "Un vecteur de distance est un coupe (adresse, distance).\n",
    "Le principe simplifié de ce protocole est de chercher à minimiser le nombre de routeurs à traverser pour atteindre la destination (on minimise le nombre de sauts)."
   ]
  },
  {
   "cell_type": "markdown",
   "metadata": {},
   "source": [
    "### Principe général de l'algorithme RIP\n",
    "\n",
    ">Chaque routeur reçoit en permanence (toutes les 30 secondes environ) de ses voisins les informations de routage qu'ils possèdent.<br>\n",
    "Il va alors exploiter ces informations pour se construire lui-même sa table de routage en ne retenant que les informations les plus pertinentes : une simple comparaison permet de ne garder que le chemin le plus avantageux. <br>\n",
    "Il transmettra a son tour ces informations à ses voisins et ainsi de suite.<br>\n",
    "C'est l'algorithme de [Belman-Ford](https://www.youtube.com/watch?v=kzablGaqUXM) : un des algorithmes de recherche de plus court chemin dans un graphe.<br>\n",
    "A l'issue de quelques étapes, les tables se stabilisent et le routage est pleinement opérationnel.<br> Le temps nécessaire à la stabilisation des tables est proportionnel au diamètre du graphe modélisant le réseau (c'est à dire au nombre maximal d'étapes nécessaires pour relier deux points quelconques du réseau).\n",
    "\n",
    "[principe du routage a vecteur de distance](https://youtu.be/kzablGaqUXM)\n",
    "\n"
   ]
  },
  {
   "cell_type": "markdown",
   "metadata": {},
   "source": [
    "#### Exemple\n",
    "Considérons le réseau suivant qui relie deux réseaux d'une entreprise :\n",
    "\n",
    "* le réseau 1 contient des postes de travail dans un bureau.\n",
    "* le réseau 2 contient un serveur dans un centre de données.\n",
    "* Les routeurs R1 et R6 permettent d'accéder au réseau de l'entreprise.\n",
    "* Les routeurs R2, R3, R4 et R5 sont internes au réseau.\n",
    "\n",
    "![RIP](img/Exemple_RIP1.png)"
   ]
  },
  {
   "cell_type": "markdown",
   "metadata": {},
   "source": [
    "Nous allons nous intéresser à l'évolution des tables de routage des routeurs R1 et R3 sur lesquels on a activé le protocole RIP.\n",
    "\n",
    "* Étape 0\n",
    "Au démarrage, les routeurs R1 et R3 ne connaissent que leurs voisins proches. Leurs tables peuvent donc ressembler à ceci :\n",
    "\n",
    "|destination|passerelle|interface|Nb sauts|remarques|\n",
    "|---|---|---|---|---|\n",
    "|192.168.1.0|  |wifi0|1|==> vers les postes de travail|\n",
    "|172.16.0.0|  |eth0|1|==> vers R3|\n",
    "\n",
    "Au départ, R1 ne peut atteindre que ses voisins immédiats (nb Sauts vaut 1).<br>\n",
    "Aucune passerelle n'est nécessaire puisque la communication est directe.<br>\n",
    "Chaque sous réseau utilise une interface spécifique.<br>\n",
    "Le réseau local 1 contenant les postes de travail est accessible en wifi.\n",
    "\n",
    "En ce qui concerne le routeur 3, celui-ci possède 4 interfaces réseau filaires, que nous nommerons eth0-3 qui permettent d'atteindre les routeurs immédiats (R1, R2, R4 et R5).<br>\n",
    "Voici à quoi peut ressembler sa table de routage au démarrage :\n",
    "\n",
    "|destination|passerelle|interface|Nb sauts|remarques|\n",
    "|---|---|---|---|---|\n",
    "|172.16.0.0||eth0|1|==> vers R1|\n",
    "|172.16.1.0||eth1|1|==> vers R2|\n",
    "|172.16.6.0||eth2|1|==> vers R5|\n",
    "|172.16.3.0||eth3|1|==> vers R4|\n",
    "\n",
    "* Étape 1\n",
    "Au bout de 30 secondes, un premier échange intervient avec les voisins immédiats de chacun des routeurs.\n",
    "\n",
    ">Le principe de l'algorithme\n",
    "Lorsqu'un routeur reçoit une nouvelle route de la part d'un voisin, 4 cas sont envisageables :<br>\n",
    ">\n",
    ">Il découvre une route vers un nouveau **réseau inconnu**.<br>\n",
    "*Il l'ajoute à sa table.<br>\n",
    ">Il découvre une route vers un réseau **connu**, **plus courte** que celle qu'il possède dans sa table.<br>\n",
    "*Il actualise sa table.<br>\n",
    ">Il découvre une route vers un réseau **connu**, **plus longue** que celle qu'il possède dans sa table.<br>\n",
    "*Il ignore cette route.<br>\n",
    ">Il reçoit une route vers un réseau **connu** en provenance d'un routeur **déjà existant dans sa table**.\n",
    "*Il met à jour sa table car la topologie du réseau a été modifiée.\n",
    "\n",
    "En appliquant ces règles, voici la table de routage de R1 après une étape :\n",
    "\n",
    "|destination|passerelle|interface|Nb sauts|remarques|\n",
    "|---|---|---|---|---|\n",
    "|192.168.1.0||wifi0|1|==> vers les postes de travail|\n",
    "|172.16.0.0||eth0|1|==> vers R3|\n",
    "|172.16.1.0|172.16.0.3|eth0|2|Ces 3 routes|\n",
    "|172.16.6.0|172.16.0.3|eth0|2|proviennent|\n",
    "|172.16.3.0|172.16.0.3|eth0|2|de R3|\n",
    "\n",
    "172.16.0.3 est l'adresse IP du routeur R3. <br>\n",
    "On ajoute à la table précédente les réseaux atteignables par R3.<br>\n",
    "On pense cependant à ajouter 1 au nombre de sauts !<br>\n",
    "Si R1 veut atteindre le réseau 172.16.3.0, il s'adressera à R3 et atteindra le réseau cible en 2 sauts.\n",
    "\n",
    "Voici la table de R3 qui s'enrichit des informations envoyées par R1 afin d'atteindre le réseau local, mais aussi des informations en provenance de R2, R4 et R5.<br>\n",
    "Il découvre ainsi 4 nouveaux réseaux.\n",
    "\n",
    "|destination|passerelle|interface|Nb sauts|remarques|\n",
    "|---|---|---|---|---|\n",
    "|172.16.0.0||eth0|1||\t\n",
    "|172.16.1.0||eth1|1||\n",
    "|172.16.6.0||eth2|1||\n",
    "|172.16.3.0||eth3|1||\n",
    "|192.168.1.0|172.16.0.1|eth0|2|reçu de R1|\n",
    "|172.16.2.0|172.16.1.2|eth1|2|reçu de R2|\n",
    "|172.16.5.0|172.16.6.5|eth2|2|reçu de R5|\n",
    "|172.16.4.0|172.16.3.4|eth3|2|reçu de R4|\n",
    "\n",
    "* Étape 3\n",
    "Comme vous le voyez, les tables deviennent vite longues et énumérer dans le détail chacune d'elle est trop long.<br>\n",
    "On va donc passer directement à l'étape finale : l'étape 3.<br>\n",
    "Voici ce que contient la table de routage de R1 :\n",
    "\n",
    "|destination|passerelle|interface|Nb sauts|remarques|\n",
    "|---|---|---|---|---|\n",
    "|192.168.1.0||wifi0|1|==> vers les postes de travail|\n",
    "|172.16.0.0||eth0|1|==> vers R3|\n",
    "|172.16.1.0|172.16.0.3|eth0|2||\t\n",
    "|172.16.6.0|172.16.0.3|eth0|2||\t\n",
    "|172.16.3.0|172.16.0.3|eth0|2||\t\n",
    "|172.16.5.0|172.16.0.3|eth0|3|obtenu à l'étape 2|\n",
    "|192.168.2.0|172.16.0.3|eth0|4|obtenu à l'étape 3|\n",
    "\n",
    "#### Détection des pannes\n",
    "Le protocole RIP est en mesure de détecter des pannes : Si un routeur ne reçoit pas d'information de la part d'un de ses voisins au bout d'un temps de l'ordre de 3 minutes (configurable) il va considérer que ce lien est mort et en informer ses voisins en indiquant un nombre de sauts égal à 16. \n",
    "\n",
    "* Puisque RIP ne gère que 15 sauts au maximum, 16 peut être considéré comme une distance infinie.\n",
    "\n",
    "De cette manière, les voisins vont pouvoir recalculer leurs routes en conséquence en évitant le lien qui est tombé.\n",
    "\n",
    "### Détection des boucles\n",
    "RIP implémente d'autres mécanismes pour empêcher que se forment des boucles de routage. Une boucle est par exemple une route du type R2 -> R3 -> R5 -> R2.<br>\n",
    "Des exemples de tels mécanismes sont :\n",
    "\n",
    "* Une durée de vie limitée sur les paquets (TTL) afin qu'un paquet qui tourne en rond soit détruit.\n",
    "* Ne pas renvoyer une information vers un routeur si celle-ci est déjà passée par ce routeur."
   ]
  },
  {
   "cell_type": "markdown",
   "metadata": {},
   "source": [
    "## Conclusion\n",
    "\n",
    "Le protocole RIP est en général utilisé sur de petits réseaux : \n",
    "* il est en effet limité à 15 sauts et il génère de plus un trafic important.\n",
    "\n",
    "Pour des structures plus importantes, on va lui préférer le protocole **OSPF.**"
   ]
  }
 ],
 "metadata": {
  "hide_input": false,
  "kernelspec": {
   "display_name": "Python 3",
   "language": "python",
   "name": "python3"
  },
  "language_info": {
   "codemirror_mode": {
    "name": "ipython",
    "version": 3
   },
   "file_extension": ".py",
   "mimetype": "text/x-python",
   "name": "python",
   "nbconvert_exporter": "python",
   "pygments_lexer": "ipython3",
   "version": "3.8.0"
  },
  "latex_envs": {
   "LaTeX_envs_menu_present": true,
   "autoclose": false,
   "autocomplete": true,
   "bibliofile": "biblio.bib",
   "cite_by": "apalike",
   "current_citInitial": 1,
   "eqLabelWithNumbers": true,
   "eqNumInitial": 1,
   "hotkeys": {
    "equation": "Ctrl-E",
    "itemize": "Ctrl-I"
   },
   "labels_anchors": false,
   "latex_user_defs": false,
   "report_style_numbering": false,
   "user_envs_cfg": false
  }
 },
 "nbformat": 4,
 "nbformat_minor": 4
}
