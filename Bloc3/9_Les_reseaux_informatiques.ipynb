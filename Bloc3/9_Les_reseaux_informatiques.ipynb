{
 "cells": [
  {
   "cell_type": "markdown",
   "metadata": {},
   "source": [
    " # <div align=\"center\">Aperçu des différents réseaux informatiques.</div>"
   ]
  },
  {
   "cell_type": "markdown",
   "metadata": {},
   "source": [
    "   * Personal Area Network (**PAN**) ou réseau personnel\n",
    "   * Local Area Network (**LAN**) ou réseau local\n",
    "   * Metropolitan Area Network (**MAN**) ou réseau métropolitain\n",
    "   * Wide Area Network (**WAN**) ou réseau étendu\n",
    "   * Global Area Network (**GAN**) ou réseau global\n",
    "   * Virtual Private Network (**VPN**) ou réseau privé virtuel \n",
    "   \n",
    "La connexion physique qui relie ces types de réseau peut être câblée (filaire) ou bien réalisée à l’aide de la technologie sans fil.      \n",
    "\n",
    "#### Personal Area Network (**PAN**) ou réseau personnel\n",
    ">Pour permettre l’échange de données des appareils modernes comme notamment les smartphones, tablettes, ordinateurs portables ou les ordinateurs de bureau, ces derniers peuvent être connectés à un réseau adapté.<br>\n",
    "Celui-ci peut être relié sous la forme d’un réseau personnel ou PAN (Personnal Area Network), on parle aussi de réseau domestique.<br>\n",
    "Les techniques de transmission courantes sont l’USB ou le FireWire.<br>\n",
    "Le réseau personnel sans fil (WPAN pour Wireless Personal Area Network) repose sur des technologies comme :\n",
    ">   * le Bluetooth, \n",
    ">   * USB sans fil, \n",
    ">   * INSTEON, \n",
    ">   * IrDA, \n",
    ">   * ZigBee ou Z-Wave.<br>  \n",
    "Un réseau personnel sans fil qui peut être réalisé par l’intermédiaire du Bluetooth est appelé « Piconet ».<br>\n",
    "Les WPAN et les PAN ne couvrent généralement que quelques mètres et ne sont pas adaptés pour connecter des appareils se trouvant dans des pièces ou bâtiments différents.\n",
    "\n",
    "####  Local Area Network (**LAN**) ou réseau local\n",
    ">Si plusieurs ordinateurs doivent être réunis sur un réseau, cela se fait généralement sous la forme d’un réseau local ou LAN. Un tel réseau peut relier deux ordinateurs d’une maison ou alors plusieurs centaines d’appareils au sein d’une entreprise.<br>\n",
    "Mais également des réseaux dans des institutions publiques comme les administrations, les écoles ou les universités sont généralement mis en œuvre sous la forme d’un LAN.<br>\n",
    "Une norme commune très répandue pour les réseaux locaux câblés est le protocole Ethernet.\n",
    "Si un réseau local est implémenté par radio, on le nomme alors WLAN (wireless local area network) ou réseau local sans fil.<br> En France on utilise aussi couramment le terme de WiFi pour désigner un WLAN.<br>\n",
    "Il n’y a pas vraiment de différences entre ces deux termes, WiFi est simplement une marque déposée de protocoles de communication sans fil.\n",
    "La portée d’un réseau LAN est tributaire de la norme utilisée et du support de transmission\n",
    "\n",
    "#### Metropolitan Area Network (**MAN**) ou réseau métropolitain\n",
    ">Un Metropolitan Area Network (MAN) ou réseau métropolitain, est un réseau de télécommunication à large bande qui relie plusieurs LAN géographiquement à proximité.<br>\n",
    "Il s’agit en règle générale de différentes branches d’une société qui sont reliées à un MAN via des lignes loués.<br>\n",
    "Les routeurs de haute performance et les connexions de fibres optiques hautes performances sont utilisés ce qui permet de fournir un débit de données beaucoup plus élevé que l’Internet\n",
    "\n",
    "#### Wide Area Network (**WAN**) ou réseau étendu\n",
    ">Les WAN (Wide Area Network) ou réseaux étendus couvrent des vastes zones géographiques à l’échelle d’un pays ou d’un continent par exemple.<br>\n",
    "En principe, le nombre de réseaux locaux ou d’ordinateurs connectés à un réseau étendu est illimité.\n",
    "Les réseaux étendus ne peuvent utiliser de une base Ethernet du fait de la distance géographiques des ordinateurs connectés.<br>\n",
    "Ils utilisent des techniques comme :\n",
    ">   * IP/MPLS (Multiprotocol Label Switching ),\n",
    ">   * PDH (Plesiochrone Digitale Hierarchie),\n",
    ">   * SDH (Synchrone Digitale Hierarchie),\n",
    ">   * SONET (Synchronous Optical Network),\n",
    ">   * ATM (Asynchronous Transfer Mode) \n",
    ">   * Rarement l’obsolète X.25.\n",
    "\n",
    "#### Global Area Network (GAN)\n",
    ">Un réseau mondial comme Internet est aussi appelé GAN (Globe Area Network).<br>\n",
    "Internet n’est cependant pas le seul réseau informatique de ce genre.<br>\n",
    "Les entreprises actives au niveau international maintiennent également des réseaux isolés qui couvrent plusieurs WAN et connectent ainsi des ordinateurs d’entreprise dans le monde entier.<br>\n",
    "Les GAN utilisent les infrastructures de fibre optique des réseaux étendus et combinent ces derniers avec des câbles sous-marins internationaux ou des transmissions par satellite.\n",
    "\n",
    "#### Virtual Private Network (VPN)\n",
    ">Un VPN (Virtual Privat Network) ou réseau privé virtuel est un réseau de communication virtuel qui utilise l’infrastructure d’un réseau physique pour relier logiquement les systèmes informatiques.<br> Il peut s’agir de n’importe quel type de réseau détaillé plus haut, cependant Internet est le moyen de transmission le plus couramment utilisé.<br>\n",
    "Les données sont transférées au sein d’un tunnel virtuel qui est construit entre un client VPN et un serveur VPN.<br>\n",
    "Le réseau public est utilisé comme moyen de transport, les réseaux privés virtuels sont généralement cryptés pour s’assurer de la confidentialité des données. \n",
    "\n"
   ]
  }
 ],
 "metadata": {
  "hide_input": false,
  "kernelspec": {
   "display_name": "Python 3",
   "language": "python",
   "name": "python3"
  },
  "language_info": {
   "codemirror_mode": {
    "name": "ipython",
    "version": 3
   },
   "file_extension": ".py",
   "mimetype": "text/x-python",
   "name": "python",
   "nbconvert_exporter": "python",
   "pygments_lexer": "ipython3",
   "version": "3.8.0"
  },
  "latex_envs": {
   "LaTeX_envs_menu_present": true,
   "autoclose": false,
   "autocomplete": true,
   "bibliofile": "biblio.bib",
   "cite_by": "apalike",
   "current_citInitial": 1,
   "eqLabelWithNumbers": true,
   "eqNumInitial": 1,
   "hotkeys": {
    "equation": "Ctrl-E",
    "itemize": "Ctrl-I"
   },
   "labels_anchors": false,
   "latex_user_defs": false,
   "report_style_numbering": false,
   "user_envs_cfg": false
  }
 },
 "nbformat": 4,
 "nbformat_minor": 4
}
