{
 "cells": [
  {
   "cell_type": "markdown",
   "metadata": {
    "solution": "shown"
   },
   "source": [
    " # <div align=\"center\">Protocoles de routage</div>"
   ]
  },
  {
   "cell_type": "markdown",
   "metadata": {},
   "source": [
    ">Dans un réseau, les routeurs jouent un rôle essentiel dans la transmission des paquets sur Internet :<br>\n",
    "les paquets sont routés  individuellement  par  des  algorithmes.<br>\n",
    "Les  pertes  logiques peuvent  être compensées  par  des  protocoles reposant sur des accusés de réception ou des demandes de renvoi, comme TCP.1"
   ]
  },
  {
   "cell_type": "markdown",
   "metadata": {},
   "source": [
    "### Rappel de premiere\n",
    "\n",
    "* Chaque «objet IP» est identifié par une adresse IP qui contient:\n",
    "  * L’adresse du réseau IP local (extraite grâce au «netmask»ou «masque de sous réseau»);\n",
    "  * Le numéro de la machine dans le réseau IP local.\n",
    "  * Une adresse IPv4 est un identifiant numérique à 32 bits (4 octets).\n",
    "  * Chaque «objet IP» est physiquement connecté à un réseau local de niveau 2 par ethernet, wifi ou bluetooth.\n",
    "\n",
    "\n",
    "* La communication avec d’autres «objets IP» appartenant au même réseau se fait directement via le réseau local de niveau 2 par l’intermédiaire d’un «switch» ou «commutateur».<br>\n",
    "* La communication avec d’autres «objets IP» d’autres réseaux IP distants se  fait via des passerelles de  niveau 3 ou routeurs."
   ]
  },
  {
   "cell_type": "markdown",
   "metadata": {},
   "source": [
    "<u>*A vous de jouer*</u>"
   ]
  },
  {
   "cell_type": "markdown",
   "metadata": {},
   "source": [
    "> Dans un réseau, les ordinateurs fonctionnant avec le protocole TCP/IP sont identifiés par une adresse.<br>\n",
    "En IPv4, cette adresse est composée de quatre nombres. \n",
    "* Par exemple, une machine pourrait avoir l’adresse 172.16.0.3.<br>\n",
    "Ceci est une adresse IP.<br>\n",
    "Chaque nombre séparé par un point est codé sur un octet. **L’adresse est donc constituée de 4 octets**.\n",
    "\n",
    "1. Sur combien de bits est codé chaque nombre d’une adresse IP ? Sachant cela, quelle est la taille en bits d’une adresse complète ?\n",
    "\n",
    "\n",
    "2. Pour chaque nombre, donnez l’intervalle de valeurs possibles. En déduire le nombre d’adresses différentes que l’on peut théoriquement former.\n",
    "\n",
    "> Les adresses IP sont structurées :\n",
    "* une partie identifie le réseau\n",
    "* une partie identifie l’appareil dans le réseau.\n",
    "\n",
    "> Prenons un exemple :<br>\n",
    "Imaginons que l’on ait sur la machine d’adresse IP : 172.16.1.80.<br>\n",
    "À cette adresse est associé un masque 255.255.255.0.<br>\n",
    "La notation binaire indique que les 24 premiers bits sont à 1, et les 8 derniers sont à 0.<br>\n",
    "Les bits à 1 permettent d'identifier le réseau et les bits à 0 permettent d'identifier la machine sur le réseau.\n",
    "* 172.16.1  est donc la partie **réseau** de l'adresse IP\n",
    "* 80 est donc la partie **machine** de l'adresse IP\n",
    "\n",
    "> Pour noter un masque et une adresse IP de manière plus synthétique, on utilise cette notation : « @IP / n » où n est le nombre de bit à 1 du masque. Ici, on aurait 172.16.1.80 / 24. [Plus d'informations ici](https://fr.wikipedia.org/wiki/Adresse_IP)\n",
    "\n",
    "On considère une machine dont l’adresse IP est 192.168.3.1/27. \n",
    "\n",
    "1. Combien de bits sont disponibles pour identifier les machines sur le réseau ?\n",
    "\n",
    "\n",
    "2. Écrire en binaire le masque, puis le convertir en décimal.\n",
    "\n",
    "\n",
    "3. Combien de machines peut-on théoriquement connecter sur ce réseau ?"
   ]
  },
  {
   "cell_type": "markdown",
   "metadata": {},
   "source": [
    "> **Remarque:** * Grâce  à  des  adresses  de  128bits  au  lieu  de  32bits,  IPv6  dispose  d'un  espace d'adressage  bien  plus important qu'IPv4 (près de 7,9× 1028 de fois plus)et résout donc le problème de pénurie d’adresses IPv4 publiques liée à la multiplication des objets connectés dans la vie quotidienne.Architecture matérielle, système d’exploitation, réseauxProtocoles de routage"
   ]
  },
  {
   "cell_type": "markdown",
   "metadata": {},
   "source": [
    "![Reseau](img/Switch.png)"
   ]
  },
  {
   "cell_type": "markdown",
   "metadata": {},
   "source": [
    "**Remarque :**\n",
    "Les commutateurs («switchs»en anglais) construisent une table d’adresses MAC des machines IP connectées à eux.\n",
    "Ils se basent sur les adresses MAC pour commuter les trames.\n",
    "Contrairement aux commutateurs, les routeurs se basent quant à eux sur les adresses IP pour transporter les données.\n",
    "La forme de l’adresse MAC ne permet pas de localiser le destinataire distant c’est la raison pour laquelle elle est utilisée seulement dans les réseaux locaux, contrairement à l’adresse IP dont la partie réseau et la partie Hôte permettent de localiser l’ordinateur d’une façon précise quel que soit son emplacement dans le monde."
   ]
  },
  {
   "cell_type": "markdown",
   "metadata": {},
   "source": [
    "## 1  Principe du routage"
   ]
  },
  {
   "cell_type": "markdown",
   "metadata": {},
   "source": [
    "Cas N°1 : \n",
    "* Si l'hôte de destination se trouve sur le même réseau que l'hôte source, les paquets de données sont acheminés entre les deux hôtes sur le support local de niveau 2 via des commutateurs («**switchs**») sans nécessiter la présence d’un routeur. Les commutateurs («switchs») construisent une table d’adresses MAC des machines IP connectées à eux et se basent sur ces adresses MAC enregistrées pour commuter les trames. \n",
    "\n",
    "Cas N°2:\n",
    "*  Si l'hôte de destination et l'hôte source ne se trouvent pas sur le même réseau, le réseau local achemine le paquet de la source vers son **routeur** de passerelle de niveau 3. le routeur examine la partie réseau de l'adresse de destination  du  paquet  et  achemine  le  paquet  à  l'interface  appropriée.  \n",
    "   * Si  le  réseau  de  destination  est  connecté directement  à  ce  routeur,  le  paquet  est  transféré  directement  vers  cet  hôte.  \n",
    "   * Si  le  réseau  de  destination  n'est  pas connecté directement, le paquet est acheminé vers un second routeur qui constitue le routeur de tronçon suivant .Le transfert du paquet devient alors la responsabilité de ce second routeur. \n",
    "   \n",
    "* De nombreux routeurs ou sauts tout au long  du  chemin  peuvent  traiter  le  paquet  avant  qu'il  n'atteigne  sa destination. Contrairement aux commutateurs («switchs»),les routeurs se basent quant à eux sur les adresses IP pour transporter les données. \n"
   ]
  },
  {
   "cell_type": "markdown",
   "metadata": {},
   "source": [
    "><u>**Remarque</u>** : Aucun paquet ne  peut être  acheminé sans route. Que le paquet provienne d'un hôte ou qu'il soit  acheminé  par un routeur intermédiaire, le routeur a besoin d'une route pour savoir où l'acheminer. S'il n'existe aucune route vers un réseau  de  destination, le paquet ne peut pas être transféré. Les routeurs utilisent des tables de  routage  qui contiennent les routes qu'ils connaissent. "
   ]
  },
  {
   "cell_type": "markdown",
   "metadata": {},
   "source": [
    "><u>**Important</u>** : Ces tables peuvent être construites manuellement (**routage statique**) ou automatiquement (**routage dynamique**). Dans ce cas, les routeurs s'appuient sur des protocoles spécifiques comme **le protocole RIP** (Routing Information Protocol) ou **OSPF**(Open Shortest Path First)par exemple"
   ]
  },
  {
   "cell_type": "markdown",
   "metadata": {},
   "source": [
    "####  (TP Simulation réseau sous filius )"
   ]
  },
  {
   "cell_type": "markdown",
   "metadata": {},
   "source": [
    "## 1  Alanyse d'un reseau\n",
    "\n",
    "![Reseau](img/reseau8.png)"
   ]
  },
  {
   "cell_type": "markdown",
   "metadata": {},
   "source": [
    "* Cas n°1: M1 veut communiquer avec M3\n",
    "<br>Le paquet est envoyé de M1 vers le switch R1.<br>\n",
    "  R1 \"constate\" que M3 se trouve bien dans le réseau local 1, le paquet est donc envoyé directement vers M3. On peut résumer le trajet du paquet par:<br>\n",
    "  M1→R1→M3 <br>\n",
    "  \n",
    "  \n",
    "* A vous\n"
   ]
  },
  {
   "cell_type": "markdown",
   "metadata": {
    "solution": "hidden",
    "solution_first": true
   },
   "source": [
    "* Cas n°2: M1 veut communiquer avec M6"
   ]
  },
  {
   "cell_type": "markdown",
   "metadata": {
    "solution": "hidden"
   },
   "source": [
    "* Le paquet est envoyé de M1 vers le switch R1, R1 «constate» que M6 n’est pas sur le réseau local 1.\n",
    "* R1 envoie donc le paquet vers le routeur A.\n",
    "* Le routeur A n'est pas connecté directement au réseau local R2 (réseau local de la machine M6), mais il \"sait\" que le routeur B est connecté au réseau local 2.\n",
    "* Le routeur A envoie le paquet vers le routeur B.\n",
    "* Le routeur B est connecté au réseau local 2, il envoie le paquet au Switch R2.\n",
    "* Le Switch R2 envoie le paquet à la machine M6.\n",
    "* M1 →R1→ Routeur A → Routeur B → R2 → M6"
   ]
  },
  {
   "cell_type": "markdown",
   "metadata": {
    "solution": "hidden",
    "solution_first": true
   },
   "source": [
    "* Cas n° 3: M1 veut communiquer avec M9"
   ]
  },
  {
   "cell_type": "markdown",
   "metadata": {
    "solution": "hidden"
   },
   "source": [
    "Il existe souvent plusieurs chemins possibles pour relier 2 ordinateurs :\n",
    "* M1 → R1 → Routeur A → Routeur B → Routeur D → Routeur E → R4 → M9<br>\n",
    "OU\n",
    "* M1 → R1 → Routeur A → Routeur H → Routeur F → Routeur E → R4 → M9"
   ]
  },
  {
   "cell_type": "markdown",
   "metadata": {
    "solution": "hidden",
    "solution_first": true
   },
   "source": [
    " * Cas n°4: M13 veut communiquer avec M9"
   ]
  },
  {
   "cell_type": "markdown",
   "metadata": {
    "solution": "hidden"
   },
   "source": [
    "* M13 → R6 → Routeur G → Routeur F → Routeur E → R4 → M9<br>\n",
    "OU\n",
    "* M13 → R6 → Routeur G → Routeur F → Routeur H → Routeur C → Routeur D → Routeur E → R4 → M9\n",
    "<br>\n",
    "\n",
    "* Le  chemin n°1 : <br>\n",
    "\"Routeur F → Routeur E\" est vraisemblablement plus  rapide  et  donc  préférable  au  chemin n°  2 \"Routeur F → Routeur H\"<br>\n",
    "Cependant s’il y avait un problème technique entre le Routeur F et le Routeur E, l’existence du chemin \"Routeur F → Routeur H\" permettrait tout de même d’établir une communication entre M13 et M9.<br>\n",
    "C’est l’existence de très nombreuses interconnexions et donc de routes possibles entre les différentes infrastructures qui rendent internet particulièrement peu sensible à des pannes localisées."
   ]
  },
  {
   "cell_type": "code",
   "execution_count": null,
   "metadata": {},
   "outputs": [],
   "source": []
  }
 ],
 "metadata": {
  "hide_input": false,
  "kernelspec": {
   "display_name": "Python 3",
   "language": "python",
   "name": "python3"
  },
  "language_info": {
   "codemirror_mode": {
    "name": "ipython",
    "version": 3
   },
   "file_extension": ".py",
   "mimetype": "text/x-python",
   "name": "python",
   "nbconvert_exporter": "python",
   "pygments_lexer": "ipython3",
   "version": "3.8.0"
  },
  "latex_envs": {
   "LaTeX_envs_menu_present": true,
   "autoclose": false,
   "autocomplete": true,
   "bibliofile": "biblio.bib",
   "cite_by": "apalike",
   "current_citInitial": 1,
   "eqLabelWithNumbers": true,
   "eqNumInitial": 1,
   "hotkeys": {
    "equation": "Ctrl-E",
    "itemize": "Ctrl-I"
   },
   "labels_anchors": false,
   "latex_user_defs": false,
   "report_style_numbering": false,
   "user_envs_cfg": false
  }
 },
 "nbformat": 4,
 "nbformat_minor": 4
}
