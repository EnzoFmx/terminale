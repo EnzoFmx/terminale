{
 "cells": [
  {
   "cell_type": "markdown",
   "metadata": {},
   "source": [
    " # <div align=\"center\">Les Processus</div>"
   ]
  },
  {
   "cell_type": "markdown",
   "metadata": {},
   "source": [
    " # <div align=\"center\">Introduction</div>\n",
    " \n",
    "Au début de l'informatique ,dans les années 1970d les ordinateurs personnels n'étaient pas capables d'exécuter plusieurs tâches à la fois : \n",
    "   * on lancait un programme et on y restait jusqu'à ce que celui-ci plante ou se termine.\n",
    "   \n",
    "Les systèmes d'exploitation récents (Windows, Linux ou osX par exemple) permettent d'exécuter plusieurs tâches simultanément - ou en tous cas, donner l'impression que celles-ci s'exécutent em même temps.<br>\n",
    " A un instant donné, il n'y a donc pas un mais plusieurs programmes qui sont en cours d'exécution sur un ordinateur : \n",
    "   - on les nomme **processus**.\n",
    "                              \n",
    "Une des tâches du système d'exploitation est d'allouer à chacun des processus les ressources dont il a besoin en termes de mémoire, entrées-sorties ou temps processeur, et de s'assurer que les processus ne se gênent pas les uns les autres."
   ]
  },
  {
   "cell_type": "markdown",
   "metadata": {},
   "source": [
    "Nous avons tous été confrontés à la problématique de la gestion des processus dans un système d'exploitation, en tant qu'utilisateur :\n",
    "\n",
    "   * Quand nous cliquons sur l'icône d'un programme, nous provoquons la naissance d'un ou plusieurs processus liés au programme que nous lançons;\n",
    "   * Quand un programme ne répond plus, il nous arrive de lancer le gestionnaire de taches pour tuer le processus en défaut.\n",
    "   \n",
    "Nous allons voir en détails dans cette séquence comment les processus sont gérés dans le système d'exploitation Linux."
   ]
  },
  {
   "cell_type": "markdown",
   "metadata": {},
   "source": [
    "Il ne faut donc pas confondre le fichier contenant un programme (portent souvent l'extension .exe sous windows) et le ou les processus qu'ils engendrent quand ils sont exécutés :<br>\n",
    "\n",
    "   * Un **programme** est juste un fichier contenant une suite d'instructions (firefox.exe par exemple) \n",
    "   * alors que les **processu**s sont des **instances de ce programme** ainsi que les ressources nécessaires à leur exécution (plusieurs fenêtres de firefox ouvertes en même temps)."
   ]
  },
  {
   "cell_type": "markdown",
   "metadata": {},
   "source": [
    " # <div align=\"center\">Création d'un processus</div>\n",
    "   \n",
    "La création d'un processus peut intervenir\n",
    "\n",
    "   * au démarrage du système\n",
    "   * par un appel d'un autre processus\n",
    "   * par une action d'un utilisateur (lancement d'application)\n",
    "   \n",
    "Sur Linux, la création d'un processus se fait par clonage d'un autre processus au travers d'un appel systeme : fork().\n",
    "\n",
    "   * le processus qui fait appel à fork() est appelé processus père\n",
    "   * le processus qui est ainsi créé par clonage est le processus fils\n",
    "   * après le clonage, un processus peut remplacer son programme par un autre programme grâce à l'appel système exec().\n",
    "   "
   ]
  },
  {
   "cell_type": "markdown",
   "metadata": {},
   "source": [
    "# <div align=\"center\">Arborescence de processus</div>\n",
    "Ce système de création un peu particulier (désigné souvent par fork/exec) conduit à l'émergence d'une arborescence de processus : un processus père engendre un ou plusieurs fils qui à leur tour engendrent des fils etc... Sur Linux, le père de tous les processus se nomme init, il est créé au démarrage du système.\n",
    "\n",
    "l'instruction **pstree** permet de visualiser l'arbre de processus :\n",
    "\n",
    "![Von](img/Pstree.png)"
   ]
  },
  {
   "cell_type": "markdown",
   "metadata": {},
   "source": [
    "# <div align=\"center\">PID, PPID</div>\n",
    "Un processus est caractérisé par un identifiant unique : \n",
    "\n",
    "   * son PID (Process Identifier). \n",
    "\n",
    "Lorsqu'un processus engendre un fils, l'OS génère un nouveau numéro de processus pour le fils. Le fils connaît aussi le numéro de son père : \n",
    "\n",
    "   * le PPID (Parent Process Identifier).\n",
    "\n",
    "Gérer les processus sur un système Linux\n",
    "Il est possible de les visualiser grâce à la commande ps -eF. Pour un affichage page par page, utilisez ps -eF | more\n",
    "\n",
    "A vous de jouer\n",
    "  * Quel est le PID du processus init ?\n",
    "  * Quel est le PPID de init ?\n",
    "  * init possède t-il un frêre ?\n",
    "  \n",
    "Citer quelques descendants directs de init"
   ]
  },
  {
   "cell_type": "markdown",
   "metadata": {},
   "source": [
    "**Inspecter les processus en temps réel**<br>\n",
    "\n",
    "Une commande indispensable à connaître sous Linux pour inspecter les processus est la commande **top**.(ou htop son équivalent avec interface graphique)\n",
    "\n",
    "Lancez cette commande dans un terminal. Vous devriez avoir quelque chose du genre :\n",
    "\n",
    "![Von](img/top.png)"
   ]
  },
  {
   "cell_type": "markdown",
   "metadata": {},
   "source": [
    "# <div align=\"center\">Terminer un processus</div>\n",
    "\n",
    "Repérez le PID de top puis tuez-le à l'aide de la commande k.\n",
    "\n",
    "Pour tuer un processus, on lui envoie un signal de terminaison. On en utilise principalement 2 :\n",
    "\n",
    "   * SIGTERM (15) : demande la terminaison d'un processus.\n",
    "   \n",
    "   Cela permet au processus de se terminer proprement en libérant les ressources allouées.<br>\n",
    "   \n",
    "   * SIGKILL (9) : demande la terminaison immédiate et inconditionnelle d'un processus. \n",
    "   \n",
    "   C'est une terminaison violente à n'appliquer que sur les processus récalcitrants qui ne répondent pas au signal SIGTERM.\n",
    "Pour terminer top proprement, vous lui enverrez donc un signal SIGTERM en tapant le numéro 15.<br>\n",
    "\n",
    "Cela est équivalent à la commande shell kill -15 PID où PID désigne le numéro du processus à quitter proprement.<br>\n",
    "\n",
    "Si ce dernier est planté et ne réagit pas à ce signal, alors vous pouvez vous en débarasser en tapant kill -9 PID.<br>\n",
    "\n",
    "Exercice :\n",
    "\n",
    "   * lancez l'éditeur de textes.\n",
    "   * repérez son PID à l'aide de la commande ps ou top\n",
    "   * quittez l'application en utilisant la commande kill"
   ]
  }
 ],
 "metadata": {
  "hide_input": false,
  "kernelspec": {
   "display_name": "Python 3",
   "language": "python",
   "name": "python3"
  },
  "language_info": {
   "codemirror_mode": {
    "name": "ipython",
    "version": 3
   },
   "file_extension": ".py",
   "mimetype": "text/x-python",
   "name": "python",
   "nbconvert_exporter": "python",
   "pygments_lexer": "ipython3",
   "version": "3.8.0"
  },
  "latex_envs": {
   "LaTeX_envs_menu_present": true,
   "autoclose": false,
   "autocomplete": true,
   "bibliofile": "biblio.bib",
   "cite_by": "apalike",
   "current_citInitial": 1,
   "eqLabelWithNumbers": true,
   "eqNumInitial": 1,
   "hotkeys": {
    "equation": "Ctrl-E",
    "itemize": "Ctrl-I"
   },
   "labels_anchors": false,
   "latex_user_defs": false,
   "report_style_numbering": false,
   "user_envs_cfg": false
  }
 },
 "nbformat": 4,
 "nbformat_minor": 4
}
