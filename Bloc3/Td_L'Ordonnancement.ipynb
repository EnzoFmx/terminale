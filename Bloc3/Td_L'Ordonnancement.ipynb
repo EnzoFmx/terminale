{
 "cells": [
  {
   "cell_type": "markdown",
   "metadata": {},
   "source": [
    " # <div align=\"center\">TD Ordonnancement des processus par l'OS</div>"
   ]
  },
  {
   "cell_type": "markdown",
   "metadata": {},
   "source": [
    "Soient les différents processus suivants :\n",
    "\n",
    "![Ordo](img/td_ordo1.png)\n",
    "\n",
    "*Lexique* :\n",
    "  * FCFS : First Come First Serve / Selon l'ordre d'arrivée;\n",
    "  * RR : Round-Robin, accès au processeur pour une durée limitée, Equité de service selon un quantum;\n",
    "  * FCFS : First Come First Serve, Selon l'ordre d'arrivée\n",
    "  * SRTF : Temps de traitement restant le plus court d'abord.\n",
    "\n",
    "  \n",
    "  "
   ]
  },
  {
   "cell_type": "markdown",
   "metadata": {},
   "source": [
    "Donnez le diagramme de Gantt pour l’exécution de ces différents processus en utilisant\n",
    "successivement les algorithmes :\n",
    "  * FCFS ;\n",
    "  * RR pour quantum = 1 unité de temps et quantum = 4 unités de temps;\n",
    "  * SJF;\n",
    "  * SRT.\n",
    "  \n",
    "Pour chaque cas étudié, calculez :\n",
    "  * Temps de rotation de chaque processus et le temps de rotation moyen\n",
    "  * Temps d’attente de chaque processus et le temps d’attente moyen\n",
    "  * Rendement (throughput)\n",
    "\n",
    "**Temps de rotation = Date de fin d'exécution - Date d'arrivée**\n"
   ]
  },
  {
   "cell_type": "markdown",
   "metadata": {},
   "source": [
    "![Ordo](img/td_ordo2.png)\n",
    "![Ordo](img/td_ordo3.png)"
   ]
  },
  {
   "cell_type": "code",
   "execution_count": null,
   "metadata": {},
   "outputs": [],
   "source": []
  },
  {
   "cell_type": "code",
   "execution_count": null,
   "metadata": {},
   "outputs": [],
   "source": []
  }
 ],
 "metadata": {
  "kernelspec": {
   "display_name": "Python 3",
   "language": "python",
   "name": "python3"
  },
  "language_info": {
   "codemirror_mode": {
    "name": "ipython",
    "version": 3
   },
   "file_extension": ".py",
   "mimetype": "text/x-python",
   "name": "python",
   "nbconvert_exporter": "python",
   "pygments_lexer": "ipython3",
   "version": "3.8.0"
  },
  "latex_envs": {
   "LaTeX_envs_menu_present": true,
   "autoclose": false,
   "autocomplete": true,
   "bibliofile": "biblio.bib",
   "cite_by": "apalike",
   "current_citInitial": 1,
   "eqLabelWithNumbers": true,
   "eqNumInitial": 1,
   "hotkeys": {
    "equation": "Ctrl-E",
    "itemize": "Ctrl-I"
   },
   "labels_anchors": false,
   "latex_user_defs": false,
   "report_style_numbering": false,
   "user_envs_cfg": false
  }
 },
 "nbformat": 4,
 "nbformat_minor": 4
}
