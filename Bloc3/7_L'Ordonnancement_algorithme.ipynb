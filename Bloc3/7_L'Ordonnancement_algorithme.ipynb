{
 "cells": [
  {
   "cell_type": "markdown",
   "metadata": {
    "solution": "shown"
   },
   "source": [
    " # <div align=\"center\">Ordonnancement des processus par l'OS</div>"
   ]
  },
  {
   "cell_type": "markdown",
   "metadata": {},
   "source": [
    " ## <div align=\"center\">Critères de choix</div>\n",
    " * Les algorithmes d'ordonnancement peuvent être comparés grâce a différents critères.\n",
    " \n",
    " <br>\n",
    " * **Uilisation du CPU**\n",
    "     - On désire maximiser l'utilisation du CPU et réduire les \"Idle\";\n",
    "     - En théorie : de 0 à 100% mais dans la réalité de 40% à 90%.\n",
    " * **Débit (throughput)**\n",
    "     - Nombre de processus terminés par unité de temps;\n",
    "     - Processus long : 1 proc / h - transaction courtes : 10 proc /s.\n",
    " * **Temps de rotation**\n",
    "     - Temps pris pour terminer entierement un processus;\n",
    "     - Le Delai entre la soumission d'un processus et son achèvement;\n",
    "     - La somme des temps d'attente dans les files, d'entrée/sortie et d'exécution.\n",
    " * **Temps d'attente**\n",
    "     - L'algorithme d'ordonnancement ne modifie pas la durée d'exécution d'un processus ni les attente d'E/S;\n",
    "     - Il affecte le temps durant lequel le processus attend dans la file des processus prêt:\n",
    "     - Temps d'attente global: la somme des temps d'attente dans la file des processus prêt.\n",
    " * **Temps de réponse**\n",
    "     - Dans un système interactif, le temps de rotation n'est pas forcément le meilleur critère(attente s'une saisie utilisateur);\n",
    "         - Un processus peut rapidement produire des sorties et continuer à calculer d'autres résultats pendant que les premières sorties sont données à l'utilisateur\n",
    "     - Temps de réponse :\n",
    "         - Temps entre la soumission d'une requête et la production de la première réponse;\n",
    "         - Temps nécessaire pour commencer à répondre et non le temps pour sortir cette réponse.\n",
    " "
   ]
  },
  {
   "cell_type": "markdown",
   "metadata": {},
   "source": [
    " ## <div align=\"center\">FCFS Premier arrivé premier servi </div>\n",
    " * L'algorithme le plus simple\n",
    " * Le premier processus qui demande du CPU le reçoit en premier\n",
    " * L'implémentation de FCFS est facilement géré par une file FIFO (First In / First Out)\n",
    " * Lorsque le CPU est libéré, ile st alloué au processus en tête de file d'attente.\n",
    " * Le processus en cours d'exécution est retiré de la file d'attente\n",
    " * **Le temps d'attente moyen en FCFS est souvent long! **"
   ]
  },
  {
   "cell_type": "markdown",
   "metadata": {
    "hide_input": true,
    "solution": "hidden",
    "solution_first": true
   },
   "source": [
    "Exercice:\n",
    "* On considère l'ensemble de processus décrit ci-dessous:\n",
    "|Processus|Nombre de cycle|\n",
    "|---|---|\n",
    "|P1|15|\n",
    "|P2|8|\n",
    "|P3|5|\n",
    "\n",
    "   \n",
    "On suppose que les processus arrivent tous à partir de l'instant T0 dans l'ordre suivant : P1,P2,P3\n",
    "* Réaliser le diagramme de  Gant Pour l'ordonnancement FCFS.\n",
    "* Calculer le temps d'attente moyen"
   ]
  },
  {
   "cell_type": "markdown",
   "metadata": {
    "solution": "hidden"
   },
   "source": [
    "![Ordo](img/FCFS.png)\n",
    "   * Temps D'attente :\n",
    "     * P1=0;\n",
    "     * P2=15;\n",
    "     * P3=23.\n",
    "   * Temps d'attente moyen (0+15+23)/3 = 12,7 cycles CPU"
   ]
  },
  {
   "cell_type": "markdown",
   "metadata": {
    "hide_input": true,
    "solution": "shown",
    "solution_first": true
   },
   "source": [
    "Supposons le second cas où les processus arrivent dans l'ordre P2,P3,P1.\n",
    "\n",
    "* Réaliser le diagramme de  Gant Pour l'ordonnancement FCFS.\n",
    "* Calculer le temps d'attente moyen"
   ]
  },
  {
   "cell_type": "markdown",
   "metadata": {
    "hide_input": true,
    "solution": "hidden"
   },
   "source": [
    "![Ordo](img/FCFS2.png)\n",
    "   * Temps D'attente :\n",
    "     * P1=13; \n",
    "     * P2=0;\n",
    "     * P3=8.\n",
    "   * Temps d'attente moyen (0+8+13)/3 = 7 cycles CPU"
   ]
  },
  {
   "cell_type": "markdown",
   "metadata": {
    "hide_input": true,
    "solution": "hidden"
   },
   "source": [
    "* Nous obtenons un gain non négligeable \n",
    "* Le temps d'attente moyen en FCFS **n'est pas minimal** et peut varier si le temps des cycles CPU varient de manière importante\n",
    "* FCSF est non préemptif "
   ]
  },
  {
   "cell_type": "markdown",
   "metadata": {},
   "source": [
    "En vous basant sur l'exemple vu précédemment, quel serait le cas idéal qui permettrait d'obtenir le temps moyen le plus faible?"
   ]
  },
  {
   "cell_type": "markdown",
   "metadata": {},
   "source": [
    "## <div align=\"center\">SFJ travail le plus court d'abord</div>\n",
    "* Shortest job first (SFJ)   \n",
    "* La longueur du prochain cycle CPU est associe a chaque processus\n",
    "* Lorsque le CPU est disponible, le processus ayant le plus petit cycle CPU est alloué\n",
    "* Si les prochains processus sont identiques en terme de cycle CPU, on  utilise FCFS (tie break !))"
   ]
  },
  {
   "cell_type": "markdown",
   "metadata": {
    "hide_input": false,
    "solution": "hidden",
    "solution_first": true
   },
   "source": [
    "Exercice:\n",
    "* On considère l'ensemble de processus décrit ci-dessous:\n",
    "|Processus|Nombre de cycle|\n",
    "|---|---|\n",
    "|P1|5|\n",
    "|P2|9|\n",
    "|P3|3|\n",
    "|P4|2|\n",
    "\n",
    "   \n",
    "On suppose que les processus arrivent tous à partir de l'instant T0.\n",
    "* Réaliser le diagramme de  Gantt Pour l'ordonnancement SFJ.\n",
    "* Calculer le temps d'attente moyen"
   ]
  },
  {
   "cell_type": "markdown",
   "metadata": {
    "solution": "hidden"
   },
   "source": [
    "![Ordo](img/SFJ.png)\n",
    "   * Temps D'attente :\n",
    "     * P1=5; \n",
    "     * P2=10;\n",
    "     * P3=2;\n",
    "     * P4=0.\n",
    "   * Temps d'attente moyen (5+10+2+0)/4 = 4,25 cycles CPU"
   ]
  },
  {
   "cell_type": "markdown",
   "metadata": {
    "solution": "shown",
    "solution_first": true
   },
   "source": [
    "Nous pouvons constater que l'algorithme SFJ est optimal :\n",
    "  * Il obtient le temps d'attente moyen  minimal pour un ensemble de processus;\n",
    "  * En plaçant un processus court avant un long, on diminue le temps d'attente du processus court.\n",
    "  \n",
    "Cependant SJF est lié a un majeur ! lequel ?"
   ]
  },
  {
   "cell_type": "markdown",
   "metadata": {
    "solution": "shown"
   },
   "source": [
    "Comment connaître à l'avance la durée des processus afin de prioriser les processus les plus court ?\n",
    "Solution : Technique de prédiction"
   ]
  },
  {
   "cell_type": "markdown",
   "metadata": {},
   "source": [
    "## <div align=\"center\">SFJ travail le plus court d'abord</div>\n",
    "  * L'algorithme SJF peut être préemptif ou non préemptif\n",
    "  * Le choix intervient quand un **nouveau** processus se présente dans la file des processus prêts\n",
    "  * Le prochain cycle de CPU du nouveau processus peut-être plus court que ce qu'il reste à executer du processus déjà en cours d'exécution\n",
    "  * Un Algorithme SJF **préemtif** interrompt le processus en cours alors qu'un processus **non préemtif** le laisse compléter son cycle CPU.\n",
    "  * Un algorithme SFJ préemtif s'appelle aussi **Ordonnancement au temps restant le plus cours d'abord** (Shortest remaining time first)"
   ]
  },
  {
   "cell_type": "markdown",
   "metadata": {
    "solution": "hidden",
    "solution_first": true
   },
   "source": [
    "* On considère l'ensemble de processus décrit ci-dessous:\n",
    "|  Processus |Temps d'arrivée   |  Cycle CPU |\n",
    "|---|---|---|\n",
    "| P1| 0 |8   |\n",
    "| P2| 1 |4   |\n",
    "| P3| 2 |9   |\n",
    "| P4| 3 |5   |\n",
    "\n",
    "\n",
    "* Le diagramme de Gantt pour l'ordonnancement SFJ préemtif est :\n",
    "\n",
    "![Ordo](img/SFJ-Prem1.png)\n",
    "\n",
    "* Calculer le temps d'attente moyen"
   ]
  },
  {
   "cell_type": "markdown",
   "metadata": {
    "solution": "hidden"
   },
   "source": [
    "   * Le temps d'attente : P1=10-1 ; P2=0 ; P3=17-2 ; P4 = 5-3\n",
    "   * Le temps d'attente moyen : [(10-1)+(0)+(17-2)+(5-3)]/4 = 6.5 cycles CPU"
   ]
  },
  {
   "cell_type": "markdown",
   "metadata": {
    "solution": "shown",
    "solution_first": true
   },
   "source": [
    "Comparer le temps avec un SFJ non préemptif"
   ]
  },
  {
   "cell_type": "markdown",
   "metadata": {
    "solution": "shown"
   },
   "source": [
    "* Le diagramme de Gantt pour l'ordonnancement SFJ non préemtif est :\n",
    "\n",
    "![Ordo](img/SFJ-Prem2.png)\n",
    "\n",
    "   * Le temps d'attente : P1=0 ; P2=8-1 ; P3=17-2 ; P4 = 12-3\n",
    "   * Le temps d'attente moyen : [(0)+(8-1)+(17-2)+(12-3)]/4 = 7.75 cycles CPU"
   ]
  },
  {
   "cell_type": "markdown",
   "metadata": {
    "solution": "shown",
    "solution_first": true
   },
   "source": [
    "## <div align=\"center\">Ordonnancement avec priorité</div>\n",
    "  \n",
    "  * On considère l'ensemble de processus suivants qui arrivent à l'instant T0\n",
    "  * Les nombres les petits représentent les priorités les plus élevés\n",
    "  \n",
    "|Processus|Nombre de cycle|Priorité\n",
    "|---|---|---|\n",
    "|P1|10|3|\n",
    "|P2|1|1|\n",
    "|P3|2|4|\n",
    "|P4|1|5|\n",
    "|P5|5|2|\n",
    "\n",
    "   * Calculer le temps d'attente moyen.\n",
    "  "
   ]
  },
  {
   "cell_type": "markdown",
   "metadata": {
    "solution": "shown"
   },
   "source": [
    "* Le diagramme de Gantt pour l'ordonnancement avec priorité est :\n",
    "\n",
    "![Ordo](img/Prio1.png)\n",
    "\n",
    "   * Le temps d'attente : P1=6 ; P2=0 ; P3=16 ; P4 = 18 ; P5=1\n",
    "   * Le temps d'attente moyen : [(6+0+16+18+1)]/4 = 8,2 cycles CPU"
   ]
  },
  {
   "cell_type": "markdown",
   "metadata": {
    "solution": "shown"
   },
   "source": [
    " ## <div align=\"center\">Ordonnancement avec priorité </div>\n",
    " \n",
    "   * L'ordonnancement avec priorité peut être préemptif ou non préemptif.\n",
    "   * Un algorithme d'ordonnancement avec priorité préemptif interrompt le processus courant.\n",
    "      * Si un processus arrive dans la liste des processus prêts;\n",
    "      * Et si ce nouveau processus à une priorité plus haute.\n",
    "   * Un algorithme d'ordonnancement avac priorité non préemtif.\n",
    "      * Dépose un nouveau processus en tête de la file des processus prêts.\n",
    "   * Un algorithme d'ordonnancement avac priorité pose un problème majeur.\n",
    "      * Blocage infini ou famine (Starvasion)\n",
    "      * Peut laisser des processus à faible priorité en attente indéfinie\n",
    "      \n",
    "   * Solution :\n",
    "      * Vieillissement (Aging)\n",
    "      * Technique qui consiste à incrémenter graduellement la priorité des processus qui attendent dans le système depuis une longue période."
   ]
  },
  {
   "cell_type": "markdown",
   "metadata": {
    "solution": "shown"
   },
   "source": [
    "## <div align=\"center\">Ordonnancement à tourniquet (Round Robin) </div>\n",
    "\n",
    "   * L'algorithme d'ordonnancement à  tourniquet (RR) est courant dans les systèmes d'exploitation et est adapté aux systèmes travaillant en temps partagés.\n",
    "   * Il est similaire à FCFS mais avec réquisisition de la CPU afin de passer d'un processeur à un autre\n",
    "   * Une petite unité de temps, appelé quantum de temps, est définie.\n",
    "      * La file d'attente est gérée comme une file circulaire.         \n",
    "   * L'ordonnanceur parcourt cette file et alloue un temps processeur à chacun des processus pour un intervalle de temps de l'ordre d'un quantum au maximum."
   ]
  },
  {
   "cell_type": "markdown",
   "metadata": {
    "solution": "hidden",
    "solution_first": true
   },
   "source": [
    "## <div align=\"center\">Ordonnancement à tourniquet (Round Robin)</div>\n",
    "  \n",
    "  * On considère l'ensemble de processus suivants qui arrivent à l'instant T0 et un quantum de temps q=4\n",
    "  \n",
    "|Processus|Nombre de cycle|\n",
    "|---|---|\n",
    "|P1|24|\n",
    "|P2|3|\n",
    "|P3|3|\n"
   ]
  },
  {
   "cell_type": "markdown",
   "metadata": {
    "solution": "hidden"
   },
   "source": [
    "## * Le diagramme de Gantt pour l'ordonnancement à tourniquet (Round Robin) est :\n",
    "\n",
    "![Ordo](img/Round_Robin1.png)\n",
    "\n",
    "* Le temps d'attente : P1=(0+(10-4))=6 ; P2=4 ; P3=7 \n",
    "* Le temps d'attente moyen : (6+4+7)/3 = 5.67 cycles CPU"
   ]
  },
  {
   "cell_type": "markdown",
   "metadata": {
    "solution": "shown",
    "solution_first": true
   },
   "source": [
    "* Réaliser le diagramme de  Gantt Pour un quantum de temps q=1.\n",
    "* Calculer le temps d'attente moyen"
   ]
  },
  {
   "cell_type": "markdown",
   "metadata": {
    "solution": "shown"
   },
   "source": [
    "## * Le diagramme de Gantt avec un Quantum de 1 est :\n",
    "\n",
    "![Ordo](img/Round_Robin2.png)\n",
    "\n",
    "* Le temps d'attente : P1=(0+(10-4))=6 ; P2=4 ; P3=7 \n",
    "* Le temps d'attente : P1=(0+(4-1)+(7-4)+(10-7))=9 ; P2=1+(5-2)+(8-5)=7 ; P3=2+(6-3)+(9-6) =8\n",
    "* Le temps d'attente moyen : (7+8+9)/3 = 8 cycles CPU"
   ]
  },
  {
   "cell_type": "code",
   "execution_count": null,
   "metadata": {},
   "outputs": [],
   "source": [
    "## * Le diagramme de Gantt pour l'ordonnancement avec priorité est :\n",
    "\n",
    "![Ordo](img/Round_Robin1.png)\n",
    "\n",
    "* Le temps d'attente : P1=(0+(10-4))=6 ; P2=4 ; P3=7 \n",
    "* Le temps d'attente moyen : (6+4+7)/3 = 5.67 cycles CPU"
   ]
  }
 ],
 "metadata": {
  "hide_input": true,
  "kernelspec": {
   "display_name": "Python 3",
   "language": "python",
   "name": "python3"
  },
  "language_info": {
   "codemirror_mode": {
    "name": "ipython",
    "version": 3
   },
   "file_extension": ".py",
   "mimetype": "text/x-python",
   "name": "python",
   "nbconvert_exporter": "python",
   "pygments_lexer": "ipython3",
   "version": "3.8.0"
  },
  "latex_envs": {
   "LaTeX_envs_menu_present": false,
   "autoclose": true,
   "autocomplete": true,
   "bibliofile": "biblio.bib",
   "cite_by": "apalike",
   "current_citInitial": 1,
   "eqLabelWithNumbers": true,
   "eqNumInitial": 1,
   "hotkeys": {
    "equation": "Ctrl-E",
    "itemize": "Ctrl-I"
   },
   "labels_anchors": false,
   "latex_user_defs": false,
   "report_style_numbering": false,
   "user_envs_cfg": false
  }
 },
 "nbformat": 4,
 "nbformat_minor": 4
}
