{
 "cells": [
  {
   "cell_type": "markdown",
   "metadata": {},
   "source": [
    " \n",
    "   # CPU"
   ]
  },
  {
   "cell_type": "markdown",
   "metadata": {},
   "source": [
    "Ce simulateur, basé sur une architecture de von Neumann, est composé d’un CPU et d’une mémoire.\n",
    "(https://www.peterhigginson.co.uk/AQA/)"
   ]
  },
  {
   "cell_type": "markdown",
   "metadata": {},
   "source": [
    "![Von](img/Simul.png)"
   ]
  },
  {
   "cell_type": "markdown",
   "metadata": {},
   "source": [
    "**Présentation**<br>\n",
    "\n",
    "on distingue faciement les différentes parties du simulateur :\n",
    "\n",
    "* à droite, la **mémoire vive** ou RAM (Main Memory) ;\n",
    "* au centre, le **microprocesseur** (avec ses différentes composantes : ALU, CU, registres, …) ;\n",
    "* à gauche, la zone d’édition (Assembly Language), permettant de saisir des programmes en assembleur."
   ]
  },
  {
   "cell_type": "markdown",
   "metadata": {},
   "source": [
    "![Von](img/Simul2.png)"
   ]
  },
  {
   "cell_type": "markdown",
   "metadata": {},
   "source": [
    "Chaque cellule de la mémoire est accessible par son adresse.<br>\n",
    "Il existe deux formats d’adressage des cellules de la mémoire :\n",
    "\n",
    "* 32 bits – format mot (option word mode) – par féfaut<br>\n",
    "les adresses vont de 000 à 199 (codée en base 10).<br>\n",
    "* 8 bits – format octet (option byte mode)<br>\n",
    "les adresses vont de 000 à 799 (codée en base 10).<br>\n",
    "On peut modifier le format d’adressage de la mémoire à l’aide du bouton OPTIONS.\n",
    "\n",
    "***Régler la mémoire de sorte d’avoir un affichage hexadécimal, avec des cellules au format 32 bits.***"
   ]
  },
  {
   "cell_type": "markdown",
   "metadata": {},
   "source": [
    "![Von](img/Simul3.png)"
   ]
  },
  {
   "cell_type": "markdown",
   "metadata": {},
   "source": [
    "###Le CPU\n",
    "Dans la partie centrale du simulateur, on trouve les différent composants du microprocesseur :\n",
    "\n",
    "les registres (Registers) : 13 registres (R0 à R12)\n",
    "    ![Von](img/Simul4.png)\n",
    "    1 registre spécial (PC) qui contient l’adresse mémoire de l’instruction en cours d’exécution ;\n",
    "     ![Von](img/Simul5.png)\n",
    "La cellule mémoire contenant l'instruction machine en cours d'execution     "
   ]
  },
  {
   "cell_type": "markdown",
   "metadata": {},
   "source": [
    "**l’unité de commande** (Control Unit) qui contient l’instruction machine en cours d’exécution (au format hexadécimal)\n",
    "![Von](img/Simul6.png)"
   ]
  },
  {
   "cell_type": "markdown",
   "metadata": {},
   "source": [
    "**l’unité arithmétique et logique** (Arithmetic and Logic Unit)\n",
    "![Von](img/Simul7.png)"
   ]
  },
  {
   "cell_type": "markdown",
   "metadata": {},
   "source": [
    "## Programmer en assembleur\n",
    "\n",
    "La zone d’édition (Assembly Language) permet de saisir des programmes en assembleur.<br>\n",
    "\n",
    "Dans la zone d’édition (Assembly Language) saisir les lignes de codes suivantes :<br>\n",
    "\n",
    "MOV R0,#42<br>\n",
    "STR R0,150<br>\n",
    "HALT<br>\n",
    "1<br>\n",
    "2<br>\n",
    "3<br>\n",
    "MOV R0,#42<br>\n",
    "STR R0,150<br>\n",
    "HALT<br>\n",
    "<br>\n",
    "puis cliquer sur le bouton Submit.\n",
    "\n",
    "**Le programme vient d’être mis dans les cellules mémoires d’adresses 000, 001 et 002 :**\n",
    "\n"
   ]
  },
  {
   "cell_type": "markdown",
   "metadata": {},
   "source": [
    "* Identifier la valeur 42 dans la mémoire<br>\n",
    "Pour avoir une idée des véritables instructions machines, repasser à un affichage en binaire (OPTIONS / binary)) pour obtenir ceci :\n",
    "![Von](img/Simul8.png)"
   ]
  },
  {
   "cell_type": "markdown",
   "metadata": {},
   "source": [
    "Simulation<br>\n",
    "Pour exécuter un programme, il suffit de cliquer sur le bouton RUN (exécution en continu) ou STEP (exécution pas à pas).<br>\n",
    "\n",
    "Par défaut, le simulateur montre comment il « travaille » par une animation.<br>\n",
    "La vitesse d’animation est réglable à l’aide des boutons << et >> apparaissant à coté du bouton STOP qui permet de mettre l’exécution en pause."
   ]
  },
  {
   "cell_type": "markdown",
   "metadata": {},
   "source": [
    "### ATTENTION : pour relancer la simulation, il est nécessaire d’appuyer sur le bouton RESET ou ASSEMBLE afin de remettre les registres à zéro, et en particulier le registre PC permettant à l’unité de commande de pointer de nouveau sur l’instruction située à l’adresse mémoire 000."
   ]
  },
  {
   "cell_type": "markdown",
   "metadata": {},
   "source": [
    "Tester l’exécution du code, en ralentissant suffisamment la vitesse afin de bien comprendre toutes les étapes de cette exécution"
   ]
  },
  {
   "cell_type": "markdown",
   "metadata": {},
   "source": [
    "On constate que deux types de valeurs circulent au sein du système :<br>\n",
    "\n",
    " * des données (valeurs lues/écrites de/vers la mémoire/les registres/l’unité de commande)\n",
    " * des adresses des cellules de mémoire<br>\n",
    " \n",
    "\n",
    "Une fois la simulation terminée, on peut constater que la cellule mémoire d’adresse 150, contient bien le nombre 42 (en base 10). il en est de même pour le registre R0.<br>\n",
    "\n",
    "![Von](img/Simul9.png)\n",
    "\n",
    "Pour remettre la mémoire à 0, il faut cliquer sur le bouton OPTIONS et choisir clr memory.<br>"
   ]
  },
  {
   "cell_type": "markdown",
   "metadata": {},
   "source": [
    "A faire :<br>\n",
    "  * 1) Modifier le programme précédent pour qu’à la fin de l’exécution on trouve le nombre 54 à l’adresse mémoire 50.<br>\n",
    "On utilisera le registre R1 à la place du registre R0.\n",
    "<br>Tester les modifications en exécutant la simulation.    "
   ]
  },
  {
   "cell_type": "markdown",
   "metadata": {},
   "source": [
    "A faire :<br>\n",
    "  * 2) charger le pProgramme d'addition\n",
    "![Von](img/Simul10.png)  \n",
    "\n",
    "Ou coller le programme suivant :<br>\n",
    "INP R0,2<br>\n",
    "INP R1,2<br>\n",
    "ADD R2,R1,R0<br>\n",
    "OUT R2,4<br>\n",
    "HALT<br>\n",
    "\n",
    "Modifier le programme afin d'additionner trois nombres<br>"
   ]
  }
 ],
 "metadata": {
  "kernelspec": {
   "display_name": "Python 3",
   "language": "python",
   "name": "python3"
  },
  "language_info": {
   "codemirror_mode": {
    "name": "ipython",
    "version": 3
   },
   "file_extension": ".py",
   "mimetype": "text/x-python",
   "name": "python",
   "nbconvert_exporter": "python",
   "pygments_lexer": "ipython3",
   "version": "3.8.0"
  },
  "latex_envs": {
   "LaTeX_envs_menu_present": true,
   "autoclose": false,
   "autocomplete": true,
   "bibliofile": "biblio.bib",
   "cite_by": "apalike",
   "current_citInitial": 1,
   "eqLabelWithNumbers": true,
   "eqNumInitial": 1,
   "hotkeys": {
    "equation": "Ctrl-E",
    "itemize": "Ctrl-I"
   },
   "labels_anchors": false,
   "latex_user_defs": false,
   "report_style_numbering": false,
   "user_envs_cfg": false
  }
 },
 "nbformat": 4,
 "nbformat_minor": 4
}
