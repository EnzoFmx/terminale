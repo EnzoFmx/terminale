{
 "cells": [
  {
   "cell_type": "markdown",
   "metadata": {},
   "source": [
    " # <div align=\"center\">Td simulation réseau ping/lan</div>"
   ]
  },
  {
   "cell_type": "markdown",
   "metadata": {},
   "source": [
    "* Créer une simulation réseau, grâce au logiciel FILIUS\n",
    ">Créer un réseau en respectant le schéma ci-dessous."
   ]
  },
  {
   "cell_type": "markdown",
   "metadata": {},
   "source": [
    "![Res](img/td_simul3.png)"
   ]
  },
  {
   "cell_type": "markdown",
   "metadata": {},
   "source": [
    "### Exercice 1\n",
    "**Etat des lieux**,quels sont les ping qui fonctionnenet ?<br>\n",
    ">Un ping fonctionne si la réponse ICMP est bien reçu par l'émetteur du ping.\n",
    "   * Ouvrez la table d'échange des données sur les 4 machine.Videz cette table en faisant un clique droit avant chaque ping.\n",
    "   * Faites un tableaux 5x5 avec les 4 machines en lignes et en colonnes qui récapitule, depuis la machine en ligne vers la machine en colonne, si le paquet ICMP est:\n",
    "      * NE - Non Envoyé;\n",
    "      * PA - Perdu à l'Aller;\n",
    "      * NR - Non Réponse du destinataire;\n",
    "      * PR - Perdu au retour;\n",
    "      * OK - Répon se reçue."
   ]
  },
  {
   "cell_type": "markdown",
   "metadata": {},
   "source": [
    "### Exercice 2\n",
    "**Observation - Explications**\n",
    "\n",
    "* Vider la des des échanges de données sur les 4 machines\n",
    "* Refaire le ping de 2.28 vers 2.18 et décrire précisement toutes les trames envoyées/reçues par/sur chacunes des 4 machines"
   ]
  },
  {
   "cell_type": "markdown",
   "metadata": {},
   "source": [
    "### Exercice 3\n",
    "**Dépannage** - Comment faire pour que tous les ping fonctionnent ?\n",
    "   * 1) Proposez une solution en modifiant uniquement le netmask des machines pour lesquelles c'est nécessaire et testez. Quelles sont ces modifications ?\n",
    "   * 2) mettez \"/24\" comme netmask aux 4 machines.\n",
    "   * Quels sont les ping qui fonctionnent ? expliquez.<br>\n",
    "     Proposez une solution pour que cela fonctionne avec le netmask /24 pour les 4 machines sans changer leur adresse. Vous pouvez ajouter un Switch et/ou un routeur si nécessaire.\n",
    "   * 3)  Mettez en oeuvre cette solution et testez.<br>\n",
    "   Refaites le tableau en 5x5 afin de valider votre solution."
   ]
  },
  {
   "cell_type": "code",
   "execution_count": null,
   "metadata": {},
   "outputs": [],
   "source": []
  }
 ],
 "metadata": {
  "hide_input": false,
  "kernelspec": {
   "display_name": "Python 3",
   "language": "python",
   "name": "python3"
  },
  "language_info": {
   "codemirror_mode": {
    "name": "ipython",
    "version": 3
   },
   "file_extension": ".py",
   "mimetype": "text/x-python",
   "name": "python",
   "nbconvert_exporter": "python",
   "pygments_lexer": "ipython3",
   "version": "3.8.0"
  },
  "latex_envs": {
   "LaTeX_envs_menu_present": true,
   "autoclose": false,
   "autocomplete": true,
   "bibliofile": "biblio.bib",
   "cite_by": "apalike",
   "current_citInitial": 1,
   "eqLabelWithNumbers": true,
   "eqNumInitial": 1,
   "hotkeys": {
    "equation": "Ctrl-E",
    "itemize": "Ctrl-I"
   },
   "labels_anchors": false,
   "latex_user_defs": false,
   "report_style_numbering": false,
   "user_envs_cfg": false
  }
 },
 "nbformat": 4,
 "nbformat_minor": 4
}
