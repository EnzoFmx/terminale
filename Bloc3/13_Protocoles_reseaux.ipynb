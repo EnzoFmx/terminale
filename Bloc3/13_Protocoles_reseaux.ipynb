{
 "cells": [
  {
   "cell_type": "markdown",
   "metadata": {},
   "source": [
    " # <div align=\"center\">Protocoles Réseaux</div>"
   ]
  },
  {
   "cell_type": "markdown",
   "metadata": {},
   "source": [
    "Etant donné le nombre de connexions, de types de matériels, le nombre de pays qui utilisent internet, il va falloir s’entendre afin que l’information, votre demande de page ici (sous forme de 0 et de 1) soit reconnue quel que soit le système qu’elle va croiser.\n",
    "\n",
    "Imaginez une réunion avec des personnes parlant chacune une langue différente, on pourrait par exemple communiquer par une table de symboles. Se mettre d’accord et établir une règle c’est ce que l’on appelle établir un protocole.\n",
    "\n",
    ">On nomme protocole les conventions qui facilitent une communication sans faire directement partie du sujet de la communication elle-même. Un protocole est donc un ensemble de règles qui régissent la transmission d’informations.\n",
    "\n"
   ]
  },
  {
   "cell_type": "markdown",
   "metadata": {},
   "source": [
    "## Modèle OSI et TCP/IP\n",
    "\n",
    "Le modèle OSI (de l'anglais Open Systems Interconnexion) est une norme de communication, en réseau, de tous les systèmes informatiques. C'est un modèle de communications entre ordinateurs proposé par l'ISO (International Organization for Standardization en français Organisation Internationale de Normalisation) qui décrit les fonctionnalités nécessaires à la communication et l'organisation de ces fonctions.\n",
    "\n",
    "Le modèle OSI a été conçu dans les années 1970. C'est en mars 1978 que Charles Bachman présente son modèle de communication en 7 couches dans le document ISO/TC97/SC16/N34. Les grands opérateurs télécoms européens, alors tous publics, la combattent.<br>\n",
    "C'est à cause de ce retard et de son contexte trop peu ouvert, que la norme OSI sera supplantée par TCP/IP dans le domaine de l'Internet naissant puisqu'il sera adopté par le réseau Arpanet le 1er janvier 1983 (en remplacement du protocole NCP7).<br>\n",
    "L'OSI devient une norme en 1984 : la norme ISO 7498:19848 du 15 novembre 1984 qui sera révisée en 1994 sous la norme ISO/IEC 7498-1:1994, à un moment où il lui manque encore une vraie couche Internet"
   ]
  },
  {
   "cell_type": "markdown",
   "metadata": {},
   "source": [
    "#### Correspondance entre les modèle OSI et TCP.\n",
    "![Proto](img/Osi_tcp.png)"
   ]
  },
  {
   "cell_type": "markdown",
   "metadata": {},
   "source": [
    "Le modèle OSI se décompose en 7 couches indépendantes. Chaque couche a un rôle bien précis et un ou des protocoles bien définis. Cette indépendance des couches permet de pouvoir changer le comportement d’une couche sans en affecter les autres.\n",
    "\n",
    "Dans la colonne PDU on retrouve le modèle IP qui a regroupé quelques couches hautes en une seule.\n",
    "\n",
    "Le modèle TCP/IP (appelé aussi modèle Internet), qui date de 1976, a été stabilisé bien avant la publication du modèle OSI en 1984. Il présente aussi une approche modulaire (utilisation de couches) mais en contient uniquement quatre (ou 5, certains ajoute sépare la couche Accés réseau en 2 : liaison et physique)\n",
    "\n",
    "Application-->Transport-->Internet-->Accès réseau\n",
    "\n",
    "Aujourd'hui, c'est le modèle TCP/IP, plus souple, qui l'emporte sur le marché. Le modèle OSI, plus rigoureux, est principalement utilisé pour certaines applications critiques, ou pour ses fonctionnalités permettant de garantir une qualité de service.\n"
   ]
  },
  {
   "cell_type": "markdown",
   "metadata": {},
   "source": [
    "#### Rôle des différentes couches\n",
    "**Fonctions de la couche transport** :\n",
    "La principale fonction de la couche transport est de gérer la communication de bout en bout sur le réseau. Elles’assure que les messages transmis entre les équipements parviennent correctement à destination.<br>\n",
    "(dans le cas TCP)fragmente, si nécessaire, les messages en éléments plus petits puis les passe à la couche réseau.<br>\n",
    "Effectue également l'assemblage lorsque le message arrive à l’autre extrémité de la communication (la couche transport de la destination).<br>\n",
    "La communication entre les couches transport est une communication point à point, c’est-à-dire qu’elle se fait directement entre les deux extrémités de la connexion.<br>\n",
    "Le chemin physique de la transmission des messages peut passer par plusieurs ordinateurs et aiguilleurs.<br>\n",
    "Au niveau des couches inférieures, la communication se fait entre chacun des équipements intermédiaires.<br>\n",
    "La couche transport gère l’ensemble des connexions de façon à obtenir un lien virtuel entre les extrémités et fait l’association entre les messages et les connexions.\n",
    "<br>La couche transport est également responsable de la qualité de la communication.<br>\n",
    "Elle offre cinq classes de services. : <br>\n",
    "La classe 0 ne fournit que les fonctions de base et la classe 4 procure un contrôle maximal de contrôle de flux et de reprise des erreurs.<br>\n",
    "Selon les besoins, elle peut multiplexer les connexions pour réduire le coût de la communication ou coordonner plusieurs connexions en parallèle pour établir un lien plus rapide. Enfin, elle joue un rôle clé dans le contrôle du flux entre les équipements de façon à contrôler la vitesse de transmission lorsque le récepteur est moins rapide\n",
    "\n",
    "**Fonctions de la couche réseau** :\n",
    "La couche réseau est responsable des opérations qui impliquent les équipements d’aiguillage(routage) d'un réseau à un autre.<br>\n",
    "Les technologies qui composent un réseau varient en fonction de l’âge des réseaux et des technologies utilisées.<br>\n",
    "Ces différences proviennent de l’évolution plus ou moins rapide des réseaux, des services de base disponibles (réseaux téléphoniques, câbles, liens rapides) et des coûts d’utilisation.<br>\n",
    "La couche réseau détermine le chemin que prendra le message pour se rendre à destination ; c’est l’aiguillage.\n",
    "\n",
    "Un message peut rencontrer plusieurs problèmes avant de se rendre à destination : \n",
    "   * Un système d’adressage différent est utilisé par un réseau ; \n",
    "   * Le message est refusé par un autre réseau à cause de sa longueur ; \n",
    "   * Des protocoles différents sont utilisés.\n",
    "\n",
    "Le rôle de la couche réseau est de corriger les problèmes relatifs à la condition hétérogène du réseau.<br>\n",
    "Certains équipements d’aiguillage sont plus sollicités que d’autres, la congestion s’installe alors et diminue la performance de ceux-ci. \n",
    "<br>La couche réseau s’occupe de contrôler la congestion en distribuant le trafic vers des réseaux moins sollicités. L’élément de réseau est souvent désigné paquet. \n",
    "<br>Enfin, la couche réseau assure le transfert de chaque élément de réseau entre les points de l’équipement d’aiguillage cachant ainsi à la couche transport les opérations nécessaires pour établir une liaison entre deux points du réseau.\n",
    "\n",
    "**Fonctions de la couche liaison** :\n",
    "Sert à dialoguer sur un seul réseau. La fonction principale de la couche liaison est de gérer les erreurs qui se produisent sur le lien physique de façon à présenter à la couche réseau une communication exempte d’erreurs.<br>\n",
    "L’élément de liaison est souvent désigné trame.\n",
    "\n",
    "Pour ce faire, elle organise les bits en éléments de liaison et en définit la structure syntaxique de manière à valider les blocs de données transmis et à s’assurer qu’ils ont atteint leur destination intacte. Des mécanismes de détection et de correction d’erreurs sont adaptés au type de lien physique utilisé et améliore la qualité de la transmission. Seules les erreurs non résolues sont indiquées à la couche réseau.\n",
    "\n",
    "La couche liaison établit la liaison sur la connexion physique et supervise son fonctionnement selon le mode de transmission, la nature de l'échange et le type de liaison utilisé. Par exemple, elle contrôle le flux de données entre l’émetteur et le récepteur pour permettre à un récepteur plus lent de compléter la lecture de chaque élément de liaison avant d’en recevoir un autre.\n",
    "\n",
    "Dans une communication de type diffusion (broadcast) la couche liaison s’occupe également de gérer le partage du lien. Cette fonction est prise en charge par une sous-couche appelée « medium access sublayer »"
   ]
  },
  {
   "cell_type": "markdown",
   "metadata": {},
   "source": [
    "#### L'encapsulation et la désencapsulation\n",
    "\n",
    "![Proto](img/Encapsul1.png) \n",
    "\n",
    "[L'encapsulation](https://www.numerique-sciences-informatiques.fr/videos/entete.mp4)"
   ]
  },
  {
   "cell_type": "markdown",
   "metadata": {},
   "source": [
    "Chaque couleur représente un datagramme encapsulé dans un autre.\n",
    "\n",
    "Chaque couche ne s’occupe que du rôle qu’elle a à jouer et non du rôle de la précédente.\n",
    "\n",
    "L’information part de la couche 7. Votre navigateur (nous restons dans l’exemple d’une page web mais dont on connait l’IP) va donc décider de faire une requête web par le protocole http (couche transport). <br>\n",
    "Cette requête contiendra donc l’adresse demandée, votre adresse, le type de la requête.\n",
    "\n",
    "La couche transport (L4) reçoit cette requête.\n",
    "<br>Puisque c’est un protocole http, la couche 4 va entamer le protocole TCP/ip. Cette requête sera sous la forme\n",
    "\n",
    "![Proto](img/enteteTransport.png) \n",
    "\n",
    "Cette couche est souvent la plus haute couche où on se préoccupe de la correction des erreurs. On appelle le contenu du tableau précédent : message ou paquet et fragment,segment en tcp.\n",
    "\n",
    "La couche 3 va déterminer s'il faut rester dans le même réseau ou quitter notre réseau local. Pour cela, on vérifie le masque de sous-réseau. Si le masque indique que la destination est dans le même réseau le routeur renvoie vers la cible. Si non, le routeur utilise la passerelle pour basculer vers le reseau destination ou un reseau susceptible de l'y conduire en consultant sa table de routage pour trouver le routeur auquel s’adresser.<br>\n",
    "Elle construit le datagramme suivant :\n",
    "\n",
    "![Proto](img/enteteReseau.png)\n",
    "\n",
    "La couche 3 s’occupe aussi de trouver l’adresse mac de la prochaine machine à joindre et l’envoie avec la trame.\n",
    "\n",
    "La couche 2 rajoute en en-tête les adresses mac et un crc (Contrôle de redondance cyclique, un contrôle de l'intégrité d'un paquet ) en fin de trame. C’est la trame ethernet qui contient donc le datagramme Ip qui contient le segment tcp !\n",
    "\n",
    "![Proto](img/enteteLiaison.png)\n",
    "\n",
    "\n",
    "Et si l'on montre les paquets les uns dans les autres :\n",
    "\n",
    "enteteTotal.png\n",
    "\n",
    "Tout cela part sur le réseau…suite de 1 et de 0.\n",
    "\n",
    "Là nos 0 et 1 croisent un équipement de couche 2 et 3.\n",
    "\n",
    "La couche 3 fonctionne de concert avec la couche 2, afin de traduire les adresses logiques des paquets de données (analogues aux adresses IP) en adresses MAC (Media Access Control, adresse physique de l’équipement) et en numéros de cadres de données (data frames) et les émettre vers leur destination.\n",
    "\n",
    "Quand un message arrive sur une machine, il remonte les couches du modèle OSI de la couche 1 à la couche 7.\n",
    "\n",
    "Il passe donc par la couche 2 qui lit l'adresse MAC de destination. Le routeur contient généralement un switch.\n",
    "\n",
    "• si c'est bien celle de la carte réseau du routeur, il lit le reste de la trame, puis transmet les données (le datagramme en fait !) à la couche 3 ;\n",
    "\n",
    "• si ce n'est pas celle de la carte réseau du routeur, il jette la trame à la poubelle. (Souvenez vous du broadcast, seule la bonne machie répond)\n",
    "\n",
    "C'est la sienne ! Il va donc finir de lire l'en-tête de couche 2 (voir remarque), enlever l'en-tête Ethernet et envoyer le datagramme IP qu'il reste, au protocole de couche 3 indiqué dans l'en-tête. La couche 3 va lire tout l'en-tête de couche 3, et notamment l'adresse IP de destination.\n",
    "\n",
    "Admettons que le routeur voit que ce n'est pas son adresse, il sait donc qu'il va devoir renvoyer ce datagramme vers la machine de destination.\n",
    "\n",
    "Il va donc chercher dans sa table de routage à quelle passerelle envoyer le paquet afin de joindre la bonne machine.\n",
    "\n",
    "Si cette adresse appartient à l'un de ses propres réseaux, il va donc pouvoir lui envoyer le paquet directement. Cependant, pour envoyer la trame sur le réseau, il va avoir besoin de l'adresse MAC de la destination. Si cette adresse n'est pas dans sa table CAM, il va faire une requête ARP. Une fois l'adresse MAC reçue, il va pouvoir former la trame et l'envoyer sur le réseau.\n",
    "\n",
    "Si cette adresse n’appartient pas à l’un de ses propres réseaux, il va chercher dans sa table de routage le routeur suivant\n",
    "\n",
    "La couche 4 lit les ports et transmet à la couche application qui lit la page si tout va bien. La couche 4 s’assure que le courrier est bien remis à son destinataire. Si un paquet n’atteint pas sa destination, elle gère le processus consistant à prévenir l’expéditeur et à solliciter l’émission d’un autre exemplaire. En fait, elle s’assure que les trois couches situées au-dessous d’elle (c’est-à-dire les couches 1.2.3) font leur travail correctement. A défaut, le logiciel de la couche 4 peut intervenir et gérer la correction des erreurs en renvoyant les paquets altérés ou manquants (les paquets altérés sont écartés, dropped). C’est à ce niveau qu’opère la partie TCP (Transmission Control Protocol) de TCP/IP.\n",
    "\n",
    "Remarques:\n",
    "Si le message arrive à la couche 3, cela veut obligatoirement dire que la machine sait déjà que le message lui est destiné, puisque l'adresse MAC de destination est la sienne. Elle n'a donc pas la nécessité de savoir immédiatement si l'adresse IP de destination est la sienne, puisqu'elle sait déjà que le datagramme est pour elle. On peut donc placer l'adresse IP de destination après IpSource.\n",
    "\n",
    "Le routeur de couche 3 va lire la trame. Cela signifie que le routeur peut lire le contenu de la couche inférieure. C’est obligatoire pour pouvoir faire remonter le paquet en couche 4 !<br>\n",
    "Conclusion un équipement de couche n connait tous les protocoles des couches inférieures à n. Votre pc sait donc lire tous le paquet."
   ]
  },
  {
   "cell_type": "code",
   "execution_count": null,
   "metadata": {},
   "outputs": [],
   "source": []
  }
 ],
 "metadata": {
  "hide_input": false,
  "kernelspec": {
   "display_name": "Python 3",
   "language": "python",
   "name": "python3"
  },
  "language_info": {
   "codemirror_mode": {
    "name": "ipython",
    "version": 3
   },
   "file_extension": ".py",
   "mimetype": "text/x-python",
   "name": "python",
   "nbconvert_exporter": "python",
   "pygments_lexer": "ipython3",
   "version": "3.8.0"
  },
  "latex_envs": {
   "LaTeX_envs_menu_present": true,
   "autoclose": false,
   "autocomplete": true,
   "bibliofile": "biblio.bib",
   "cite_by": "apalike",
   "current_citInitial": 1,
   "eqLabelWithNumbers": true,
   "eqNumInitial": 1,
   "hotkeys": {
    "equation": "Ctrl-E",
    "itemize": "Ctrl-I"
   },
   "labels_anchors": false,
   "latex_user_defs": false,
   "report_style_numbering": false,
   "user_envs_cfg": false
  }
 },
 "nbformat": 4,
 "nbformat_minor": 4
}
