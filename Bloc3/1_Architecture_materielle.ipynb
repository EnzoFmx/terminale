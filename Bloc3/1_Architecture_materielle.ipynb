{
 "cells": [
  {
   "cell_type": "markdown",
   "metadata": {},
   "source": [
    " \n",
    "   # Architecture matérielle\n",
    "   \n",
    "## Introduction\n",
    " \n",
    "### Depuis plus de soixante ans, l’architecture des ordinateurs est conforme à un schéma : dit « de von Neumann ».  La naissance de ce modèle, sa diffusion et ses premières mises en œuvre sont un moment-clé de l’histoire de l’informatique.\n"
   ]
  },
  {
   "cell_type": "markdown",
   "metadata": {},
   "source": [
    "La première innovation est la séparation nette entre :\n",
    "* l’unité de commande, qui organise le flot de séquencement des instructions, \n",
    "* l’unité arithmétique, chargée de l’exécution proprement dite de ces instructions.\n",
    "\n",
    "<br>\n",
    "La seconde innovation fondamentale est l’idée du programme enregistré :\n",
    "\n",
    "* les instructions sont enregistrées dans la mémoire au lieu d’être codées sur un support externe (ruban, cartes, tableau de connexions).\n",
    "\n",
    "Un compteur ordinal contient l’adresse de l’instruction en cours d’exécution.<br>\n",
    "il est automatiquement incrémenté après exécution de l’instruction, et explicitement modifié par les instructions de branchement."
   ]
  },
  {
   "cell_type": "markdown",
   "metadata": {},
   "source": [
    "![Von](img/modele-von_neuman.gif)"
   ]
  },
  {
   "cell_type": "markdown",
   "metadata": {},
   "source": [
    "* La **mémoire** stocke indifféremment programmes et données.\n",
    "REMARQUE: On dit qu’elle est inerte au sens où elle n’effectue aucun\n",
    "calcul.\n",
    "\n",
    "* Le **processeur** est constitué :\n",
    "    * d’une unité arithmétique et logique (UAL) qui effectue les opérations sur les données ;\n",
    "    * de registres qui permettent de stocker les adresses des informations stockées dans la mémoire.\n",
    "    * d’une unité de contrôle qui permet de réaliser des actions sur les registres (lecture/écriture entre les différents registres)\n",
    "\n",
    "• Les **périphériques** se présentent à l’ordinateur sous la forme d’une mémoire supplémentaire. Il s’agit de plages d’adresses sur lesquelles on peut écrire pour donner des ordres au périphérique, ou lire pour obtenir des informations de la part du périphérique.\n",
    "REMARQUE: ils ne sont cependant pas nécessairement inertes et peuvent réagir aux instructions données."
   ]
  },
  {
   "cell_type": "markdown",
   "metadata": {},
   "source": [
    "## Principaux composants"
   ]
  },
  {
   "cell_type": "markdown",
   "metadata": {},
   "source": [
    "Le **microprocesseur** (ou unité centrale de traitement, UCT, en anglais Central Processing Unit, CPU) est un composant essentiel qui exécute les instructions machine des programmes informatiques.\n",
    "\n",
    " <img src=\"img/I7.jpg\" alt=\"Drawing\" style=\"width: 50;\"/> \n",
    " <img src=\"img/m27c322.jpg\" alt=\"Drawing\" style=\"width:50;\"/> \n",
    "\n",
    "\n",
    "Remarque : il est le plus souvent amovible, placé sur un support appelé socket, et équipé d’un dissipateur et d’un ventilateur (c’est le composant de la carte mère le plus gourmand en énergie).\n",
    "\n",
    "*Il est schématiquement constitué de 3 parties* :\n",
    "\n",
    "**l’unité arithmétique et logique** (ALU) est chargée de l’exécution de tous les calculs que peut réaliser le microprocesseur :\n",
    "    * opération arithmétiques (sur les nombres entiers ou flottants)\n",
    "    * opérations logiques (sur les bits) ;\n",
    "\n",
    "**les registres** permettent de mémoriser de l’information (donnée ou instruction) au sein même du CPU, en très petite quantité ;\n",
    "    l’unité de contrôle permet d’exécuter les instructions (les programmes) elle joue le rôle de « chef d’orchestre » : récupération des instructions et des données pour les envoyer à l’ALU."
   ]
  },
  {
   "cell_type": "markdown",
   "metadata": {},
   "source": [
    "La **mémoire**  https://fr.wikipedia.org/wiki/Mémoire_(informatique)\n",
    "\n",
    "La mémoire permet de stocker des données et des programmes.\n",
    "\n",
    "La mémoire se divise entre :\n",
    "\n",
    "    * Mémoire volatile contenant les programmes et données en cours de fonctionnement) : cette mémoire perd son contenu lorsqu’elle n’est plus alimentée.\n",
    "    * Mémoire permanente contenant les programmes et données de base de la machine : cette mémoire ne disparait pas à la mise hors tension.\n",
    "\n",
    "Dans la plupart des mémoires, les informations sont classées par adresses : chaque octet est accessible par une adresse unique.\n",
    "\n",
    " "
   ]
  },
  {
   "cell_type": "markdown",
   "metadata": {},
   "source": [
    "## les mémoires sont en général divisées en plusieurs familles :\n",
    "\n",
    "**Une mémoire de masse** ou mémoire de stockage\n",
    "\n",
    "![Von](img/HDD-SSD-photo.jpg)\n",
    "\n",
    "* Sert à stocker à long terme des grandes quantités d’informations. \n",
    "* Les technologies les plus courantes de mémoires de masse sont électromécaniques (disques durs – HDD) ou à semi-conducteurs (SSD, clefs USB, …), elles visent à obtenir une capacité de stockage élevée à faible coût et ont généralement une vitesse inférieure aux autres mémoires.\n",
    "\n",
    "ordres de grandeur :\n",
    "\n",
    "capacité : jusqu’à 10 To (HDD)\n",
    "vitesse : jusqu’à 500 Mo/s (SSD)"
   ]
  },
  {
   "cell_type": "markdown",
   "metadata": {},
   "source": [
    "**La mémoire vive** ou RAM\n",
    "\n",
    "![Von](img/sdram.jpg)\n",
    "\n",
    "C’est l’espace principal de stockage du microprocesseur, mais il s’agit d’une mémoire volatile.\n",
    "\n",
    "Appelée RAM (Random Access Memory) car le temps d’accès aux données est faible et ne dépend pas de l’emplacement.\n",
    "\n",
    "ordres de grandeur :\n",
    "\n",
    "capacité : jusqu’à 32 Go\n",
    "vitesse : jusqu’à 2 Go/s"
   ]
  },
  {
   "cell_type": "markdown",
   "metadata": {},
   "source": [
    "**Une mémoire cache**\n",
    "\n",
    "![Von](img/cache.png)\n",
    "\n",
    "La RAM est rapide, mais le microprocesseur l’est encore plus ! Afin de ne pas limiter ses performances en l’obligeant à attendre (on parle de goulot d’étranglement), on utilise de petites unités de mémoires, beaucoup plus rapides, mais nettement plus chères !\n",
    "\n",
    "Ses mémoires cache servent à conserver un court instant des informations fréquemment consultées. Elles ont une très grande vitesse, et un coût élevé pour une faible capacité de stockage.\n",
    "\n",
    "ordres de grandeur :\n",
    "\n",
    "capacité : quelques ko (L1) à quelques Mo (L2)\n",
    "vitesse : jusqu’à 5 Go/s"
   ]
  },
  {
   "cell_type": "markdown",
   "metadata": {},
   "source": [
    "**Le registre de processeur**\n",
    "Il est intégré au processeur. Ce type de mémoire est très rapide mais aussi très cher et est donc réservé à une très faible quantité de données.\n",
    "\n",
    "ordres de grandeur :\n",
    "\n",
    "capacité : quelques dizaines d’octets\n",
    "vitesse : jusqu’à 30 Go/s"
   ]
  },
  {
   "cell_type": "markdown",
   "metadata": {},
   "source": [
    "**Les bus**\n",
    "\n",
    "Pour que les données circulent entre les différentes parties d’un ordinateur (mémoire, CPU et les entrées/sorties).<br>\n",
    "Il existe des systèmes de communication appelés bus.<br>\n",
    "Il en existe de 3 grands types :\n",
    "\n",
    "Le bus d’adresse permet de faire circuler des adresses par exemple l’adresse d’une donnée à aller chercher en mémoire ;\n",
    "\n",
    "Le bus de données permet de faire circuler des données ;\n",
    "\n",
    "Le bus de contrôle permet de spécifier le type d’action.\n",
    "\n",
    "exemples : écriture d’une donnée en mémoire, lecture d’une donnée en mémoire.\n",
    "![Von](img/bus.png)"
   ]
  },
  {
   "cell_type": "markdown",
   "metadata": {},
   "source": [
    "**Contrôleurs et interfaces de communication**\n",
    "\n",
    "Pour fonctionner, les programmes ont besoin de communiquer avec des périphériques :\n",
    "\n",
    "   * Une souris\n",
    "   * Un clavier\n",
    "   * Un disque dur\n",
    "   * Des reseaux Ethernet ou Wifi\n",
    "   * Le bluetooth\n",
    "   * L'écran \n",
    "   \n",
    "Chaque périphérique doit être régi par un contrôleur adapté.<br>\n",
    "Il s'agit d'un ensemble de composants électronique(dont un processeur),dédié a chaque type de périphérique et plus ou moins complexe\n",
    "\n",
    "Le processeur peut donc communiquer avec chacun des contrôleurs et recevoir des données de leur part.<br>\n",
    "Ces communications s'appellent des **E/S** (\"Entrée/Sortie\") ou **I/O** (\"Input/Output\")"
   ]
  },
  {
   "cell_type": "markdown",
   "metadata": {},
   "source": [
    "## **Composants complémentaires fréquents**\n",
    "\n",
    "**Contrôleur vidéo** ou *GPU* (Graphics Processing Unit) communément appelé \"Carte pgraphique\", il s'agit d'un processeur ayant son microenvironnement minimal (mémoire de travail, bus de communication).\n",
    "\n",
    "Le GPU permet de :<br>\n",
    "   * D'afficher des images à l'écran dans la bonne résolution;\n",
    "   * De faire les calculs nécessaires aux représentations 2D et 3D;\n",
    "   * De convertir les images en signaux compatibles avec différents standard (VGA,SVGA,HDMI etc..)\n",
    "   * Accessoirement de gérer plusieurs écrans en parallèle.\n",
    "   \n",
    "Il décharge le processeur (CPU) des tâche courantes liées à l'affichage, car elles doivent réaliseren permanence quel que soit le programme utilisé (navigation dur le Web, vidéo,défilement d'écran etc..)<br>\n",
    " \n",
    "Le CPU peut ainsi consacrer ses cycle d'éxecution au fonctionnement des programmes.\n",
    "La fluidité d'une vidéo est davantage lié aux performances de la puces graphique qu'a celle du CPU\n",
    "\n",
    "**Contrôleur audio**, c'est l'équivalent du contrôleur vidéo mais pour la gestion du son.<br>\n",
    "\n",
    "Il reconstruit des signaux analogiques qui seront transmis aux enceintes ou aux appareils de diffusions sonore.<br>\n",
    "Il permet également d'intercepter des signaux analogiques provenant éventuellement d'un micro, de les numériser afin de les transmettre au CPU."
   ]
  }
 ],
 "metadata": {
  "kernelspec": {
   "display_name": "Python 3",
   "language": "python",
   "name": "python3"
  },
  "language_info": {
   "codemirror_mode": {
    "name": "ipython",
    "version": 3
   },
   "file_extension": ".py",
   "mimetype": "text/x-python",
   "name": "python",
   "nbconvert_exporter": "python",
   "pygments_lexer": "ipython3",
   "version": "3.8.0"
  },
  "latex_envs": {
   "LaTeX_envs_menu_present": true,
   "autoclose": false,
   "autocomplete": true,
   "bibliofile": "biblio.bib",
   "cite_by": "apalike",
   "current_citInitial": 1,
   "eqLabelWithNumbers": true,
   "eqNumInitial": 1,
   "hotkeys": {
    "equation": "Ctrl-E",
    "itemize": "Ctrl-I"
   },
   "labels_anchors": false,
   "latex_user_defs": false,
   "report_style_numbering": false,
   "user_envs_cfg": false
  }
 },
 "nbformat": 4,
 "nbformat_minor": 4
}
