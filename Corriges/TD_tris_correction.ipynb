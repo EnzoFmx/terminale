{
 "cells": [
  {
   "cell_type": "markdown",
   "metadata": {},
   "source": [
    "# Exercice 1 (niveau facile)\n",
    "\n",
    "> Pour cet exercice, ouvrir le fichier `prof/bloc7/tris/Activite_manuelle_decouverte_des_tris_synthese` afin d'obtenir l'algorithme de tris par sélection \n",
    "\n",
    "**Objectif :** En utilisant **le tri par sélection**, trier le tableau suivant. \n",
    "\n",
    "![tableau 1](img/t1.png)\n",
    "\n",
    "## Solution\n",
    "\n",
    "|7|4|6|1|3|7|9|2|\n",
    "|:-|:-|:-|:-|:-|:-|:-|:-|\n",
    "|1|4|6|7|3|7|9|2|\n",
    "|1|2|6|7|3|7|9|4|\n",
    "|1|2|3|7|6|7|9|4|\n",
    "|1|2|3|4|6|7|9|7|\n",
    "|1|2|3|4|6|7|7|9|\n",
    "\n",
    "**Remarque :** la partie triée initialement vide augmente d'une case à chaque étape\n",
    "\n",
    "# Exercice 2 (niveau facile)\n",
    "\n",
    "> Pour cet exercice, ouvrir le fichier `prof/bloc7/tris/Activite_manuelle_decouverte_des_tris_synthese` afin d'obtenir l'algorithme de tris par insertion \n",
    "\n",
    "**Objectif :** En utilisant **le tri par insertion**, trier le tableau suivant. \n",
    "\n",
    "![tableau 1](img/t1.png)\n",
    "\n",
    "\n",
    "## Solution\n",
    "\n",
    "|7|4|6|1|3|7|9|2|\n",
    "|:-|:-|:-|:-|:-|:-|:-|:-|\n",
    "|4|7|6|1|3|7|9|2|\n",
    "|4|6|7|1|3|7|9|2|\n",
    "|1|4|6|7|3|7|9|2|\n",
    "|1|3|4|6|7|7|9|2|\n",
    "|1|2|3|4|6|7|7|9|\n",
    "\n",
    "**Remarque :** la partie triée initialement vide augmente d'une case à chaque étape\n",
    "\n",
    "\n",
    "\n",
    "# Exercice 3 (niveau facile)\n",
    "\n",
    "Soit le code python ci-dessous"
   ]
  },
  {
   "cell_type": "code",
   "execution_count": 1,
   "metadata": {},
   "outputs": [],
   "source": [
    "def tri1(t):\n",
    "    for i in range(len(t)):\n",
    "        m = i\n",
    "        for j in range(i + 1, len(t)):\n",
    "            if t[j] < t[m]:\n",
    "                m = j\n",
    "        (t[i], t[m]) = (t[m], t[i])\n",
    "\n",
    "def tri2(t):\n",
    "    for i in range(1, len(t)):\n",
    "        j = i\n",
    "        v = t[i]\n",
    "        while j > 0 and t[j - 1] > v:\n",
    "            t[j] = t[j - 1]\n",
    "            j = j - 1\n",
    "        t[j] = v"
   ]
  },
  {
   "cell_type": "markdown",
   "metadata": {},
   "source": [
    "1. Exécuter à la main sur feuille les 2 appels suivants en faisant appraître les différentes étapes (comme dans les exercices 1 et 2)\n",
    "    * `tri1([5,8,1,7,4,3,9])`\n",
    "    * `tri2([5,8,1,7,4,3,9])`\n",
    "\n",
    "2. En déduire lequel implémente le tri par sélection et lequel implémente le tri par insertion.\n",
    "\n",
    "## Solution\n",
    "\n",
    "### tri1\n",
    "\n",
    "|5|8|1|7|4|3|9|\n",
    "|:-|:-|:-|:-|:-|:-|:-|\n",
    "|1|8|5|7|4|3|9|\n",
    "|1|3|5|7|4|8|9|\n",
    "|1|3|4|7|5|8|9|\n",
    "|1|3|4|5|7|8|9|\n",
    "\n",
    "tri1 $\\Longleftrightarrow$ tri par sélection\n",
    "\n",
    "### tri2\n",
    "\n",
    "|5|8|1|7|4|3|9|\n",
    "|:-|:-|:-|:-|:-|:-|:-|\n",
    "|1|5|8|7|4|3|9|\n",
    "|1|5|7|8|4|3|9|\n",
    "|1|4|5|7|8|3|9|\n",
    "|1|3|4|5|7|8|9|\n",
    "\n",
    "tri2 $\\Longleftrightarrow$ tri par insertion\n",
    "\n",
    "\n",
    "# Exercice 4 (niveau facile)\n",
    "\n",
    "> Nous avons traité en cours le tri par sélection et le tri par insertion sur une liste d'entiers afin de le classer par ordre croissant. Mais il est possible de trier bien plus de choses\n",
    "\n",
    "1. Modifier ces 2 tris afin de trier les entiers par ordre décroisssant."
   ]
  },
  {
   "cell_type": "code",
   "execution_count": 2,
   "metadata": {},
   "outputs": [
    {
     "name": "stdout",
     "output_type": "stream",
     "text": [
      "[7, 7, 5, 4, 3, 2]\n",
      "[7, 7, 5, 4, 3, 2]\n"
     ]
    }
   ],
   "source": [
    "def tri_par_selection(t):\n",
    "    for i in range(len(t)):\n",
    "        m = i\n",
    "        for j in range(i + 1, len(t)):\n",
    "            if t[j] > t[m]: #modification\n",
    "                m = j\n",
    "        (t[i], t[m]) = (t[m], t[i])\n",
    "\n",
    "def tri_par_insertion(t):\n",
    "    for i in range(1, len(t)):\n",
    "        j = i\n",
    "        v = t[i]\n",
    "        while j > 0 and t[j - 1] < v: #modification\n",
    "            t[j] = t[j - 1]\n",
    "            j = j - 1\n",
    "        t[j] = v\n",
    "\n",
    "# Vérification        \n",
    "liste = [3,7,4,5,2,7]\n",
    "tri_par_selection(liste)\n",
    "print(liste)\n",
    "liste = [3,7,4,5,2,7]\n",
    "tri_par_insertion(liste)\n",
    "print(liste)"
   ]
  },
  {
   "cell_type": "markdown",
   "metadata": {},
   "source": [
    "2. Tester ces 2 tris sur des listes de chaînes de caractères. Qu'observez-vous ? pourquoi ?\n",
    "\n",
    "**Réponse :**\n",
    "\n",
    "Voir ci-dessous. On observe un tri par ordre inverse de l'ordre alphabétique. Cela est possible car l'opérateur `>` s'applique aussi en python sur des chaînes de caractères en utilisant l'ordre lexicographique"
   ]
  },
  {
   "cell_type": "code",
   "execution_count": 3,
   "metadata": {},
   "outputs": [
    {
     "data": {
      "text/plain": [
       "True"
      ]
     },
     "execution_count": 3,
     "metadata": {},
     "output_type": "execute_result"
    }
   ],
   "source": [
    "'Max' > 'Bob'"
   ]
  },
  {
   "cell_type": "code",
   "execution_count": 4,
   "metadata": {},
   "outputs": [
    {
     "name": "stdout",
     "output_type": "stream",
     "text": [
      "['Max', 'Jenny', 'Charly', 'Bob', 'Alice']\n",
      "['Max', 'Jenny', 'Charly', 'Bob', 'Alice']\n"
     ]
    }
   ],
   "source": [
    "liste = ['Max', 'Bob', 'Charly', 'Jenny', 'Alice']\n",
    "tri_par_selection(liste)\n",
    "print(liste)\n",
    "liste = ['Max', 'Bob', 'Charly', 'Jenny', 'Alice']\n",
    "tri_par_insertion(liste)\n",
    "print(liste)"
   ]
  },
  {
   "cell_type": "markdown",
   "metadata": {},
   "source": [
    "3. Compléter le code de la fonction `tri_par_longueur_selection` dont la documentation est donnée ci-dessous (on choisira un **tri par sélection**).    "
   ]
  },
  {
   "cell_type": "code",
   "execution_count": 5,
   "metadata": {},
   "outputs": [
    {
     "name": "stdout",
     "output_type": "stream",
     "text": [
      "['Bob', 'Max', 'Alice', 'Jenny', 'Charly']\n"
     ]
    }
   ],
   "source": [
    "def tri_par_longueur_selection(t):\n",
    "    \"\"\"\n",
    "    Description de la fonction : tri (par sélection) une liste de mot par longueur croissante\n",
    "    t (list) : liste de chaîne de caractères (str)\n",
    "    return (None) : Attention le tri se fait EN PLACE (voir exercice 10)    \n",
    "    \"\"\"\n",
    "    for i in range(len(t)):\n",
    "        m = i\n",
    "        for j in range(i + 1, len(t)):\n",
    "            if len(t[j]) < len(t[m]):\n",
    "                m = j\n",
    "        (t[i], t[m]) = (t[m], t[i])\n",
    "        \n",
    "# Pour la question 5\n",
    "liste = [ 'Jenny', 'Bob', 'Charly', 'Alice', 'Max']\n",
    "tri_par_longueur_selection(liste)\n",
    "print(liste)"
   ]
  },
  {
   "cell_type": "markdown",
   "metadata": {},
   "source": [
    "4. Compléter le code de la fonction `tri_par_longueur_insertion` dont la documentation est donnée ci-dessous (on choisira un **tri par insertion**)."
   ]
  },
  {
   "cell_type": "code",
   "execution_count": 6,
   "metadata": {},
   "outputs": [
    {
     "name": "stdout",
     "output_type": "stream",
     "text": [
      "['Bob', 'Max', 'Jenny', 'Alice', 'Charly']\n"
     ]
    }
   ],
   "source": [
    "def tri_par_longueur_insertion(t):\n",
    "    \"\"\"\n",
    "    Description de la fonction : tri (par insertion) une liste de mot par longueur croissante\n",
    "    t (list) : liste de chaîne de caractères (str)\n",
    "    return (None) : Attention le tri se fait EN PLACE (voir exercice 9)    \n",
    "    \"\"\"\n",
    "    for i in range(1, len(t)):\n",
    "        j = i\n",
    "        v = t[i]\n",
    "        while j > 0 and len(t[j - 1]) > len(v): \n",
    "            t[j] = t[j - 1]\n",
    "            j = j - 1\n",
    "        t[j] = v\n",
    "    \n",
    "# Pour la question 5\n",
    "liste = [ 'Jenny', 'Bob', 'Charly', 'Alice', 'Max']\n",
    "tri_par_longueur_insertion(liste)\n",
    "print(liste)"
   ]
  },
  {
   "cell_type": "markdown",
   "metadata": {},
   "source": [
    "5. En testant vos 2 fonctions `tri_par_longueur` sur la liste `[ 'Jenny', 'Bob', 'Charly', 'Alice', 'Max']`, dire si les tris par sélection et par insertion sont **stables**. On pourra lire [ce document](http://lwh.free.fr/pages/algo/tri/stabilite_tri.html) pour comprendre ce qu'on appelle un tri stable\n",
    "\n",
    "> La stabilité des tris est une propriété intéressante car elle permet d'\"enchaîner\" les tris (Exemple : trier des coureurs par performance puis par âge)\n",
    "\n",
    "**Réponse :**\n",
    "* le tri par sélection n'est pas stable car il ne conserve pas l'ordre initial des éléments ayant la même longueur : `Jenny` (de taille 5) se retrouve après `Alice` (aussi de taille 5) alors que `Jenny` était avant `Alice` dans l'ordre initial\n",
    "* le tri par insertion est stable car il conserve l'ordre initial des éléments ayant la même longueur"
   ]
  },
  {
   "cell_type": "markdown",
   "metadata": {},
   "source": [
    "# Exercice 5 (niveau intermédiaire)\n",
    "\n",
    "\n",
    "1. Télécharger dans un dossier appelé `exercice_5` les 5 fichiers du dossier `premiere/bloc7/tris`\n",
    "2. Ecrire dans ce dossier `exercice_5` un programme python permettant de renvoyer la liste de ces 5 fichiers triées par taille croissante.\n",
    "\n",
    "**Aide :** Utiliser le module `os` permettant à python d'interagir avec le système d'exploitation. En faisant quelques recherches dans ce module vous trouverez :\n",
    "* Un outil pour obtenir la liste de fichiers contenus dans un dossier\n",
    "* Un outil pour obtenir la taille d'un fichier\n",
    "\n",
    "3. **Encapsuler** le code précédent en écrivant une fonction `tri_tailles` prenant en paramètre le chemin du dossier dont on veut obtenir la liste de fichiers triés par taille croissante"
   ]
  },
  {
   "cell_type": "code",
   "execution_count": 7,
   "metadata": {},
   "outputs": [
    {
     "data": {
      "text/plain": [
       "['.ipynb_checkpoints',\n",
       " 'img',\n",
       " 'Activite_manuelle_decouverte_des_tris_synthese.ipynb',\n",
       " 'dessin_tableaux.odt',\n",
       " 'TD_tris_correction.ipynb']"
      ]
     },
     "execution_count": 7,
     "metadata": {},
     "output_type": "execute_result"
    }
   ],
   "source": [
    "def tri_tailles(chemin):\n",
    "\n",
    "    import os\n",
    "    t = os.listdir(chemin)\n",
    "    for i in range(1, len(t)):\n",
    "        j = i\n",
    "        v = t[i]\n",
    "        while j > 0 and os.path.getsize(t[j - 1]) > os.path.getsize(v): \n",
    "            t[j] = t[j - 1]\n",
    "            j = j - 1\n",
    "        t[j] = v\n",
    "    return t\n",
    "\n",
    "# Vérification\n",
    "tri_tailles('.')"
   ]
  },
  {
   "cell_type": "markdown",
   "metadata": {},
   "source": [
    "# Exercice 6 (niveau inermédiaire)\n",
    "\n",
    "> On considère la fonction `tri_par_selection` donnée dans le cours\n",
    "\n",
    "1. Exécuter à la main l'appel suivant `tri_par_selection([5,2,8,3])` afin de donner le **nombre de comparaisons** effectuées par l'algorithme pour trier la liste.\n",
    "\n",
    "2. Modifier le code de `tri_par_selection` afin de **renvoyer** le nombre de comparaisons effectuées par l'algorithme.  \n",
    "**Indice :** On utilisera une variable `compteur` qu'on incrémentera à chaque comparaison"
   ]
  },
  {
   "cell_type": "code",
   "execution_count": 8,
   "metadata": {},
   "outputs": [
    {
     "name": "stdout",
     "output_type": "stream",
     "text": [
      "6\n",
      "[2, 3, 5, 8]\n"
     ]
    }
   ],
   "source": [
    "def tri_par_selection(t):\n",
    "    compteur = 0\n",
    "    for i in range(len(t)):\n",
    "        m = i\n",
    "        for j in range(i + 1, len(t)):\n",
    "            compteur = compteur + 1\n",
    "            if t[j] < t[m]:\n",
    "                m = j\n",
    "        (t[i], t[m]) = (t[m], t[i])\n",
    "    return compteur\n",
    "\n",
    "t = [5,2,8,3]\n",
    "nb_comparaisons = tri_par_selection(t)\n",
    "print(nb_comparaisons)\n",
    "print(t)"
   ]
  },
  {
   "cell_type": "markdown",
   "metadata": {},
   "source": [
    "3. Ce nombre de comparaisons dépend t-il de l'ordre des éléments dans la liste avant le tri. Justifier votre réponse\n",
    "\n",
    "**Réponse :**\n",
    "\n",
    "Le nombre de comparaisons est indépendant de l'ordre initial des éléments dans la liste. En effet, l'algorithme est composée de boucles `for` qui ont toujours le même nombre de passage, contrairement aux boucles `while`. Ceci peut facilement être vérifié grâce au programme de la question précédente. En conséquence il n'y a pas de pire cas ou de meilleur cas pour le tri par sélection : tous les cas sont traitées par le même nombre d'opérations et prendront le même temps. "
   ]
  },
  {
   "cell_type": "markdown",
   "metadata": {},
   "source": [
    "# Exercice 7 (niveau intermédiaire)\n",
    "\n",
    "> On considère la fonction `tri_par_insertion` donnée dans le cours\n",
    "\n",
    "\n",
    "1. Exécuter à la main l'appel suivant `tri_par_insertion([8,5,3,2])` afin de donner le **nombre de comparaisons** effectuées par l'algorithme pour trier la liste.\n",
    "2. Exécuter à la main l'appel suivant `tri_par_insertion([2,3,5,8])` afin de donner le **nombre de comparaisons** effectuées par l'algorithme pour trier la liste.\n",
    "3. Dans les situations précédentes, laquelle correspond au meilleur cas et laquelle correspond au pire cas. Justifier votre réponse\n",
    "\n",
    "## Solution\n",
    "\n",
    "1. Pour une liste initiale classée par ordre décroissant, le nombre de comparaison est de 6 :\n",
    "    * comparaison de 8 et 5 à la première étape\n",
    "    * comparaison de 3 et 8 puis 3 et 5 à la deuxième étape\n",
    "    * comparaison de 2 et 8 puis 2 et 5 puis 2 et 3 à la dernière étape\n",
    "2. Pour une liste initiale classée par ordre croissant, le nombre de comparaison est de 3 :\n",
    "    * comparaison de 3 et 2 à la première étape\n",
    "    * comparaison de 5 et 3 à la deuxième étape\n",
    "    * comparaison de 8 et 5 à la dernière étape\n",
    "3. Contrairement au tri par sélection, la complexité dépend de l'état initial de la liste. Le pire cas correspond à une liste initiale classée par ordre décroissant (question 1). Le meilleur cas correspond à une liste initiale classée par ordre croissant (question 2). \n",
    "\n",
    "$\\Longrightarrow$ Le tri par insertion n'est pas bon dans le cas général mais il est très intéressant pour une liste presque triée"
   ]
  },
  {
   "cell_type": "markdown",
   "metadata": {},
   "source": [
    "# Exercice 8 (niveau facile)\n",
    "\n",
    "1. Sachant que le tri par sélection prend un temps proportionnel à $n^2$ ($n$ étant la taille de la liste à trier) et sachant qu'il prend 6,8 secondes pour trier une liste de 16000 valeurs, combien de temps faudrait-il pour trier une liste de un million de valeurs avec le même tri par sélection\n",
    "\n",
    "2. Quelle caractéristique du tri par sélection fait que le temps de calcul \"explose\" et qu'il n'est pas un bon choix pour trier des quantités importantes de données\n",
    "\n",
    "3. A l'aide de ce [tableau](https://fr.wikipedia.org/wiki/Algorithme_de_tri#Comparaison_des_algorithmes), nommer 2 algorithmes particulièrement adaptés pour réaliser des tris sur des grandes quantités de données.\n",
    "\n",
    "## Solution\n",
    "\n",
    "1. Avec un produit en croix on obtient :   \n",
    "$6,8 \\times \\frac{1000000^2}{16000^2} \\approx 26560 secondes \\approx 7h23min$\n",
    "\n",
    "2. Cela est dû à sa complexité qui est quadratique en $O(n^2)$\n",
    "\n",
    "3. Les algorithmes \"Timsort\" et \"Smoothsort\" sont les meilleurs choix (complexité en $O(n)$ dans le cas optimal et en en $O(n*log(n))$ dans le cas général et le pire cas)"
   ]
  },
  {
   "cell_type": "markdown",
   "metadata": {},
   "source": [
    "# Exercice 9 (niveau intermédiaire)\n",
    "\n",
    "> On souhaite écrire une fonction `compare_tableau` permettant de déterminer si 2 listes d'entiers contiennent les mêmes nombres. On se limitera aux listes **de même longueur**. On utilisera le fait qu'il est plus facile de comparer 2 tableaux préalablement triés. Pour cela :\n",
    "\n",
    "1. Ecrire la signature : déclaration et documentation (encore appelée docstring) de `compare_tableau`. (voir le cours `premiere/bloc6/specification` pour un exemple de documentation)\n",
    "2. Ecrire quelques tests en mettant en oeuvre le module `doctest` (voir `premiere/bloc6/tests`). A vous de choisir des tests pertinents\n",
    "3. Ecrire le code python de la fonction `compare_tableau`\n",
    "4. Vérifier que les tests soient validés (voir `premiere/bloc6/tests`)"
   ]
  },
  {
   "cell_type": "code",
   "execution_count": 9,
   "metadata": {},
   "outputs": [],
   "source": [
    "def tri_par_insertion(t):\n",
    "    for i in range(1, len(t)):\n",
    "        j = i\n",
    "        v = t[i]\n",
    "        while j > 0 and t[j - 1] > v: \n",
    "            t[j] = t[j - 1]\n",
    "            j = j - 1\n",
    "        t[j] = v  \n",
    "\n",
    "def compare_tableau(t1, t2):\n",
    "    \"\"\"\n",
    "    Description de la fonction : compare 2 tableaux de même taille\n",
    "    t1 (list) : tableaux d'entiers\n",
    "    t2 (list) : tableaux d'entiers\n",
    "    préconditions sur les paramètres : t1 et t2 sont de même longueur\n",
    "    return (bool) : True si les 2 tableaux contiennent les mêmes éléments\n",
    "    >>> liste1 = [2,3,4]\n",
    "    >>> liste2 = [2,4,3]\n",
    "    >>> liste3 = [6,2,4]\n",
    "    >>> compare_tableau(liste1,liste2)\n",
    "    True\n",
    "    >>> compare_tableau(liste1,liste3)\n",
    "    False\n",
    "    \"\"\"\n",
    "    tri_par_insertion(t1)\n",
    "    tri_par_insertion(t2)\n",
    "    for i in range(len(t1)):\n",
    "        if t1[i] != t2[i]:\n",
    "            return False\n",
    "    return True\n",
    "\n",
    "if __name__ =='__main__':\n",
    "    # Validation des tests\n",
    "    import doctest\n",
    "    doctest.testmod(optionflags=doctest.NORMALIZE_WHITESPACE | doctest.ELLIPSIS, verbose=False)"
   ]
  },
  {
   "cell_type": "markdown",
   "metadata": {},
   "source": [
    "# Exercice 10 (niveau difficile)\n",
    "\n",
    "\n",
    "> Dans le cours, le code du tri par sélection et du tri par insertion permettent de faire un tri **en place**. Cela signifie que les listes sont irrémédiablement modifiées par le tri : On dit qu'on a un **effet de bord**. Le tri ne renvoie pas de nouvelle liste et il est impossible de retrouver la liste \"dans son état initial\" d'avant le tri. Ceci présente l'avantage d'économiser la ressource mémoire employée lors du tri : les tris par sélection et par insertion ont d'ailleurs une complexité spatiale idéale (en $O(1)$). Mais dans certain cas, le fait de modifer la liste peut être génant. Par exemple la fonction `compare_tableau` d'un exercice précédent va modifier les listes pour les comparer, mais peut être que l'ordre des éléments était important...\n",
    "\n",
    "Modifier le code de la fonction `tri_par_insertion` afin qu'elle **renvoie** une nouvelle liste triée (et laisse la liste de départ dans un état inchangé)\n",
    "\n",
    "**Indice :** On pourra partir d'une liste de même longueur initialement remplie de `0` et y **insérer \"au bon endroit\"** chaque élément de la liste initiale"
   ]
  },
  {
   "cell_type": "code",
   "execution_count": 10,
   "metadata": {},
   "outputs": [
    {
     "name": "stdout",
     "output_type": "stream",
     "text": [
      "[5, 7, 3, 9, 2, 3] [2, 3, 3, 5, 7, 9]\n"
     ]
    }
   ],
   "source": [
    "def tri_par_insertion(t):\n",
    "    resultat = [0 for i in range(len(t))] # Syntaxe de \"listes en compréhension\"\n",
    "    # resultat = [0]*len(t) (Autre solution possible)\n",
    "    for i in range(len(t)):\n",
    "        j = i\n",
    "        v = t[i]\n",
    "        while j > 0 and resultat[j - 1] > v:\n",
    "            resultat[j] = resultat[j - 1]\n",
    "            j = j - 1\n",
    "        resultat[j] = v\n",
    "    return resultat\n",
    "\n",
    "# Vérification\n",
    "liste = [5,7,3,9,2,3]\n",
    "liste2 = tri_par_insertion(liste)\n",
    "print(liste, liste2)"
   ]
  }
 ],
 "metadata": {
  "kernelspec": {
   "display_name": "Python 3",
   "language": "python",
   "name": "python3"
  },
  "language_info": {
   "codemirror_mode": {
    "name": "ipython",
    "version": 3
   },
   "file_extension": ".py",
   "mimetype": "text/x-python",
   "name": "python",
   "nbconvert_exporter": "python",
   "pygments_lexer": "ipython3",
   "version": "3.7.2"
  }
 },
 "nbformat": 4,
 "nbformat_minor": 4
}
