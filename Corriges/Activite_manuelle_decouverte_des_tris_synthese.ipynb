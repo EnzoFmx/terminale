{
 "cells": [
  {
   "cell_type": "markdown",
   "metadata": {},
   "source": [
    "# Proposition de rédaction des algorithmes de tris\n",
    "\n",
    "## Tri par sélection\n",
    "\n",
    "* On parcourt le tableau de gauche à droite en maintenant sur la gauche une _\"partie déjà triée\"_ (initialement vide et qui va être complétée au fur et à mesure de l'algorithme). Le reste du tableau est appelée _\"partie non triée\"_\n",
    "\n",
    "\n",
    "* A chaque étape, **on cherche l'élément le plus petit dans la partie non triée**\n",
    "\n",
    "\n",
    "* **on échange** cet élément avec l'élément le plus à droite de la partie triée (ainsi à la première étape, on va le placer tout à gauche du tableau)\n",
    "\n",
    "\n",
    "* Et ainsi de suite...\n",
    "\n",
    "\n",
    "### Recherche de l'élément le plus petit\n",
    "\n",
    "* Arbitrairement, on dit que _minimum_ est l'élément le plus à gauche du tableau\n",
    "\n",
    "\n",
    "* On parcourt le tableau de gauche à droite\n",
    "\n",
    "\n",
    "* A chaque étape, on **compare** l'élément du tableau à _minimum_. Si l'élément est plus petit que _minimum_, on dit que _minimum_ est ce nouvel élément\n",
    "\n",
    "\n",
    "* L'élément le plus petit du tableau est le _minimum_ obtenu à la fin du parcourt\n",
    "\n",
    "\n",
    "### Echanger 2 éléments d'un tableau\n",
    "\n",
    "On appelle _element1_ et _element2_ les 2 éléments à échanger. On utilise une variable _temp_\n",
    "\n",
    "* On stocke temporairement _element1_ dans _temp_ \n",
    "\n",
    "\n",
    "* On place _element2_ dans l'emplacement de _element1_\n",
    "\n",
    "\n",
    "* On place _temp_ dans l'emplacement de _element2_\n",
    "\n",
    "\n",
    "## Tri par insertion\n",
    "\n",
    "* On parcourt le tableau de gauche à droite en maintenant sur la gauche une _\"partie déjà triée\"_ (initialement composée de la première case du tableau et qui va être complétée au fur et à mesure de l'algorithme). Le reste du tableau est appelée _\"partie non triée\"_\n",
    "\n",
    "\n",
    "* A chaque étape, **insérer** le premier élément non encore trié dans la partie déjà triée. Pour cela, on va décaler d'une case vers la droite tous les éléments déjà triés qui sont plus grands que l'élément à insérer puis déposer l'élément à insérer dans la case ainsi libérée\n",
    "\n",
    "\n",
    "* Et ainsi de suite..."
   ]
  }
 ],
 "metadata": {
  "kernelspec": {
   "display_name": "Python 3",
   "language": "python",
   "name": "python3"
  },
  "language_info": {
   "codemirror_mode": {
    "name": "ipython",
    "version": 3
   },
   "file_extension": ".py",
   "mimetype": "text/x-python",
   "name": "python",
   "nbconvert_exporter": "python",
   "pygments_lexer": "ipython3",
   "version": "3.7.2"
  }
 },
 "nbformat": 4,
 "nbformat_minor": 4
}
