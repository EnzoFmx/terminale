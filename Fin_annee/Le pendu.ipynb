{
 "cells": [
  {
   "cell_type": "code",
   "execution_count": null,
   "metadata": {},
   "outputs": [],
   "source": [
    "# Le pendu\n",
    "\n",
    "> début de jeu de pendu en mode texte."
   ]
  },
  {
   "cell_type": "markdown",
   "metadata": {},
   "source": [
    "\n",
    "## Préparation du jeu\n",
    "\n",
    "Pour commencer, nous allons créer un dictionnaire en chargeant une liste de mots figurant dans un [fichier texte](liste_mots.txt).\n",
    "\n",
    "L'import d'un fichier texte dans une liste se fait facilement en Python :"
   ]
  },
  {
   "cell_type": "code",
   "execution_count": null,
   "metadata": {},
   "outputs": [],
   "source": [
    "assert f = open('liste_mots.txt', 'r' , encoding = 'utf8')\n",
    "    contenu = f.readlines()"
   ]
  },
  {
   "cell_type": "markdown",
   "metadata": {},
   "source": [
    "Pour choisir un mot aléatoire dans cette liste, nous utiliserons la fonction choice du module random.\n",
    "\n",
    "Le mot choisi contient un caractère de fin de ligne parasite (\\n) que nous éliminerons grâce au *slicing* : on garde tous les caractères depuis le début jusqu'au dernier, exclu.\n",
    "\n",
    "Exécutez plusieurs fois la cellule ci-dessous pour voir les différents choix de mots aléatoires."
   ]
  },
  {
   "cell_type": "code",
   "execution_count": null,
   "metadata": {},
   "outputs": [],
   "source": [
    "from random import choice\n",
    "def word():\n",
    "    f = open('liste_mots.txt', 'r' , encoding = 'utf8')\n",
    "    contenu = f.readlines()\n",
    "    mot= ( choice(contenu) ).upper().replace('\\n','')\n",
    "    return mot"
   ]
  },
  {
   "cell_type": "markdown",
   "metadata": {},
   "source": [
    "## Développement des différentes fonctions utiles au jeu\n",
    "\n",
    "On va ici écrire une fonction **underscore** retournant une chaîne de caractères où les lettres sont remplacées par des “_” (des underscores). Pour plus de lisibilité, on séparera les underscores avec une espace.\n",
    "\n",
    "Par exemple : *underscore('python')* renvoie *'------'*"
   ]
  },
  {
   "cell_type": "code",
   "execution_count": null,
   "metadata": {},
   "outputs": [],
   "source": [
    "def underscore(mot):\n",
    "    # YOUR CODE HERE\n",
    "    raise NotImplementedError()"
   ]
  },
  {
   "cell_type": "code",
   "execution_count": null,
   "metadata": {},
   "outputs": [],
   "source": [
    "assert underscore('python') == '------'"
   ]
  },
  {
   "cell_type": "markdown",
   "metadata": {},
   "source": [
    "créer une fonction de saisie :<br>\n",
    "Un simple input et on retourne la lettre saisie en majuscule.<BR>\n",
    "On fait tout de même une vérification afin de voir si la saisie ne contient qu’un caractère et si elle correspond à une lettre de l’alphabet (le “65” correspond au code ASCII de “A” et le “122” à celui de “z”)."
   ]
  },
  {
   "cell_type": "code",
   "execution_count": null,
   "metadata": {},
   "outputs": [],
   "source": [
    "def saisie():\n",
    "    lettre = input('Entrez une lettre : ')\n",
    "    # YOUR CODE HERE\n",
    "    raise NotImplementedError()"
   ]
  },
  {
   "cell_type": "code",
   "execution_count": 5,
   "metadata": {},
   "outputs": [
    {
     "data": {
      "text/plain": [
       "65"
      ]
     },
     "execution_count": 5,
     "metadata": {},
     "output_type": "execute_result"
    }
   ],
   "source": [
    "ord(\"A\")"
   ]
  },
  {
   "cell_type": "markdown",
   "metadata": {},
   "source": [
    "## Jouer une partie\n",
    "\n",
    "Nous disposons à présent des fonctions nécessaires pour jouer une partie. Il ne nous reste donc plus qu'à réaliser le corp du programme.<br>\n",
    "* Tenir à jour une liste des lettres déjà proposées\n",
    "* Ajouter un compteur de coup joué\n",
    "<br>\n",
    "On continuera la partie tant qu'il nous reste des lettres à trouver et que nous n'avont pas perdu.<br>\n",
    "En python:<br>\n",
    "While"
   ]
  },
  {
   "cell_type": "code",
   "execution_count": null,
   "metadata": {},
   "outputs": [],
   "source": [
    "***** Programme principal\n",
    "lettres_deja_proposees = []\n",
    "mot_a_deviner = word()\n",
    "affichage = underscore( mot_a_deviner )\n",
    "print( 'Mot à deviner : ' , affichage )\n",
    "while '_' in affichage:\n",
    "     # YOUR CODE HERE"
   ]
  },
  {
   "cell_type": "markdown",
   "metadata": {},
   "source": [
    "Mot à deviner :  A _ _ _ _ _ _ _ _ _ _            Nombre d'erreurs maximum : 6<br>\n",
    "Entrez une lettre : "
   ]
  },
  {
   "cell_type": "markdown",
   "metadata": {},
   "source": [
    "Pour aller plus loin, vous pouvez intégrer un croquis de pendu "
   ]
  },
  {
   "cell_type": "code",
   "execution_count": 8,
   "metadata": {},
   "outputs": [
    {
     "name": "stdout",
     "output_type": "stream",
     "text": [
      "\n",
      "       +-------+\n",
      "       |       |\n",
      "       |       O\n",
      "       |      -|-\n",
      "       |      | |\n",
      "       |\n",
      "    ==============\n",
      "    \n"
     ]
    }
   ],
   "source": [
    "def dessinPendu(nb):\n",
    "    tab=[\n",
    "    \"\"\"\n",
    "       +-------+\n",
    "       |\n",
    "       |\n",
    "       |\n",
    "       |\n",
    "       |\n",
    "    ==============\n",
    "    \"\"\",\n",
    "    \"\"\"\n",
    "       +-------+\n",
    "       |       |\n",
    "       |       O\n",
    "       |\n",
    "       |\n",
    "       |\n",
    "    ==============\n",
    "    \"\"\"\n",
    "        ,\n",
    "    \"\"\"\n",
    "       +-------+\n",
    "       |       |\n",
    "       |       O\n",
    "       |       |\n",
    "       |\n",
    "       |\n",
    "    ==============\n",
    "    \"\"\",\n",
    "    \"\"\"\n",
    "       +-------+\n",
    "       |       |\n",
    "       |       O\n",
    "       |      -|\n",
    "       |\n",
    "       |\n",
    "    ==============\n",
    "    \"\"\",\n",
    "    \"\"\"\n",
    "       +-------+\n",
    "       |       |\n",
    "       |       O\n",
    "       |      -|-\n",
    "       |\n",
    "       |\n",
    "    ==============\n",
    "    \"\"\",\n",
    "    \"\"\"\n",
    "       +-------+\n",
    "       |       |\n",
    "       |       O\n",
    "       |      -|-\n",
    "       |      |\n",
    "       |\n",
    "    ==============\n",
    "    \"\"\",\n",
    "    \"\"\"\n",
    "       +-------+\n",
    "       |       |\n",
    "       |       O\n",
    "       |      -|-\n",
    "       |      | |\n",
    "       |\n",
    "    ==============\n",
    "    \"\"\"\n",
    "    ]\n",
    "    return tab[nb]\n",
    "print(dessinPendu(6))"
   ]
  },
  {
   "cell_type": "code",
   "execution_count": null,
   "metadata": {},
   "outputs": [],
   "source": []
  }
 ],
 "metadata": {
  "celltoolbar": "Edit Metadata",
  "hide_input": false,
  "kernelspec": {
   "display_name": "Python 3",
   "language": "python",
   "name": "python3"
  },
  "language_info": {
   "codemirror_mode": {
    "name": "ipython",
    "version": 3
   },
   "file_extension": ".py",
   "mimetype": "text/x-python",
   "name": "python",
   "nbconvert_exporter": "python",
   "pygments_lexer": "ipython3",
   "version": "3.8.0"
  },
  "latex_envs": {
   "LaTeX_envs_menu_present": true,
   "autoclose": false,
   "autocomplete": true,
   "bibliofile": "biblio.bib",
   "cite_by": "apalike",
   "current_citInitial": 1,
   "eqLabelWithNumbers": true,
   "eqNumInitial": 1,
   "hotkeys": {
    "equation": "Ctrl-E",
    "itemize": "Ctrl-I"
   },
   "labels_anchors": false,
   "latex_user_defs": false,
   "report_style_numbering": false,
   "user_envs_cfg": false
  }
 },
 "nbformat": 4,
 "nbformat_minor": 2
}
