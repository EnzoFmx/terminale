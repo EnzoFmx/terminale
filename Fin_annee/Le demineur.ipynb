{
 "cells": [
  {
   "cell_type": "markdown",
   "metadata": {},
   "source": [
    "# Le démineur\n",
    "\n",
    "> Mini projet visant à écrire des fonctions servant de base au jeu du démineur"
   ]
  },
  {
   "cell_type": "markdown",
   "metadata": {},
   "source": [
    "## Un tableau à deux dimensions"
   ]
  },
  {
   "cell_type": "markdown",
   "metadata": {},
   "source": [
    "Nous savons qu'il est possible de mettre dans des listes tout type d'objets, et donc pourquoi pas... des listes ! Nous pouvons donc obtenir ainsi des tableaux à deux dimensions. L'exemple suivant montre la création manuelle d'un tableau 3x3."
   ]
  },
  {
   "cell_type": "code",
   "execution_count": 1,
   "metadata": {},
   "outputs": [
    {
     "data": {
      "text/plain": [
       "3"
      ]
     },
     "execution_count": 1,
     "metadata": {},
     "output_type": "execute_result"
    }
   ],
   "source": [
    "grille=[[1, 2, 3],[4,5,6], [7,8,9]]\n",
    "grille[0][2]"
   ]
  },
  {
   "cell_type": "markdown",
   "metadata": {},
   "source": [
    "## Construction d'une grille"
   ]
  },
  {
   "cell_type": "markdown",
   "metadata": {},
   "source": [
    "### Construire une ligne"
   ]
  },
  {
   "cell_type": "markdown",
   "metadata": {},
   "source": [
    "Ecrire une fonction **creer_ligne_0** \n",
    "- prenant en paramètre un nombre $n$\n",
    "- renvoyant une liste contenant $n$ fois la valeur 0\n",
    "***Conseils*** :\n",
    "- pour initialiser notre ligne, on pourra utiliser une liste vide [ ]\n",
    "- on pourra utiliser une boucle *pour*\n",
    "- on pourra utiliser la méthode **append()** qui permet d'ajouter un élément à la fin d'une liste"
   ]
  },
  {
   "cell_type": "code",
   "execution_count": 2,
   "metadata": {},
   "outputs": [],
   "source": [
    "def creer_ligne_0(n):\n",
    "    # YOUR CODE HERE\n",
    "    raise NotImplementedError()"
   ]
  },
  {
   "cell_type": "markdown",
   "metadata": {},
   "source": [
    "Vérification : La cellule suivante doit s'exécuter sans erreurs"
   ]
  },
  {
   "cell_type": "code",
   "execution_count": null,
   "metadata": {},
   "outputs": [],
   "source": [
    "assert creer_ligne_0(10) == [0, 0, 0, 0, 0, 0, 0, 0, 0, 0]"
   ]
  },
  {
   "cell_type": "markdown",
   "metadata": {},
   "source": [
    "On souhaite à présent remplacer quelques 0 aléatoirement par des 1. Fixons la probabilité d'avoir 1 à 0,2. \n",
    "\n",
    "Voici comment mathématiquement nous pouvons obtenir 0 ou 1 avec une probabilité de 0,2 d'avoir 1. Il s'agit ici d'exploiter le fait que la fonction random()+0.2 renvoie un nombre entre 0.2 et 1.2...\n",
    "\n",
    "En validant la cellule ci-dessous plusieurs fois, vous devriez obtenir 1 de temps en temps."
   ]
  },
  {
   "cell_type": "code",
   "execution_count": 18,
   "metadata": {},
   "outputs": [
    {
     "name": "stdout",
     "output_type": "stream",
     "text": [
      "0\n"
     ]
    }
   ],
   "source": [
    "from random import *\n",
    "\n",
    "p=0.2\n",
    "print(int(random()+p))"
   ]
  },
  {
   "cell_type": "markdown",
   "metadata": {},
   "source": [
    "A présent, utilisez cette astuce de calcul pour créer une fonction **creer_ligne**\n",
    "- prenant en paramètres deux nombres $n$ et $p$\n",
    "- renvoyant une liste de longueur $n$ formée de 0 et de 1 où 1 apparaît avec la probabilité $p$."
   ]
  },
  {
   "cell_type": "code",
   "execution_count": 19,
   "metadata": {},
   "outputs": [],
   "source": [
    "from random import random\n",
    "def creer_ligne(n,p):\n",
    "    # YOUR CODE HERE\n",
    "    raise NotImplementedError()"
   ]
  },
  {
   "cell_type": "markdown",
   "metadata": {},
   "source": [
    "Vérification : La cellule suivante doit s'exécuter sans erreurs"
   ]
  },
  {
   "cell_type": "code",
   "execution_count": null,
   "metadata": {},
   "outputs": [],
   "source": [
    "assert 175<=creer_ligne(1000,0.2).count(1)<=225"
   ]
  },
  {
   "cell_type": "markdown",
   "metadata": {},
   "source": [
    "## construire une grille"
   ]
  },
  {
   "cell_type": "markdown",
   "metadata": {},
   "source": [
    "Une grille - ou un tableau à deux dimensions - est en réalité une liste de lignes. Chaque ligne est construite selon le même procédé que celui utilisé ci-dessus.\n",
    "\n",
    "Pour construire notre grille, nous allons donc construire une liste de $n$ éléments mais au lieu de mettre 0 ou 1, nous mettrons une ligne que nous construirons à l'aide de la fonction **creer_ligne**.\n",
    "\n",
    "Ecrire une fonction **creer_grille**\n",
    "- prenant en paramètre un nombre $n$ et une probabilité $$\n",
    "- renvoyant une grille $n\\times n$ où 1 apparaît avec une probabilité p\n",
    "L'appel creer_grille(10,0.2) renverra quelque chose du genre :\n",
    "<pre>\n",
    "    [[0, 0, 0, 0, 0, 0, 1, 0, 0, 0],\n",
    "     [1, 0, 0, 0, 0, 0, 1, 0, 1, 0],\n",
    "     [0, 0, 0, 0, 0, 0, 0, 0, 0, 0],\n",
    "     [0, 0, 0, 0, 0, 0, 0, 0, 0, 0],\n",
    "     [0, 0, 0, 0, 0, 1, 0, 1, 0, 1],\n",
    "     [0, 0, 0, 0, 0, 0, 0, 0, 0, 0],\n",
    "     [1, 0, 0, 0, 0, 0, 0, 1, 0, 0],\n",
    "     [0, 0, 1, 0, 0, 0, 0, 0, 0, 0],\n",
    "     [0, 0, 1, 0, 0, 0, 1, 0, 0, 0],\n",
    "     [0, 0, 0, 0, 0, 1, 0, 0, 0, 1]]\n",
    "</pre>"
   ]
  },
  {
   "cell_type": "code",
   "execution_count": null,
   "metadata": {},
   "outputs": [],
   "source": [
    "def creer_grille(n,p):\n",
    "    # YOUR CODE HERE\n",
    "    raise NotImplementedError()"
   ]
  },
  {
   "cell_type": "markdown",
   "metadata": {},
   "source": [
    "Vérification : La cellule suivante doit afficher quelque chose ressemblant à ceci :\n",
    "\n",
    "    [[0, 0, 0, 0, 0, 0, 1, 0, 0, 0],\n",
    "     [1, 0, 0, 0, 0, 0, 1, 0, 1, 0],\n",
    "     [0, 0, 0, 0, 0, 0, 0, 0, 0, 0],\n",
    "     [0, 0, 0, 0, 0, 0, 0, 0, 0, 0],\n",
    "     [0, 0, 0, 0, 0, 1, 0, 1, 0, 1],\n",
    "     [0, 0, 0, 0, 0, 0, 0, 0, 0, 0],\n",
    "     [1, 0, 0, 0, 0, 0, 0, 1, 0, 0],\n",
    "     [0, 0, 1, 0, 0, 0, 0, 0, 0, 0],\n",
    "     [0, 0, 1, 0, 0, 0, 1, 0, 0, 0],\n",
    "     [0, 0, 0, 0, 0, 1, 0, 0, 0, 1]]"
   ]
  },
  {
   "cell_type": "code",
   "execution_count": null,
   "metadata": {},
   "outputs": [],
   "source": [
    "# Vérification :\n",
    "creer_grille(10,0.2)"
   ]
  },
  {
   "cell_type": "markdown",
   "metadata": {},
   "source": [
    "Félicitations votre grille est créée !"
   ]
  },
  {
   "cell_type": "markdown",
   "metadata": {},
   "source": [
    "## Jouer un coup"
   ]
  },
  {
   "cell_type": "markdown",
   "metadata": {},
   "source": [
    "Créer une fonction **jouer_coup**\n",
    "- prenant en paramètre une grille, un indice de ligne et un indice de colone\n",
    "- renvoyant False si on est tombé sur une bombe\n",
    "- dans le cas contraire, un \"2\" sera placé à l'emplacement joué et on renverra True\n",
    "\n",
    "- Pour faire un test comportant un *sinon ... si*, on pourra utiliser la structure Python suivante :  \n",
    "        if condition :\n",
    "            bloc d'instructions à réaliser\n",
    "            si condition est vraie\n",
    "        else :\n",
    "            bloc d'instructions à réaliser\n",
    "            si aucune condition n'est vraie\n",
    "- l'accès à l'élément de la grille à la colonne ***c*** et la ligne ***l*** se fait par \n",
    "        grille[l][c]"
   ]
  },
  {
   "cell_type": "code",
   "execution_count": null,
   "metadata": {},
   "outputs": [],
   "source": [
    "def jouer_coup(grille, ligne, col):\n",
    "    # YOUR CODE HERE\n",
    "    raise NotImplementedError()"
   ]
  },
  {
   "cell_type": "markdown",
   "metadata": {},
   "source": [
    "Vérifiez en validant la cellule ci-dessous que des 2 ont bien été positionnés sur les cellules découvertes"
   ]
  },
  {
   "cell_type": "code",
   "execution_count": null,
   "metadata": {},
   "outputs": [],
   "source": [
    "grille = [[0,1],[1,0]]\n",
    "assert jouer_coup(grille,1,1) == True\n",
    "assert grille == [[0,1],[1,2]]\n",
    "assert jouer_coup(grille,0,1) == False"
   ]
  },
  {
   "cell_type": "markdown",
   "metadata": {},
   "source": [
    "## Nombre de cases libres\n",
    "\n",
    "Ecrire une fonction **cases_libres**\n",
    "- prenant en paramètre une grille\n",
    "- renvoyant le nombre de cases libres (0) dans la grille. \n",
    "\n",
    "Une bombe ou un coup joué n'est pas considéré comme case libre."
   ]
  },
  {
   "cell_type": "code",
   "execution_count": null,
   "metadata": {},
   "outputs": [],
   "source": [
    "def cases_libres(grille):\n",
    "    # YOUR CODE HERE\n",
    "    raise NotImplementedError()"
   ]
  },
  {
   "cell_type": "code",
   "execution_count": null,
   "metadata": {},
   "outputs": [],
   "source": [
    "grille=[[0, 2, 0], [1, 0, 0], [0, 0, 0]]\n",
    "assert cases_libres(grille) == 7"
   ]
  },
  {
   "cell_type": "markdown",
   "metadata": {},
   "source": [
    "## Nombre de bombes alentours\n",
    "\n",
    "Ecrire une fonction **bombes_autour**\n",
    "- prenant en paramètre une grille, un indice de ligne et un indice de colone\n",
    "- renvoyant le nombre de bombes dans les cases adjacentes. \n",
    "\n",
    "Si une bombe est présente sur la case indiquée, celle-ci n'est pas comptabilisée.\n",
    "\n",
    "***Attention*** aux indices afin de ne pas dépasser des limites de la grille ! Pour tester si un nombre est compris entre 2 valeurs, on pourra utiliser la syntaxe suivante : \n",
    "        \n",
    "        if 0 <= x < n :\n",
    "            blablabla"
   ]
  },
  {
   "cell_type": "code",
   "execution_count": null,
   "metadata": {},
   "outputs": [],
   "source": [
    "def bombes_autour(grille, ligne, col):\n",
    "    # YOUR CODE HERE\n",
    "    raise NotImplementedError()"
   ]
  },
  {
   "cell_type": "code",
   "execution_count": null,
   "metadata": {},
   "outputs": [],
   "source": [
    "grille=[[0, 0, 0], [1, 0, 0], [0, 0, 0]]\n",
    "assert bombes_autour(grille,2,2) == 0\n",
    "assert bombes_autour(grille,1,1) == 1"
   ]
  },
  {
   "cell_type": "markdown",
   "metadata": {},
   "source": [
    "## Afficher une grille\n",
    "\n",
    "Ecrire une fonction **afficher_grille**\n",
    "- prenant en paramètre une grille\n",
    "- affichant la grille avec le format suivant :\n",
    "    - si une case a été découverte, on affiche le nombre de bombes alentours\n",
    "    - si une case n'a pas été découverte ou qu'elle contient une bombe on affiche \".\"\n",
    "\n",
    "***Indication*** On pourra observer la cellule suivante afin pour voir comment afficher des informations avec **print**\n",
    "\n",
    "Exemple : voici une grille simple et l'affichage attendu\n",
    "\n",
    "    [[0, 2, 0],        . 1 .\n",
    "     [1, 2, 0],   ==>  . 1 .\n",
    "     [0, 0, 2]]        . . 0\n"
   ]
  },
  {
   "cell_type": "code",
   "execution_count": 17,
   "metadata": {},
   "outputs": [
    {
     "name": "stdout",
     "output_type": "stream",
     "text": [
      "Hello  World\n",
      "Sans le paramètre end, je retourne à la ligne\n"
     ]
    }
   ],
   "source": [
    "print(\"Hello \",end=\" \")\n",
    "print(\"World\")\n",
    "print(\"Sans le paramètre end, je retourne à la ligne\")"
   ]
  },
  {
   "cell_type": "code",
   "execution_count": null,
   "metadata": {},
   "outputs": [],
   "source": [
    "def afficher_grille(grille):\n",
    "    # YOUR CODE HERE\n",
    "    raise NotImplementedError()"
   ]
  },
  {
   "cell_type": "code",
   "execution_count": null,
   "metadata": {},
   "outputs": [],
   "source": [
    "# Testez vous-même votre fonction sur l'exemple donné\n",
    "\n",
    "grille = [[0, 2, 0], [1, 2, 0], [0, 0, 2]]\n",
    "afficher_grille(grille)"
   ]
  },
  {
   "cell_type": "markdown",
   "metadata": {},
   "source": [
    "## Jouer une partie"
   ]
  },
  {
   "cell_type": "markdown",
   "metadata": {},
   "source": [
    "Ecrire une fonction **jouer** \n",
    "- qui prend en paramètres une grille, un indice de ligne et un indice de colonne\n",
    "- qui joue le coup indiqué et affiche la grille résultante\n",
    "- qui renvoie \n",
    "        - -1 si on tombe sur une bombe\n",
    "        - 0 si il ne reste plus de case à découvrir\n",
    "        - le nombre de cases restant à découvrir (hors bombes) sinon"
   ]
  },
  {
   "cell_type": "code",
   "execution_count": null,
   "metadata": {},
   "outputs": [],
   "source": [
    "def jouer(grille,ligne, col):\n",
    "    # YOUR CODE HERE\n",
    "    raise NotImplementedError()"
   ]
  },
  {
   "cell_type": "code",
   "execution_count": null,
   "metadata": {},
   "outputs": [],
   "source": [
    "grille = [[0, 2, 0], [1, 2, 0], [0, 0, 2]]\n",
    "assert jouer(grille,0,0) == 4\n",
    "assert jouer(grille, 1,0) == -1"
   ]
  },
  {
   "cell_type": "code",
   "execution_count": null,
   "metadata": {},
   "outputs": [],
   "source": [
    "# Dérouler une partie\n",
    "grille = creer_grille(10, 0.2)\n",
    "\n",
    "jouer(grille,5,5)"
   ]
  },
  {
   "cell_type": "code",
   "execution_count": null,
   "metadata": {},
   "outputs": [],
   "source": [
    "jouer(grille,0,0)"
   ]
  },
  {
   "cell_type": "code",
   "execution_count": null,
   "metadata": {},
   "outputs": [],
   "source": [
    "jouer(grille,9,9)"
   ]
  },
  {
   "cell_type": "code",
   "execution_count": null,
   "metadata": {},
   "outputs": [],
   "source": [
    "grille"
   ]
  }
 ],
 "metadata": {
  "hide_input": false,
  "kernelspec": {
   "display_name": "Python 3",
   "language": "python",
   "name": "python3"
  },
  "language_info": {
   "codemirror_mode": {
    "name": "ipython",
    "version": 3
   },
   "file_extension": ".py",
   "mimetype": "text/x-python",
   "name": "python",
   "nbconvert_exporter": "python",
   "pygments_lexer": "ipython3",
   "version": "3.8.0"
  },
  "latex_envs": {
   "LaTeX_envs_menu_present": true,
   "autoclose": false,
   "autocomplete": true,
   "bibliofile": "biblio.bib",
   "cite_by": "apalike",
   "current_citInitial": 1,
   "eqLabelWithNumbers": true,
   "eqNumInitial": 1,
   "hotkeys": {
    "equation": "Ctrl-E",
    "itemize": "Ctrl-I"
   },
   "labels_anchors": false,
   "latex_user_defs": false,
   "report_style_numbering": false,
   "user_envs_cfg": false
  }
 },
 "nbformat": 4,
 "nbformat_minor": 4
}
